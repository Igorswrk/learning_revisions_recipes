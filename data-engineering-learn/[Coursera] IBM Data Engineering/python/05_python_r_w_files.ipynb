{
 "cells": [
  {
   "cell_type": "markdown",
   "source": [
    "## Reading"
   ],
   "metadata": {
    "collapsed": false
   },
   "id": "9b73109ea22dda37"
  },
  {
   "cell_type": "markdown",
   "source": [
    "#### Open\n",
    "\n",
    "Python's open function is used to create a file object and access the data within a text file. It takes two primary parameters:\n",
    "\n",
    "- File Path: The file path consists of the filename and directory where the file is located.\n",
    "- Mode: The mode parameter specifies the purpose of opening the file, such as 'r' for reading, 'w' for writing, or 'a' for appending."
   ],
   "metadata": {
    "collapsed": false
   },
   "id": "bc3d51b4f7d73fe6"
  },
  {
   "cell_type": "code",
   "execution_count": null,
   "id": "initial_id",
   "metadata": {
    "collapsed": true
   },
   "outputs": [],
   "source": [
    "# Step 1: Open the file in read ('r') mode\n",
    "file = open('file.txt', 'r')\n",
    "\n",
    "# Step 2: Read the file content\n",
    "content = file.read()\n",
    "\n",
    "# Step 3: Process the content (e.g., print it)\n",
    "print(content)\n",
    "\n",
    "# Step 4: Close the file explicitly when done\n",
    "file.close()"
   ]
  },
  {
   "cell_type": "markdown",
   "source": [
    "#### Using With\n",
    "\n",
    "It automatically closes the file when operations within the indented block are completed"
   ],
   "metadata": {
    "collapsed": false
   },
   "id": "a8adb04346ee7101"
  },
  {
   "cell_type": "code",
   "execution_count": null,
   "outputs": [],
   "source": [
    "# Step 1: Open the file using 'with' in read ('r') mode\n",
    "with open('file.txt', 'r') as file:\n",
    "    \n",
    "    # Step 2: Read the file content within the 'with' block\n",
    "    content = file.read()\n",
    "\n",
    "    # Step 3: Process the content (e.g., print it)\n",
    "    print(content)\n",
    "\n",
    "# Step 4: The file is automatically closed when the 'with' block exits"
   ],
   "metadata": {
    "collapsed": false
   },
   "id": "a91aca8644e18522"
  },
  {
   "cell_type": "markdown",
   "source": [
    "Advantages of using With Method:\n",
    "The key advantages of using the with method are:\n",
    "\n",
    "- Automatic resource management: The file is guaranteed to be closed when you exit the with block, even if an exception occurs during processing.\n",
    "- Cleaner and more concise code: You don't need to explicitly call close(), making your code more readable and less error-prone.\n",
    "- For most file reading and writing operations in Python, the with method is recommended."
   ],
   "metadata": {
    "collapsed": false
   },
   "id": "588b865e21ef0d57"
  },
  {
   "cell_type": "code",
   "execution_count": null,
   "outputs": [],
   "source": [
    "# Reading and Storing the Entire Content of a File\n",
    "\n",
    "# Using the read method, you can retrieve the complete content of a file\n",
    "# and store it as a string in a variable for further processing or display.\n",
    "\n",
    "# Step 1: Open the file you want to read\n",
    "with open('File1.txt', 'r') as file:\n",
    "\n",
    "    # Step 2: Use the read method to read the entire content of the file\n",
    "    file_stuff = file.read()\n",
    "\n",
    "    # Step 3: Now that the file content is stored in the variable 'file_stuff',\n",
    "    # you can manipulate or display it as needed.\n",
    "\n",
    "    # For example, let's print the content to the console:\n",
    "    print(file_stuff)\n",
    "\n",
    "# Step 4: The 'with' block automatically closes the file when it's done,\n",
    "# ensuring proper resource management and preventing resource leaks."
   ],
   "metadata": {
    "collapsed": false
   },
   "id": "86c6fc025778f86e"
  },
  {
   "cell_type": "markdown",
   "source": [
    "#### Reading Lines"
   ],
   "metadata": {
    "collapsed": false
   },
   "id": "14066caf2b07f072"
  },
  {
   "cell_type": "code",
   "execution_count": null,
   "outputs": [],
   "source": [
    "file = open('my_file.txt', 'r')\n",
    "\n",
    "line1 = file.readline()  # Reads the first line\n",
    "line2 = file.readline()  # Reads the second line"
   ],
   "metadata": {
    "collapsed": false
   },
   "id": "673f1b8b9847575c"
  },
  {
   "cell_type": "markdown",
   "source": [
    "**Using the Lines**: You can do things with each line you read. For example, you can print it, check if it contains specific words, or save it somewhere else."
   ],
   "metadata": {
    "collapsed": false
   },
   "id": "29826387080b2900"
  },
  {
   "cell_type": "code",
   "execution_count": null,
   "outputs": [],
   "source": [
    "print(line1)  # Print the first line\n",
    "if 'important' in line2:\n",
    "    print('This line is important!')"
   ],
   "metadata": {
    "collapsed": false
   },
   "id": "fad6037b08f16f9a"
  },
  {
   "cell_type": "markdown",
   "source": [
    "**Looping Through Lines**: Typically, you use a loop to read lines until there are no more lines left. It's like reading the entire book, line by line."
   ],
   "metadata": {
    "collapsed": false
   },
   "id": "8ca908dfdd5536dc"
  },
  {
   "cell_type": "code",
   "execution_count": null,
   "outputs": [],
   "source": [
    "while True:\n",
    "    line = file.readline()\n",
    "    if not line:\n",
    "        break  # Stop when there are no more lines to read\n",
    "    print(line)"
   ],
   "metadata": {
    "collapsed": false
   },
   "id": "41515667b9e10f0d"
  },
  {
   "cell_type": "markdown",
   "source": [
    "**Closing the Book**: When you're done reading, it's essential to close the file using file.close() to make sure you're not wasting resources."
   ],
   "metadata": {
    "collapsed": false
   },
   "id": "f01ef7fb20779657"
  },
  {
   "cell_type": "code",
   "execution_count": null,
   "outputs": [],
   "source": [
    "file.close()"
   ],
   "metadata": {
    "collapsed": false
   },
   "id": "df40df42c6c91d83"
  },
  {
   "cell_type": "markdown",
   "source": [
    "#### Reading Specific Characters"
   ],
   "metadata": {
    "collapsed": false
   },
   "id": "4c53544a89854864"
  },
  {
   "cell_type": "code",
   "execution_count": null,
   "outputs": [],
   "source": [
    "file = open('my_file.txt', 'r')\n",
    "\n",
    "# If you want to read characters from a specific position in the file, you can use the seek() method. This method moves the file pointer (like a cursor) to a particular position. The position is specified in bytes, so you'll need to know the byte offset of the characters you want to read.\n",
    "\n",
    "file.seek(10) # Move to the 11th byte (0-based index)\n",
    "\n",
    "characters = file.read(5)  # Read the next 5 characters\n",
    "\n",
    "print(characters)\n",
    "\n",
    "file.close()"
   ],
   "metadata": {
    "collapsed": false
   },
   "id": "8fd271b2f74db569"
  },
  {
   "cell_type": "markdown",
   "source": [
    "## Writing "
   ],
   "metadata": {
    "collapsed": false
   },
   "id": "e3b7428c7a2d567f"
  },
  {
   "cell_type": "code",
   "execution_count": null,
   "outputs": [],
   "source": [
    "# Create a new file Example2.txt for writing\n",
    "with open('Example2.txt', 'w') as File1:\n",
    "    File1.write(\"This is line A\\n\")\n",
    "    File1.write(\"This is line B\\n\")\n",
    "    # File1 is automatically closed when the 'with' block exits"
   ],
   "metadata": {
    "collapsed": false
   },
   "id": "5be3b3a8c01109ca"
  },
  {
   "cell_type": "markdown",
   "source": [
    "### Writing multiple lines to a file using a list and loop"
   ],
   "metadata": {
    "collapsed": false
   },
   "id": "1f2fe0a5695ab01"
  },
  {
   "cell_type": "code",
   "execution_count": null,
   "outputs": [],
   "source": [
    "# List of lines to write to the file\n",
    "Lines = [\"This is line 1\", \"This is line 2\", \"This is line 3\"]\n",
    "\n",
    "# Create a new file Example3.txt for writing\n",
    "with open('Example3.txt', 'w') as File2:\n",
    "    for line in Lines:\n",
    "        File2.write(line + \"\\n\")\n",
    "    # File2 is automatically closed when the 'with' block exits"
   ],
   "metadata": {
    "collapsed": false
   },
   "id": "29177130d57392a9"
  },
  {
   "cell_type": "markdown",
   "source": [
    "### Appending data to an existing file"
   ],
   "metadata": {
    "collapsed": false
   },
   "id": "51e2b99072f46729"
  },
  {
   "cell_type": "code",
   "execution_count": null,
   "outputs": [],
   "source": [
    "# Data to append to the existing file\n",
    "new_data = \"This is line C\"\n",
    "\n",
    "# Open an existing file Example2.txt for appending\n",
    "with open('Example2.txt', 'a') as File1:\n",
    "    File1.write(new_data + \"\\n\")\n",
    "    # File1 is automatically closed when the 'with' block exits"
   ],
   "metadata": {
    "collapsed": false
   },
   "id": "c899aa33017a1d1f"
  },
  {
   "cell_type": "markdown",
   "source": [
    "### Copying contents from one file to another\n"
   ],
   "metadata": {
    "collapsed": false
   },
   "id": "555a7b6a094c37da"
  },
  {
   "cell_type": "code",
   "execution_count": null,
   "outputs": [],
   "source": [
    "# Open the source file for reading\n",
    "with open('source.txt', 'r') as source_file:\n",
    "    # Open the destination file for writing\n",
    "    with open('destination.txt', 'w') as destination_file:\n",
    "        # Read lines from the source file and copy them to the destination file\n",
    "        for line in source_file:\n",
    "            destination_file.write(line)\n",
    "    # Destination file is automatically closed when the 'with' block exits\n",
    "# Source file is automatically closed when the 'with' block exits"
   ],
   "metadata": {
    "collapsed": false
   },
   "id": "a9dadc94f222fb44"
  },
  {
   "cell_type": "markdown",
   "source": [
    "## File modes in Python (syntax and use cases)"
   ],
   "metadata": {
    "collapsed": false
   },
   "id": "98080adc9f2226cf"
  },
  {
   "cell_type": "markdown",
   "source": [
    "The following table provides an overview of different file modes, their syntax, and common use cases. Understanding these modes is essential when working with files in Python for various data manipulation tasks."
   ],
   "metadata": {
    "collapsed": false
   },
   "id": "65639988a95b3c2c"
  },
  {
   "cell_type": "markdown",
   "source": [
    "```md\n",
    "Mode\tSyntax\tDescription\n",
    "‘r’\t'r'\tRead mode. Opens an existing file for reading. Raises an error if the file doesn't exist.\n",
    "‘w’\t'w'\tWrite mode. Creates a new file for writing. Overwrites the file if it already exists.\n",
    "‘a’\t'a'\tAppend mode. Opens a file for appending data. Creates the file if it doesn't exist.\n",
    "‘x’\t'x'\tExclusive creation mode. Creates a new file for writing but raises an error if the file already exists.\n",
    "‘rb’\t'rb'\tRead binary mode. Opens an existing binary file for reading.\n",
    "‘wb’\t'wb'\tWrite binary mode. Creates a new binary file for writing.\n",
    "‘ab’\t'ab'\tAppend binary mode. Opens a binary file for appending data.\n",
    "‘xb’\t'xb'\tExclusive binary creation mode. Creates a new binary file for writing but raises an error if it already exists.\n",
    "‘rt’\t'rt'\tRead text mode. Opens an existing text file for reading. (Default for text files)\n",
    "‘wt’\t'wt'\tWrite text mode. Creates a new text file for writing. (Default for text files)\n",
    "‘at’\t'at'\tAppend text mode. Opens a text file for appending data. (Default for text files)\n",
    "‘xt’\t'xt'\tExclusive text creation mode. Creates a new text file for writing but raises an error if it already exists.\n",
    "‘r+’\t'r+'\tRead and write mode. Opens an existing file for both reading and writing.\n",
    "‘w+’\t'w+'\tWrite and read mode. Creates a new file for reading and writing. Overwrites the file if it already exists.\n",
    "‘a+’\t'a+'\tAppend and read mode. Opens a file for both appending and reading. Creates the file if it doesn't exist.\n",
    "‘x+’\t'x+'\tExclusive creation and read/write mode. Creates a new file for reading and writing but raises an error if it already exists.\n",
    "```"
   ],
   "metadata": {
    "collapsed": false
   },
   "id": "2441d2ae8fb8bf14"
  },
  {
   "cell_type": "code",
   "execution_count": null,
   "outputs": [],
   "source": [],
   "metadata": {
    "collapsed": false
   },
   "id": "af0d08fb7a73e84b"
  }
 ],
 "metadata": {
  "kernelspec": {
   "display_name": "Python 3",
   "language": "python",
   "name": "python3"
  },
  "language_info": {
   "codemirror_mode": {
    "name": "ipython",
    "version": 2
   },
   "file_extension": ".py",
   "mimetype": "text/x-python",
   "name": "python",
   "nbconvert_exporter": "python",
   "pygments_lexer": "ipython2",
   "version": "2.7.6"
  }
 },
 "nbformat": 4,
 "nbformat_minor": 5
}
