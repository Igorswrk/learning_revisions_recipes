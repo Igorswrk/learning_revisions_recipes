{
 "cells": [
  {
   "cell_type": "markdown",
   "source": [
    "This notebook has a function for storing some python code for revision\n",
    "\n",
    "Topics\n",
    "1. Conditions and Branching\n",
    "2. Loops\n",
    "3. Functions"
   ],
   "metadata": {
    "collapsed": false
   },
   "id": "f563317ee7f5dc3e"
  },
  {
   "cell_type": "markdown",
   "source": [
    "## Loops"
   ],
   "metadata": {
    "collapsed": false
   },
   "id": "d791a3143a93e339"
  },
  {
   "cell_type": "code",
   "execution_count": 12,
   "outputs": [
    {
     "name": "stdout",
     "output_type": "stream",
     "text": [
      "0 red\n",
      "1 yellow\n",
      "2 green\n"
     ]
    }
   ],
   "source": [
    "# enumerate\n",
    "\n",
    "squares=[\"red\", \"yellow\", \"green\"]\n",
    "\n",
    "for i, square in enumerate(squares):\n",
    "    print(i, square) # i: index"
   ],
   "metadata": {
    "collapsed": false,
    "ExecuteTime": {
     "end_time": "2023-11-01T03:02:07.160319500Z",
     "start_time": "2023-11-01T03:02:07.148907700Z"
    }
   },
   "id": "e3e42ebc5c29e4ec"
  },
  {
   "cell_type": "code",
   "execution_count": 13,
   "outputs": [
    {
     "name": "stdout",
     "output_type": "stream",
     "text": [
      "1\n",
      "2\n",
      "3\n",
      "4\n",
      "5\n",
      "6\n",
      "7\n",
      "8\n",
      "9\n",
      "10\n"
     ]
    }
   ],
   "source": [
    "count = 1\n",
    "while count <= 10:\n",
    "    print(count)\n",
    "    count += 1"
   ],
   "metadata": {
    "collapsed": false,
    "ExecuteTime": {
     "end_time": "2023-11-01T03:04:38.898338700Z",
     "start_time": "2023-11-01T03:04:38.886615100Z"
    }
   },
   "id": "3c26d4cb36d1da0c"
  },
  {
   "cell_type": "markdown",
   "source": [
    "## Functions"
   ],
   "metadata": {
    "collapsed": false
   },
   "id": "7d596bfd78c0811a"
  },
  {
   "cell_type": "code",
   "execution_count": 15,
   "outputs": [],
   "source": [
    "def f1(input):\n",
    "    \"\"\"add 1 to input\"\"\"\n",
    "    output=input+1\n",
    "    \n",
    "    return output"
   ],
   "metadata": {
    "collapsed": false,
    "ExecuteTime": {
     "end_time": "2023-11-01T03:09:03.010017700Z",
     "start_time": "2023-11-01T03:09:02.998551900Z"
    }
   },
   "id": "26ac02166b4203dc"
  },
  {
   "cell_type": "markdown",
   "source": [
    "#### Python Build-in functions"
   ],
   "metadata": {
    "collapsed": false
   },
   "id": "3d24a1b911ec67d9"
  },
  {
   "cell_type": "code",
   "execution_count": 23,
   "outputs": [
    {
     "name": "stdout",
     "output_type": "stream",
     "text": [
      "len([1, 2, 3]): 3\n",
      "sum([1, 2, 3]): 6\n"
     ]
    }
   ],
   "source": [
    "# Len\n",
    "print(f\"len([1, 2, 3]): {len([1, 2, 3])}\")\n",
    "\n",
    "# Sum\n",
    "print(f\"sum([1, 2, 3]): {sum([1, 2, 3])}\")"
   ],
   "metadata": {
    "collapsed": false,
    "ExecuteTime": {
     "end_time": "2023-11-01T03:13:56.718215200Z",
     "start_time": "2023-11-01T03:13:56.707809900Z"
    }
   },
   "id": "be9bc5bde84b71ea"
  },
  {
   "cell_type": "code",
   "execution_count": 24,
   "outputs": [
    {
     "name": "stdout",
     "output_type": "stream",
     "text": [
      "sorted(L): [1, 2, 3, 3, 5, 5, 7]\n",
      "L: [2, 3, 5, 7, 1, 3, 5]\n"
     ]
    }
   ],
   "source": [
    "# sorted\n",
    "L = [2, 3, 5, 7, 1, 3, 5]\n",
    "\n",
    "print(f\"sorted(L): {sorted(L)}\\nL: {L}\")"
   ],
   "metadata": {
    "collapsed": false,
    "ExecuteTime": {
     "end_time": "2023-11-01T03:16:16.457091300Z",
     "start_time": "2023-11-01T03:16:16.444670100Z"
    }
   },
   "id": "f74bef5d9e777b84"
  },
  {
   "cell_type": "code",
   "execution_count": 29,
   "outputs": [
    {
     "name": "stdout",
     "output_type": "stream",
     "text": [
      "L2.sort(): None\n",
      "L2: [1, 2, 3, 3, 5, 5, 7]\n"
     ]
    }
   ],
   "source": [
    "# sort\n",
    "L2 = [2, 3, 5, 7, 1, 3, 5]\n",
    "\n",
    "print(f\"L2.sort(): {L2.sort()}\\nL2: {L2}\")"
   ],
   "metadata": {
    "collapsed": false,
    "ExecuteTime": {
     "end_time": "2023-11-01T03:18:04.804474Z",
     "start_time": "2023-11-01T03:18:04.792881900Z"
    }
   },
   "id": "62905b631d56467e"
  },
  {
   "cell_type": "code",
   "execution_count": 31,
   "outputs": [
    {
     "data": {
      "text/plain": "23"
     },
     "execution_count": 31,
     "metadata": {},
     "output_type": "execute_result"
    }
   ],
   "source": [
    "highest = max([5, 12, 8, 23, 16])\n",
    "highest"
   ],
   "metadata": {
    "collapsed": false,
    "ExecuteTime": {
     "end_time": "2023-11-01T03:26:06.904473900Z",
     "start_time": "2023-11-01T03:26:06.890918700Z"
    }
   },
   "id": "131e6b67b34f5e"
  },
  {
   "cell_type": "code",
   "execution_count": 32,
   "outputs": [
    {
     "data": {
      "text/plain": "5"
     },
     "execution_count": 32,
     "metadata": {},
     "output_type": "execute_result"
    }
   ],
   "source": [
    "lowest = min([5, 12, 8, 23, 16])\n",
    "lowest"
   ],
   "metadata": {
    "collapsed": false,
    "ExecuteTime": {
     "end_time": "2023-11-01T03:26:20.962662600Z",
     "start_time": "2023-11-01T03:26:20.952156100Z"
    }
   },
   "id": "88d2366d2ff1d41e"
  },
  {
   "cell_type": "markdown",
   "source": [
    "When the number of arguments are unknown for a fuction, They can all be packed a tuple as shown:"
   ],
   "metadata": {
    "collapsed": false
   },
   "id": "71edb92f4519ad02"
  },
  {
   "cell_type": "code",
   "execution_count": 33,
   "outputs": [
    {
     "name": "stdout",
     "output_type": "stream",
     "text": [
      "No of arguments: 3\n",
      "Horsefeather\n",
      "Adonis\n",
      "Bone\n",
      "No of arguments: 4\n",
      "Sidecar\n",
      "Long Island\n",
      "Mudslide\n",
      "Carriage\n"
     ]
    }
   ],
   "source": [
    "def printAll(*args): # All the arguments are 'packed' into args which can be treated like a tuple\n",
    "    print(\"No of arguments:\", len(args))\n",
    "    for argument in args:\n",
    "        print(argument)\n",
    "#printAll with 3 arguments\n",
    "printAll('Horsefeather','Adonis','Bone')\n",
    "#printAll with 4 arguments\n",
    "printAll('Sidecar','Long Island','Mudslide','Carriage')"
   ],
   "metadata": {
    "collapsed": false,
    "ExecuteTime": {
     "end_time": "2023-11-01T03:30:07.660640200Z",
     "start_time": "2023-11-01T03:30:07.644840500Z"
    }
   },
   "id": "f95bf05d6fa44abc"
  },
  {
   "cell_type": "markdown",
   "source": [
    "Similarly, The arguments can also be packed into a dictionary as shown:"
   ],
   "metadata": {
    "collapsed": false
   },
   "id": "f00d576fbf997691"
  },
  {
   "cell_type": "code",
   "execution_count": 34,
   "outputs": [
    {
     "name": "stdout",
     "output_type": "stream",
     "text": [
      "Country : Canada\n",
      "Province : Ontario\n",
      "City : Toronto\n"
     ]
    }
   ],
   "source": [
    "def printDictionary(**args):\n",
    "    for key in args:\n",
    "        print(key + \" : \" + args[key])\n",
    "\n",
    "printDictionary(Country='Canada',Province='Ontario',City='Toronto')"
   ],
   "metadata": {
    "collapsed": false,
    "ExecuteTime": {
     "end_time": "2023-11-01T03:31:47.769711800Z",
     "start_time": "2023-11-01T03:31:47.755566600Z"
    }
   },
   "id": "844392699e97b6ba"
  },
  {
   "cell_type": "markdown",
   "source": [
    "Functions can be incredibly powerful and versatile. They can accept (and return) data types, objects and even other functions as arguments. Consider the example below:\n"
   ],
   "metadata": {
    "collapsed": false
   },
   "id": "523bce9ae791f64d"
  },
  {
   "cell_type": "code",
   "execution_count": 35,
   "outputs": [
    {
     "data": {
      "text/plain": "['One', 'Two', 'Three', 'Four']"
     },
     "execution_count": 35,
     "metadata": {},
     "output_type": "execute_result"
    }
   ],
   "source": [
    "def addItems(list):\n",
    "    list.append(\"Three\")\n",
    "    list.append(\"Four\")\n",
    "\n",
    "myList = [\"One\",\"Two\"]\n",
    "\n",
    "addItems(myList)\n",
    "\n",
    "myList"
   ],
   "metadata": {
    "collapsed": false,
    "ExecuteTime": {
     "end_time": "2023-11-01T03:32:32.258110300Z",
     "start_time": "2023-11-01T03:32:32.241914300Z"
    }
   },
   "id": "880266d29c99dafe"
  },
  {
   "cell_type": "code",
   "execution_count": null,
   "outputs": [],
   "source": [],
   "metadata": {
    "collapsed": false
   },
   "id": "95094b781ddfa4ea"
  }
 ],
 "metadata": {
  "kernelspec": {
   "display_name": "Python 3",
   "language": "python",
   "name": "python3"
  },
  "language_info": {
   "codemirror_mode": {
    "name": "ipython",
    "version": 2
   },
   "file_extension": ".py",
   "mimetype": "text/x-python",
   "name": "python",
   "nbconvert_exporter": "python",
   "pygments_lexer": "ipython2",
   "version": "2.7.6"
  }
 },
 "nbformat": 4,
 "nbformat_minor": 5
}
