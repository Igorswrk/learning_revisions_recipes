{
 "cells": [
  {
   "cell_type": "markdown",
   "source": [
    "#### Objects\n",
    "\n",
    "Todo objeto possui:\n",
    "    - um tipo\n",
    "    - uma representação interna de dados\n",
    "    - um conjunto de procedimentos para interação com o objeto. **(Métodos)**\n",
    " \n",
    "Um objeto é uma instância de um tipo particular.\n",
    "\n",
    "Int  - objeto\n",
    "List - objeto\n",
    "Type - objeto"
   ],
   "metadata": {
    "collapsed": false
   },
   "id": "ed8d2b7916c098b6"
  },
  {
   "cell_type": "markdown",
   "source": [
    "#### Class Example"
   ],
   "metadata": {
    "collapsed": false
   },
   "id": "73f2a2ba76b68be7"
  },
  {
   "cell_type": "code",
   "execution_count": 2,
   "outputs": [
    {
     "ename": "SyntaxError",
     "evalue": "invalid syntax (970334420.py, line 5)",
     "output_type": "error",
     "traceback": [
      "\u001B[1;36m  Cell \u001B[1;32mIn[2], line 5\u001B[1;36m\u001B[0m\n\u001B[1;33m    def __init__(self, attribute1, attribute2, ...):\u001B[0m\n\u001B[1;37m                                               ^\u001B[0m\n\u001B[1;31mSyntaxError\u001B[0m\u001B[1;31m:\u001B[0m invalid syntax\n"
     ]
    }
   ],
   "source": [
    "class ClassName:\n",
    "    # Class attributes (shared by all instances)\n",
    "    class_attribute = value\n",
    "    # Constructor method (initialize instance attributes)\n",
    "    def __init__(self, attribute1, attribute2, ...):\n",
    "        self.attribute1 = attribute1\n",
    "        self.attribute2 = attribute2\n",
    "        # ...\n",
    "    # Instance methods (functions)\n",
    "    def method1(self, parameter1, parameter2, ...):\n",
    "        # Method logic\n",
    "        pass\n",
    "    def method2(self, parameter1, parameter2, ...):\n",
    "        # Method logic\n",
    "        pass"
   ],
   "metadata": {
    "collapsed": false,
    "ExecuteTime": {
     "end_time": "2023-11-02T23:47:02.004090800Z",
     "start_time": "2023-11-02T23:47:01.996644300Z"
    }
   },
   "id": "50c0b2e07fe36f21"
  },
  {
   "cell_type": "code",
   "execution_count": null,
   "outputs": [],
   "source": [
    "# Create objects (instances) of the class\n",
    "object1 = ClassName(arg1, arg2, ...)\n",
    "object2 = ClassName(arg1, arg2, ...)"
   ],
   "metadata": {
    "collapsed": false
   },
   "id": "47530ccf0abde13c"
  },
  {
   "cell_type": "code",
   "execution_count": null,
   "outputs": [],
   "source": [
    "# Calling methods on objects\n",
    "# Method 1: Using dot notation\n",
    "result1 = object1.method1(param1_value, param2_value, ...)\n",
    "result2 = object2.method2(param1_value, param2_value, ...)"
   ],
   "metadata": {
    "collapsed": false
   },
   "id": "8bac5b1b4045fd47"
  },
  {
   "cell_type": "markdown",
   "source": [
    "#### Class Car"
   ],
   "metadata": {
    "collapsed": false
   },
   "id": "8936139a70ba87cc"
  },
  {
   "cell_type": "code",
   "execution_count": 3,
   "outputs": [],
   "source": [
    "class Car:\n",
    "    # Class attribute (shared by all instances)\n",
    "    max_speed = 120  # Maximum speed in km/h\n",
    "    # Constructor method (initialize instance attributes)\n",
    "    def __init__(self, make, model, color, speed=0):\n",
    "        self.make = make\n",
    "        self.model = model\n",
    "        self.color = color\n",
    "        self.speed = speed  # Initial speed is set to 0\n",
    "    # Method for accelerating the car\n",
    "    def accelerate(self, acceleration):\n",
    "        if self.speed + acceleration <= Car.max_speed:\n",
    "            self.speed += acceleration\n",
    "        else:\n",
    "            self.speed = Car.max_speed\n",
    "    # Method to get the current speed of the car\n",
    "    def get_speed(self):\n",
    "        return self.speed"
   ],
   "metadata": {
    "collapsed": false,
    "ExecuteTime": {
     "end_time": "2023-11-02T23:47:57.440981800Z",
     "start_time": "2023-11-02T23:47:57.433269200Z"
    }
   },
   "id": "fe17126d412866f5"
  },
  {
   "cell_type": "code",
   "execution_count": 4,
   "outputs": [],
   "source": [
    "# Create objects (instances) of the Car class\n",
    "car1 = Car(\"Toyota\", \"Camry\", \"Blue\")\n",
    "car2 = Car(\"Honda\", \"Civic\", \"Red\")"
   ],
   "metadata": {
    "collapsed": false,
    "ExecuteTime": {
     "end_time": "2023-11-02T23:48:06.255090700Z",
     "start_time": "2023-11-02T23:48:06.247072500Z"
    }
   },
   "id": "458025d919cb57e0"
  },
  {
   "cell_type": "code",
   "execution_count": 5,
   "outputs": [],
   "source": [
    "# Accelerate the cars\n",
    "car1.accelerate(30)\n",
    "car2.accelerate(20)"
   ],
   "metadata": {
    "collapsed": false,
    "ExecuteTime": {
     "end_time": "2023-11-02T23:49:58.566735Z",
     "start_time": "2023-11-02T23:49:58.560246600Z"
    }
   },
   "id": "ceba598f03cab7ac"
  },
  {
   "cell_type": "code",
   "execution_count": 6,
   "outputs": [
    {
     "name": "stdout",
     "output_type": "stream",
     "text": [
      "Toyota Camry is currently at 30 km/h.\n",
      "Honda Civic is currently at 20 km/h.\n"
     ]
    }
   ],
   "source": [
    "# Print the current speeds of the cars\n",
    "print(f\"{car1.make} {car1.model} is currently at {car1.get_speed()} km/h.\")\n",
    "print(f\"{car2.make} {car2.model} is currently at {car2.get_speed()} km/h.\")"
   ],
   "metadata": {
    "collapsed": false,
    "ExecuteTime": {
     "end_time": "2023-11-02T23:50:04.496494700Z",
     "start_time": "2023-11-02T23:50:04.486950800Z"
    }
   },
   "id": "3fed54b7e013eb37"
  },
  {
   "cell_type": "code",
   "execution_count": null,
   "outputs": [],
   "source": [],
   "metadata": {
    "collapsed": false
   },
   "id": "3bee3474388716bc"
  }
 ],
 "metadata": {
  "kernelspec": {
   "display_name": "Python 3",
   "language": "python",
   "name": "python3"
  },
  "language_info": {
   "codemirror_mode": {
    "name": "ipython",
    "version": 2
   },
   "file_extension": ".py",
   "mimetype": "text/x-python",
   "name": "python",
   "nbconvert_exporter": "python",
   "pygments_lexer": "ipython2",
   "version": "2.7.6"
  }
 },
 "nbformat": 4,
 "nbformat_minor": 5
}
