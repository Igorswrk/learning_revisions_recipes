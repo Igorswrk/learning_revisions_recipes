{
 "cells": [
  {
   "cell_type": "markdown",
   "metadata": {},
   "source": [
    "<center>\n",
    "    <img src=\"https://cf-courses-data.s3.us.cloud-object-storage.appdomain.cloud/assets/logos/SN_web_lightmode.png\" width=\"300\" alt=\"cognitiveclass.ai logo\">\n",
    "</center>\n",
    "\n",
    "# Hands-on Lab: API Examples\n",
    "## Random User and Fruityvice API Examples\n",
    "\n",
    "\n",
    "Estimated time needed: **30** minutes\n",
    "\n",
    "## Objectives\n",
    "\n",
    "After completing this lab you will be able to:\n",
    "\n",
    "*   Load and use RandomUser API, using `RandomUser()` Python library\n",
    "*   Load and use Fruityvice API, using `requests` Python library\n",
    "*   Load and use Open-Joke-API, using `requests` Python library\n",
    "\n"
   ]
  },
  {
   "cell_type": "markdown",
   "metadata": {},
   "source": [
    "The purpose of this notebook is to provide more examples on how to use simple APIs. As you have already learned from previous videos and notebooks, API stands for Application Programming Interface and is a software intermediary that allows two applications to talk to each other. \n",
    "\n",
    "The advantages of using APIs:\n",
    " *   **Automation**. Less human effort is required and workflows can be easily updated to become faster and more      \n",
    "     productive.\n",
    " *   **Efficiency**. It allows to use the capabilities of one of the already developed APIs than to try to \n",
    "     independently implement some functionality from scratch.\n",
    " \n",
    "The disadvantage of using APIs:\n",
    " *   **Security**. If the API is poorly integrated, it means it will be vulnerable to attacks, resulting in data breeches or losses having financial or reputation implications.\n",
    "\n",
    "One of the applications we will use in this notebook is Random User Generator. RandomUser is an open-source, free API providing developers with randomly generated users to be used as placeholders for testing purposes. This makes the tool similar to Lorem Ipsum, but is a placeholder for people instead of text. The API can return multiple results, as well as specify generated user details such as gender, email, image, username, address, title, first and last name, and more. More information on [RandomUser](https://randomuser.me/documentation#intro) can be found here.\n",
    "\n",
    "Another example of simple API we will use in this notebook is Fruityvice application. The Fruityvice API web service which provides data for all kinds of fruit! You can use Fruityvice to find out interesting information about fruit and educate yourself. The web service is completely free to use and contribute to.\n"
   ]
  },
  {
   "cell_type": "markdown",
   "metadata": {},
   "source": [
    "## Example 1: RandomUser API\n",
    "Bellow are Get Methods parameters that we can generate. For more information on the parameters, please visit this [documentation](https://randomuser.me/documentation) page.\n"
   ]
  },
  {
   "cell_type": "markdown",
   "metadata": {},
   "source": [
    "## **Get Methods**\n",
    "\n",
    "- get_cell()\n",
    "- get_city()\n",
    "- get_dob()\n",
    "- get_email()\n",
    "- get_first_name()\n",
    "- get_full_name()\n",
    "- get_gender()\n",
    "- get_id()\n",
    "- get_id_number()\n",
    "- get_id_type()\n",
    "- get_info()\n",
    "- get_last_name()\n",
    "- get_login_md5()\n",
    "- get_login_salt()\n",
    "- get_login_sha1()\n",
    "- get_login_sha256()\n",
    "- get_nat()\n",
    "- get_password()\n",
    "- get_phone()\n",
    "- get_picture()\n",
    "- get_postcode()\n",
    "- get_registered()\n",
    "- get_state()\n",
    "- get_street()\n",
    "- get_username()\n",
    "- get_zipcode()\n"
   ]
  },
  {
   "cell_type": "markdown",
   "metadata": {},
   "source": [
    "To start using the API you can install the `randomuser` library running the `pip install` command.\n"
   ]
  },
  {
   "cell_type": "code",
   "metadata": {
    "ExecuteTime": {
     "end_time": "2023-11-14T10:41:15.179661100Z",
     "start_time": "2023-11-14T10:41:10.654971900Z"
    }
   },
   "outputs": [
    {
     "name": "stdout",
     "output_type": "stream",
     "text": [
      "Collecting randomuser\n",
      "  Downloading randomuser-1.6.tar.gz (5.0 kB)\n",
      "  Preparing metadata (setup.py): started\n",
      "  Preparing metadata (setup.py): finished with status 'done'\n",
      "Building wheels for collected packages: randomuser\n",
      "  Building wheel for randomuser (setup.py): started\n",
      "  Building wheel for randomuser (setup.py): finished with status 'done'\n",
      "  Created wheel for randomuser: filename=randomuser-1.6-py3-none-any.whl size=5092 sha256=3a72a5f3f18d453f826a11b199531668d3d877353265617fe1c5054f8b36df4c\n",
      "  Stored in directory: c:\\users\\santiago\\appdata\\local\\pip\\cache\\wheels\\fc\\8d\\74\\bcdd5e8a9433bfa4c4f9c1cccbfec40139322a28d77f61e45e\n",
      "Successfully built randomuser\n",
      "Installing collected packages: randomuser\n",
      "Successfully installed randomuser-1.6\n"
     ]
    }
   ],
   "source": [
    "!pip install randomuser"
   ],
   "execution_count": 1
  },
  {
   "cell_type": "markdown",
   "metadata": {},
   "source": [
    "Then, we will load the necessary libraries.\n"
   ]
  },
  {
   "cell_type": "code",
   "metadata": {
    "ExecuteTime": {
     "end_time": "2023-11-14T10:43:33.211771Z",
     "start_time": "2023-11-14T10:43:31.039400100Z"
    }
   },
   "outputs": [],
   "source": [
    "from randomuser import RandomUser\n",
    "import pandas as pd"
   ],
   "execution_count": 2
  },
  {
   "cell_type": "markdown",
   "metadata": {},
   "source": [
    "First, we will create a random user object, r.\n"
   ]
  },
  {
   "cell_type": "code",
   "metadata": {
    "ExecuteTime": {
     "end_time": "2023-11-14T10:43:35.180638200Z",
     "start_time": "2023-11-14T10:43:34.970948700Z"
    }
   },
   "outputs": [],
   "source": [
    "r = RandomUser()"
   ],
   "execution_count": 3
  },
  {
   "cell_type": "markdown",
   "metadata": {},
   "source": [
    "Then, using `generate_users()` function, we get a list of random 10 users.\n"
   ]
  },
  {
   "cell_type": "code",
   "metadata": {
    "ExecuteTime": {
     "end_time": "2023-11-14T10:43:42.497796100Z",
     "start_time": "2023-11-14T10:43:42.310613800Z"
    }
   },
   "outputs": [],
   "source": [
    "some_list = r.generate_users(10)"
   ],
   "execution_count": 4
  },
  {
   "cell_type": "code",
   "metadata": {
    "ExecuteTime": {
     "end_time": "2023-11-14T10:43:53.971916400Z",
     "start_time": "2023-11-14T10:43:53.966327Z"
    }
   },
   "outputs": [
    {
     "data": {
      "text/plain": "[<randomuser.RandomUser at 0x16b6fe0a090>,\n <randomuser.RandomUser at 0x16b6fe0a0d0>,\n <randomuser.RandomUser at 0x16b6fe0a110>,\n <randomuser.RandomUser at 0x16b6fe0a150>,\n <randomuser.RandomUser at 0x16b6fe0a190>,\n <randomuser.RandomUser at 0x16b6fe0a210>,\n <randomuser.RandomUser at 0x16b6fe0a250>,\n <randomuser.RandomUser at 0x16b6fe0a290>,\n <randomuser.RandomUser at 0x16b6fe0a2d0>,\n <randomuser.RandomUser at 0x16b6fe0a1d0>]"
     },
     "execution_count": 6,
     "metadata": {},
     "output_type": "execute_result"
    }
   ],
   "source": [
    "some_list"
   ],
   "execution_count": 6
  },
  {
   "cell_type": "markdown",
   "metadata": {},
   "source": [
    "The **\"Get Methods\"** functions mentioned at the beginning of this notebook, can generate the required parameters to construct a dataset. For example, to get full name, we call `get_full_name()` function.\n"
   ]
  },
  {
   "cell_type": "code",
   "metadata": {
    "ExecuteTime": {
     "end_time": "2023-11-14T10:44:24.876106700Z",
     "start_time": "2023-11-14T10:44:24.859402900Z"
    }
   },
   "outputs": [
    {
     "data": {
      "text/plain": "'Josef Matt'"
     },
     "execution_count": 8,
     "metadata": {},
     "output_type": "execute_result"
    }
   ],
   "source": [
    "name = r.get_full_name()\n",
    "name"
   ],
   "execution_count": 8
  },
  {
   "cell_type": "markdown",
   "metadata": {},
   "source": [
    "Let's say we only need 10 users with full names and their email addresses. We can write a \"for-loop\" to print these 10 users.\n"
   ]
  },
  {
   "cell_type": "code",
   "metadata": {
    "ExecuteTime": {
     "end_time": "2023-11-14T10:46:42.381353700Z",
     "start_time": "2023-11-14T10:46:42.368955600Z"
    }
   },
   "outputs": [
    {
     "name": "stdout",
     "output_type": "stream",
     "text": [
      "Jimi Kotila   jimi.kotila@example.com\n",
      "Evelyn Moore   evelyn.moore@example.com\n",
      "Ece Aykaç   ece.aykac@example.com\n",
      "Jose Howard   jose.howard@example.com\n",
      "Soledad Nuñez   soledad.nunez@example.com\n",
      "Eemil Tikkanen   eemil.tikkanen@example.com\n",
      "Arno Carpentier   arno.carpentier@example.com\n",
      "Jonathan Pena   jonathan.pena@example.com\n",
      "Leanne Harcourt   leanne.harcourt@example.com\n",
      "Leonard Fletcher   leonard.fletcher@example.com\n"
     ]
    }
   ],
   "source": [
    "for user in some_list:\n",
    "    print (user.get_full_name(),\" \",user.get_email())"
   ],
   "execution_count": 9
  },
  {
   "cell_type": "markdown",
   "metadata": {},
   "source": [
    "## Exercise 1\n",
    "In this Exercise, generate photos of the random 10 users.\n"
   ]
  },
  {
   "cell_type": "code",
   "metadata": {
    "ExecuteTime": {
     "end_time": "2023-11-14T10:47:18.992924800Z",
     "start_time": "2023-11-14T10:47:18.979713200Z"
    }
   },
   "outputs": [
    {
     "name": "stdout",
     "output_type": "stream",
     "text": [
      "https://randomuser.me/api/portraits/men/86.jpg\n",
      "https://randomuser.me/api/portraits/women/6.jpg\n",
      "https://randomuser.me/api/portraits/women/73.jpg\n",
      "https://randomuser.me/api/portraits/men/20.jpg\n",
      "https://randomuser.me/api/portraits/women/87.jpg\n",
      "https://randomuser.me/api/portraits/men/89.jpg\n",
      "https://randomuser.me/api/portraits/men/34.jpg\n",
      "https://randomuser.me/api/portraits/men/63.jpg\n",
      "https://randomuser.me/api/portraits/women/61.jpg\n",
      "https://randomuser.me/api/portraits/men/9.jpg\n"
     ]
    }
   ],
   "source": [
    "## Write your code here\n",
    "for user in some_list:\n",
    "    print(user.get_picture())"
   ],
   "execution_count": 10
  },
  {
   "cell_type": "markdown",
   "metadata": {},
   "source": [
    "To generate a table with information about the users, we can write a function containing all desirable parameters. For example, name, gender, city, etc. The parameters will depend on the requirements of the test to be performed. We call the Get Methods, listed at the beginning of this notebook. Then, we return pandas dataframe with the users.\n"
   ]
  },
  {
   "cell_type": "code",
   "metadata": {
    "ExecuteTime": {
     "end_time": "2023-11-14T11:26:35.017181Z",
     "start_time": "2023-11-14T11:26:35.002690600Z"
    }
   },
   "outputs": [],
   "source": [
    "def get_users():\n",
    "    users =[]\n",
    "     \n",
    "    for user in RandomUser.generate_users(10):\n",
    "        users.append({\"Name\":user.get_full_name(),\"Gender\":user.get_gender(),\"City\":user.get_city(),\"State\":user.get_state(),\"Email\":user.get_email(), \"DOB\":user.get_dob(),\"Picture\":user.get_picture()})\n",
    "      \n",
    "    return pd.DataFrame(users)     "
   ],
   "execution_count": 11
  },
  {
   "cell_type": "code",
   "metadata": {
    "ExecuteTime": {
     "end_time": "2023-11-14T11:26:36.612695400Z",
     "start_time": "2023-11-14T11:26:36.328569100Z"
    }
   },
   "outputs": [
    {
     "data": {
      "text/plain": "               Name  Gender                   City              State  \\\n0    Justian Kaiser    male               Kedichem         Overijssel   \n1   Victor Francois    male         Fort-de-France        Haute-Marne   \n2    Alexa Hamilton  female             Townsville    South Australia   \n3       رها علیزاده  female                   مشهد              قزوین   \n4      Pascal Tesch    male         Friedrichsthal      Niedersachsen   \n5   Victor Campbell    male            Springfield            Alberta   \n6        Jaxon Chen    male                Porirua           Auckland   \n7    Willi Gerstner    male  Mühlheim an der Donau  Baden-Württemberg   \n8      سینا علیزاده    male                  ملارد       خراسان شمالی   \n9  Sophie Deschamps  female        Vitry-sur-Seine            Mayotte   \n\n                          Email                       DOB  \\\n0    justian.kaiser@example.com  1972-03-01T01:31:44.782Z   \n1   victor.francois@example.com  1962-10-28T14:44:10.475Z   \n2    alexa.hamilton@example.com  1986-01-21T18:25:48.300Z   \n3        rh.aalyzdh@example.com  1955-10-27T19:03:58.492Z   \n4      pascal.tesch@example.com  1973-04-01T07:38:53.420Z   \n5   victor.campbell@example.com  1982-05-08T15:10:28.685Z   \n6        jaxon.chen@example.com  1962-01-15T22:49:05.038Z   \n7    willi.gerstner@example.com  1975-11-20T14:07:32.932Z   \n8       syn.aalyzdh@example.com  1985-08-17T18:19:04.220Z   \n9  sophie.deschamps@example.com  1966-04-26T01:44:48.588Z   \n\n                                            Picture  \n0    https://randomuser.me/api/portraits/men/31.jpg  \n1    https://randomuser.me/api/portraits/men/49.jpg  \n2  https://randomuser.me/api/portraits/women/40.jpg  \n3   https://randomuser.me/api/portraits/women/6.jpg  \n4    https://randomuser.me/api/portraits/men/78.jpg  \n5    https://randomuser.me/api/portraits/men/61.jpg  \n6     https://randomuser.me/api/portraits/men/7.jpg  \n7    https://randomuser.me/api/portraits/men/66.jpg  \n8    https://randomuser.me/api/portraits/men/69.jpg  \n9  https://randomuser.me/api/portraits/women/13.jpg  ",
      "text/html": "<div>\n<style scoped>\n    .dataframe tbody tr th:only-of-type {\n        vertical-align: middle;\n    }\n\n    .dataframe tbody tr th {\n        vertical-align: top;\n    }\n\n    .dataframe thead th {\n        text-align: right;\n    }\n</style>\n<table border=\"1\" class=\"dataframe\">\n  <thead>\n    <tr style=\"text-align: right;\">\n      <th></th>\n      <th>Name</th>\n      <th>Gender</th>\n      <th>City</th>\n      <th>State</th>\n      <th>Email</th>\n      <th>DOB</th>\n      <th>Picture</th>\n    </tr>\n  </thead>\n  <tbody>\n    <tr>\n      <th>0</th>\n      <td>Justian Kaiser</td>\n      <td>male</td>\n      <td>Kedichem</td>\n      <td>Overijssel</td>\n      <td>justian.kaiser@example.com</td>\n      <td>1972-03-01T01:31:44.782Z</td>\n      <td>https://randomuser.me/api/portraits/men/31.jpg</td>\n    </tr>\n    <tr>\n      <th>1</th>\n      <td>Victor Francois</td>\n      <td>male</td>\n      <td>Fort-de-France</td>\n      <td>Haute-Marne</td>\n      <td>victor.francois@example.com</td>\n      <td>1962-10-28T14:44:10.475Z</td>\n      <td>https://randomuser.me/api/portraits/men/49.jpg</td>\n    </tr>\n    <tr>\n      <th>2</th>\n      <td>Alexa Hamilton</td>\n      <td>female</td>\n      <td>Townsville</td>\n      <td>South Australia</td>\n      <td>alexa.hamilton@example.com</td>\n      <td>1986-01-21T18:25:48.300Z</td>\n      <td>https://randomuser.me/api/portraits/women/40.jpg</td>\n    </tr>\n    <tr>\n      <th>3</th>\n      <td>رها علیزاده</td>\n      <td>female</td>\n      <td>مشهد</td>\n      <td>قزوین</td>\n      <td>rh.aalyzdh@example.com</td>\n      <td>1955-10-27T19:03:58.492Z</td>\n      <td>https://randomuser.me/api/portraits/women/6.jpg</td>\n    </tr>\n    <tr>\n      <th>4</th>\n      <td>Pascal Tesch</td>\n      <td>male</td>\n      <td>Friedrichsthal</td>\n      <td>Niedersachsen</td>\n      <td>pascal.tesch@example.com</td>\n      <td>1973-04-01T07:38:53.420Z</td>\n      <td>https://randomuser.me/api/portraits/men/78.jpg</td>\n    </tr>\n    <tr>\n      <th>5</th>\n      <td>Victor Campbell</td>\n      <td>male</td>\n      <td>Springfield</td>\n      <td>Alberta</td>\n      <td>victor.campbell@example.com</td>\n      <td>1982-05-08T15:10:28.685Z</td>\n      <td>https://randomuser.me/api/portraits/men/61.jpg</td>\n    </tr>\n    <tr>\n      <th>6</th>\n      <td>Jaxon Chen</td>\n      <td>male</td>\n      <td>Porirua</td>\n      <td>Auckland</td>\n      <td>jaxon.chen@example.com</td>\n      <td>1962-01-15T22:49:05.038Z</td>\n      <td>https://randomuser.me/api/portraits/men/7.jpg</td>\n    </tr>\n    <tr>\n      <th>7</th>\n      <td>Willi Gerstner</td>\n      <td>male</td>\n      <td>Mühlheim an der Donau</td>\n      <td>Baden-Württemberg</td>\n      <td>willi.gerstner@example.com</td>\n      <td>1975-11-20T14:07:32.932Z</td>\n      <td>https://randomuser.me/api/portraits/men/66.jpg</td>\n    </tr>\n    <tr>\n      <th>8</th>\n      <td>سینا علیزاده</td>\n      <td>male</td>\n      <td>ملارد</td>\n      <td>خراسان شمالی</td>\n      <td>syn.aalyzdh@example.com</td>\n      <td>1985-08-17T18:19:04.220Z</td>\n      <td>https://randomuser.me/api/portraits/men/69.jpg</td>\n    </tr>\n    <tr>\n      <th>9</th>\n      <td>Sophie Deschamps</td>\n      <td>female</td>\n      <td>Vitry-sur-Seine</td>\n      <td>Mayotte</td>\n      <td>sophie.deschamps@example.com</td>\n      <td>1966-04-26T01:44:48.588Z</td>\n      <td>https://randomuser.me/api/portraits/women/13.jpg</td>\n    </tr>\n  </tbody>\n</table>\n</div>"
     },
     "execution_count": 12,
     "metadata": {},
     "output_type": "execute_result"
    }
   ],
   "source": [
    "get_users()"
   ],
   "execution_count": 12
  },
  {
   "cell_type": "code",
   "metadata": {
    "ExecuteTime": {
     "end_time": "2023-11-14T11:26:43.367069200Z",
     "start_time": "2023-11-14T11:26:43.160113400Z"
    }
   },
   "outputs": [
    {
     "data": {
      "text/plain": "                Name  Gender           City               State  \\\n0    Matthew Herrera    male      Toowoomba  Northern Territory   \n1     Tilde Pedersen  female  Noerre Alslev             Danmark   \n2    Ubirani Ribeiro  female         Canoas   Rio Grande do Sul   \n3      Bonnie Fields  female     Launceston     South Australia   \n4        Frank Scott    male           Athy           Roscommon   \n5  Elizabeth Jenkins  female           Athy                Cork   \n6      Mestan Sözeri  female        Bilecik               Iğdır   \n7      Vincent White    male     Wellington   Manawatu-Wanganui   \n8      Brooke Wilson  female         Nelson               Otago   \n9     Cathleen Unruh  female  Merzig-Wadern       Niedersachsen   \n\n                           Email                       DOB  \\\n0    matthew.herrera@example.com  1995-12-12T04:16:23.279Z   \n1     tilde.pedersen@example.com  1954-12-24T11:33:21.603Z   \n2    ubirani.ribeiro@example.com  1994-08-19T00:47:20.927Z   \n3      bonnie.fields@example.com  1992-07-11T01:34:55.293Z   \n4        frank.scott@example.com  1957-03-30T03:50:06.777Z   \n5  elizabeth.jenkins@example.com  1993-05-21T05:29:58.597Z   \n6      mestan.sozeri@example.com  1981-03-14T18:31:03.106Z   \n7      vincent.white@example.com  1952-02-22T22:34:28.571Z   \n8      brooke.wilson@example.com  1969-01-03T17:43:17.726Z   \n9     cathleen.unruh@example.com  1958-09-09T14:58:20.504Z   \n\n                                            Picture  \n0    https://randomuser.me/api/portraits/men/35.jpg  \n1  https://randomuser.me/api/portraits/women/54.jpg  \n2  https://randomuser.me/api/portraits/women/76.jpg  \n3  https://randomuser.me/api/portraits/women/68.jpg  \n4    https://randomuser.me/api/portraits/men/49.jpg  \n5  https://randomuser.me/api/portraits/women/60.jpg  \n6  https://randomuser.me/api/portraits/women/39.jpg  \n7    https://randomuser.me/api/portraits/men/74.jpg  \n8  https://randomuser.me/api/portraits/women/87.jpg  \n9  https://randomuser.me/api/portraits/women/58.jpg  ",
      "text/html": "<div>\n<style scoped>\n    .dataframe tbody tr th:only-of-type {\n        vertical-align: middle;\n    }\n\n    .dataframe tbody tr th {\n        vertical-align: top;\n    }\n\n    .dataframe thead th {\n        text-align: right;\n    }\n</style>\n<table border=\"1\" class=\"dataframe\">\n  <thead>\n    <tr style=\"text-align: right;\">\n      <th></th>\n      <th>Name</th>\n      <th>Gender</th>\n      <th>City</th>\n      <th>State</th>\n      <th>Email</th>\n      <th>DOB</th>\n      <th>Picture</th>\n    </tr>\n  </thead>\n  <tbody>\n    <tr>\n      <th>0</th>\n      <td>Matthew Herrera</td>\n      <td>male</td>\n      <td>Toowoomba</td>\n      <td>Northern Territory</td>\n      <td>matthew.herrera@example.com</td>\n      <td>1995-12-12T04:16:23.279Z</td>\n      <td>https://randomuser.me/api/portraits/men/35.jpg</td>\n    </tr>\n    <tr>\n      <th>1</th>\n      <td>Tilde Pedersen</td>\n      <td>female</td>\n      <td>Noerre Alslev</td>\n      <td>Danmark</td>\n      <td>tilde.pedersen@example.com</td>\n      <td>1954-12-24T11:33:21.603Z</td>\n      <td>https://randomuser.me/api/portraits/women/54.jpg</td>\n    </tr>\n    <tr>\n      <th>2</th>\n      <td>Ubirani Ribeiro</td>\n      <td>female</td>\n      <td>Canoas</td>\n      <td>Rio Grande do Sul</td>\n      <td>ubirani.ribeiro@example.com</td>\n      <td>1994-08-19T00:47:20.927Z</td>\n      <td>https://randomuser.me/api/portraits/women/76.jpg</td>\n    </tr>\n    <tr>\n      <th>3</th>\n      <td>Bonnie Fields</td>\n      <td>female</td>\n      <td>Launceston</td>\n      <td>South Australia</td>\n      <td>bonnie.fields@example.com</td>\n      <td>1992-07-11T01:34:55.293Z</td>\n      <td>https://randomuser.me/api/portraits/women/68.jpg</td>\n    </tr>\n    <tr>\n      <th>4</th>\n      <td>Frank Scott</td>\n      <td>male</td>\n      <td>Athy</td>\n      <td>Roscommon</td>\n      <td>frank.scott@example.com</td>\n      <td>1957-03-30T03:50:06.777Z</td>\n      <td>https://randomuser.me/api/portraits/men/49.jpg</td>\n    </tr>\n    <tr>\n      <th>5</th>\n      <td>Elizabeth Jenkins</td>\n      <td>female</td>\n      <td>Athy</td>\n      <td>Cork</td>\n      <td>elizabeth.jenkins@example.com</td>\n      <td>1993-05-21T05:29:58.597Z</td>\n      <td>https://randomuser.me/api/portraits/women/60.jpg</td>\n    </tr>\n    <tr>\n      <th>6</th>\n      <td>Mestan Sözeri</td>\n      <td>female</td>\n      <td>Bilecik</td>\n      <td>Iğdır</td>\n      <td>mestan.sozeri@example.com</td>\n      <td>1981-03-14T18:31:03.106Z</td>\n      <td>https://randomuser.me/api/portraits/women/39.jpg</td>\n    </tr>\n    <tr>\n      <th>7</th>\n      <td>Vincent White</td>\n      <td>male</td>\n      <td>Wellington</td>\n      <td>Manawatu-Wanganui</td>\n      <td>vincent.white@example.com</td>\n      <td>1952-02-22T22:34:28.571Z</td>\n      <td>https://randomuser.me/api/portraits/men/74.jpg</td>\n    </tr>\n    <tr>\n      <th>8</th>\n      <td>Brooke Wilson</td>\n      <td>female</td>\n      <td>Nelson</td>\n      <td>Otago</td>\n      <td>brooke.wilson@example.com</td>\n      <td>1969-01-03T17:43:17.726Z</td>\n      <td>https://randomuser.me/api/portraits/women/87.jpg</td>\n    </tr>\n    <tr>\n      <th>9</th>\n      <td>Cathleen Unruh</td>\n      <td>female</td>\n      <td>Merzig-Wadern</td>\n      <td>Niedersachsen</td>\n      <td>cathleen.unruh@example.com</td>\n      <td>1958-09-09T14:58:20.504Z</td>\n      <td>https://randomuser.me/api/portraits/women/58.jpg</td>\n    </tr>\n  </tbody>\n</table>\n</div>"
     },
     "execution_count": 14,
     "metadata": {},
     "output_type": "execute_result"
    }
   ],
   "source": [
    "df1 = pd.DataFrame(get_users())  \n",
    "df1"
   ],
   "execution_count": 14
  },
  {
   "cell_type": "markdown",
   "metadata": {},
   "source": [
    "Now we have a *pandas* dataframe that can be used for any testing purposes that the tester might have.\n"
   ]
  },
  {
   "cell_type": "markdown",
   "metadata": {},
   "source": [
    "## Example 2: Fruityvice API\n",
    "\n",
    "Another, more common way to use APIs, is through `requests` library. The next lab, Requests and HTTP, will contain more information about requests.\n",
    "\n",
    "We will start by importing all required libraries.\n"
   ]
  },
  {
   "cell_type": "code",
   "metadata": {
    "ExecuteTime": {
     "end_time": "2023-11-14T11:26:47.852871100Z",
     "start_time": "2023-11-14T11:26:47.370073500Z"
    }
   },
   "outputs": [],
   "source": [
    "import requests\n",
    "import json"
   ],
   "execution_count": 15
  },
  {
   "cell_type": "markdown",
   "metadata": {},
   "source": [
    "We will obtain the [fruityvice](https://www.fruityvice.com) API data using `requests.get(\"url\")` function. The data is in a json format.\n"
   ]
  },
  {
   "cell_type": "code",
   "metadata": {
    "ExecuteTime": {
     "end_time": "2023-11-14T11:26:49.547802900Z",
     "start_time": "2023-11-14T11:26:48.351937800Z"
    }
   },
   "outputs": [],
   "source": [
    "data = requests.get(\"https://fruityvice.com/api/fruit/all\")"
   ],
   "execution_count": 16
  },
  {
   "cell_type": "markdown",
   "metadata": {},
   "source": [
    "We will retrieve results using `json.loads()` function.\n"
   ]
  },
  {
   "cell_type": "code",
   "metadata": {
    "ExecuteTime": {
     "end_time": "2023-11-14T11:26:49.548821200Z",
     "start_time": "2023-11-14T11:26:49.545698600Z"
    }
   },
   "outputs": [],
   "source": [
    "results = json.loads(data.text)"
   ],
   "execution_count": 17
  },
  {
   "cell_type": "markdown",
   "metadata": {},
   "source": [
    "We will convert our json data into *pandas* data frame. \n"
   ]
  },
  {
   "cell_type": "code",
   "metadata": {
    "ExecuteTime": {
     "end_time": "2023-11-14T11:26:51.528225100Z",
     "start_time": "2023-11-14T11:26:51.505158600Z"
    }
   },
   "outputs": [
    {
     "data": {
      "text/plain": "            name  id           family             order         genus  \\\n0      Persimmon  52        Ebenaceae           Rosales     Diospyros   \n1     Strawberry   3         Rosaceae           Rosales      Fragaria   \n2         Banana   1         Musaceae      Zingiberales          Musa   \n3         Tomato   5       Solanaceae         Solanales       Solanum   \n4           Pear   4         Rosaceae           Rosales         Pyrus   \n5         Durian  60        Malvaceae          Malvales         Durio   \n6     Blackberry  64         Rosaceae           Rosales         Rubus   \n7    Lingonberry  65        Ericaceae          Ericales     Vaccinium   \n8           Kiwi  66    Actinidiaceae  Struthioniformes       Apteryx   \n9         Lychee  67      Sapindaceae        Sapindales        Litchi   \n10     Pineapple  10     Bromeliaceae            Poales        Ananas   \n11           Fig  68         Moraceae           Rosales         Ficus   \n12    Gooseberry  69  Grossulariaceae      Saxifragales         Ribes   \n13  Passionfruit  70   Passifloraceae      Malpighiales    Passiflora   \n14          Plum  71         Rosaceae           Rosales        Prunus   \n15        Orange   2         Rutaceae        Sapindales        Citrus   \n16    GreenApple  72         Rosaceae           Rosales         Malus   \n17     Raspberry  23         Rosaceae           Rosales         Rubus   \n18    Watermelon  25    Cucurbitaceae      Cucurbitales     Citrullus   \n19         Lemon  26         Rutaceae        Sapindales        Citrus   \n20         Mango  27    Anacardiaceae        Sapindales     Mangifera   \n21     Blueberry  33         Rosaceae           Rosales      Fragaria   \n22         Apple   6         Rosaceae           Rosales         Malus   \n23         Guava  37        Myrtaceae          Myrtales       Psidium   \n24       Apricot  35         Rosaceae           Rosales        Prunus   \n25        Papaya  42       Caricaceae         Caricacea        Carica   \n26         Melon  41    Cucurbitaceae     Cucurbitaceae       Cucumis   \n27     Tangerine  77         Rutaceae        Sapindales        Citrus   \n28      Pitahaya  78        Cactaceae    Caryophyllales     Cactaceae   \n29          Lime  44         Rutaceae        Sapindales        Citrus   \n30   Pomegranate  79       Lythraceae          Myrtales        Punica   \n31   Dragonfruit  80        Cactaceae    Caryophyllales  Selenicereus   \n32         Grape  81         Vitaceae           Vitales         Vitis   \n33         Morus  82         Moraceae           Rosales         Morus   \n34        Feijoa  76        Myrtaceae        Myrtoideae    Sellowiana   \n35       Avocado  84        Lauraceae          Laurales        Persea   \n36     Kiwifruit  85    Actinidiaceae          Ericales     Actinidia   \n37     Cranberry  87        Ericaceae          Ericales     Vaccinium   \n38        Cherry   9         Rosaceae           Rosales        Prunus   \n39         Peach  86         Rosaceae           Rosales        Prunus   \n40     Jackfruit  94         Moraceae           Rosales    Artocarpus   \n41  Horned Melon  95    Cucurbitaceae      Cucurbitales       Cucumis   \n42      Hazelnut  96       Betulaceae           Fagales       Corylus   \n43        Pomelo  98         Rutaceae        Sapindales        Citrus   \n44    Mangosteen  99       Clusiaceae      Malpighiales      Garcinia   \n\n                                           nutritions  \n0   {'calories': 81, 'fat': 0.0, 'sugar': 18.0, 'c...  \n1   {'calories': 29, 'fat': 0.4, 'sugar': 5.4, 'ca...  \n2   {'calories': 96, 'fat': 0.2, 'sugar': 17.2, 'c...  \n3   {'calories': 74, 'fat': 0.2, 'sugar': 2.6, 'ca...  \n4   {'calories': 57, 'fat': 0.1, 'sugar': 10.0, 'c...  \n5   {'calories': 147, 'fat': 5.3, 'sugar': 6.75, '...  \n6   {'calories': 40, 'fat': 0.4, 'sugar': 4.5, 'ca...  \n7   {'calories': 50, 'fat': 0.34, 'sugar': 5.74, '...  \n8   {'calories': 61, 'fat': 0.5, 'sugar': 9.0, 'ca...  \n9   {'calories': 66, 'fat': 0.44, 'sugar': 15.0, '...  \n10  {'calories': 50, 'fat': 0.12, 'sugar': 9.85, '...  \n11  {'calories': 74, 'fat': 0.3, 'sugar': 16.0, 'c...  \n12  {'calories': 44, 'fat': 0.6, 'sugar': 0.0, 'ca...  \n13  {'calories': 97, 'fat': 0.7, 'sugar': 11.2, 'c...  \n14  {'calories': 46, 'fat': 0.28, 'sugar': 9.92, '...  \n15  {'calories': 43, 'fat': 0.2, 'sugar': 8.2, 'ca...  \n16  {'calories': 21, 'fat': 0.1, 'sugar': 6.4, 'ca...  \n17  {'calories': 53, 'fat': 0.7, 'sugar': 4.4, 'ca...  \n18  {'calories': 30, 'fat': 0.2, 'sugar': 6.0, 'ca...  \n19  {'calories': 29, 'fat': 0.3, 'sugar': 2.5, 'ca...  \n20  {'calories': 60, 'fat': 0.38, 'sugar': 13.7, '...  \n21  {'calories': 29, 'fat': 0.4, 'sugar': 5.4, 'ca...  \n22  {'calories': 52, 'fat': 0.4, 'sugar': 10.3, 'c...  \n23  {'calories': 68, 'fat': 1.0, 'sugar': 9.0, 'ca...  \n24  {'calories': 15, 'fat': 0.1, 'sugar': 3.2, 'ca...  \n25  {'calories': 43, 'fat': 0.4, 'sugar': 1.0, 'ca...  \n26  {'calories': 34, 'fat': 0.0, 'sugar': 8.0, 'ca...  \n27  {'calories': 45, 'fat': 0.4, 'sugar': 9.1, 'ca...  \n28  {'calories': 36, 'fat': 0.4, 'sugar': 3.0, 'ca...  \n29  {'calories': 25, 'fat': 0.1, 'sugar': 1.7, 'ca...  \n30  {'calories': 83, 'fat': 1.2, 'sugar': 13.7, 'c...  \n31  {'calories': 60, 'fat': 1.5, 'sugar': 8.0, 'ca...  \n32  {'calories': 69, 'fat': 0.16, 'sugar': 16.0, '...  \n33  {'calories': 43, 'fat': 0.39, 'sugar': 8.1, 'c...  \n34  {'calories': 44, 'fat': 0.4, 'sugar': 3.0, 'ca...  \n35  {'calories': 160, 'fat': 14.66, 'sugar': 0.66,...  \n36  {'calories': 61, 'fat': 0.5, 'sugar': 8.9, 'ca...  \n37  {'calories': 46, 'fat': 0.1, 'sugar': 4.0, 'ca...  \n38  {'calories': 50, 'fat': 0.3, 'sugar': 8.0, 'ca...  \n39  {'calories': 39, 'fat': 0.25, 'sugar': 8.4, 'c...  \n40  {'calories': 95, 'fat': 0.0, 'sugar': 19.1, 'c...  \n41  {'calories': 44, 'fat': 1.26, 'sugar': 0.5, 'c...  \n42  {'calories': 628, 'fat': 61.0, 'sugar': 4.3, '...  \n43  {'calories': 37, 'fat': 0.0, 'sugar': 8.5, 'ca...  \n44  {'calories': 73, 'fat': 0.58, 'sugar': 16.11, ...  ",
      "text/html": "<div>\n<style scoped>\n    .dataframe tbody tr th:only-of-type {\n        vertical-align: middle;\n    }\n\n    .dataframe tbody tr th {\n        vertical-align: top;\n    }\n\n    .dataframe thead th {\n        text-align: right;\n    }\n</style>\n<table border=\"1\" class=\"dataframe\">\n  <thead>\n    <tr style=\"text-align: right;\">\n      <th></th>\n      <th>name</th>\n      <th>id</th>\n      <th>family</th>\n      <th>order</th>\n      <th>genus</th>\n      <th>nutritions</th>\n    </tr>\n  </thead>\n  <tbody>\n    <tr>\n      <th>0</th>\n      <td>Persimmon</td>\n      <td>52</td>\n      <td>Ebenaceae</td>\n      <td>Rosales</td>\n      <td>Diospyros</td>\n      <td>{'calories': 81, 'fat': 0.0, 'sugar': 18.0, 'c...</td>\n    </tr>\n    <tr>\n      <th>1</th>\n      <td>Strawberry</td>\n      <td>3</td>\n      <td>Rosaceae</td>\n      <td>Rosales</td>\n      <td>Fragaria</td>\n      <td>{'calories': 29, 'fat': 0.4, 'sugar': 5.4, 'ca...</td>\n    </tr>\n    <tr>\n      <th>2</th>\n      <td>Banana</td>\n      <td>1</td>\n      <td>Musaceae</td>\n      <td>Zingiberales</td>\n      <td>Musa</td>\n      <td>{'calories': 96, 'fat': 0.2, 'sugar': 17.2, 'c...</td>\n    </tr>\n    <tr>\n      <th>3</th>\n      <td>Tomato</td>\n      <td>5</td>\n      <td>Solanaceae</td>\n      <td>Solanales</td>\n      <td>Solanum</td>\n      <td>{'calories': 74, 'fat': 0.2, 'sugar': 2.6, 'ca...</td>\n    </tr>\n    <tr>\n      <th>4</th>\n      <td>Pear</td>\n      <td>4</td>\n      <td>Rosaceae</td>\n      <td>Rosales</td>\n      <td>Pyrus</td>\n      <td>{'calories': 57, 'fat': 0.1, 'sugar': 10.0, 'c...</td>\n    </tr>\n    <tr>\n      <th>5</th>\n      <td>Durian</td>\n      <td>60</td>\n      <td>Malvaceae</td>\n      <td>Malvales</td>\n      <td>Durio</td>\n      <td>{'calories': 147, 'fat': 5.3, 'sugar': 6.75, '...</td>\n    </tr>\n    <tr>\n      <th>6</th>\n      <td>Blackberry</td>\n      <td>64</td>\n      <td>Rosaceae</td>\n      <td>Rosales</td>\n      <td>Rubus</td>\n      <td>{'calories': 40, 'fat': 0.4, 'sugar': 4.5, 'ca...</td>\n    </tr>\n    <tr>\n      <th>7</th>\n      <td>Lingonberry</td>\n      <td>65</td>\n      <td>Ericaceae</td>\n      <td>Ericales</td>\n      <td>Vaccinium</td>\n      <td>{'calories': 50, 'fat': 0.34, 'sugar': 5.74, '...</td>\n    </tr>\n    <tr>\n      <th>8</th>\n      <td>Kiwi</td>\n      <td>66</td>\n      <td>Actinidiaceae</td>\n      <td>Struthioniformes</td>\n      <td>Apteryx</td>\n      <td>{'calories': 61, 'fat': 0.5, 'sugar': 9.0, 'ca...</td>\n    </tr>\n    <tr>\n      <th>9</th>\n      <td>Lychee</td>\n      <td>67</td>\n      <td>Sapindaceae</td>\n      <td>Sapindales</td>\n      <td>Litchi</td>\n      <td>{'calories': 66, 'fat': 0.44, 'sugar': 15.0, '...</td>\n    </tr>\n    <tr>\n      <th>10</th>\n      <td>Pineapple</td>\n      <td>10</td>\n      <td>Bromeliaceae</td>\n      <td>Poales</td>\n      <td>Ananas</td>\n      <td>{'calories': 50, 'fat': 0.12, 'sugar': 9.85, '...</td>\n    </tr>\n    <tr>\n      <th>11</th>\n      <td>Fig</td>\n      <td>68</td>\n      <td>Moraceae</td>\n      <td>Rosales</td>\n      <td>Ficus</td>\n      <td>{'calories': 74, 'fat': 0.3, 'sugar': 16.0, 'c...</td>\n    </tr>\n    <tr>\n      <th>12</th>\n      <td>Gooseberry</td>\n      <td>69</td>\n      <td>Grossulariaceae</td>\n      <td>Saxifragales</td>\n      <td>Ribes</td>\n      <td>{'calories': 44, 'fat': 0.6, 'sugar': 0.0, 'ca...</td>\n    </tr>\n    <tr>\n      <th>13</th>\n      <td>Passionfruit</td>\n      <td>70</td>\n      <td>Passifloraceae</td>\n      <td>Malpighiales</td>\n      <td>Passiflora</td>\n      <td>{'calories': 97, 'fat': 0.7, 'sugar': 11.2, 'c...</td>\n    </tr>\n    <tr>\n      <th>14</th>\n      <td>Plum</td>\n      <td>71</td>\n      <td>Rosaceae</td>\n      <td>Rosales</td>\n      <td>Prunus</td>\n      <td>{'calories': 46, 'fat': 0.28, 'sugar': 9.92, '...</td>\n    </tr>\n    <tr>\n      <th>15</th>\n      <td>Orange</td>\n      <td>2</td>\n      <td>Rutaceae</td>\n      <td>Sapindales</td>\n      <td>Citrus</td>\n      <td>{'calories': 43, 'fat': 0.2, 'sugar': 8.2, 'ca...</td>\n    </tr>\n    <tr>\n      <th>16</th>\n      <td>GreenApple</td>\n      <td>72</td>\n      <td>Rosaceae</td>\n      <td>Rosales</td>\n      <td>Malus</td>\n      <td>{'calories': 21, 'fat': 0.1, 'sugar': 6.4, 'ca...</td>\n    </tr>\n    <tr>\n      <th>17</th>\n      <td>Raspberry</td>\n      <td>23</td>\n      <td>Rosaceae</td>\n      <td>Rosales</td>\n      <td>Rubus</td>\n      <td>{'calories': 53, 'fat': 0.7, 'sugar': 4.4, 'ca...</td>\n    </tr>\n    <tr>\n      <th>18</th>\n      <td>Watermelon</td>\n      <td>25</td>\n      <td>Cucurbitaceae</td>\n      <td>Cucurbitales</td>\n      <td>Citrullus</td>\n      <td>{'calories': 30, 'fat': 0.2, 'sugar': 6.0, 'ca...</td>\n    </tr>\n    <tr>\n      <th>19</th>\n      <td>Lemon</td>\n      <td>26</td>\n      <td>Rutaceae</td>\n      <td>Sapindales</td>\n      <td>Citrus</td>\n      <td>{'calories': 29, 'fat': 0.3, 'sugar': 2.5, 'ca...</td>\n    </tr>\n    <tr>\n      <th>20</th>\n      <td>Mango</td>\n      <td>27</td>\n      <td>Anacardiaceae</td>\n      <td>Sapindales</td>\n      <td>Mangifera</td>\n      <td>{'calories': 60, 'fat': 0.38, 'sugar': 13.7, '...</td>\n    </tr>\n    <tr>\n      <th>21</th>\n      <td>Blueberry</td>\n      <td>33</td>\n      <td>Rosaceae</td>\n      <td>Rosales</td>\n      <td>Fragaria</td>\n      <td>{'calories': 29, 'fat': 0.4, 'sugar': 5.4, 'ca...</td>\n    </tr>\n    <tr>\n      <th>22</th>\n      <td>Apple</td>\n      <td>6</td>\n      <td>Rosaceae</td>\n      <td>Rosales</td>\n      <td>Malus</td>\n      <td>{'calories': 52, 'fat': 0.4, 'sugar': 10.3, 'c...</td>\n    </tr>\n    <tr>\n      <th>23</th>\n      <td>Guava</td>\n      <td>37</td>\n      <td>Myrtaceae</td>\n      <td>Myrtales</td>\n      <td>Psidium</td>\n      <td>{'calories': 68, 'fat': 1.0, 'sugar': 9.0, 'ca...</td>\n    </tr>\n    <tr>\n      <th>24</th>\n      <td>Apricot</td>\n      <td>35</td>\n      <td>Rosaceae</td>\n      <td>Rosales</td>\n      <td>Prunus</td>\n      <td>{'calories': 15, 'fat': 0.1, 'sugar': 3.2, 'ca...</td>\n    </tr>\n    <tr>\n      <th>25</th>\n      <td>Papaya</td>\n      <td>42</td>\n      <td>Caricaceae</td>\n      <td>Caricacea</td>\n      <td>Carica</td>\n      <td>{'calories': 43, 'fat': 0.4, 'sugar': 1.0, 'ca...</td>\n    </tr>\n    <tr>\n      <th>26</th>\n      <td>Melon</td>\n      <td>41</td>\n      <td>Cucurbitaceae</td>\n      <td>Cucurbitaceae</td>\n      <td>Cucumis</td>\n      <td>{'calories': 34, 'fat': 0.0, 'sugar': 8.0, 'ca...</td>\n    </tr>\n    <tr>\n      <th>27</th>\n      <td>Tangerine</td>\n      <td>77</td>\n      <td>Rutaceae</td>\n      <td>Sapindales</td>\n      <td>Citrus</td>\n      <td>{'calories': 45, 'fat': 0.4, 'sugar': 9.1, 'ca...</td>\n    </tr>\n    <tr>\n      <th>28</th>\n      <td>Pitahaya</td>\n      <td>78</td>\n      <td>Cactaceae</td>\n      <td>Caryophyllales</td>\n      <td>Cactaceae</td>\n      <td>{'calories': 36, 'fat': 0.4, 'sugar': 3.0, 'ca...</td>\n    </tr>\n    <tr>\n      <th>29</th>\n      <td>Lime</td>\n      <td>44</td>\n      <td>Rutaceae</td>\n      <td>Sapindales</td>\n      <td>Citrus</td>\n      <td>{'calories': 25, 'fat': 0.1, 'sugar': 1.7, 'ca...</td>\n    </tr>\n    <tr>\n      <th>30</th>\n      <td>Pomegranate</td>\n      <td>79</td>\n      <td>Lythraceae</td>\n      <td>Myrtales</td>\n      <td>Punica</td>\n      <td>{'calories': 83, 'fat': 1.2, 'sugar': 13.7, 'c...</td>\n    </tr>\n    <tr>\n      <th>31</th>\n      <td>Dragonfruit</td>\n      <td>80</td>\n      <td>Cactaceae</td>\n      <td>Caryophyllales</td>\n      <td>Selenicereus</td>\n      <td>{'calories': 60, 'fat': 1.5, 'sugar': 8.0, 'ca...</td>\n    </tr>\n    <tr>\n      <th>32</th>\n      <td>Grape</td>\n      <td>81</td>\n      <td>Vitaceae</td>\n      <td>Vitales</td>\n      <td>Vitis</td>\n      <td>{'calories': 69, 'fat': 0.16, 'sugar': 16.0, '...</td>\n    </tr>\n    <tr>\n      <th>33</th>\n      <td>Morus</td>\n      <td>82</td>\n      <td>Moraceae</td>\n      <td>Rosales</td>\n      <td>Morus</td>\n      <td>{'calories': 43, 'fat': 0.39, 'sugar': 8.1, 'c...</td>\n    </tr>\n    <tr>\n      <th>34</th>\n      <td>Feijoa</td>\n      <td>76</td>\n      <td>Myrtaceae</td>\n      <td>Myrtoideae</td>\n      <td>Sellowiana</td>\n      <td>{'calories': 44, 'fat': 0.4, 'sugar': 3.0, 'ca...</td>\n    </tr>\n    <tr>\n      <th>35</th>\n      <td>Avocado</td>\n      <td>84</td>\n      <td>Lauraceae</td>\n      <td>Laurales</td>\n      <td>Persea</td>\n      <td>{'calories': 160, 'fat': 14.66, 'sugar': 0.66,...</td>\n    </tr>\n    <tr>\n      <th>36</th>\n      <td>Kiwifruit</td>\n      <td>85</td>\n      <td>Actinidiaceae</td>\n      <td>Ericales</td>\n      <td>Actinidia</td>\n      <td>{'calories': 61, 'fat': 0.5, 'sugar': 8.9, 'ca...</td>\n    </tr>\n    <tr>\n      <th>37</th>\n      <td>Cranberry</td>\n      <td>87</td>\n      <td>Ericaceae</td>\n      <td>Ericales</td>\n      <td>Vaccinium</td>\n      <td>{'calories': 46, 'fat': 0.1, 'sugar': 4.0, 'ca...</td>\n    </tr>\n    <tr>\n      <th>38</th>\n      <td>Cherry</td>\n      <td>9</td>\n      <td>Rosaceae</td>\n      <td>Rosales</td>\n      <td>Prunus</td>\n      <td>{'calories': 50, 'fat': 0.3, 'sugar': 8.0, 'ca...</td>\n    </tr>\n    <tr>\n      <th>39</th>\n      <td>Peach</td>\n      <td>86</td>\n      <td>Rosaceae</td>\n      <td>Rosales</td>\n      <td>Prunus</td>\n      <td>{'calories': 39, 'fat': 0.25, 'sugar': 8.4, 'c...</td>\n    </tr>\n    <tr>\n      <th>40</th>\n      <td>Jackfruit</td>\n      <td>94</td>\n      <td>Moraceae</td>\n      <td>Rosales</td>\n      <td>Artocarpus</td>\n      <td>{'calories': 95, 'fat': 0.0, 'sugar': 19.1, 'c...</td>\n    </tr>\n    <tr>\n      <th>41</th>\n      <td>Horned Melon</td>\n      <td>95</td>\n      <td>Cucurbitaceae</td>\n      <td>Cucurbitales</td>\n      <td>Cucumis</td>\n      <td>{'calories': 44, 'fat': 1.26, 'sugar': 0.5, 'c...</td>\n    </tr>\n    <tr>\n      <th>42</th>\n      <td>Hazelnut</td>\n      <td>96</td>\n      <td>Betulaceae</td>\n      <td>Fagales</td>\n      <td>Corylus</td>\n      <td>{'calories': 628, 'fat': 61.0, 'sugar': 4.3, '...</td>\n    </tr>\n    <tr>\n      <th>43</th>\n      <td>Pomelo</td>\n      <td>98</td>\n      <td>Rutaceae</td>\n      <td>Sapindales</td>\n      <td>Citrus</td>\n      <td>{'calories': 37, 'fat': 0.0, 'sugar': 8.5, 'ca...</td>\n    </tr>\n    <tr>\n      <th>44</th>\n      <td>Mangosteen</td>\n      <td>99</td>\n      <td>Clusiaceae</td>\n      <td>Malpighiales</td>\n      <td>Garcinia</td>\n      <td>{'calories': 73, 'fat': 0.58, 'sugar': 16.11, ...</td>\n    </tr>\n  </tbody>\n</table>\n</div>"
     },
     "execution_count": 18,
     "metadata": {},
     "output_type": "execute_result"
    }
   ],
   "source": [
    "pd.DataFrame(results)"
   ],
   "execution_count": 18
  },
  {
   "cell_type": "markdown",
   "metadata": {},
   "source": [
    "The result is in a nested json format. The 'nutrition' column contains multiple subcolumns, so the data needs to be 'flattened' or normalized.\n"
   ]
  },
  {
   "cell_type": "code",
   "metadata": {
    "ExecuteTime": {
     "end_time": "2023-11-14T11:26:52.049156900Z",
     "start_time": "2023-11-14T11:26:52.044960Z"
    }
   },
   "outputs": [],
   "source": [
    "df2 = pd.json_normalize(results)"
   ],
   "execution_count": 19
  },
  {
   "cell_type": "code",
   "metadata": {
    "ExecuteTime": {
     "end_time": "2023-11-14T11:26:52.442705700Z",
     "start_time": "2023-11-14T11:26:52.416840200Z"
    }
   },
   "outputs": [
    {
     "data": {
      "text/plain": "            name  id           family             order         genus  \\\n0      Persimmon  52        Ebenaceae           Rosales     Diospyros   \n1     Strawberry   3         Rosaceae           Rosales      Fragaria   \n2         Banana   1         Musaceae      Zingiberales          Musa   \n3         Tomato   5       Solanaceae         Solanales       Solanum   \n4           Pear   4         Rosaceae           Rosales         Pyrus   \n5         Durian  60        Malvaceae          Malvales         Durio   \n6     Blackberry  64         Rosaceae           Rosales         Rubus   \n7    Lingonberry  65        Ericaceae          Ericales     Vaccinium   \n8           Kiwi  66    Actinidiaceae  Struthioniformes       Apteryx   \n9         Lychee  67      Sapindaceae        Sapindales        Litchi   \n10     Pineapple  10     Bromeliaceae            Poales        Ananas   \n11           Fig  68         Moraceae           Rosales         Ficus   \n12    Gooseberry  69  Grossulariaceae      Saxifragales         Ribes   \n13  Passionfruit  70   Passifloraceae      Malpighiales    Passiflora   \n14          Plum  71         Rosaceae           Rosales        Prunus   \n15        Orange   2         Rutaceae        Sapindales        Citrus   \n16    GreenApple  72         Rosaceae           Rosales         Malus   \n17     Raspberry  23         Rosaceae           Rosales         Rubus   \n18    Watermelon  25    Cucurbitaceae      Cucurbitales     Citrullus   \n19         Lemon  26         Rutaceae        Sapindales        Citrus   \n20         Mango  27    Anacardiaceae        Sapindales     Mangifera   \n21     Blueberry  33         Rosaceae           Rosales      Fragaria   \n22         Apple   6         Rosaceae           Rosales         Malus   \n23         Guava  37        Myrtaceae          Myrtales       Psidium   \n24       Apricot  35         Rosaceae           Rosales        Prunus   \n25        Papaya  42       Caricaceae         Caricacea        Carica   \n26         Melon  41    Cucurbitaceae     Cucurbitaceae       Cucumis   \n27     Tangerine  77         Rutaceae        Sapindales        Citrus   \n28      Pitahaya  78        Cactaceae    Caryophyllales     Cactaceae   \n29          Lime  44         Rutaceae        Sapindales        Citrus   \n30   Pomegranate  79       Lythraceae          Myrtales        Punica   \n31   Dragonfruit  80        Cactaceae    Caryophyllales  Selenicereus   \n32         Grape  81         Vitaceae           Vitales         Vitis   \n33         Morus  82         Moraceae           Rosales         Morus   \n34        Feijoa  76        Myrtaceae        Myrtoideae    Sellowiana   \n35       Avocado  84        Lauraceae          Laurales        Persea   \n36     Kiwifruit  85    Actinidiaceae          Ericales     Actinidia   \n37     Cranberry  87        Ericaceae          Ericales     Vaccinium   \n38        Cherry   9         Rosaceae           Rosales        Prunus   \n39         Peach  86         Rosaceae           Rosales        Prunus   \n40     Jackfruit  94         Moraceae           Rosales    Artocarpus   \n41  Horned Melon  95    Cucurbitaceae      Cucurbitales       Cucumis   \n42      Hazelnut  96       Betulaceae           Fagales       Corylus   \n43        Pomelo  98         Rutaceae        Sapindales        Citrus   \n44    Mangosteen  99       Clusiaceae      Malpighiales      Garcinia   \n\n    nutritions.calories  nutritions.fat  nutritions.sugar  \\\n0                    81            0.00             18.00   \n1                    29            0.40              5.40   \n2                    96            0.20             17.20   \n3                    74            0.20              2.60   \n4                    57            0.10             10.00   \n5                   147            5.30              6.75   \n6                    40            0.40              4.50   \n7                    50            0.34              5.74   \n8                    61            0.50              9.00   \n9                    66            0.44             15.00   \n10                   50            0.12              9.85   \n11                   74            0.30             16.00   \n12                   44            0.60              0.00   \n13                   97            0.70             11.20   \n14                   46            0.28              9.92   \n15                   43            0.20              8.20   \n16                   21            0.10              6.40   \n17                   53            0.70              4.40   \n18                   30            0.20              6.00   \n19                   29            0.30              2.50   \n20                   60            0.38             13.70   \n21                   29            0.40              5.40   \n22                   52            0.40             10.30   \n23                   68            1.00              9.00   \n24                   15            0.10              3.20   \n25                   43            0.40              1.00   \n26                   34            0.00              8.00   \n27                   45            0.40              9.10   \n28                   36            0.40              3.00   \n29                   25            0.10              1.70   \n30                   83            1.20             13.70   \n31                   60            1.50              8.00   \n32                   69            0.16             16.00   \n33                   43            0.39              8.10   \n34                   44            0.40              3.00   \n35                  160           14.66              0.66   \n36                   61            0.50              8.90   \n37                   46            0.10              4.00   \n38                   50            0.30              8.00   \n39                   39            0.25              8.40   \n40                   95            0.00             19.10   \n41                   44            1.26              0.50   \n42                  628           61.00              4.30   \n43                   37            0.00              8.50   \n44                   73            0.58             16.11   \n\n    nutritions.carbohydrates  nutritions.protein  \n0                      18.00                0.00  \n1                       5.50                0.80  \n2                      22.00                1.00  \n3                       3.90                0.90  \n4                      15.00                0.40  \n5                      27.10                1.50  \n6                       9.00                1.30  \n7                      11.30                0.75  \n8                      15.00                1.10  \n9                      17.00                0.80  \n10                     13.12                0.54  \n11                     19.00                0.80  \n12                     10.00                0.90  \n13                     22.40                2.20  \n14                     11.40                0.70  \n15                      8.30                1.00  \n16                      3.10                0.40  \n17                     12.00                1.20  \n18                      8.00                0.60  \n19                      9.00                1.10  \n20                     15.00                0.82  \n21                      5.50                0.00  \n22                     11.40                0.30  \n23                     14.00                2.60  \n24                      3.90                0.50  \n25                     11.00                0.00  \n26                      8.00                0.00  \n27                      8.30                0.00  \n28                      7.00                1.00  \n29                      8.40                0.30  \n30                     18.70                1.70  \n31                      9.00                9.00  \n32                     18.10                0.72  \n33                      9.80                1.44  \n34                      8.00                0.60  \n35                      8.53                2.00  \n36                     14.60                1.14  \n37                     12.20                0.40  \n38                     12.00                1.00  \n39                      9.50                0.90  \n40                     23.20                1.72  \n41                      7.56                1.78  \n42                     17.00               15.00  \n43                      9.67                0.82  \n44                     17.91                0.41  ",
      "text/html": "<div>\n<style scoped>\n    .dataframe tbody tr th:only-of-type {\n        vertical-align: middle;\n    }\n\n    .dataframe tbody tr th {\n        vertical-align: top;\n    }\n\n    .dataframe thead th {\n        text-align: right;\n    }\n</style>\n<table border=\"1\" class=\"dataframe\">\n  <thead>\n    <tr style=\"text-align: right;\">\n      <th></th>\n      <th>name</th>\n      <th>id</th>\n      <th>family</th>\n      <th>order</th>\n      <th>genus</th>\n      <th>nutritions.calories</th>\n      <th>nutritions.fat</th>\n      <th>nutritions.sugar</th>\n      <th>nutritions.carbohydrates</th>\n      <th>nutritions.protein</th>\n    </tr>\n  </thead>\n  <tbody>\n    <tr>\n      <th>0</th>\n      <td>Persimmon</td>\n      <td>52</td>\n      <td>Ebenaceae</td>\n      <td>Rosales</td>\n      <td>Diospyros</td>\n      <td>81</td>\n      <td>0.00</td>\n      <td>18.00</td>\n      <td>18.00</td>\n      <td>0.00</td>\n    </tr>\n    <tr>\n      <th>1</th>\n      <td>Strawberry</td>\n      <td>3</td>\n      <td>Rosaceae</td>\n      <td>Rosales</td>\n      <td>Fragaria</td>\n      <td>29</td>\n      <td>0.40</td>\n      <td>5.40</td>\n      <td>5.50</td>\n      <td>0.80</td>\n    </tr>\n    <tr>\n      <th>2</th>\n      <td>Banana</td>\n      <td>1</td>\n      <td>Musaceae</td>\n      <td>Zingiberales</td>\n      <td>Musa</td>\n      <td>96</td>\n      <td>0.20</td>\n      <td>17.20</td>\n      <td>22.00</td>\n      <td>1.00</td>\n    </tr>\n    <tr>\n      <th>3</th>\n      <td>Tomato</td>\n      <td>5</td>\n      <td>Solanaceae</td>\n      <td>Solanales</td>\n      <td>Solanum</td>\n      <td>74</td>\n      <td>0.20</td>\n      <td>2.60</td>\n      <td>3.90</td>\n      <td>0.90</td>\n    </tr>\n    <tr>\n      <th>4</th>\n      <td>Pear</td>\n      <td>4</td>\n      <td>Rosaceae</td>\n      <td>Rosales</td>\n      <td>Pyrus</td>\n      <td>57</td>\n      <td>0.10</td>\n      <td>10.00</td>\n      <td>15.00</td>\n      <td>0.40</td>\n    </tr>\n    <tr>\n      <th>5</th>\n      <td>Durian</td>\n      <td>60</td>\n      <td>Malvaceae</td>\n      <td>Malvales</td>\n      <td>Durio</td>\n      <td>147</td>\n      <td>5.30</td>\n      <td>6.75</td>\n      <td>27.10</td>\n      <td>1.50</td>\n    </tr>\n    <tr>\n      <th>6</th>\n      <td>Blackberry</td>\n      <td>64</td>\n      <td>Rosaceae</td>\n      <td>Rosales</td>\n      <td>Rubus</td>\n      <td>40</td>\n      <td>0.40</td>\n      <td>4.50</td>\n      <td>9.00</td>\n      <td>1.30</td>\n    </tr>\n    <tr>\n      <th>7</th>\n      <td>Lingonberry</td>\n      <td>65</td>\n      <td>Ericaceae</td>\n      <td>Ericales</td>\n      <td>Vaccinium</td>\n      <td>50</td>\n      <td>0.34</td>\n      <td>5.74</td>\n      <td>11.30</td>\n      <td>0.75</td>\n    </tr>\n    <tr>\n      <th>8</th>\n      <td>Kiwi</td>\n      <td>66</td>\n      <td>Actinidiaceae</td>\n      <td>Struthioniformes</td>\n      <td>Apteryx</td>\n      <td>61</td>\n      <td>0.50</td>\n      <td>9.00</td>\n      <td>15.00</td>\n      <td>1.10</td>\n    </tr>\n    <tr>\n      <th>9</th>\n      <td>Lychee</td>\n      <td>67</td>\n      <td>Sapindaceae</td>\n      <td>Sapindales</td>\n      <td>Litchi</td>\n      <td>66</td>\n      <td>0.44</td>\n      <td>15.00</td>\n      <td>17.00</td>\n      <td>0.80</td>\n    </tr>\n    <tr>\n      <th>10</th>\n      <td>Pineapple</td>\n      <td>10</td>\n      <td>Bromeliaceae</td>\n      <td>Poales</td>\n      <td>Ananas</td>\n      <td>50</td>\n      <td>0.12</td>\n      <td>9.85</td>\n      <td>13.12</td>\n      <td>0.54</td>\n    </tr>\n    <tr>\n      <th>11</th>\n      <td>Fig</td>\n      <td>68</td>\n      <td>Moraceae</td>\n      <td>Rosales</td>\n      <td>Ficus</td>\n      <td>74</td>\n      <td>0.30</td>\n      <td>16.00</td>\n      <td>19.00</td>\n      <td>0.80</td>\n    </tr>\n    <tr>\n      <th>12</th>\n      <td>Gooseberry</td>\n      <td>69</td>\n      <td>Grossulariaceae</td>\n      <td>Saxifragales</td>\n      <td>Ribes</td>\n      <td>44</td>\n      <td>0.60</td>\n      <td>0.00</td>\n      <td>10.00</td>\n      <td>0.90</td>\n    </tr>\n    <tr>\n      <th>13</th>\n      <td>Passionfruit</td>\n      <td>70</td>\n      <td>Passifloraceae</td>\n      <td>Malpighiales</td>\n      <td>Passiflora</td>\n      <td>97</td>\n      <td>0.70</td>\n      <td>11.20</td>\n      <td>22.40</td>\n      <td>2.20</td>\n    </tr>\n    <tr>\n      <th>14</th>\n      <td>Plum</td>\n      <td>71</td>\n      <td>Rosaceae</td>\n      <td>Rosales</td>\n      <td>Prunus</td>\n      <td>46</td>\n      <td>0.28</td>\n      <td>9.92</td>\n      <td>11.40</td>\n      <td>0.70</td>\n    </tr>\n    <tr>\n      <th>15</th>\n      <td>Orange</td>\n      <td>2</td>\n      <td>Rutaceae</td>\n      <td>Sapindales</td>\n      <td>Citrus</td>\n      <td>43</td>\n      <td>0.20</td>\n      <td>8.20</td>\n      <td>8.30</td>\n      <td>1.00</td>\n    </tr>\n    <tr>\n      <th>16</th>\n      <td>GreenApple</td>\n      <td>72</td>\n      <td>Rosaceae</td>\n      <td>Rosales</td>\n      <td>Malus</td>\n      <td>21</td>\n      <td>0.10</td>\n      <td>6.40</td>\n      <td>3.10</td>\n      <td>0.40</td>\n    </tr>\n    <tr>\n      <th>17</th>\n      <td>Raspberry</td>\n      <td>23</td>\n      <td>Rosaceae</td>\n      <td>Rosales</td>\n      <td>Rubus</td>\n      <td>53</td>\n      <td>0.70</td>\n      <td>4.40</td>\n      <td>12.00</td>\n      <td>1.20</td>\n    </tr>\n    <tr>\n      <th>18</th>\n      <td>Watermelon</td>\n      <td>25</td>\n      <td>Cucurbitaceae</td>\n      <td>Cucurbitales</td>\n      <td>Citrullus</td>\n      <td>30</td>\n      <td>0.20</td>\n      <td>6.00</td>\n      <td>8.00</td>\n      <td>0.60</td>\n    </tr>\n    <tr>\n      <th>19</th>\n      <td>Lemon</td>\n      <td>26</td>\n      <td>Rutaceae</td>\n      <td>Sapindales</td>\n      <td>Citrus</td>\n      <td>29</td>\n      <td>0.30</td>\n      <td>2.50</td>\n      <td>9.00</td>\n      <td>1.10</td>\n    </tr>\n    <tr>\n      <th>20</th>\n      <td>Mango</td>\n      <td>27</td>\n      <td>Anacardiaceae</td>\n      <td>Sapindales</td>\n      <td>Mangifera</td>\n      <td>60</td>\n      <td>0.38</td>\n      <td>13.70</td>\n      <td>15.00</td>\n      <td>0.82</td>\n    </tr>\n    <tr>\n      <th>21</th>\n      <td>Blueberry</td>\n      <td>33</td>\n      <td>Rosaceae</td>\n      <td>Rosales</td>\n      <td>Fragaria</td>\n      <td>29</td>\n      <td>0.40</td>\n      <td>5.40</td>\n      <td>5.50</td>\n      <td>0.00</td>\n    </tr>\n    <tr>\n      <th>22</th>\n      <td>Apple</td>\n      <td>6</td>\n      <td>Rosaceae</td>\n      <td>Rosales</td>\n      <td>Malus</td>\n      <td>52</td>\n      <td>0.40</td>\n      <td>10.30</td>\n      <td>11.40</td>\n      <td>0.30</td>\n    </tr>\n    <tr>\n      <th>23</th>\n      <td>Guava</td>\n      <td>37</td>\n      <td>Myrtaceae</td>\n      <td>Myrtales</td>\n      <td>Psidium</td>\n      <td>68</td>\n      <td>1.00</td>\n      <td>9.00</td>\n      <td>14.00</td>\n      <td>2.60</td>\n    </tr>\n    <tr>\n      <th>24</th>\n      <td>Apricot</td>\n      <td>35</td>\n      <td>Rosaceae</td>\n      <td>Rosales</td>\n      <td>Prunus</td>\n      <td>15</td>\n      <td>0.10</td>\n      <td>3.20</td>\n      <td>3.90</td>\n      <td>0.50</td>\n    </tr>\n    <tr>\n      <th>25</th>\n      <td>Papaya</td>\n      <td>42</td>\n      <td>Caricaceae</td>\n      <td>Caricacea</td>\n      <td>Carica</td>\n      <td>43</td>\n      <td>0.40</td>\n      <td>1.00</td>\n      <td>11.00</td>\n      <td>0.00</td>\n    </tr>\n    <tr>\n      <th>26</th>\n      <td>Melon</td>\n      <td>41</td>\n      <td>Cucurbitaceae</td>\n      <td>Cucurbitaceae</td>\n      <td>Cucumis</td>\n      <td>34</td>\n      <td>0.00</td>\n      <td>8.00</td>\n      <td>8.00</td>\n      <td>0.00</td>\n    </tr>\n    <tr>\n      <th>27</th>\n      <td>Tangerine</td>\n      <td>77</td>\n      <td>Rutaceae</td>\n      <td>Sapindales</td>\n      <td>Citrus</td>\n      <td>45</td>\n      <td>0.40</td>\n      <td>9.10</td>\n      <td>8.30</td>\n      <td>0.00</td>\n    </tr>\n    <tr>\n      <th>28</th>\n      <td>Pitahaya</td>\n      <td>78</td>\n      <td>Cactaceae</td>\n      <td>Caryophyllales</td>\n      <td>Cactaceae</td>\n      <td>36</td>\n      <td>0.40</td>\n      <td>3.00</td>\n      <td>7.00</td>\n      <td>1.00</td>\n    </tr>\n    <tr>\n      <th>29</th>\n      <td>Lime</td>\n      <td>44</td>\n      <td>Rutaceae</td>\n      <td>Sapindales</td>\n      <td>Citrus</td>\n      <td>25</td>\n      <td>0.10</td>\n      <td>1.70</td>\n      <td>8.40</td>\n      <td>0.30</td>\n    </tr>\n    <tr>\n      <th>30</th>\n      <td>Pomegranate</td>\n      <td>79</td>\n      <td>Lythraceae</td>\n      <td>Myrtales</td>\n      <td>Punica</td>\n      <td>83</td>\n      <td>1.20</td>\n      <td>13.70</td>\n      <td>18.70</td>\n      <td>1.70</td>\n    </tr>\n    <tr>\n      <th>31</th>\n      <td>Dragonfruit</td>\n      <td>80</td>\n      <td>Cactaceae</td>\n      <td>Caryophyllales</td>\n      <td>Selenicereus</td>\n      <td>60</td>\n      <td>1.50</td>\n      <td>8.00</td>\n      <td>9.00</td>\n      <td>9.00</td>\n    </tr>\n    <tr>\n      <th>32</th>\n      <td>Grape</td>\n      <td>81</td>\n      <td>Vitaceae</td>\n      <td>Vitales</td>\n      <td>Vitis</td>\n      <td>69</td>\n      <td>0.16</td>\n      <td>16.00</td>\n      <td>18.10</td>\n      <td>0.72</td>\n    </tr>\n    <tr>\n      <th>33</th>\n      <td>Morus</td>\n      <td>82</td>\n      <td>Moraceae</td>\n      <td>Rosales</td>\n      <td>Morus</td>\n      <td>43</td>\n      <td>0.39</td>\n      <td>8.10</td>\n      <td>9.80</td>\n      <td>1.44</td>\n    </tr>\n    <tr>\n      <th>34</th>\n      <td>Feijoa</td>\n      <td>76</td>\n      <td>Myrtaceae</td>\n      <td>Myrtoideae</td>\n      <td>Sellowiana</td>\n      <td>44</td>\n      <td>0.40</td>\n      <td>3.00</td>\n      <td>8.00</td>\n      <td>0.60</td>\n    </tr>\n    <tr>\n      <th>35</th>\n      <td>Avocado</td>\n      <td>84</td>\n      <td>Lauraceae</td>\n      <td>Laurales</td>\n      <td>Persea</td>\n      <td>160</td>\n      <td>14.66</td>\n      <td>0.66</td>\n      <td>8.53</td>\n      <td>2.00</td>\n    </tr>\n    <tr>\n      <th>36</th>\n      <td>Kiwifruit</td>\n      <td>85</td>\n      <td>Actinidiaceae</td>\n      <td>Ericales</td>\n      <td>Actinidia</td>\n      <td>61</td>\n      <td>0.50</td>\n      <td>8.90</td>\n      <td>14.60</td>\n      <td>1.14</td>\n    </tr>\n    <tr>\n      <th>37</th>\n      <td>Cranberry</td>\n      <td>87</td>\n      <td>Ericaceae</td>\n      <td>Ericales</td>\n      <td>Vaccinium</td>\n      <td>46</td>\n      <td>0.10</td>\n      <td>4.00</td>\n      <td>12.20</td>\n      <td>0.40</td>\n    </tr>\n    <tr>\n      <th>38</th>\n      <td>Cherry</td>\n      <td>9</td>\n      <td>Rosaceae</td>\n      <td>Rosales</td>\n      <td>Prunus</td>\n      <td>50</td>\n      <td>0.30</td>\n      <td>8.00</td>\n      <td>12.00</td>\n      <td>1.00</td>\n    </tr>\n    <tr>\n      <th>39</th>\n      <td>Peach</td>\n      <td>86</td>\n      <td>Rosaceae</td>\n      <td>Rosales</td>\n      <td>Prunus</td>\n      <td>39</td>\n      <td>0.25</td>\n      <td>8.40</td>\n      <td>9.50</td>\n      <td>0.90</td>\n    </tr>\n    <tr>\n      <th>40</th>\n      <td>Jackfruit</td>\n      <td>94</td>\n      <td>Moraceae</td>\n      <td>Rosales</td>\n      <td>Artocarpus</td>\n      <td>95</td>\n      <td>0.00</td>\n      <td>19.10</td>\n      <td>23.20</td>\n      <td>1.72</td>\n    </tr>\n    <tr>\n      <th>41</th>\n      <td>Horned Melon</td>\n      <td>95</td>\n      <td>Cucurbitaceae</td>\n      <td>Cucurbitales</td>\n      <td>Cucumis</td>\n      <td>44</td>\n      <td>1.26</td>\n      <td>0.50</td>\n      <td>7.56</td>\n      <td>1.78</td>\n    </tr>\n    <tr>\n      <th>42</th>\n      <td>Hazelnut</td>\n      <td>96</td>\n      <td>Betulaceae</td>\n      <td>Fagales</td>\n      <td>Corylus</td>\n      <td>628</td>\n      <td>61.00</td>\n      <td>4.30</td>\n      <td>17.00</td>\n      <td>15.00</td>\n    </tr>\n    <tr>\n      <th>43</th>\n      <td>Pomelo</td>\n      <td>98</td>\n      <td>Rutaceae</td>\n      <td>Sapindales</td>\n      <td>Citrus</td>\n      <td>37</td>\n      <td>0.00</td>\n      <td>8.50</td>\n      <td>9.67</td>\n      <td>0.82</td>\n    </tr>\n    <tr>\n      <th>44</th>\n      <td>Mangosteen</td>\n      <td>99</td>\n      <td>Clusiaceae</td>\n      <td>Malpighiales</td>\n      <td>Garcinia</td>\n      <td>73</td>\n      <td>0.58</td>\n      <td>16.11</td>\n      <td>17.91</td>\n      <td>0.41</td>\n    </tr>\n  </tbody>\n</table>\n</div>"
     },
     "execution_count": 20,
     "metadata": {},
     "output_type": "execute_result"
    }
   ],
   "source": [
    "df2"
   ],
   "execution_count": 20
  },
  {
   "cell_type": "markdown",
   "metadata": {},
   "source": [
    "Let's see if we can extract some information from this dataframe. Perhaps, we need to know the family and genus of a cherry.\n"
   ]
  },
  {
   "cell_type": "code",
   "metadata": {
    "ExecuteTime": {
     "end_time": "2023-11-14T11:27:24.031638300Z",
     "start_time": "2023-11-14T11:27:24.010257Z"
    }
   },
   "outputs": [
    {
     "data": {
      "text/plain": "('Rosaceae', 'Prunus')"
     },
     "execution_count": 22,
     "metadata": {},
     "output_type": "execute_result"
    }
   ],
   "source": [
    "cherry = df2.loc[df2[\"name\"] == 'Cherry']\n",
    "(cherry.iloc[0]['family']) , (cherry.iloc[0]['genus'])"
   ],
   "execution_count": 22
  },
  {
   "cell_type": "markdown",
   "metadata": {},
   "source": [
    "## Exercise 2\n",
    "In this Exercise, find out how many calories are contained in a banana.\n"
   ]
  },
  {
   "cell_type": "code",
   "metadata": {
    "ExecuteTime": {
     "end_time": "2023-11-14T11:28:03.345970900Z",
     "start_time": "2023-11-14T11:28:03.336703100Z"
    }
   },
   "outputs": [
    {
     "data": {
      "text/plain": "96"
     },
     "execution_count": 23,
     "metadata": {},
     "output_type": "execute_result"
    }
   ],
   "source": [
    "# Write your code here\n",
    "condition = df2[\"name\"] == 'Banana'\n",
    "banana_cal = df2.loc[condition]\n",
    "banana_cal.iloc[0][\"nutritions.calories\"]"
   ],
   "execution_count": 23
  },
  {
   "cell_type": "markdown",
   "metadata": {},
   "source": [
    "## Exercise 3\n",
    "\n",
    "This [page](https://mixedanalytics.com/blog/list-actually-free-open-no-auth-needed-apis/) contains a list of free public APIs for you to practice. Let us deal with the following example.\n",
    "\n",
    "#### Official Joke API \n",
    "This API returns random jokes from a database. The following URL can be used to retrieve 10 random jokes.\n",
    "\n",
    "https://official-joke-api.appspot.com/jokes/ten\n",
    "\n",
    "1. Using `requests.get(\"url\")` function, load the data from the URL.\n"
   ]
  },
  {
   "cell_type": "code",
   "metadata": {
    "ExecuteTime": {
     "end_time": "2023-11-14T11:28:14.014379700Z",
     "start_time": "2023-11-14T11:28:12.879736100Z"
    }
   },
   "outputs": [],
   "source": [
    "# Write your code here\n",
    "data = requests.get(\"https://official-joke-api.appspot.com/jokes/ten\")"
   ],
   "execution_count": 24
  },
  {
   "cell_type": "markdown",
   "metadata": {},
   "source": [
    "2. Retrieve results using `json.loads()` function.\n"
   ]
  },
  {
   "cell_type": "code",
   "metadata": {
    "ExecuteTime": {
     "end_time": "2023-11-14T11:28:17.782025300Z",
     "start_time": "2023-11-14T11:28:17.756780200Z"
    }
   },
   "outputs": [
    {
     "data": {
      "text/plain": "[{'type': 'general',\n  'setup': 'What does an angry pepper do?',\n  'punchline': 'It gets jalapeño face.',\n  'id': 240},\n {'type': 'general',\n  'setup': 'Where’s the bin?',\n  'punchline': 'I haven’t been anywhere!',\n  'id': 299},\n {'type': 'general',\n  'setup': \"Why couldn't the lifeguard save the hippie?\",\n  'punchline': 'He was too far out, man.',\n  'id': 316},\n {'type': 'general',\n  'setup': \"Why can't a bicycle stand on its own?\",\n  'punchline': \"It's two-tired.\",\n  'id': 311},\n {'type': 'general',\n  'setup': 'Why did the Clydesdale give the pony a glass of water?',\n  'punchline': 'Because he was a little horse',\n  'id': 44},\n {'type': 'general',\n  'setup': 'Dad, can you put my shoes on?',\n  'punchline': \"I don't think they'll fit me.\",\n  'id': 84},\n {'type': 'general',\n  'setup': 'What is this movie about?',\n  'punchline': 'It is about 2 hours long.',\n  'id': 254},\n {'type': 'general',\n  'setup': 'Why did the half blind man fall in the well?',\n  'punchline': \"Because he couldn't see that well!\",\n  'id': 331},\n {'type': 'general',\n  'setup': 'What do you get when you cross a bee and a sheep?',\n  'punchline': 'A bah-humbug.',\n  'id': 232},\n {'type': 'general',\n  'setup': 'What did the Dorito farmer say to the other Dorito farmer?',\n  'punchline': 'Cool Ranch!',\n  'id': 173}]"
     },
     "execution_count": 25,
     "metadata": {},
     "output_type": "execute_result"
    }
   ],
   "source": [
    "# Write your code here\n",
    "results = json.loads(data.text)\n",
    "results"
   ],
   "execution_count": 25
  },
  {
   "cell_type": "markdown",
   "metadata": {},
   "source": [
    "3. Convert json data into *pandas* data frame. Drop the type and id columns.\n"
   ]
  },
  {
   "cell_type": "code",
   "metadata": {
    "ExecuteTime": {
     "end_time": "2023-11-14T11:28:23.806056600Z",
     "start_time": "2023-11-14T11:28:23.788763400Z"
    }
   },
   "outputs": [
    {
     "data": {
      "text/plain": "                                               setup  \\\n0                      What does an angry pepper do?   \n1                                   Where’s the bin?   \n2        Why couldn't the lifeguard save the hippie?   \n3              Why can't a bicycle stand on its own?   \n4  Why did the Clydesdale give the pony a glass o...   \n5                      Dad, can you put my shoes on?   \n6                          What is this movie about?   \n7       Why did the half blind man fall in the well?   \n8  What do you get when you cross a bee and a sheep?   \n9  What did the Dorito farmer say to the other Do...   \n\n                            punchline  \n0              It gets jalapeño face.  \n1            I haven’t been anywhere!  \n2            He was too far out, man.  \n3                     It's two-tired.  \n4       Because he was a little horse  \n5       I don't think they'll fit me.  \n6           It is about 2 hours long.  \n7  Because he couldn't see that well!  \n8                       A bah-humbug.  \n9                         Cool Ranch!  ",
      "text/html": "<div>\n<style scoped>\n    .dataframe tbody tr th:only-of-type {\n        vertical-align: middle;\n    }\n\n    .dataframe tbody tr th {\n        vertical-align: top;\n    }\n\n    .dataframe thead th {\n        text-align: right;\n    }\n</style>\n<table border=\"1\" class=\"dataframe\">\n  <thead>\n    <tr style=\"text-align: right;\">\n      <th></th>\n      <th>setup</th>\n      <th>punchline</th>\n    </tr>\n  </thead>\n  <tbody>\n    <tr>\n      <th>0</th>\n      <td>What does an angry pepper do?</td>\n      <td>It gets jalapeño face.</td>\n    </tr>\n    <tr>\n      <th>1</th>\n      <td>Where’s the bin?</td>\n      <td>I haven’t been anywhere!</td>\n    </tr>\n    <tr>\n      <th>2</th>\n      <td>Why couldn't the lifeguard save the hippie?</td>\n      <td>He was too far out, man.</td>\n    </tr>\n    <tr>\n      <th>3</th>\n      <td>Why can't a bicycle stand on its own?</td>\n      <td>It's two-tired.</td>\n    </tr>\n    <tr>\n      <th>4</th>\n      <td>Why did the Clydesdale give the pony a glass o...</td>\n      <td>Because he was a little horse</td>\n    </tr>\n    <tr>\n      <th>5</th>\n      <td>Dad, can you put my shoes on?</td>\n      <td>I don't think they'll fit me.</td>\n    </tr>\n    <tr>\n      <th>6</th>\n      <td>What is this movie about?</td>\n      <td>It is about 2 hours long.</td>\n    </tr>\n    <tr>\n      <th>7</th>\n      <td>Why did the half blind man fall in the well?</td>\n      <td>Because he couldn't see that well!</td>\n    </tr>\n    <tr>\n      <th>8</th>\n      <td>What do you get when you cross a bee and a sheep?</td>\n      <td>A bah-humbug.</td>\n    </tr>\n    <tr>\n      <th>9</th>\n      <td>What did the Dorito farmer say to the other Do...</td>\n      <td>Cool Ranch!</td>\n    </tr>\n  </tbody>\n</table>\n</div>"
     },
     "execution_count": 26,
     "metadata": {},
     "output_type": "execute_result"
    }
   ],
   "source": [
    "# Write your code here\n",
    "joker_df = pd.DataFrame(results)\n",
    "joker_df.drop(columns=[\"type\", \"id\"], inplace=True)\n",
    "joker_df"
   ],
   "execution_count": 26
  },
  {
   "cell_type": "markdown",
   "metadata": {},
   "source": [
    "# Congratulations! - You have completed the lab\n"
   ]
  },
  {
   "cell_type": "markdown",
   "metadata": {},
   "source": [
    "## Author\n",
    "<a href=\"https://www.linkedin.com/in/svitlana-kramar\" target=\"_blank\">Svitlana Kramar</a>\n",
    "\n",
    "Svitlana is a master’s degree Data Science and Analytics student at University of Calgary, who enjoys travelling, learning new languages and cultures and loves spreading her passion for Data Science.\n",
    "\n",
    "## Additional Contributor\n",
    "<a href=\"https://www.linkedin.com/in/abhishek-gagneja-23051987/\" target=\"_blank\">Abhishek Gagneja</a>\n"
   ]
  },
  {
   "cell_type": "markdown",
   "metadata": {},
   "source": [
    "Copyright © 2023 IBM Corporation. All rights reserved.\n"
   ]
  }
 ],
 "metadata": {
  "kernelspec": {
   "name": "python3",
   "language": "python",
   "display_name": "Python 3 (ipykernel)"
  },
  "language_info": {
   "name": ""
  }
 },
 "nbformat": 4,
 "nbformat_minor": 4
}
