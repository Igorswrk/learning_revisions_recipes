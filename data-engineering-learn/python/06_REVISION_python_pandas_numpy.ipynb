{
 "cells": [
  {
   "cell_type": "markdown",
   "source": [
    "## Pandas"
   ],
   "metadata": {
    "collapsed": false
   },
   "id": "e486f8c9b248c967"
  },
  {
   "cell_type": "markdown",
   "source": [
    "Importing"
   ],
   "metadata": {
    "collapsed": false
   },
   "id": "b5b2dbbc5a8c6f80"
  },
  {
   "cell_type": "code",
   "execution_count": 7,
   "outputs": [],
   "source": [
    "import pandas as pd"
   ],
   "metadata": {
    "collapsed": false,
    "ExecuteTime": {
     "end_time": "2023-11-07T21:29:43.733464200Z",
     "start_time": "2023-11-07T21:29:43.721733Z"
    }
   },
   "id": "2a69ed53f2a67409"
  },
  {
   "cell_type": "code",
   "execution_count": null,
   "id": "initial_id",
   "metadata": {
    "collapsed": true
   },
   "outputs": [],
   "source": [
    "csv_path = 'file.csv'\n",
    "df = pd.read_csv(csv_path)"
   ]
  },
  {
   "cell_type": "markdown",
   "source": [],
   "metadata": {
    "collapsed": false
   },
   "id": "f3501501d229aa91"
  },
  {
   "cell_type": "code",
   "execution_count": null,
   "outputs": [],
   "source": [
    "df.head() # to examine the first five rows of a data frame"
   ],
   "metadata": {
    "collapsed": false
   },
   "id": "f413254a0757c25"
  },
  {
   "cell_type": "markdown",
   "source": [
    "É possivel converter um dictionary para um DataFrame, com as chaves sendo as colunas, e uma lista de valores as linhas."
   ],
   "metadata": {
    "collapsed": false
   },
   "id": "756546a6dc833d80"
  },
  {
   "cell_type": "markdown",
   "source": [
    "### Creating DataFrames from Dictionaries"
   ],
   "metadata": {
    "collapsed": false
   },
   "id": "d8d3e3f9b8da63ac"
  },
  {
   "cell_type": "code",
   "execution_count": 6,
   "outputs": [
    {
     "name": "stdout",
     "output_type": "stream",
     "text": [
      "      Name  Age           City\n",
      "0    Alice   25       New York\n",
      "1      Bob   30  San Francisco\n",
      "2  Charlie   35    Los Angeles\n",
      "3    David   28        Chicago\n"
     ]
    }
   ],
   "source": [
    "# Creating a DataFrame from a dictionary\n",
    "data = {'Name': ['Alice', 'Bob', 'Charlie', 'David'],\n",
    "        'Age': [25, 30, 35, 28],\n",
    "        'City': ['New York', 'San Francisco', 'Los Angeles', 'Chicago']}\n",
    "\n",
    "df = pd.DataFrame(data)\n",
    "\n",
    "print(df)"
   ],
   "metadata": {
    "collapsed": false,
    "ExecuteTime": {
     "end_time": "2023-11-07T21:29:29.313794200Z",
     "start_time": "2023-11-07T21:29:29.218588100Z"
    }
   },
   "id": "255c4d3d5a70e441"
  },
  {
   "cell_type": "markdown",
   "source": [],
   "metadata": {
    "collapsed": false
   },
   "id": "3c5e302b592c3491"
  },
  {
   "cell_type": "markdown",
   "source": [
    "#### Column Selection"
   ],
   "metadata": {
    "collapsed": false
   },
   "id": "686b1ef7306b42fd"
  },
  {
   "cell_type": "code",
   "execution_count": 8,
   "outputs": [
    {
     "name": "stdout",
     "output_type": "stream",
     "text": [
      "0      Alice\n",
      "1        Bob\n",
      "2    Charlie\n",
      "3      David\n",
      "Name: Name, dtype: object\n"
     ]
    }
   ],
   "source": [
    "print(df['Name'])  # Access the 'Name' column"
   ],
   "metadata": {
    "collapsed": false,
    "ExecuteTime": {
     "end_time": "2023-11-07T21:30:51.048679200Z",
     "start_time": "2023-11-07T21:30:51.043710300Z"
    }
   },
   "id": "3e26fef422ab8e57"
  },
  {
   "cell_type": "markdown",
   "source": [
    "#### Accessing Rows\n"
   ],
   "metadata": {
    "collapsed": false
   },
   "id": "9548cb9e54ea2854"
  },
  {
   "cell_type": "code",
   "execution_count": 10,
   "outputs": [
    {
     "name": "stdout",
     "output_type": "stream",
     "text": [
      "Name        Charlie\n",
      "Age              35\n",
      "City    Los Angeles\n",
      "Name: 2, dtype: object\n"
     ]
    }
   ],
   "source": [
    "print(df.iloc[2])   # Access the third row by position"
   ],
   "metadata": {
    "collapsed": false,
    "ExecuteTime": {
     "end_time": "2023-11-07T21:32:41.970668100Z",
     "start_time": "2023-11-07T21:32:41.957522500Z"
    }
   },
   "id": "cc352876befa9037"
  },
  {
   "cell_type": "code",
   "execution_count": 11,
   "outputs": [
    {
     "name": "stdout",
     "output_type": "stream",
     "text": [
      "Name              Bob\n",
      "Age                30\n",
      "City    San Francisco\n",
      "Name: 1, dtype: object\n"
     ]
    }
   ],
   "source": [
    "print(df.loc[1])    # Access the second row by label"
   ],
   "metadata": {
    "collapsed": false,
    "ExecuteTime": {
     "end_time": "2023-11-07T21:32:47.258425800Z",
     "start_time": "2023-11-07T21:32:47.246340800Z"
    }
   },
   "id": "6282992e2333856d"
  },
  {
   "cell_type": "markdown",
   "source": [
    "#### Slicing"
   ],
   "metadata": {
    "collapsed": false
   },
   "id": "ad23e4dbf779d9d2"
  },
  {
   "cell_type": "code",
   "execution_count": 12,
   "outputs": [
    {
     "name": "stdout",
     "output_type": "stream",
     "text": [
      "      Name  Age\n",
      "0    Alice   25\n",
      "1      Bob   30\n",
      "2  Charlie   35\n",
      "3    David   28\n"
     ]
    }
   ],
   "source": [
    "print(df[['Name', 'Age']])  # Select specific columns"
   ],
   "metadata": {
    "collapsed": false,
    "ExecuteTime": {
     "end_time": "2023-11-07T21:33:55.676197300Z",
     "start_time": "2023-11-07T21:33:55.662867Z"
    }
   },
   "id": "f30094ee73040d35"
  },
  {
   "cell_type": "code",
   "execution_count": 13,
   "outputs": [
    {
     "name": "stdout",
     "output_type": "stream",
     "text": [
      "      Name  Age           City\n",
      "1      Bob   30  San Francisco\n",
      "2  Charlie   35    Los Angeles\n"
     ]
    }
   ],
   "source": [
    "print(df[1:3])             # Select specific rows"
   ],
   "metadata": {
    "collapsed": false,
    "ExecuteTime": {
     "end_time": "2023-11-07T21:34:03.959477600Z",
     "start_time": "2023-11-07T21:34:03.945453Z"
    }
   },
   "id": "80bea4c1c0e585aa"
  },
  {
   "cell_type": "markdown",
   "source": [
    "#### Finding Unique Elements"
   ],
   "metadata": {
    "collapsed": false
   },
   "id": "54cf10fdbc3cc238"
  },
  {
   "cell_type": "code",
   "execution_count": 15,
   "outputs": [
    {
     "data": {
      "text/plain": "array([25, 30, 35, 28], dtype=int64)"
     },
     "execution_count": 15,
     "metadata": {},
     "output_type": "execute_result"
    }
   ],
   "source": [
    "unique_dates = df['Age'].unique()\n",
    "unique_dates"
   ],
   "metadata": {
    "collapsed": false,
    "ExecuteTime": {
     "end_time": "2023-11-07T21:34:48.871298900Z",
     "start_time": "2023-11-07T21:34:48.848238700Z"
    }
   },
   "id": "a2eec8cbb9726946"
  },
  {
   "cell_type": "markdown",
   "source": [
    "#### Conditional Filtering"
   ],
   "metadata": {
    "collapsed": false
   },
   "id": "6ecbe4d28e740428"
  },
  {
   "cell_type": "code",
   "execution_count": 17,
   "outputs": [
    {
     "data": {
      "text/plain": "      Name  Age           City\n1      Bob   30  San Francisco\n2  Charlie   35    Los Angeles\n3    David   28        Chicago",
      "text/html": "<div>\n<style scoped>\n    .dataframe tbody tr th:only-of-type {\n        vertical-align: middle;\n    }\n\n    .dataframe tbody tr th {\n        vertical-align: top;\n    }\n\n    .dataframe thead th {\n        text-align: right;\n    }\n</style>\n<table border=\"1\" class=\"dataframe\">\n  <thead>\n    <tr style=\"text-align: right;\">\n      <th></th>\n      <th>Name</th>\n      <th>Age</th>\n      <th>City</th>\n    </tr>\n  </thead>\n  <tbody>\n    <tr>\n      <th>1</th>\n      <td>Bob</td>\n      <td>30</td>\n      <td>San Francisco</td>\n    </tr>\n    <tr>\n      <th>2</th>\n      <td>Charlie</td>\n      <td>35</td>\n      <td>Los Angeles</td>\n    </tr>\n    <tr>\n      <th>3</th>\n      <td>David</td>\n      <td>28</td>\n      <td>Chicago</td>\n    </tr>\n  </tbody>\n</table>\n</div>"
     },
     "execution_count": 17,
     "metadata": {},
     "output_type": "execute_result"
    }
   ],
   "source": [
    "high_above_102 = df[df['Age'] > 25]\n",
    "high_above_102"
   ],
   "metadata": {
    "collapsed": false,
    "ExecuteTime": {
     "end_time": "2023-11-07T21:35:23.061442600Z",
     "start_time": "2023-11-07T21:35:23.042114300Z"
    }
   },
   "id": "88e6934444a4ae6"
  },
  {
   "cell_type": "markdown",
   "source": [
    "#### Saving DataFrames"
   ],
   "metadata": {
    "collapsed": false
   },
   "id": "798421b8f2f67637"
  },
  {
   "cell_type": "code",
   "execution_count": null,
   "outputs": [],
   "source": [
    "df.to_csv('trading_data.csv', index=False)"
   ],
   "metadata": {
    "collapsed": false
   },
   "id": "92f749d9daa11b9c"
  },
  {
   "cell_type": "markdown",
   "source": [
    "### What is a Series?\n",
    "\n",
    "A Series is a one-dimensional labeled array in Pandas. It can be thought of as a single column of data with labels or indices for each element. You can create a Series from various data sources, such as lists, NumPy arrays, or dictionaries.\n",
    "Here's a basic example of creating a Series in Pandas:"
   ],
   "metadata": {
    "collapsed": false
   },
   "id": "c16f119af55138ee"
  },
  {
   "cell_type": "code",
   "execution_count": 2,
   "outputs": [
    {
     "name": "stdout",
     "output_type": "stream",
     "text": [
      "0    10\n",
      "1    20\n",
      "2    30\n",
      "3    40\n",
      "4    50\n",
      "dtype: int64\n"
     ]
    }
   ],
   "source": [
    "# Create a Series from a list\n",
    "data = [10, 20, 30, 40, 50]\n",
    "s = pd.Series(data)\n",
    "print(s)"
   ],
   "metadata": {
    "collapsed": false,
    "ExecuteTime": {
     "end_time": "2023-11-07T21:25:47.449151800Z",
     "start_time": "2023-11-07T21:25:45.562405800Z"
    }
   },
   "id": "4dcebe9534851cc1"
  },
  {
   "cell_type": "markdown",
   "source": [
    "### Accessing Elements in a Series"
   ],
   "metadata": {
    "collapsed": false
   },
   "id": "af70d24369b75842"
  },
  {
   "cell_type": "markdown",
   "source": [
    "#### Acessing by label"
   ],
   "metadata": {
    "collapsed": false
   },
   "id": "7cd1e2f759ac5c9"
  },
  {
   "cell_type": "code",
   "execution_count": 3,
   "outputs": [
    {
     "name": "stdout",
     "output_type": "stream",
     "text": [
      "30\n"
     ]
    }
   ],
   "source": [
    "print(s[2])     # Access the element with label 2 (value 30)"
   ],
   "metadata": {
    "collapsed": false,
    "ExecuteTime": {
     "end_time": "2023-11-07T21:26:24.549412900Z",
     "start_time": "2023-11-07T21:26:24.541680400Z"
    }
   },
   "id": "400f897730d71419"
  },
  {
   "cell_type": "markdown",
   "source": [
    "#### Accessing by position"
   ],
   "metadata": {
    "collapsed": false
   },
   "id": "db29a998c454ae60"
  },
  {
   "cell_type": "code",
   "execution_count": 4,
   "outputs": [
    {
     "name": "stdout",
     "output_type": "stream",
     "text": [
      "40\n"
     ]
    }
   ],
   "source": [
    "print(s.iloc[3]) # Access the element at position 3 (value 40)"
   ],
   "metadata": {
    "collapsed": false,
    "ExecuteTime": {
     "end_time": "2023-11-07T21:26:41.818395200Z",
     "start_time": "2023-11-07T21:26:41.809860300Z"
    }
   },
   "id": "9481e1885ce67cd4"
  },
  {
   "cell_type": "markdown",
   "source": [
    "#### Accessing multiple elements\n"
   ],
   "metadata": {
    "collapsed": false
   },
   "id": "135a7439d75972be"
  },
  {
   "cell_type": "code",
   "execution_count": 5,
   "outputs": [
    {
     "name": "stdout",
     "output_type": "stream",
     "text": [
      "1    20\n",
      "2    30\n",
      "3    40\n",
      "dtype: int64\n"
     ]
    }
   ],
   "source": [
    "print(s[1:4])   # Access a range of elements by label"
   ],
   "metadata": {
    "collapsed": false,
    "ExecuteTime": {
     "end_time": "2023-11-07T21:28:35.822452600Z",
     "start_time": "2023-11-07T21:28:35.813485700Z"
    }
   },
   "id": "fe673d725faf82d1"
  },
  {
   "cell_type": "markdown",
   "source": [
    "#### DataFrame Attributes and Methods\n"
   ],
   "metadata": {
    "collapsed": false
   },
   "id": "1ad8137af5f65079"
  },
  {
   "cell_type": "markdown",
   "source": [
    "```md\n",
    "DataFrame Attributes and Methods\n",
    "DataFrames provide numerous attributes and methods for data manipulation and analysis, including:\n",
    "\n",
    "shape: Returns the dimensions (number of rows and columns) of the DataFrame.\n",
    "info(): Provides a summary of the DataFrame, including data types and non-null counts.\n",
    "describe(): Generates summary statistics for numerical columns.\n",
    "head(), tail(): Displays the first or last n rows of the DataFrame.\n",
    "mean(), sum(), min(), max(): Calculate summary statistics for columns.\n",
    "sort_values(): Sort the DataFrame by one or more columns.\n",
    "groupby(): Group data based on specific columns for aggregation.\n",
    "fillna(), drop(), rename(): Handle missing values, drop columns, or rename columns.\n",
    "apply(): Apply a function to each element, row, or column of the DataFrame\n",
    "```"
   ],
   "metadata": {
    "collapsed": false
   },
   "id": "85c93ae2ec9fabf1"
  },
  {
   "cell_type": "code",
   "execution_count": null,
   "outputs": [],
   "source": [],
   "metadata": {
    "collapsed": false
   },
   "id": "90539a0e6b2562a2"
  }
 ],
 "metadata": {
  "kernelspec": {
   "display_name": "Python 3",
   "language": "python",
   "name": "python3"
  },
  "language_info": {
   "codemirror_mode": {
    "name": "ipython",
    "version": 2
   },
   "file_extension": ".py",
   "mimetype": "text/x-python",
   "name": "python",
   "nbconvert_exporter": "python",
   "pygments_lexer": "ipython2",
   "version": "2.7.6"
  }
 },
 "nbformat": 4,
 "nbformat_minor": 5
}
