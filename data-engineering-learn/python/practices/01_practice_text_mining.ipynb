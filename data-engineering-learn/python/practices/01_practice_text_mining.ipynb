{
 "cells": [
  {
   "cell_type": "markdown",
   "metadata": {},
   "source": [
    "<p style=\"text-align:center\">\n",
    "    <a href=\"https://skills.network\" target=\"_blank\">\n",
    "    <img src=\"https://cf-courses-data.s3.us.cloud-object-storage.appdomain.cloud/assets/logos/SN_web_lightmode.png\" width=\"200\" alt=\"Skills Network Logo\">\n",
    "    </a>\n",
    "</p>\n"
   ]
  },
  {
   "cell_type": "markdown",
   "metadata": {},
   "source": [
    "<center>\n",
    "\n",
    "# Practice lab\n",
    "\n",
    "</center>\n"
   ]
  },
  {
   "cell_type": "markdown",
   "metadata": {},
   "source": [
    "<center>\n",
    "    \n",
    "# **Scenario: Text Analysis**\n",
    "\n",
    "</center>\n"
   ]
  },
  {
   "cell_type": "markdown",
   "metadata": {},
   "source": [
    "Estimated time needed: **45** minutes\n"
   ]
  },
  {
   "cell_type": "markdown",
   "metadata": {},
   "source": [
    "# What is Text analysis?\n",
    "Text analysis, also known as text mining or text analytics, refers to the process of extracting meaningful information and insights from textual data.\n"
   ]
  },
  {
   "cell_type": "markdown",
   "metadata": {},
   "source": [
    "## Objectives\n",
    " \n",
    "After completing this lab, you will be able to use Python commands to perform text analysis. This includes converting the text to lowercase and then finding and counting the frequency of all unique words, as well as a specified word.\n"
   ]
  },
  {
   "cell_type": "markdown",
   "metadata": {},
   "source": [
    "## Setup\n"
   ]
  },
  {
   "cell_type": "markdown",
   "metadata": {},
   "source": [
    "For this lab, we will be using the following data types:\n",
    "* List\n",
    "* Strings\n",
    "* Classes and objects\n"
   ]
  },
  {
   "cell_type": "markdown",
   "metadata": {},
   "source": [
    "### Let's consider a real-life scenario where you are analyzing customer feedback for a product. You have a large dataset of customer reviews in the form of strings, and you want to extract useful information from them using the three identified tasks:\n",
    "\n",
    "**Task 1. String in lower case:**\n",
    "You want to Pre-process the customer feedback by converting all the text to lowercase. This step helps standardize the text. Lower casing the text allows you to focus on the content rather than the specific letter casing.\n",
    "\n",
    "**Task 2. Frequency of all words in a given string:**\n",
    "After converting the text to lowercase, you want to determine the frequency of each word in the customer feedback. This information will help you identify which words are used more frequently, indicating the key aspects or topics that customers are mentioning in their reviews. By analyzing the word frequencies, you can gain insights into the most common issues raised by customers.\n",
    "\n",
    "**Task 3. Frequency of a specific word:**\n",
    "In addition to analyzing the overall word frequencies, you want to specifically track the frequency of a particular word that is relevant to your analysis. For example, you might be interested in monitoring how often the word \"reliable\" appears in the customer reviews to gauge customer sentiment about the product's reliability. By focusing on the frequency of a specific word, you can gain a deeper understanding of customer opinions or preferences related to that particular aspect.\n",
    "\n",
    "By performing these tasks on the customer feedback dataset, you can gain valuable insights into customer sentiment\n"
   ]
  },
  {
   "cell_type": "markdown",
   "source": [
    "----\n"
   ],
   "metadata": {
    "collapsed": false
   }
  },
  {
   "cell_type": "markdown",
   "metadata": {},
   "source": [
    "<center>\n",
    "    \n",
    "# Part-A\n"
   ]
  },
  {
   "cell_type": "markdown",
   "metadata": {},
   "source": [
    "<center>\n",
    "    \n",
    "**Note:- In Part-A, you won't be getting any output as we are just storing the string and creating a class.**\n",
    "    </center>\n",
    "    \n"
   ]
  },
  {
   "cell_type": "markdown",
   "metadata": {},
   "source": [
    "## Step-1 Define a string. \n",
    "\"Lorem ipsum dolor! diam amet, consetetur Lorem magna. sed diam nonumy eirmod tempor. diam et labore? et diam magna. et diam amet.\" <br>\n",
    "**Hint:- Use a variable and store the above string.**\n"
   ]
  },
  {
   "cell_type": "code",
   "metadata": {
    "ExecuteTime": {
     "end_time": "2023-11-03T03:23:11.979618600Z",
     "start_time": "2023-11-03T03:23:11.974108600Z"
    }
   },
   "outputs": [],
   "source": [
    "#Press Shift+Enter to run the code\n",
    "givenstring=\"Lorem ipsum dolor! diam amet, consetetur Lorem magna. sed diam nonumy eirmod tempor. diam et labore? et diam magna. et diam amet.\""
   ],
   "execution_count": 2
  },
  {
   "cell_type": "markdown",
   "metadata": {},
   "source": [
    "### For achieving the tasks mentioned in the scenario, We need to create a class with 3 different methods.\n"
   ]
  },
  {
   "cell_type": "markdown",
   "metadata": {},
   "source": [
    "## Step-2 Define the class and its attributes:\n"
   ]
  },
  {
   "cell_type": "markdown",
   "metadata": {},
   "source": [
    "1. Create a class named TextAnalyzer.\n",
    "2. Define the constructor `__init__` method that takes a text argument.\n"
   ]
  },
  {
   "cell_type": "code",
   "metadata": {
    "ExecuteTime": {
     "end_time": "2023-11-03T03:37:10.685172200Z",
     "start_time": "2023-11-03T03:37:10.680158400Z"
    }
   },
   "outputs": [],
   "source": [
    "class TextAnalyzer(): # 1\n",
    "    \n",
    "    def __init__(self, text): # 2\n",
    "        pass"
   ],
   "execution_count": 9
  },
  {
   "cell_type": "markdown",
   "metadata": {},
   "source": [
    "----\n"
   ]
  },
  {
   "cell_type": "markdown",
   "metadata": {},
   "source": [
    "## Step-3 Implement a code to Format the text in Lowercase:\n"
   ]
  },
  {
   "cell_type": "markdown",
   "metadata": {},
   "source": [
    "1. Inside the constructor,we will convert the text argument to lowercase using the `lower()` method.\n",
    "2. Then, will Remove punctuation marks (periods, exclamation marks, commas, and question marks) from the text using the `replace()` method.\n",
    "3. At last, we will Assign the formatted text to a new attribute called fmtText."
   ]
  },
  {
   "cell_type": "code",
   "metadata": {
    "ExecuteTime": {
     "end_time": "2023-11-03T03:40:30.499776500Z",
     "start_time": "2023-11-03T03:40:30.458311700Z"
    }
   },
   "outputs": [],
   "source": [
    "class TextAnalyzer():\n",
    "    \n",
    "    def __init__(self, text):\n",
    "        lowercase_text = text.lower() # 1\n",
    "        \n",
    "        text = lowercase_text.replace(\"?\",\" \").replace(\"!\",\" \").replace(\",\",\" \").replace(\".\",\" \") # 2\n",
    "        \n",
    "        fmtText = text # 3"
   ],
   "execution_count": 10
  },
  {
   "cell_type": "markdown",
   "metadata": {},
   "source": [
    "----\n"
   ]
  },
  {
   "cell_type": "markdown",
   "metadata": {},
   "source": [
    "## Step-4 Implement a code to count the Frequency of all unique words:\n"
   ]
  },
  {
   "cell_type": "markdown",
   "metadata": {},
   "source": [
    "* In this step, we will Implement the `freqAll()` method with the below parameters:\n",
    "     1. Split the fmtText attribute into individual words using the `split()` method.\n",
    "     2. Create an empty dictionary to store the word frequency.\n",
    "     3. Iterate over the list of words and update the frequency dictionary accordingly.\n",
    "     4. Use `count` method for counting the occurence\n",
    "     5. Return the frequency dictionary.\n",
    "     \n",
    "**Update the above `TextAnalyzer` class with points mentioned above.**\n"
   ]
  },
  {
   "cell_type": "code",
   "metadata": {
    "ExecuteTime": {
     "end_time": "2023-11-03T03:54:45.668476500Z",
     "start_time": "2023-11-03T03:54:45.645852200Z"
    }
   },
   "outputs": [],
   "source": [
    "class TextAnalyzer():\n",
    "\n",
    "    def __init__(self, text):\n",
    "        lowercase_text = text.lower() \n",
    "\n",
    "        text = lowercase_text.replace(\"?\",\" \").replace(\"!\",\" \").replace(\",\",\" \").replace(\".\",\" \") \n",
    "\n",
    "        self.fmtText = text\n",
    "        self.words = []\n",
    "        self.dict_words = {}\n",
    "        \n",
    "    def freqAll(self):\n",
    "        self.words = self.fmtText.split(\" \")\n",
    "        \n",
    "        for word in words:\n",
    "            self.dict_words.update({f\"{word}\": int(words.count(word))})\n",
    "        "
   ],
   "execution_count": 11
  },
  {
   "cell_type": "markdown",
   "metadata": {},
   "source": [
    "----\n"
   ]
  },
  {
   "cell_type": "markdown",
   "metadata": {},
   "source": [
    "## Step-5 Implement a code to count the Frequency of a specific word:\n"
   ]
  },
  {
   "cell_type": "markdown",
   "metadata": {},
   "source": [
    "*In step-5, we have to Implement the `freqOf(word)` method that takes a word argument:\n",
    "   1. Create method and pass the word that need to be found\n",
    "   2. Get the `freqAll` method for look for count and check if that word is in the list.\n",
    "   3. Return the count.\n",
    "   \n",
    "**Update the above `TextAnalyzer` class with points mentioned above.**\n"
   ]
  },
  {
   "cell_type": "code",
   "metadata": {
    "ExecuteTime": {
     "end_time": "2023-11-03T04:18:02.136296700Z",
     "start_time": "2023-11-03T04:18:02.129826900Z"
    }
   },
   "outputs": [],
   "source": [
    "class TextAnalyzer(object):\n",
    "\n",
    "    def __init__(self, text):\n",
    "        lowercase_text = text.lower()\n",
    "\n",
    "        text = lowercase_text.replace(\"?\",\" \").replace(\"!\",\" \").replace(\",\",\" \").replace(\".\",\" \").replace(\"  \", \" \")\n",
    "\n",
    "        self.fmtText = text\n",
    "        self.dict_words = {}\n",
    "        \n",
    "    def freqAll(self):\n",
    "        words = self.fmtText.split(\" \")\n",
    "\n",
    "        for word in set(words):\n",
    "            self.dict_words.update({f\"{word}\": int(words.count(word))})\n",
    "        \n",
    "    def freqOf(self, word):\n",
    "        if (word in self.dict_words):\n",
    "            return self.dict_words[word]\n",
    "        else:\n",
    "            print(\"word isn't into dict\")\n",
    "            \n",
    "            "
   ],
   "execution_count": 98
  },
  {
   "cell_type": "markdown",
   "metadata": {},
   "source": [
    "### Now, We have successfully created a class with 3 methods\n"
   ]
  },
  {
   "cell_type": "markdown",
   "metadata": {},
   "source": [
    "<center>\n",
    "    \n",
    "# Part-B \n",
    "  \n"
   ]
  },
  {
   "cell_type": "markdown",
   "metadata": {},
   "source": [
    "<center>\n",
    "    \n",
    "**In Part B, we will be calling the functions created in Part A, allowing the functions to execute and generate output.**\n",
    "    </center>\n"
   ]
  },
  {
   "cell_type": "markdown",
   "metadata": {},
   "source": [
    "## Step-1 Create an instance of TextAnalyzer Class.\n",
    "* Instantiate the TextAnalyzer class by passing the given string as an argument.\n"
   ]
  },
  {
   "cell_type": "code",
   "metadata": {
    "ExecuteTime": {
     "end_time": "2023-11-03T04:18:03.387449900Z",
     "start_time": "2023-11-03T04:18:03.380049500Z"
    }
   },
   "outputs": [],
   "source": [
    "textAnalysed = TextAnalyzer(givenstring)"
   ],
   "execution_count": 99
  },
  {
   "cell_type": "markdown",
   "metadata": {},
   "source": [
    "## Step-2  Call the function that converts the data into lowercase\n"
   ]
  },
  {
   "cell_type": "code",
   "metadata": {
    "ExecuteTime": {
     "end_time": "2023-11-03T04:18:03.760289200Z",
     "start_time": "2023-11-03T04:18:03.751658300Z"
    }
   },
   "outputs": [
    {
     "data": {
      "text/plain": "'lorem ipsum dolor diam amet consetetur lorem magna sed diam nonumy eirmod tempor diam et labore et diam magna et diam amet '"
     },
     "execution_count": 100,
     "metadata": {},
     "output_type": "execute_result"
    }
   ],
   "source": [
    "textAnalysed.fmtText"
   ],
   "execution_count": 100
  },
  {
   "cell_type": "markdown",
   "metadata": {},
   "source": [
    "We have successfully converted string into lowercase.\n"
   ]
  },
  {
   "cell_type": "markdown",
   "metadata": {},
   "source": [
    "## Step-3 Call the function that counts the frequency of all unique words from the data.\n"
   ]
  },
  {
   "cell_type": "code",
   "execution_count": 101,
   "outputs": [],
   "source": [
    "textAnalysed.freqAll()"
   ],
   "metadata": {
    "collapsed": false,
    "ExecuteTime": {
     "end_time": "2023-11-03T04:18:05.386935200Z",
     "start_time": "2023-11-03T04:18:05.383424200Z"
    }
   }
  },
  {
   "cell_type": "markdown",
   "metadata": {},
   "source": [
    "We have successfully calculated the frequency of all unique words in the string.\n"
   ]
  },
  {
   "cell_type": "markdown",
   "metadata": {},
   "source": [
    "## Step-4 Call the function that counts the frequency of specific word.\n",
    "Here, we will call the function that counts the frequency of the word \"lorem\"\n",
    "<br>\n",
    "\n",
    "Print the output.**\n"
   ]
  },
  {
   "cell_type": "code",
   "metadata": {
    "ExecuteTime": {
     "end_time": "2023-11-03T04:20:34.912610400Z",
     "start_time": "2023-11-03T04:20:34.897576300Z"
    }
   },
   "outputs": [
    {
     "name": "stdout",
     "output_type": "stream",
     "text": [
      "The word 'lorem' appears '2' times\n"
     ]
    }
   ],
   "source": [
    "word = \"lorem\"\n",
    "frequency = textAnalysed.freqOf(word)\n",
    "print(f\"The word '{word}' appears '{frequency}' times\")"
   ],
   "execution_count": 106
  },
  {
   "cell_type": "markdown",
   "metadata": {},
   "source": [
    "We have successfully calculated the frequency of all specified words.\n"
   ]
  },
  {
   "cell_type": "markdown",
   "metadata": {},
   "source": [
    "----\n"
   ]
  },
  {
   "cell_type": "markdown",
   "metadata": {},
   "source": [
    "## Authors\n"
   ]
  },
  {
   "cell_type": "markdown",
   "metadata": {},
   "source": [
    "Author1 <br>\n",
    "**Akansha yadav**\n"
   ]
  },
  {
   "cell_type": "markdown",
   "metadata": {},
   "source": [
    "### Other Contributors\n"
   ]
  },
  {
   "cell_type": "markdown",
   "metadata": {},
   "source": [
    "[Contributor with Link](contributor_linl), Contributor No Link\n"
   ]
  },
  {
   "cell_type": "markdown",
   "metadata": {},
   "source": [
    "## Change Log\n"
   ]
  },
  {
   "cell_type": "markdown",
   "metadata": {},
   "source": [
    "|Date (YYYY-MM-DD)|Version|Changed By|Change Description|\n",
    "|-|-|-|-|\n",
    "|2023-05-17|0.3|Akansha yadav| Created lab under maintenance|\n",
    "|2020-07-17|0.1|Sam     |Create Lab Template|\n",
    "|2022-11-19|0.2|Shengkai|Update Lab Template|\n"
   ]
  },
  {
   "cell_type": "markdown",
   "metadata": {},
   "source": [
    "Copyright © 2022 IBM Corporation. All rights reserved.\n"
   ]
  }
 ],
 "metadata": {
  "kernelspec": {
   "name": "python3",
   "language": "python",
   "display_name": "Python 3 (ipykernel)"
  },
  "language_info": {
   "name": ""
  }
 },
 "nbformat": 4,
 "nbformat_minor": 4
}
