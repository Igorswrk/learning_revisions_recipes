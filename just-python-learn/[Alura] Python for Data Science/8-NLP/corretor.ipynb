{
 "cells": [
  {
   "cell_type": "code",
   "execution_count": 1,
   "outputs": [],
   "source": [
    "# NLP -> BASE DE DADOS É CONHECIDO COMO CORPUS\n",
    "with open('artigos.txt', \"r\", errors='ignore', encoding=\"utf8\") as f:\n",
    "    artigos = f.read()\n",
    "\n",
    "# print(artigos[:500])"
   ],
   "metadata": {
    "collapsed": false,
    "pycharm": {
     "name": "#%%\n"
    }
   }
  },
  {
   "cell_type": "code",
   "execution_count": 2,
   "outputs": [
    {
     "name": "stdout",
     "output_type": "stream",
     "text": [
      "Quantidade de caracteres: 2605046\n"
     ]
    }
   ],
   "source": [
    "print(f\"Quantidade de caracteres: {len(artigos)}\")"
   ],
   "metadata": {
    "collapsed": false,
    "pycharm": {
     "name": "#%%\n"
    }
   }
  },
  {
   "cell_type": "code",
   "execution_count": 3,
   "outputs": [
    {
     "name": "stdout",
     "output_type": "stream",
     "text": [
      "['Olá,', 'tudo', 'bem?']\n",
      "3\n"
     ]
    }
   ],
   "source": [
    "# Para pegar a quantidade de palavras e verificar se o nosso corpus é válido\n",
    "texto_exemplo = \"Olá, tudo bem?\"\n",
    "palavras_separadas = texto_exemplo.split()\n",
    "print(palavras_separadas)\n",
    "print(len(palavras_separadas))"
   ],
   "metadata": {
    "collapsed": false,
    "pycharm": {
     "name": "#%%\n"
    }
   }
  },
  {
   "cell_type": "markdown",
   "source": [
    "Em Processamento de Linguagem Natural, cada um dos elementos separados desse vetor é conhecido como token.\n",
    "Ou seja, ao pegarmos as strings e as separarmos em pequenos pedaços, estamos tokenizando a frase."
   ],
   "metadata": {
    "collapsed": false,
    "pycharm": {
     "name": "#%% md\n"
    }
   }
  },
  {
   "cell_type": "code",
   "execution_count": 4,
   "outputs": [
    {
     "name": "stdout",
     "output_type": "stream",
     "text": [
      "['Olá,', 'tudo', 'bem?']\n",
      "3\n"
     ]
    }
   ],
   "source": [
    "texto_exemplo = \"Olá, tudo bem?\"\n",
    "tokens = texto_exemplo.split()\n",
    "print(tokens)\n",
    "print(len(tokens))"
   ],
   "metadata": {
    "collapsed": false,
    "pycharm": {
     "name": "#%%\n"
    }
   }
  },
  {
   "cell_type": "code",
   "execution_count": 5,
   "outputs": [
    {
     "name": "stderr",
     "output_type": "stream",
     "text": [
      "[nltk_data] Downloading package punkt to\n",
      "[nltk_data]     C:\\Users\\Igors\\AppData\\Roaming\\nltk_data...\n",
      "[nltk_data]   Package punkt is already up-to-date!\n"
     ]
    },
    {
     "data": {
      "text/plain": "True"
     },
     "execution_count": 5,
     "metadata": {},
     "output_type": "execute_result"
    }
   ],
   "source": [
    "import nltk\n",
    "nltk.download('punkt')"
   ],
   "metadata": {
    "collapsed": false,
    "pycharm": {
     "name": "#%%\n"
    }
   }
  },
  {
   "cell_type": "code",
   "execution_count": 6,
   "outputs": [],
   "source": [
    "palavras_separadas = nltk.tokenize.word_tokenize(texto_exemplo)"
   ],
   "metadata": {
    "collapsed": false,
    "pycharm": {
     "name": "#%%\n"
    }
   }
  },
  {
   "cell_type": "code",
   "execution_count": 7,
   "outputs": [
    {
     "data": {
      "text/plain": "['Olá', ',', 'tudo', 'bem', '?']"
     },
     "execution_count": 7,
     "metadata": {},
     "output_type": "execute_result"
    }
   ],
   "source": [
    "palavras_separadas"
   ],
   "metadata": {
    "collapsed": false,
    "pycharm": {
     "name": "#%%\n"
    }
   }
  },
  {
   "cell_type": "code",
   "execution_count": 8,
   "outputs": [
    {
     "data": {
      "text/plain": "5"
     },
     "execution_count": 8,
     "metadata": {},
     "output_type": "execute_result"
    }
   ],
   "source": [
    "len(palavras_separadas)"
   ],
   "metadata": {
    "collapsed": false,
    "pycharm": {
     "name": "#%%\n"
    }
   }
  },
  {
   "cell_type": "code",
   "execution_count": 9,
   "outputs": [
    {
     "name": "stdout",
     "output_type": "stream",
     "text": [
      "True\n",
      "False\n"
     ]
    }
   ],
   "source": [
    "print('palavras'.isalpha())\n",
    "print('?'.isalpha())"
   ],
   "metadata": {
    "collapsed": false,
    "pycharm": {
     "name": "#%%\n"
    }
   }
  },
  {
   "cell_type": "code",
   "execution_count": 10,
   "outputs": [
    {
     "data": {
      "text/plain": "['Olá', 'tudo', 'bem']"
     },
     "execution_count": 10,
     "metadata": {},
     "output_type": "execute_result"
    }
   ],
   "source": [
    "def separa_palavras(lista_tokens):\n",
    "    lista_palavras = []\n",
    "    for token in lista_tokens:\n",
    "        if token.isalpha():\n",
    "            lista_palavras.append(token)\n",
    "    return lista_palavras\n",
    "\n",
    "separa_palavras(palavras_separadas)"
   ],
   "metadata": {
    "collapsed": false,
    "pycharm": {
     "name": "#%%\n"
    }
   }
  },
  {
   "cell_type": "code",
   "execution_count": 11,
   "outputs": [],
   "source": [
    "lista_tokens = nltk.tokenize.word_tokenize(artigos)\n",
    "lista_palavras = separa_palavras(lista_tokens)"
   ],
   "metadata": {
    "collapsed": false,
    "pycharm": {
     "name": "#%%\n"
    }
   }
  },
  {
   "cell_type": "code",
   "execution_count": 12,
   "outputs": [
    {
     "name": "stdout",
     "output_type": "stream",
     "text": [
      "Número de palavras presentes no corpus: 403031\n"
     ]
    }
   ],
   "source": [
    "print(f\"Número de palavras presentes no corpus: {len(lista_palavras)}\")"
   ],
   "metadata": {
    "collapsed": false,
    "pycharm": {
     "name": "#%%\n"
    }
   }
  },
  {
   "cell_type": "code",
   "execution_count": 13,
   "outputs": [
    {
     "data": {
      "text/plain": "['imagem', 'Temos', 'a', 'seguinte', 'classe']"
     },
     "execution_count": 13,
     "metadata": {},
     "output_type": "execute_result"
    }
   ],
   "source": [
    "lista_palavras[:5]"
   ],
   "metadata": {
    "collapsed": false,
    "pycharm": {
     "name": "#%%\n"
    }
   }
  },
  {
   "cell_type": "code",
   "execution_count": 14,
   "outputs": [
    {
     "data": {
      "text/plain": "['imagem', 'temos', 'a', 'seguinte', 'classe']"
     },
     "execution_count": 14,
     "metadata": {},
     "output_type": "execute_result"
    }
   ],
   "source": [
    "def normalizacao(lista_palavras):\n",
    "    lista_normalizada = []\n",
    "    for palavra in lista_palavras:\n",
    "        lista_normalizada.append(palavra.lower())\n",
    "    return lista_normalizada\n",
    "\n",
    "lista_normalizada = normalizacao(lista_palavras)\n",
    "lista_normalizada[:5]"
   ],
   "metadata": {
    "collapsed": false,
    "pycharm": {
     "name": "#%%\n"
    }
   }
  },
  {
   "cell_type": "code",
   "execution_count": 15,
   "outputs": [
    {
     "data": {
      "text/plain": "{1, 2, 3, 4, 5, 6}"
     },
     "execution_count": 15,
     "metadata": {},
     "output_type": "execute_result"
    }
   ],
   "source": [
    "# Removendo as repetições das palavras\n",
    "set([1, 2, 3, 3, 3, 3, 3, 4, 5, 6])"
   ],
   "metadata": {
    "collapsed": false,
    "pycharm": {
     "name": "#%%\n"
    }
   }
  },
  {
   "cell_type": "code",
   "execution_count": 16,
   "outputs": [
    {
     "data": {
      "text/plain": "18464"
     },
     "execution_count": 16,
     "metadata": {},
     "output_type": "execute_result"
    }
   ],
   "source": [
    "len(set(lista_normalizada))"
   ],
   "metadata": {
    "collapsed": false,
    "pycharm": {
     "name": "#%%\n"
    }
   }
  },
  {
   "cell_type": "code",
   "execution_count": 17,
   "outputs": [
    {
     "data": {
      "text/plain": "[2, 3]"
     },
     "execution_count": 17,
     "metadata": {},
     "output_type": "execute_result"
    }
   ],
   "source": [
    "# Fatiando uma lista\n",
    "lista = [1, 2, 3]\n",
    "lista[1:3]"
   ],
   "metadata": {
    "collapsed": false,
    "pycharm": {
     "name": "#%%\n"
    }
   }
  },
  {
   "cell_type": "code",
   "execution_count": 18,
   "outputs": [
    {
     "data": {
      "text/plain": "('l', 'gica')"
     },
     "execution_count": 18,
     "metadata": {},
     "output_type": "execute_result"
    }
   ],
   "source": [
    "palavra_exemplo = \"lgica\"\n",
    "(palavra_exemplo[:1], palavra_exemplo[1:])"
   ],
   "metadata": {
    "collapsed": false,
    "pycharm": {
     "name": "#%%\n"
    }
   }
  },
  {
   "cell_type": "code",
   "execution_count": 19,
   "outputs": [
    {
     "data": {
      "text/plain": "['algica',\n 'blgica',\n 'clgica',\n 'dlgica',\n 'elgica',\n 'flgica',\n 'glgica',\n 'hlgica',\n 'ilgica',\n 'jlgica',\n 'klgica',\n 'llgica',\n 'mlgica',\n 'nlgica',\n 'olgica',\n 'plgica',\n 'qlgica',\n 'rlgica',\n 'slgica',\n 'tlgica',\n 'ulgica',\n 'vlgica',\n 'wlgica',\n 'xlgica',\n 'ylgica',\n 'zlgica',\n 'àlgica',\n 'álgica',\n 'âlgica',\n 'ãlgica',\n 'èlgica',\n 'élgica',\n 'êlgica',\n 'ìlgica',\n 'ílgica',\n 'îlgica',\n 'òlgica',\n 'ólgica',\n 'ôlgica',\n 'õlgica',\n 'ùlgica',\n 'úlgica',\n 'ûlgica',\n 'çlgica',\n 'lagica',\n 'lbgica',\n 'lcgica',\n 'ldgica',\n 'legica',\n 'lfgica',\n 'lggica',\n 'lhgica',\n 'ligica',\n 'ljgica',\n 'lkgica',\n 'llgica',\n 'lmgica',\n 'lngica',\n 'logica',\n 'lpgica',\n 'lqgica',\n 'lrgica',\n 'lsgica',\n 'ltgica',\n 'lugica',\n 'lvgica',\n 'lwgica',\n 'lxgica',\n 'lygica',\n 'lzgica',\n 'làgica',\n 'lágica',\n 'lâgica',\n 'lãgica',\n 'lègica',\n 'légica',\n 'lêgica',\n 'lìgica',\n 'lígica',\n 'lîgica',\n 'lògica',\n 'lógica',\n 'lôgica',\n 'lõgica',\n 'lùgica',\n 'lúgica',\n 'lûgica',\n 'lçgica',\n 'lgaica',\n 'lgbica',\n 'lgcica',\n 'lgdica',\n 'lgeica',\n 'lgfica',\n 'lggica',\n 'lghica',\n 'lgiica',\n 'lgjica',\n 'lgkica',\n 'lglica',\n 'lgmica',\n 'lgnica',\n 'lgoica',\n 'lgpica',\n 'lgqica',\n 'lgrica',\n 'lgsica',\n 'lgtica',\n 'lguica',\n 'lgvica',\n 'lgwica',\n 'lgxica',\n 'lgyica',\n 'lgzica',\n 'lgàica',\n 'lgáica',\n 'lgâica',\n 'lgãica',\n 'lgèica',\n 'lgéica',\n 'lgêica',\n 'lgìica',\n 'lgíica',\n 'lgîica',\n 'lgòica',\n 'lgóica',\n 'lgôica',\n 'lgõica',\n 'lgùica',\n 'lgúica',\n 'lgûica',\n 'lgçica',\n 'lgiaca',\n 'lgibca',\n 'lgicca',\n 'lgidca',\n 'lgieca',\n 'lgifca',\n 'lgigca',\n 'lgihca',\n 'lgiica',\n 'lgijca',\n 'lgikca',\n 'lgilca',\n 'lgimca',\n 'lginca',\n 'lgioca',\n 'lgipca',\n 'lgiqca',\n 'lgirca',\n 'lgisca',\n 'lgitca',\n 'lgiuca',\n 'lgivca',\n 'lgiwca',\n 'lgixca',\n 'lgiyca',\n 'lgizca',\n 'lgiàca',\n 'lgiáca',\n 'lgiâca',\n 'lgiãca',\n 'lgièca',\n 'lgiéca',\n 'lgiêca',\n 'lgiìca',\n 'lgiíca',\n 'lgiîca',\n 'lgiòca',\n 'lgióca',\n 'lgiôca',\n 'lgiõca',\n 'lgiùca',\n 'lgiúca',\n 'lgiûca',\n 'lgiçca',\n 'lgicaa',\n 'lgicba',\n 'lgicca',\n 'lgicda',\n 'lgicea',\n 'lgicfa',\n 'lgicga',\n 'lgicha',\n 'lgicia',\n 'lgicja',\n 'lgicka',\n 'lgicla',\n 'lgicma',\n 'lgicna',\n 'lgicoa',\n 'lgicpa',\n 'lgicqa',\n 'lgicra',\n 'lgicsa',\n 'lgicta',\n 'lgicua',\n 'lgicva',\n 'lgicwa',\n 'lgicxa',\n 'lgicya',\n 'lgicza',\n 'lgicàa',\n 'lgicáa',\n 'lgicâa',\n 'lgicãa',\n 'lgicèa',\n 'lgicéa',\n 'lgicêa',\n 'lgicìa',\n 'lgicía',\n 'lgicîa',\n 'lgicòa',\n 'lgicóa',\n 'lgicôa',\n 'lgicõa',\n 'lgicùa',\n 'lgicúa',\n 'lgicûa',\n 'lgicça',\n 'lgicaa',\n 'lgicab',\n 'lgicac',\n 'lgicad',\n 'lgicae',\n 'lgicaf',\n 'lgicag',\n 'lgicah',\n 'lgicai',\n 'lgicaj',\n 'lgicak',\n 'lgical',\n 'lgicam',\n 'lgican',\n 'lgicao',\n 'lgicap',\n 'lgicaq',\n 'lgicar',\n 'lgicas',\n 'lgicat',\n 'lgicau',\n 'lgicav',\n 'lgicaw',\n 'lgicax',\n 'lgicay',\n 'lgicaz',\n 'lgicaà',\n 'lgicaá',\n 'lgicaâ',\n 'lgicaã',\n 'lgicaè',\n 'lgicaé',\n 'lgicaê',\n 'lgicaì',\n 'lgicaí',\n 'lgicaî',\n 'lgicaò',\n 'lgicaó',\n 'lgicaô',\n 'lgicaõ',\n 'lgicaù',\n 'lgicaú',\n 'lgicaû',\n 'lgicaç']"
     },
     "execution_count": 19,
     "metadata": {},
     "output_type": "execute_result"
    }
   ],
   "source": [
    "def insere_letras(fatias):\n",
    "    novas_palavras = []\n",
    "    letras = 'abcdefghijklmnopqrstuvwxyzàáâãèéêìíîòóôõùúûç'\n",
    "    for E, D in fatias:\n",
    "        for letra in letras:\n",
    "            novas_palavras.append(E + letra + D)\n",
    "    return novas_palavras\n",
    "\n",
    "def gerador_palavras(palavra):\n",
    "    fatias = []\n",
    "    for i in range(len(palavra) + 1):\n",
    "        fatias.append((palavra[:i], palavra[i:]))\n",
    "    palavras_geradas = insere_letras(fatias)\n",
    "    return palavras_geradas\n",
    "\n",
    "palavras_geradas = gerador_palavras(palavra_exemplo)\n",
    "palavras_geradas"
   ],
   "metadata": {
    "collapsed": false,
    "pycharm": {
     "name": "#%%\n"
    }
   }
  },
  {
   "cell_type": "code",
   "execution_count": 20,
   "outputs": [
    {
     "data": {
      "text/plain": "[('de', 15502),\n ('o', 14056),\n ('que', 12230),\n ('a', 11099),\n ('e', 10501),\n ('para', 7710),\n ('um', 6367),\n ('é', 5899),\n ('uma', 5220),\n ('do', 5124)]"
     },
     "execution_count": 20,
     "metadata": {},
     "output_type": "execute_result"
    }
   ],
   "source": [
    "frequencia = nltk.FreqDist(lista_normalizada)\n",
    "total_palavras = len(set(lista_normalizada))\n",
    "frequencia.most_common(10)"
   ],
   "metadata": {
    "collapsed": false,
    "pycharm": {
     "name": "#%%\n"
    }
   }
  },
  {
   "cell_type": "code",
   "execution_count": 21,
   "outputs": [
    {
     "data": {
      "text/plain": "96"
     },
     "execution_count": 21,
     "metadata": {},
     "output_type": "execute_result"
    }
   ],
   "source": [
    "frequencia[\"lógica\"]"
   ],
   "metadata": {
    "collapsed": false,
    "pycharm": {
     "name": "#%%\n"
    }
   }
  },
  {
   "cell_type": "code",
   "execution_count": 22,
   "outputs": [
    {
     "data": {
      "text/plain": "0.005199306759098787"
     },
     "execution_count": 22,
     "metadata": {},
     "output_type": "execute_result"
    }
   ],
   "source": [
    "def probabilidade(palavra_gerada):\n",
    "    return frequencia[palavra_gerada]/total_palavras\n",
    "\n",
    "probabilidade(\"lógica\")"
   ],
   "metadata": {
    "collapsed": false,
    "pycharm": {
     "name": "#%%\n"
    }
   }
  },
  {
   "cell_type": "code",
   "execution_count": 23,
   "outputs": [],
   "source": [
    "def corretor(palavra):\n",
    "    palavras_geradas = gerador_palavras(palavra)\n",
    "    palavra_correta = max(palavras_geradas, key=probabilidade)\n",
    "    return palavra_correta"
   ],
   "metadata": {
    "collapsed": false,
    "pycharm": {
     "name": "#%%\n"
    }
   }
  },
  {
   "cell_type": "code",
   "execution_count": 24,
   "outputs": [
    {
     "data": {
      "text/plain": "'lógica'"
     },
     "execution_count": 24,
     "metadata": {},
     "output_type": "execute_result"
    }
   ],
   "source": [
    "corretor(palavra_exemplo)"
   ],
   "metadata": {
    "collapsed": false,
    "pycharm": {
     "name": "#%%\n"
    }
   }
  },
  {
   "cell_type": "code",
   "execution_count": 25,
   "outputs": [
    {
     "data": {
      "text/plain": "[('podemos', 'pyodemos'),\n ('esse', 'esje'),\n ('já', 'jrá'),\n ('nosso', 'nossov'),\n ('são', 'sãêo'),\n ('dos', 'dosa'),\n ('muito', 'muifo'),\n ('imagem', 'iômagem'),\n ('sua', 'ósua'),\n ('também', 'tambéùm'),\n ('ele', 'eme'),\n ('fazer', 'èazer'),\n ('temos', 'temfs'),\n ('essa', 'eàssa'),\n ('quando', 'quaôdo'),\n ('vamos', 'vamvos'),\n ('sobre', 'hsobre'),\n ('java', 'sjava'),\n ('das', 'daõs'),\n ('agora', 'agorah'),\n ('está', 'eòtá'),\n ('cada', 'céda'),\n ('mesmo', 'zmesmo'),\n ('nos', 'noâ'),\n ('forma', 'fobma'),\n ('seja', 'sejéa'),\n ('então', 'enêão'),\n ('criar', 'èriar'),\n ('código', 'cóeigo'),\n ('caso', 'casío'),\n ('exemplo', 'áexemplo'),\n ('tem', 'tĩem'),\n ('usuário', 'usuárôio'),\n ('dados', 'dfados'),\n ('python', 'pgthon'),\n ('nossa', 'nossah'),\n ('além', 'alémè'),\n ('assim', 'asõim'),\n ('ter', 'teb'),\n ('até', 'atĩ'),\n ('bem', 'âem'),\n ('design', 'desigen'),\n ('trabalho', 'trabalàho'),\n ('foi', 'foo'),\n ('apenas', 'apenaũ'),\n ('empresa', 'empresà'),\n ('valor', 'valíor'),\n ('será', 'serr'),\n ('entre', 'entke'),\n ('método', 'méqodo'),\n ('precisamos', 'precisamops'),\n ('ainda', 'ainàa'),\n ('vai', 'van'),\n ('conteúdo', 'ûconteúdo'),\n ('seus', 'çeus'),\n ('eu', 'eû'),\n ('todos', 'todtos'),\n ('tempo', 'temeo'),\n ('sempre', 'semre'),\n ('qual', 'quakl'),\n ('ela', 'elaá'),\n ('só', 'síó'),\n ('utilizar', 'utiqizar'),\n ('projeto', 'prhojeto'),\n ('site', 'siàe'),\n ('sem', 'seém'),\n ('pelo', 'peln'),\n ('alura', 'aléra'),\n ('dia', 'tdia'),\n ('tudo', 'tuúo'),\n ('podemos', 'kpodemos'),\n ('esse', 'eẽsse'),\n ('já', 'jé'),\n ('nosso', 'nçosso'),\n ('são', 'sãô'),\n ('dos', 'odos'),\n ('muito', 'tuito'),\n ('imagem', 'imõgem'),\n ('sua', 'siua'),\n ('também', 'tamvbém'),\n ('ele', 'elpe'),\n ('fazer', 'façzer'),\n ('temos', 'teos'),\n ('essa', 'eũsa'),\n ('quando', 'quaìdo'),\n ('vamos', 'vjmos'),\n ('sobre', 'sxobre'),\n ('java', 'jkva'),\n ('das', 'dms'),\n ('agora', 'agtora'),\n ('está', 'esútá'),\n ('cada', 'cava'),\n ('mesmo', 'medmo'),\n ('nos', 'ános'),\n ('forma', 'forûa'),\n ('seja', 'smeja'),\n ('então', 'enjtão'),\n ('criar', 'criôar'),\n ('código', 'cóàigo'),\n ('caso', 'èaso'),\n ('exemplo', 'exbemplo'),\n ('tem', 'túem'),\n ('usuário', 'usuárin'),\n ('dados', 'daáos'),\n ('python', 'pythoçn'),\n ('nossa', 'nossk'),\n ('além', 'âlém'),\n ('assim', 'aóssim'),\n ('ter', 'tãer'),\n ('até', 'vté'),\n ('bem', 'búm'),\n ('design', 'íesign'),\n ('trabalho', 'trabèalho'),\n ('foi', 'kfoi'),\n ('apenas', 'aapenas'),\n ('empresa', 'pmpresa'),\n ('valor', 'valoqr'),\n ('será', 'sçerá'),\n ('entre', 'entró'),\n ('método', 'nétodo'),\n ('precisamos', 'prefcisamos'),\n ('ainda', 'sainda'),\n ('vai', 'uai'),\n ('conteúdo', 'cĩonteúdo'),\n ('seus', 'sâus'),\n ('eu', 'ìeu'),\n ('todos', 'todás'),\n ('tempo', 'utempo'),\n ('sempre', 'sempce'),\n ('qual', 'fual'),\n ('ela', 'elal'),\n ('só', 'skó'),\n ('utilizar', 'utilĩzar'),\n ('projeto', 'proójeto'),\n ('site', 'isite'),\n ('sem', 'secm'),\n ('pelo', 'pẽlo'),\n ('alura', 'aluéa'),\n ('dia', 'dil'),\n ('tudo', 'tudy'),\n ('ela', 'qelay'),\n ('só', 'sód'),\n ('utilizar', 'dtilizacr'),\n ('projeto', 'bprojõto'),\n ('site', 'ysiteo'),\n ('sem', 'sõêm'),\n ('pelo', 'peàli'),\n ('alura', 'asuraó'),\n ('dia', 'deiìa'),\n ('tudo', 'tuĩdoì'),\n ('ela', 'eúaa'),\n ('só', 'ró'),\n ('utilizar', 'utilizẽaçr'),\n ('projeto', 'prêjetó'),\n ('site', 'sqiqte'),\n ('sem', 'sũexm'),\n ('pelo', 'pçlxo'),\n ('alura', 'uluraa'),\n ('dia', 'dĩaz'),\n ('tudo', 'kzudo'),\n ('corretor', 'correptor'),\n ('tática', 'trtica'),\n ('empoderamento', 'ewpoderamento'),\n ('linux', 'lifux'),\n ('cachorro', 'cachoçro'),\n ('gato', 'îgato'),\n ('cavalo', 'cakvalo'),\n ('relógio', 'relógiuo'),\n ('canela', 'canelac'),\n ('tênis', 'tênisy'),\n ('ansiosa', 'anciosa'),\n ('ansiosa', 'ancciosa'),\n ('ansiosa', 'ansioa'),\n ('empoderamento', 'empoderamento'),\n ('asterisco', 'asterístico'),\n ('gratuito', 'gratuíto'),\n ('entretido', 'entertido'),\n ('ritmo', 'ritimo'),\n ('idiota', 'indiota'),\n ('tomara', 'tomare'),\n ('seja', 'seje'),\n ('prevalecer', 'provalecer'),\n ('esteja', 'esteje'),\n ('mendigo', 'mindigo'),\n ('cérebro', 'célebro'),\n ('perturbar', 'pertubar')]"
     },
     "execution_count": 25,
     "metadata": {},
     "output_type": "execute_result"
    }
   ],
   "source": [
    "def cria_dados_teste(nome_arquivo):\n",
    "    lista_palavras_testes = []\n",
    "    f = open(nome_arquivo, \"r\", errors='ignore', encoding=\"utf8\")\n",
    "    for linha in f:\n",
    "        correta, errada = linha.split()\n",
    "        lista_palavras_testes.append((correta, errada))\n",
    "    f.close()\n",
    "    return lista_palavras_testes\n",
    "\n",
    "lista_teste = cria_dados_teste(\"palavras.txt\")\n",
    "lista_teste\n"
   ],
   "metadata": {
    "collapsed": false,
    "pycharm": {
     "name": "#%%\n"
    }
   }
  },
  {
   "cell_type": "code",
   "execution_count": 26,
   "outputs": [
    {
     "name": "stdout",
     "output_type": "stream",
     "text": [
      "Taxa de acerto: 1.08%\n",
      "Numero de Palavras: 186\n"
     ]
    }
   ],
   "source": [
    "def avaliador(testes):\n",
    "    numero_palavras = len(testes)\n",
    "    acertou = 0\n",
    "    for correta, errada in testes:\n",
    "        palavra_corrigida = corretor(errada)\n",
    "        if palavra_corrigida == correta:\n",
    "            acertou += 1\n",
    "    taxa_acerto = acertou/numero_palavras\n",
    "    print(f\"Taxa de acerto: {round(taxa_acerto*100, 2)}%\")\n",
    "    print(f\"Numero de Palavras: {numero_palavras}\")\n",
    "\n",
    "avaliador(lista_teste)"
   ],
   "metadata": {
    "collapsed": false,
    "pycharm": {
     "name": "#%%\n"
    }
   }
  },
  {
   "cell_type": "code",
   "execution_count": 26,
   "outputs": [],
   "source": [],
   "metadata": {
    "collapsed": false,
    "pycharm": {
     "name": "#%%\n"
    }
   }
  }
 ],
 "metadata": {
  "kernelspec": {
   "display_name": "Python 3",
   "language": "python",
   "name": "python3"
  },
  "language_info": {
   "codemirror_mode": {
    "name": "ipython",
    "version": 2
   },
   "file_extension": ".py",
   "mimetype": "text/x-python",
   "name": "python",
   "nbconvert_exporter": "python",
   "pygments_lexer": "ipython2",
   "version": "2.7.6"
  }
 },
 "nbformat": 4,
 "nbformat_minor": 0
}