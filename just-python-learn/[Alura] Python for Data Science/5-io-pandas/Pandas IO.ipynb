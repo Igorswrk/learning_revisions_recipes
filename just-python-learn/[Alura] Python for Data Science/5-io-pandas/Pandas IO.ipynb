{
 "cells": [
  {
   "cell_type": "markdown",
   "id": "a2b4cd22-7e30-4dce-8318-3da77cc276ee",
   "metadata": {
    "tags": [],
    "pycharm": {
     "name": "#%% md\n"
    }
   },
   "source": [
    "# Criando os nomes"
   ]
  },
  {
   "cell_type": "code",
   "execution_count": 674,
   "id": "8a520290-a027-40f9-a202-92012459c9d0",
   "metadata": {
    "pycharm": {
     "name": "#%%\n"
    }
   },
   "outputs": [],
   "source": [
    "import pandas as pd"
   ]
  },
  {
   "cell_type": "code",
   "execution_count": 675,
   "id": "69c408d6-ce39-4983-8d47-48f52020f6ef",
   "metadata": {
    "pycharm": {
     "name": "#%%\n"
    }
   },
   "outputs": [
    {
     "data": {
      "text/html": [
       "<div>\n",
       "<style scoped>\n",
       "    .dataframe tbody tr th:only-of-type {\n",
       "        vertical-align: middle;\n",
       "    }\n",
       "\n",
       "    .dataframe tbody tr th {\n",
       "        vertical-align: top;\n",
       "    }\n",
       "\n",
       "    .dataframe thead th {\n",
       "        text-align: right;\n",
       "    }\n",
       "</style>\n",
       "<table border=\"1\" class=\"dataframe\">\n",
       "  <thead>\n",
       "    <tr style=\"text-align: right;\">\n",
       "      <th></th>\n",
       "      <th>nome</th>\n",
       "      <th>regiao</th>\n",
       "      <th>freq</th>\n",
       "      <th>rank</th>\n",
       "      <th>sexo</th>\n",
       "    </tr>\n",
       "  </thead>\n",
       "  <tbody>\n",
       "    <tr>\n",
       "      <th>0</th>\n",
       "      <td>MARIA</td>\n",
       "      <td>0</td>\n",
       "      <td>11694738</td>\n",
       "      <td>1</td>\n",
       "      <td>F</td>\n",
       "    </tr>\n",
       "    <tr>\n",
       "      <th>1</th>\n",
       "      <td>ANA</td>\n",
       "      <td>0</td>\n",
       "      <td>3079729</td>\n",
       "      <td>2</td>\n",
       "      <td>F</td>\n",
       "    </tr>\n",
       "    <tr>\n",
       "      <th>2</th>\n",
       "      <td>FRANCISCA</td>\n",
       "      <td>0</td>\n",
       "      <td>721637</td>\n",
       "      <td>3</td>\n",
       "      <td>F</td>\n",
       "    </tr>\n",
       "    <tr>\n",
       "      <th>3</th>\n",
       "      <td>ANTONIA</td>\n",
       "      <td>0</td>\n",
       "      <td>588783</td>\n",
       "      <td>4</td>\n",
       "      <td>F</td>\n",
       "    </tr>\n",
       "    <tr>\n",
       "      <th>4</th>\n",
       "      <td>ADRIANA</td>\n",
       "      <td>0</td>\n",
       "      <td>565621</td>\n",
       "      <td>5</td>\n",
       "      <td>F</td>\n",
       "    </tr>\n",
       "    <tr>\n",
       "      <th>...</th>\n",
       "      <td>...</td>\n",
       "      <td>...</td>\n",
       "      <td>...</td>\n",
       "      <td>...</td>\n",
       "      <td>...</td>\n",
       "    </tr>\n",
       "    <tr>\n",
       "      <th>195</th>\n",
       "      <td>ROSANE</td>\n",
       "      <td>0</td>\n",
       "      <td>82203</td>\n",
       "      <td>196</td>\n",
       "      <td>F</td>\n",
       "    </tr>\n",
       "    <tr>\n",
       "      <th>196</th>\n",
       "      <td>IVONETE</td>\n",
       "      <td>0</td>\n",
       "      <td>81878</td>\n",
       "      <td>197</td>\n",
       "      <td>F</td>\n",
       "    </tr>\n",
       "    <tr>\n",
       "      <th>197</th>\n",
       "      <td>LUCIANE</td>\n",
       "      <td>0</td>\n",
       "      <td>81230</td>\n",
       "      <td>198</td>\n",
       "      <td>F</td>\n",
       "    </tr>\n",
       "    <tr>\n",
       "      <th>198</th>\n",
       "      <td>ISADORA</td>\n",
       "      <td>0</td>\n",
       "      <td>81100</td>\n",
       "      <td>199</td>\n",
       "      <td>F</td>\n",
       "    </tr>\n",
       "    <tr>\n",
       "      <th>199</th>\n",
       "      <td>NILZA</td>\n",
       "      <td>0</td>\n",
       "      <td>80128</td>\n",
       "      <td>200</td>\n",
       "      <td>F</td>\n",
       "    </tr>\n",
       "  </tbody>\n",
       "</table>\n",
       "<p>200 rows × 5 columns</p>\n",
       "</div>"
      ],
      "text/plain": [
       "          nome  regiao      freq  rank sexo\n",
       "0        MARIA       0  11694738     1    F\n",
       "1          ANA       0   3079729     2    F\n",
       "2    FRANCISCA       0    721637     3    F\n",
       "3      ANTONIA       0    588783     4    F\n",
       "4      ADRIANA       0    565621     5    F\n",
       "..         ...     ...       ...   ...  ...\n",
       "195     ROSANE       0     82203   196    F\n",
       "196    IVONETE       0     81878   197    F\n",
       "197    LUCIANE       0     81230   198    F\n",
       "198    ISADORA       0     81100   199    F\n",
       "199      NILZA       0     80128   200    F\n",
       "\n",
       "[200 rows x 5 columns]"
      ]
     },
     "execution_count": 675,
     "metadata": {},
     "output_type": "execute_result"
    }
   ],
   "source": [
    "nomes_f = pd.read_json('https://servicodados.ibge.gov.br/api/v1/censos/nomes/ranking?qtd=200&sexo=f')\n",
    "nomes_f"
   ]
  },
  {
   "cell_type": "code",
   "execution_count": 676,
   "id": "41c216d9-f961-4d0e-a065-91b2a16f5588",
   "metadata": {
    "pycharm": {
     "name": "#%%\n"
    }
   },
   "outputs": [
    {
     "data": {
      "text/html": [
       "<div>\n",
       "<style scoped>\n",
       "    .dataframe tbody tr th:only-of-type {\n",
       "        vertical-align: middle;\n",
       "    }\n",
       "\n",
       "    .dataframe tbody tr th {\n",
       "        vertical-align: top;\n",
       "    }\n",
       "\n",
       "    .dataframe thead th {\n",
       "        text-align: right;\n",
       "    }\n",
       "</style>\n",
       "<table border=\"1\" class=\"dataframe\">\n",
       "  <thead>\n",
       "    <tr style=\"text-align: right;\">\n",
       "      <th></th>\n",
       "      <th>nome</th>\n",
       "      <th>regiao</th>\n",
       "      <th>freq</th>\n",
       "      <th>rank</th>\n",
       "      <th>sexo</th>\n",
       "    </tr>\n",
       "  </thead>\n",
       "  <tbody>\n",
       "    <tr>\n",
       "      <th>0</th>\n",
       "      <td>JOSE</td>\n",
       "      <td>0</td>\n",
       "      <td>5732508</td>\n",
       "      <td>1</td>\n",
       "      <td>M</td>\n",
       "    </tr>\n",
       "    <tr>\n",
       "      <th>1</th>\n",
       "      <td>JOAO</td>\n",
       "      <td>0</td>\n",
       "      <td>2971935</td>\n",
       "      <td>2</td>\n",
       "      <td>M</td>\n",
       "    </tr>\n",
       "    <tr>\n",
       "      <th>2</th>\n",
       "      <td>ANTONIO</td>\n",
       "      <td>0</td>\n",
       "      <td>2567494</td>\n",
       "      <td>3</td>\n",
       "      <td>M</td>\n",
       "    </tr>\n",
       "    <tr>\n",
       "      <th>3</th>\n",
       "      <td>FRANCISCO</td>\n",
       "      <td>0</td>\n",
       "      <td>1765197</td>\n",
       "      <td>4</td>\n",
       "      <td>M</td>\n",
       "    </tr>\n",
       "    <tr>\n",
       "      <th>4</th>\n",
       "      <td>CARLOS</td>\n",
       "      <td>0</td>\n",
       "      <td>1483121</td>\n",
       "      <td>5</td>\n",
       "      <td>M</td>\n",
       "    </tr>\n",
       "    <tr>\n",
       "      <th>...</th>\n",
       "      <td>...</td>\n",
       "      <td>...</td>\n",
       "      <td>...</td>\n",
       "      <td>...</td>\n",
       "      <td>...</td>\n",
       "    </tr>\n",
       "    <tr>\n",
       "      <th>195</th>\n",
       "      <td>WALTER</td>\n",
       "      <td>0</td>\n",
       "      <td>67207</td>\n",
       "      <td>196</td>\n",
       "      <td>M</td>\n",
       "    </tr>\n",
       "    <tr>\n",
       "      <th>196</th>\n",
       "      <td>ARLINDO</td>\n",
       "      <td>0</td>\n",
       "      <td>66669</td>\n",
       "      <td>197</td>\n",
       "      <td>M</td>\n",
       "    </tr>\n",
       "    <tr>\n",
       "      <th>197</th>\n",
       "      <td>MICHAEL</td>\n",
       "      <td>0</td>\n",
       "      <td>65736</td>\n",
       "      <td>198</td>\n",
       "      <td>M</td>\n",
       "    </tr>\n",
       "    <tr>\n",
       "      <th>198</th>\n",
       "      <td>ALVARO</td>\n",
       "      <td>0</td>\n",
       "      <td>65444</td>\n",
       "      <td>199</td>\n",
       "      <td>M</td>\n",
       "    </tr>\n",
       "    <tr>\n",
       "      <th>199</th>\n",
       "      <td>GEOVANE</td>\n",
       "      <td>0</td>\n",
       "      <td>65435</td>\n",
       "      <td>200</td>\n",
       "      <td>M</td>\n",
       "    </tr>\n",
       "  </tbody>\n",
       "</table>\n",
       "<p>200 rows × 5 columns</p>\n",
       "</div>"
      ],
      "text/plain": [
       "          nome  regiao     freq  rank sexo\n",
       "0         JOSE       0  5732508     1    M\n",
       "1         JOAO       0  2971935     2    M\n",
       "2      ANTONIO       0  2567494     3    M\n",
       "3    FRANCISCO       0  1765197     4    M\n",
       "4       CARLOS       0  1483121     5    M\n",
       "..         ...     ...      ...   ...  ...\n",
       "195     WALTER       0    67207   196    M\n",
       "196    ARLINDO       0    66669   197    M\n",
       "197    MICHAEL       0    65736   198    M\n",
       "198     ALVARO       0    65444   199    M\n",
       "199    GEOVANE       0    65435   200    M\n",
       "\n",
       "[200 rows x 5 columns]"
      ]
     },
     "execution_count": 676,
     "metadata": {},
     "output_type": "execute_result"
    }
   ],
   "source": [
    "nomes_m = pd.read_json('https://servicodados.ibge.gov.br/api/v1/censos/nomes/ranking?qtd=200&sexo=m')\n",
    "nomes_m"
   ]
  },
  {
   "cell_type": "code",
   "execution_count": 677,
   "id": "84a45aca-05d1-4a03-82ad-327a9c5d2030",
   "metadata": {
    "pycharm": {
     "name": "#%%\n"
    }
   },
   "outputs": [
    {
     "data": {
      "text/html": [
       "<div>\n",
       "<style scoped>\n",
       "    .dataframe tbody tr th:only-of-type {\n",
       "        vertical-align: middle;\n",
       "    }\n",
       "\n",
       "    .dataframe tbody tr th {\n",
       "        vertical-align: top;\n",
       "    }\n",
       "\n",
       "    .dataframe thead th {\n",
       "        text-align: right;\n",
       "    }\n",
       "</style>\n",
       "<table border=\"1\" class=\"dataframe\">\n",
       "  <thead>\n",
       "    <tr style=\"text-align: right;\">\n",
       "      <th></th>\n",
       "      <th>nome</th>\n",
       "      <th>regiao</th>\n",
       "      <th>freq</th>\n",
       "      <th>rank</th>\n",
       "      <th>sexo</th>\n",
       "    </tr>\n",
       "  </thead>\n",
       "  <tbody>\n",
       "    <tr>\n",
       "      <th>30</th>\n",
       "      <td>ELIANE</td>\n",
       "      <td>0</td>\n",
       "      <td>342361</td>\n",
       "      <td>31</td>\n",
       "      <td>F</td>\n",
       "    </tr>\n",
       "    <tr>\n",
       "      <th>156</th>\n",
       "      <td>YASMIN</td>\n",
       "      <td>0</td>\n",
       "      <td>103787</td>\n",
       "      <td>157</td>\n",
       "      <td>F</td>\n",
       "    </tr>\n",
       "    <tr>\n",
       "      <th>173</th>\n",
       "      <td>GERALDA</td>\n",
       "      <td>0</td>\n",
       "      <td>91752</td>\n",
       "      <td>174</td>\n",
       "      <td>F</td>\n",
       "    </tr>\n",
       "    <tr>\n",
       "      <th>91</th>\n",
       "      <td>CELIA</td>\n",
       "      <td>0</td>\n",
       "      <td>184096</td>\n",
       "      <td>92</td>\n",
       "      <td>F</td>\n",
       "    </tr>\n",
       "    <tr>\n",
       "      <th>51</th>\n",
       "      <td>JOANA</td>\n",
       "      <td>0</td>\n",
       "      <td>268576</td>\n",
       "      <td>52</td>\n",
       "      <td>F</td>\n",
       "    </tr>\n",
       "  </tbody>\n",
       "</table>\n",
       "</div>"
      ],
      "text/plain": [
       "        nome  regiao    freq  rank sexo\n",
       "30    ELIANE       0  342361    31    F\n",
       "156   YASMIN       0  103787   157    F\n",
       "173  GERALDA       0   91752   174    F\n",
       "91     CELIA       0  184096    92    F\n",
       "51     JOANA       0  268576    52    F"
      ]
     },
     "execution_count": 677,
     "metadata": {},
     "output_type": "execute_result"
    }
   ],
   "source": [
    "nomes_f.sample(5)"
   ]
  },
  {
   "cell_type": "code",
   "execution_count": 678,
   "id": "7d8ecc5c-4ee2-4783-93eb-08912ce47d71",
   "metadata": {
    "pycharm": {
     "name": "#%%\n"
    }
   },
   "outputs": [
    {
     "data": {
      "text/html": [
       "<div>\n",
       "<style scoped>\n",
       "    .dataframe tbody tr th:only-of-type {\n",
       "        vertical-align: middle;\n",
       "    }\n",
       "\n",
       "    .dataframe tbody tr th {\n",
       "        vertical-align: top;\n",
       "    }\n",
       "\n",
       "    .dataframe thead th {\n",
       "        text-align: right;\n",
       "    }\n",
       "</style>\n",
       "<table border=\"1\" class=\"dataframe\">\n",
       "  <thead>\n",
       "    <tr style=\"text-align: right;\">\n",
       "      <th></th>\n",
       "      <th>nome</th>\n",
       "      <th>regiao</th>\n",
       "      <th>freq</th>\n",
       "      <th>rank</th>\n",
       "      <th>sexo</th>\n",
       "    </tr>\n",
       "  </thead>\n",
       "  <tbody>\n",
       "    <tr>\n",
       "      <th>169</th>\n",
       "      <td>WELLINGTON</td>\n",
       "      <td>0</td>\n",
       "      <td>76820</td>\n",
       "      <td>170</td>\n",
       "      <td>M</td>\n",
       "    </tr>\n",
       "    <tr>\n",
       "      <th>103</th>\n",
       "      <td>MAICON</td>\n",
       "      <td>0</td>\n",
       "      <td>134295</td>\n",
       "      <td>104</td>\n",
       "      <td>M</td>\n",
       "    </tr>\n",
       "    <tr>\n",
       "      <th>57</th>\n",
       "      <td>IGOR</td>\n",
       "      <td>0</td>\n",
       "      <td>264732</td>\n",
       "      <td>58</td>\n",
       "      <td>M</td>\n",
       "    </tr>\n",
       "    <tr>\n",
       "      <th>37</th>\n",
       "      <td>EDSON</td>\n",
       "      <td>0</td>\n",
       "      <td>430171</td>\n",
       "      <td>38</td>\n",
       "      <td>M</td>\n",
       "    </tr>\n",
       "    <tr>\n",
       "      <th>124</th>\n",
       "      <td>CESAR</td>\n",
       "      <td>0</td>\n",
       "      <td>118354</td>\n",
       "      <td>125</td>\n",
       "      <td>M</td>\n",
       "    </tr>\n",
       "  </tbody>\n",
       "</table>\n",
       "</div>"
      ],
      "text/plain": [
       "           nome  regiao    freq  rank sexo\n",
       "169  WELLINGTON       0   76820   170    M\n",
       "103      MAICON       0  134295   104    M\n",
       "57         IGOR       0  264732    58    M\n",
       "37        EDSON       0  430171    38    M\n",
       "124       CESAR       0  118354   125    M"
      ]
     },
     "execution_count": 678,
     "metadata": {},
     "output_type": "execute_result"
    }
   ],
   "source": [
    "nomes_m.sample(5)"
   ]
  },
  {
   "cell_type": "code",
   "execution_count": 679,
   "id": "eecdf998-e407-4150-89d9-4e3da24b7242",
   "metadata": {
    "pycharm": {
     "name": "#%%\n"
    }
   },
   "outputs": [
    {
     "name": "stdout",
     "output_type": "stream",
     "text": [
      "Quantidade de nomes: 400\n"
     ]
    }
   ],
   "source": [
    "print(f'Quantidade de nomes: ' + str(len(nomes_f) + len(nomes_m)))"
   ]
  },
  {
   "cell_type": "code",
   "execution_count": 680,
   "id": "b722d23e-d25b-4582-a5cf-ecd5912f782e",
   "metadata": {
    "pycharm": {
     "name": "#%%\n"
    }
   },
   "outputs": [],
   "source": [
    "frames = [nomes_f, nomes_m]"
   ]
  },
  {
   "cell_type": "code",
   "execution_count": 681,
   "id": "e4048d36-7aad-4181-8484-c0c4a518aeed",
   "metadata": {
    "pycharm": {
     "name": "#%%\n"
    }
   },
   "outputs": [],
   "source": [
    "nomes = pd.concat(frames)['nome'].to_frame()"
   ]
  },
  {
   "cell_type": "code",
   "execution_count": 682,
   "id": "ab7f1a36-9ddd-448e-bd68-40dc282455aa",
   "metadata": {
    "pycharm": {
     "name": "#%%\n"
    }
   },
   "outputs": [
    {
     "data": {
      "text/html": [
       "<div>\n",
       "<style scoped>\n",
       "    .dataframe tbody tr th:only-of-type {\n",
       "        vertical-align: middle;\n",
       "    }\n",
       "\n",
       "    .dataframe tbody tr th {\n",
       "        vertical-align: top;\n",
       "    }\n",
       "\n",
       "    .dataframe thead th {\n",
       "        text-align: right;\n",
       "    }\n",
       "</style>\n",
       "<table border=\"1\" class=\"dataframe\">\n",
       "  <thead>\n",
       "    <tr style=\"text-align: right;\">\n",
       "      <th></th>\n",
       "      <th>nome</th>\n",
       "    </tr>\n",
       "  </thead>\n",
       "  <tbody>\n",
       "    <tr>\n",
       "      <th>117</th>\n",
       "      <td>WAGNER</td>\n",
       "    </tr>\n",
       "    <tr>\n",
       "      <th>51</th>\n",
       "      <td>ROGERIO</td>\n",
       "    </tr>\n",
       "    <tr>\n",
       "      <th>40</th>\n",
       "      <td>SERGIO</td>\n",
       "    </tr>\n",
       "    <tr>\n",
       "      <th>27</th>\n",
       "      <td>LUANA</td>\n",
       "    </tr>\n",
       "    <tr>\n",
       "      <th>86</th>\n",
       "      <td>CRISTINA</td>\n",
       "    </tr>\n",
       "  </tbody>\n",
       "</table>\n",
       "</div>"
      ],
      "text/plain": [
       "         nome\n",
       "117    WAGNER\n",
       "51    ROGERIO\n",
       "40     SERGIO\n",
       "27      LUANA\n",
       "86   CRISTINA"
      ]
     },
     "execution_count": 682,
     "metadata": {},
     "output_type": "execute_result"
    }
   ],
   "source": [
    "nomes.sample(5)"
   ]
  },
  {
   "cell_type": "markdown",
   "id": "7afabae0-249d-44bf-af54-700a51698c5c",
   "metadata": {
    "tags": [],
    "pycharm": {
     "name": "#%% md\n"
    }
   },
   "source": [
    "# Incluindo ID dos alunos"
   ]
  },
  {
   "cell_type": "code",
   "execution_count": 683,
   "id": "f005078f-7594-4cb2-906c-508ab09ba1fe",
   "metadata": {
    "pycharm": {
     "name": "#%%\n"
    }
   },
   "outputs": [],
   "source": [
    "import numpy as np\n",
    "np.random.seed(123)"
   ]
  },
  {
   "cell_type": "code",
   "execution_count": 684,
   "id": "7b35cdd1-e642-403b-9025-0b7aa22392e0",
   "metadata": {
    "pycharm": {
     "name": "#%%\n"
    }
   },
   "outputs": [],
   "source": [
    "total_alunos = len(nomes)"
   ]
  },
  {
   "cell_type": "code",
   "execution_count": 685,
   "id": "7ca753cc-c0af-46db-b615-29445aaa2338",
   "metadata": {
    "pycharm": {
     "name": "#%%\n"
    }
   },
   "outputs": [
    {
     "data": {
      "text/plain": [
       "400"
      ]
     },
     "execution_count": 685,
     "metadata": {},
     "output_type": "execute_result"
    }
   ],
   "source": [
    "total_alunos"
   ]
  },
  {
   "cell_type": "code",
   "execution_count": 686,
   "id": "f996ba12-d94d-4edb-873b-44ac1f9261f0",
   "metadata": {
    "pycharm": {
     "name": "#%%\n"
    }
   },
   "outputs": [
    {
     "data": {
      "text/html": [
       "<div>\n",
       "<style scoped>\n",
       "    .dataframe tbody tr th:only-of-type {\n",
       "        vertical-align: middle;\n",
       "    }\n",
       "\n",
       "    .dataframe tbody tr th {\n",
       "        vertical-align: top;\n",
       "    }\n",
       "\n",
       "    .dataframe thead th {\n",
       "        text-align: right;\n",
       "    }\n",
       "</style>\n",
       "<table border=\"1\" class=\"dataframe\">\n",
       "  <thead>\n",
       "    <tr style=\"text-align: right;\">\n",
       "      <th></th>\n",
       "      <th>nome</th>\n",
       "    </tr>\n",
       "  </thead>\n",
       "  <tbody>\n",
       "    <tr>\n",
       "      <th>34</th>\n",
       "      <td>SEBASTIAO</td>\n",
       "    </tr>\n",
       "    <tr>\n",
       "      <th>42</th>\n",
       "      <td>MARLENE</td>\n",
       "    </tr>\n",
       "    <tr>\n",
       "      <th>103</th>\n",
       "      <td>MAICON</td>\n",
       "    </tr>\n",
       "    <tr>\n",
       "      <th>155</th>\n",
       "      <td>CECILIA</td>\n",
       "    </tr>\n",
       "    <tr>\n",
       "      <th>142</th>\n",
       "      <td>HUGO</td>\n",
       "    </tr>\n",
       "    <tr>\n",
       "      <th>109</th>\n",
       "      <td>CELSO</td>\n",
       "    </tr>\n",
       "    <tr>\n",
       "      <th>54</th>\n",
       "      <td>REGINA</td>\n",
       "    </tr>\n",
       "    <tr>\n",
       "      <th>87</th>\n",
       "      <td>JONAS</td>\n",
       "    </tr>\n",
       "    <tr>\n",
       "      <th>178</th>\n",
       "      <td>DENILSON</td>\n",
       "    </tr>\n",
       "    <tr>\n",
       "      <th>91</th>\n",
       "      <td>CELIA</td>\n",
       "    </tr>\n",
       "  </tbody>\n",
       "</table>\n",
       "</div>"
      ],
      "text/plain": [
       "          nome\n",
       "34   SEBASTIAO\n",
       "42     MARLENE\n",
       "103     MAICON\n",
       "155    CECILIA\n",
       "142       HUGO\n",
       "109      CELSO\n",
       "54      REGINA\n",
       "87       JONAS\n",
       "178   DENILSON\n",
       "91       CELIA"
      ]
     },
     "execution_count": 686,
     "metadata": {},
     "output_type": "execute_result"
    }
   ],
   "source": [
    "nomes.sample(10)"
   ]
  },
  {
   "cell_type": "code",
   "execution_count": 687,
   "id": "14b9a642-e56c-41ff-9384-c8f94654be8a",
   "metadata": {
    "pycharm": {
     "name": "#%%\n"
    }
   },
   "outputs": [],
   "source": [
    "nomes[\"id_aluno\"] = np.random.permutation(total_alunos) + 1"
   ]
  },
  {
   "cell_type": "code",
   "execution_count": 688,
   "id": "ffbfc64c-6ffa-4580-9f74-a29a6c1b7d25",
   "metadata": {
    "pycharm": {
     "name": "#%%\n"
    }
   },
   "outputs": [
    {
     "data": {
      "text/html": [
       "<div>\n",
       "<style scoped>\n",
       "    .dataframe tbody tr th:only-of-type {\n",
       "        vertical-align: middle;\n",
       "    }\n",
       "\n",
       "    .dataframe tbody tr th {\n",
       "        vertical-align: top;\n",
       "    }\n",
       "\n",
       "    .dataframe thead th {\n",
       "        text-align: right;\n",
       "    }\n",
       "</style>\n",
       "<table border=\"1\" class=\"dataframe\">\n",
       "  <thead>\n",
       "    <tr style=\"text-align: right;\">\n",
       "      <th></th>\n",
       "      <th>nome</th>\n",
       "      <th>id_aluno</th>\n",
       "    </tr>\n",
       "  </thead>\n",
       "  <tbody>\n",
       "    <tr>\n",
       "      <th>46</th>\n",
       "      <td>FABIANA</td>\n",
       "      <td>373</td>\n",
       "    </tr>\n",
       "    <tr>\n",
       "      <th>159</th>\n",
       "      <td>SELMA</td>\n",
       "      <td>29</td>\n",
       "    </tr>\n",
       "    <tr>\n",
       "      <th>3</th>\n",
       "      <td>ANTONIA</td>\n",
       "      <td>383</td>\n",
       "    </tr>\n",
       "    <tr>\n",
       "      <th>97</th>\n",
       "      <td>BARBARA</td>\n",
       "      <td>71</td>\n",
       "    </tr>\n",
       "    <tr>\n",
       "      <th>64</th>\n",
       "      <td>ROBSON</td>\n",
       "      <td>188</td>\n",
       "    </tr>\n",
       "    <tr>\n",
       "      <th>59</th>\n",
       "      <td>ISABEL</td>\n",
       "      <td>261</td>\n",
       "    </tr>\n",
       "    <tr>\n",
       "      <th>36</th>\n",
       "      <td>ROBERTO</td>\n",
       "      <td>35</td>\n",
       "    </tr>\n",
       "    <tr>\n",
       "      <th>123</th>\n",
       "      <td>EVANDRO</td>\n",
       "      <td>16</td>\n",
       "    </tr>\n",
       "    <tr>\n",
       "      <th>134</th>\n",
       "      <td>VERONICA</td>\n",
       "      <td>2</td>\n",
       "    </tr>\n",
       "    <tr>\n",
       "      <th>181</th>\n",
       "      <td>IRACEMA</td>\n",
       "      <td>10</td>\n",
       "    </tr>\n",
       "  </tbody>\n",
       "</table>\n",
       "</div>"
      ],
      "text/plain": [
       "         nome  id_aluno\n",
       "46    FABIANA       373\n",
       "159     SELMA        29\n",
       "3     ANTONIA       383\n",
       "97    BARBARA        71\n",
       "64     ROBSON       188\n",
       "59     ISABEL       261\n",
       "36    ROBERTO        35\n",
       "123   EVANDRO        16\n",
       "134  VERONICA         2\n",
       "181   IRACEMA        10"
      ]
     },
     "execution_count": 688,
     "metadata": {},
     "output_type": "execute_result"
    }
   ],
   "source": [
    "nomes.sample(10)"
   ]
  },
  {
   "cell_type": "code",
   "execution_count": 689,
   "id": "dccb0b4b-6a04-40d3-8b31-1db19fabdf71",
   "metadata": {
    "pycharm": {
     "name": "#%%\n"
    }
   },
   "outputs": [],
   "source": [
    "dominios = ['@dominiodoemmail.com.br', '@servicodoemail.com']"
   ]
  },
  {
   "cell_type": "code",
   "execution_count": 690,
   "id": "7135186b-7b91-4475-82ec-51637f29630e",
   "metadata": {
    "pycharm": {
     "name": "#%%\n"
    }
   },
   "outputs": [],
   "source": [
    "nomes[\"dominio\"] = np.random.choice(dominios, total_alunos)"
   ]
  },
  {
   "cell_type": "code",
   "execution_count": 691,
   "id": "99b42c34-1af6-4ce7-a0cc-9ca382d1503c",
   "metadata": {
    "pycharm": {
     "name": "#%%\n"
    }
   },
   "outputs": [],
   "source": [
    "nomes[\"email\"] = nomes.nome.str.cat(nomes.dominio).str.lower()"
   ]
  },
  {
   "cell_type": "code",
   "execution_count": 692,
   "id": "68d12e88-3339-42ef-b9fd-cd2a7f5d8d1e",
   "metadata": {
    "pycharm": {
     "name": "#%%\n"
    }
   },
   "outputs": [
    {
     "data": {
      "text/html": [
       "<div>\n",
       "<style scoped>\n",
       "    .dataframe tbody tr th:only-of-type {\n",
       "        vertical-align: middle;\n",
       "    }\n",
       "\n",
       "    .dataframe tbody tr th {\n",
       "        vertical-align: top;\n",
       "    }\n",
       "\n",
       "    .dataframe thead th {\n",
       "        text-align: right;\n",
       "    }\n",
       "</style>\n",
       "<table border=\"1\" class=\"dataframe\">\n",
       "  <thead>\n",
       "    <tr style=\"text-align: right;\">\n",
       "      <th></th>\n",
       "      <th>nome</th>\n",
       "      <th>id_aluno</th>\n",
       "      <th>dominio</th>\n",
       "      <th>email</th>\n",
       "    </tr>\n",
       "  </thead>\n",
       "  <tbody>\n",
       "    <tr>\n",
       "      <th>190</th>\n",
       "      <td>NATANAEL</td>\n",
       "      <td>72</td>\n",
       "      <td>@servicodoemail.com</td>\n",
       "      <td>natanael@servicodoemail.com</td>\n",
       "    </tr>\n",
       "    <tr>\n",
       "      <th>104</th>\n",
       "      <td>REINALDO</td>\n",
       "      <td>351</td>\n",
       "      <td>@servicodoemail.com</td>\n",
       "      <td>reinaldo@servicodoemail.com</td>\n",
       "    </tr>\n",
       "    <tr>\n",
       "      <th>193</th>\n",
       "      <td>LUCILENE</td>\n",
       "      <td>120</td>\n",
       "      <td>@servicodoemail.com</td>\n",
       "      <td>lucilene@servicodoemail.com</td>\n",
       "    </tr>\n",
       "    <tr>\n",
       "      <th>98</th>\n",
       "      <td>THAIS</td>\n",
       "      <td>12</td>\n",
       "      <td>@dominiodoemmail.com.br</td>\n",
       "      <td>thais@dominiodoemmail.com.br</td>\n",
       "    </tr>\n",
       "    <tr>\n",
       "      <th>2</th>\n",
       "      <td>ANTONIO</td>\n",
       "      <td>122</td>\n",
       "      <td>@dominiodoemmail.com.br</td>\n",
       "      <td>antonio@dominiodoemmail.com.br</td>\n",
       "    </tr>\n",
       "  </tbody>\n",
       "</table>\n",
       "</div>"
      ],
      "text/plain": [
       "         nome  id_aluno                  dominio  \\\n",
       "190  NATANAEL        72      @servicodoemail.com   \n",
       "104  REINALDO       351      @servicodoemail.com   \n",
       "193  LUCILENE       120      @servicodoemail.com   \n",
       "98      THAIS        12  @dominiodoemmail.com.br   \n",
       "2     ANTONIO       122  @dominiodoemmail.com.br   \n",
       "\n",
       "                              email  \n",
       "190     natanael@servicodoemail.com  \n",
       "104     reinaldo@servicodoemail.com  \n",
       "193     lucilene@servicodoemail.com  \n",
       "98     thais@dominiodoemmail.com.br  \n",
       "2    antonio@dominiodoemmail.com.br  "
      ]
     },
     "execution_count": 692,
     "metadata": {},
     "output_type": "execute_result"
    }
   ],
   "source": [
    "nomes.sample(5)"
   ]
  },
  {
   "cell_type": "code",
   "execution_count": 693,
   "id": "a1625ccb-9862-474a-aa8c-d36037c42012",
   "metadata": {
    "pycharm": {
     "name": "#%%\n"
    }
   },
   "outputs": [
    {
     "data": {
      "text/plain": [
       "0          @servicodoemail.com\n",
       "1          @servicodoemail.com\n",
       "2      @dominiodoemmail.com.br\n",
       "3      @dominiodoemmail.com.br\n",
       "4      @dominiodoemmail.com.br\n",
       "                ...           \n",
       "195        @servicodoemail.com\n",
       "196    @dominiodoemmail.com.br\n",
       "197    @dominiodoemmail.com.br\n",
       "198        @servicodoemail.com\n",
       "199    @dominiodoemmail.com.br\n",
       "Name: dominio, Length: 400, dtype: object"
      ]
     },
     "execution_count": 693,
     "metadata": {},
     "output_type": "execute_result"
    }
   ],
   "source": [
    "nomes.pop(\"dominio\")"
   ]
  },
  {
   "cell_type": "code",
   "execution_count": 694,
   "id": "65524e9c-0e60-4ecb-808c-6efa9797185b",
   "metadata": {
    "pycharm": {
     "name": "#%%\n"
    }
   },
   "outputs": [
    {
     "data": {
      "text/html": [
       "<div>\n",
       "<style scoped>\n",
       "    .dataframe tbody tr th:only-of-type {\n",
       "        vertical-align: middle;\n",
       "    }\n",
       "\n",
       "    .dataframe tbody tr th {\n",
       "        vertical-align: top;\n",
       "    }\n",
       "\n",
       "    .dataframe thead th {\n",
       "        text-align: right;\n",
       "    }\n",
       "</style>\n",
       "<table border=\"1\" class=\"dataframe\">\n",
       "  <thead>\n",
       "    <tr style=\"text-align: right;\">\n",
       "      <th></th>\n",
       "      <th>nome</th>\n",
       "      <th>id_aluno</th>\n",
       "      <th>email</th>\n",
       "    </tr>\n",
       "  </thead>\n",
       "  <tbody>\n",
       "    <tr>\n",
       "      <th>0</th>\n",
       "      <td>MARIA</td>\n",
       "      <td>189</td>\n",
       "      <td>maria@servicodoemail.com</td>\n",
       "    </tr>\n",
       "    <tr>\n",
       "      <th>1</th>\n",
       "      <td>ANA</td>\n",
       "      <td>58</td>\n",
       "      <td>ana@servicodoemail.com</td>\n",
       "    </tr>\n",
       "    <tr>\n",
       "      <th>2</th>\n",
       "      <td>FRANCISCA</td>\n",
       "      <td>204</td>\n",
       "      <td>francisca@dominiodoemmail.com.br</td>\n",
       "    </tr>\n",
       "    <tr>\n",
       "      <th>3</th>\n",
       "      <td>ANTONIA</td>\n",
       "      <td>383</td>\n",
       "      <td>antonia@dominiodoemmail.com.br</td>\n",
       "    </tr>\n",
       "    <tr>\n",
       "      <th>4</th>\n",
       "      <td>ADRIANA</td>\n",
       "      <td>231</td>\n",
       "      <td>adriana@dominiodoemmail.com.br</td>\n",
       "    </tr>\n",
       "    <tr>\n",
       "      <th>5</th>\n",
       "      <td>JULIANA</td>\n",
       "      <td>285</td>\n",
       "      <td>juliana@dominiodoemmail.com.br</td>\n",
       "    </tr>\n",
       "    <tr>\n",
       "      <th>6</th>\n",
       "      <td>MARCIA</td>\n",
       "      <td>105</td>\n",
       "      <td>marcia@dominiodoemmail.com.br</td>\n",
       "    </tr>\n",
       "    <tr>\n",
       "      <th>7</th>\n",
       "      <td>FERNANDA</td>\n",
       "      <td>237</td>\n",
       "      <td>fernanda@dominiodoemmail.com.br</td>\n",
       "    </tr>\n",
       "    <tr>\n",
       "      <th>8</th>\n",
       "      <td>PATRICIA</td>\n",
       "      <td>5</td>\n",
       "      <td>patricia@dominiodoemmail.com.br</td>\n",
       "    </tr>\n",
       "    <tr>\n",
       "      <th>9</th>\n",
       "      <td>ALINE</td>\n",
       "      <td>268</td>\n",
       "      <td>aline@servicodoemail.com</td>\n",
       "    </tr>\n",
       "  </tbody>\n",
       "</table>\n",
       "</div>"
      ],
      "text/plain": [
       "        nome  id_aluno                             email\n",
       "0      MARIA       189          maria@servicodoemail.com\n",
       "1        ANA        58            ana@servicodoemail.com\n",
       "2  FRANCISCA       204  francisca@dominiodoemmail.com.br\n",
       "3    ANTONIA       383    antonia@dominiodoemmail.com.br\n",
       "4    ADRIANA       231    adriana@dominiodoemmail.com.br\n",
       "5    JULIANA       285    juliana@dominiodoemmail.com.br\n",
       "6     MARCIA       105     marcia@dominiodoemmail.com.br\n",
       "7   FERNANDA       237   fernanda@dominiodoemmail.com.br\n",
       "8   PATRICIA         5   patricia@dominiodoemmail.com.br\n",
       "9      ALINE       268          aline@servicodoemail.com"
      ]
     },
     "execution_count": 694,
     "metadata": {},
     "output_type": "execute_result"
    }
   ],
   "source": [
    "nomes.head(10)"
   ]
  },
  {
   "cell_type": "markdown",
   "id": "286c0765-90cb-46b9-a70e-c5a58822489f",
   "metadata": {
    "pycharm": {
     "name": "#%% md\n"
    }
   },
   "source": [
    "# Criando a tabela Cursos"
   ]
  },
  {
   "cell_type": "code",
   "execution_count": 695,
   "id": "84b27dbf-7683-4acf-bda5-0b34bac69ef2",
   "metadata": {
    "pycharm": {
     "name": "#%%\n"
    }
   },
   "outputs": [
    {
     "name": "stdout",
     "output_type": "stream",
     "text": [
      "Requirement already satisfied: html5lib in c:\\users\\igors\\anaconda3\\lib\\site-packages (1.1)\n",
      "Requirement already satisfied: six>=1.9 in c:\\users\\igors\\anaconda3\\lib\\site-packages (from html5lib) (1.16.0)\n",
      "Requirement already satisfied: webencodings in c:\\users\\igors\\anaconda3\\lib\\site-packages (from html5lib) (0.5.1)\n",
      "Requirement already satisfied: lxml in c:\\users\\igors\\anaconda3\\lib\\site-packages (4.6.3)\n"
     ]
    }
   ],
   "source": [
    "!pip3 install html5lib\n",
    "!pip3 install lxml"
   ]
  },
  {
   "cell_type": "code",
   "execution_count": 696,
   "id": "cd6c23a4-8b2d-4abe-9aed-62ba7bbfafff",
   "metadata": {
    "pycharm": {
     "name": "#%%\n"
    }
   },
   "outputs": [],
   "source": [
    "import html5lib"
   ]
  },
  {
   "cell_type": "code",
   "execution_count": 697,
   "id": "b9cac2fa-1d46-41ee-958a-c2a3fad91134",
   "metadata": {
    "pycharm": {
     "name": "#%%\n"
    }
   },
   "outputs": [],
   "source": [
    "url = 'http://tabela-cursos.herokuapp.com/index.html'\n",
    "cursos = pd.read_html(url)"
   ]
  },
  {
   "cell_type": "code",
   "execution_count": 698,
   "id": "647fa3da-5479-454a-ac2c-f93669608fe8",
   "metadata": {
    "pycharm": {
     "name": "#%%\n"
    }
   },
   "outputs": [
    {
     "data": {
      "text/plain": [
       "[                          Nome do curso\n",
       " 0                 Lógica de programação\n",
       " 1                         Java para Web\n",
       " 2                           C# para Web\n",
       " 3                         Ruby on Rails\n",
       " 4                      Cursos de Python\n",
       " 5                         PHP com MySql\n",
       " 6                         .NET para web\n",
       " 7            Novas integrações com Java\n",
       " 8                          TDD com Java\n",
       " 9                   Código limpo com C#\n",
       " 10  Preparatório para certificação Java\n",
       " 11                      Hardware básico\n",
       " 12                Persistência com .NET\n",
       " 13                  Desenvolvendo jogos\n",
       " 14                     Análise de dados\n",
       " 15                   Estatística básica\n",
       " 16                  Internet das coisas\n",
       " 17                Programação funcional\n",
       " 18                Boas práticas em Java\n",
       " 19          Orientação objetos com Java]"
      ]
     },
     "execution_count": 698,
     "metadata": {},
     "output_type": "execute_result"
    }
   ],
   "source": [
    "cursos"
   ]
  },
  {
   "cell_type": "code",
   "execution_count": 699,
   "id": "03aa9832-73e1-4fa3-9ccc-6af8b9d25c4c",
   "metadata": {
    "pycharm": {
     "name": "#%%\n"
    }
   },
   "outputs": [
    {
     "data": {
      "text/html": [
       "<div>\n",
       "<style scoped>\n",
       "    .dataframe tbody tr th:only-of-type {\n",
       "        vertical-align: middle;\n",
       "    }\n",
       "\n",
       "    .dataframe tbody tr th {\n",
       "        vertical-align: top;\n",
       "    }\n",
       "\n",
       "    .dataframe thead th {\n",
       "        text-align: right;\n",
       "    }\n",
       "</style>\n",
       "<table border=\"1\" class=\"dataframe\">\n",
       "  <thead>\n",
       "    <tr style=\"text-align: right;\">\n",
       "      <th></th>\n",
       "      <th>Nome do curso</th>\n",
       "    </tr>\n",
       "  </thead>\n",
       "  <tbody>\n",
       "    <tr>\n",
       "      <th>0</th>\n",
       "      <td>Lógica de programação</td>\n",
       "    </tr>\n",
       "    <tr>\n",
       "      <th>1</th>\n",
       "      <td>Java para Web</td>\n",
       "    </tr>\n",
       "    <tr>\n",
       "      <th>2</th>\n",
       "      <td>C# para Web</td>\n",
       "    </tr>\n",
       "    <tr>\n",
       "      <th>3</th>\n",
       "      <td>Ruby on Rails</td>\n",
       "    </tr>\n",
       "    <tr>\n",
       "      <th>4</th>\n",
       "      <td>Cursos de Python</td>\n",
       "    </tr>\n",
       "    <tr>\n",
       "      <th>5</th>\n",
       "      <td>PHP com MySql</td>\n",
       "    </tr>\n",
       "    <tr>\n",
       "      <th>6</th>\n",
       "      <td>.NET para web</td>\n",
       "    </tr>\n",
       "    <tr>\n",
       "      <th>7</th>\n",
       "      <td>Novas integrações com Java</td>\n",
       "    </tr>\n",
       "    <tr>\n",
       "      <th>8</th>\n",
       "      <td>TDD com Java</td>\n",
       "    </tr>\n",
       "    <tr>\n",
       "      <th>9</th>\n",
       "      <td>Código limpo com C#</td>\n",
       "    </tr>\n",
       "    <tr>\n",
       "      <th>10</th>\n",
       "      <td>Preparatório para certificação Java</td>\n",
       "    </tr>\n",
       "    <tr>\n",
       "      <th>11</th>\n",
       "      <td>Hardware básico</td>\n",
       "    </tr>\n",
       "    <tr>\n",
       "      <th>12</th>\n",
       "      <td>Persistência com .NET</td>\n",
       "    </tr>\n",
       "    <tr>\n",
       "      <th>13</th>\n",
       "      <td>Desenvolvendo jogos</td>\n",
       "    </tr>\n",
       "    <tr>\n",
       "      <th>14</th>\n",
       "      <td>Análise de dados</td>\n",
       "    </tr>\n",
       "    <tr>\n",
       "      <th>15</th>\n",
       "      <td>Estatística básica</td>\n",
       "    </tr>\n",
       "    <tr>\n",
       "      <th>16</th>\n",
       "      <td>Internet das coisas</td>\n",
       "    </tr>\n",
       "    <tr>\n",
       "      <th>17</th>\n",
       "      <td>Programação funcional</td>\n",
       "    </tr>\n",
       "    <tr>\n",
       "      <th>18</th>\n",
       "      <td>Boas práticas em Java</td>\n",
       "    </tr>\n",
       "    <tr>\n",
       "      <th>19</th>\n",
       "      <td>Orientação objetos com Java</td>\n",
       "    </tr>\n",
       "  </tbody>\n",
       "</table>\n",
       "</div>"
      ],
      "text/plain": [
       "                          Nome do curso\n",
       "0                 Lógica de programação\n",
       "1                         Java para Web\n",
       "2                           C# para Web\n",
       "3                         Ruby on Rails\n",
       "4                      Cursos de Python\n",
       "5                         PHP com MySql\n",
       "6                         .NET para web\n",
       "7            Novas integrações com Java\n",
       "8                          TDD com Java\n",
       "9                   Código limpo com C#\n",
       "10  Preparatório para certificação Java\n",
       "11                      Hardware básico\n",
       "12                Persistência com .NET\n",
       "13                  Desenvolvendo jogos\n",
       "14                     Análise de dados\n",
       "15                   Estatística básica\n",
       "16                  Internet das coisas\n",
       "17                Programação funcional\n",
       "18                Boas práticas em Java\n",
       "19          Orientação objetos com Java"
      ]
     },
     "execution_count": 699,
     "metadata": {},
     "output_type": "execute_result"
    }
   ],
   "source": [
    "cursos[0]"
   ]
  },
  {
   "cell_type": "code",
   "execution_count": 700,
   "id": "78287142-1297-46bb-b51e-0e028b9f9292",
   "metadata": {
    "pycharm": {
     "name": "#%%\n"
    }
   },
   "outputs": [
    {
     "data": {
      "text/plain": [
       "list"
      ]
     },
     "execution_count": 700,
     "metadata": {},
     "output_type": "execute_result"
    }
   ],
   "source": [
    "type(cursos)"
   ]
  },
  {
   "cell_type": "code",
   "execution_count": 701,
   "id": "a6bd265b-f5be-4522-9bdf-6087cbe6c09a",
   "metadata": {
    "pycharm": {
     "name": "#%%\n"
    }
   },
   "outputs": [],
   "source": [
    "cursos = cursos[0]"
   ]
  },
  {
   "cell_type": "code",
   "execution_count": 702,
   "id": "ae703194-829f-44d5-9b19-fa893a1a5345",
   "metadata": {
    "pycharm": {
     "name": "#%%\n"
    }
   },
   "outputs": [
    {
     "data": {
      "text/plain": [
       "pandas.core.frame.DataFrame"
      ]
     },
     "execution_count": 702,
     "metadata": {},
     "output_type": "execute_result"
    }
   ],
   "source": [
    "type(cursos)"
   ]
  },
  {
   "cell_type": "code",
   "execution_count": 703,
   "id": "25b93946-e629-48c8-98d1-c9dc84ae8cfb",
   "metadata": {
    "pycharm": {
     "name": "#%%\n"
    }
   },
   "outputs": [
    {
     "data": {
      "text/html": [
       "<div>\n",
       "<style scoped>\n",
       "    .dataframe tbody tr th:only-of-type {\n",
       "        vertical-align: middle;\n",
       "    }\n",
       "\n",
       "    .dataframe tbody tr th {\n",
       "        vertical-align: top;\n",
       "    }\n",
       "\n",
       "    .dataframe thead th {\n",
       "        text-align: right;\n",
       "    }\n",
       "</style>\n",
       "<table border=\"1\" class=\"dataframe\">\n",
       "  <thead>\n",
       "    <tr style=\"text-align: right;\">\n",
       "      <th></th>\n",
       "      <th>Nome do curso</th>\n",
       "    </tr>\n",
       "  </thead>\n",
       "  <tbody>\n",
       "    <tr>\n",
       "      <th>0</th>\n",
       "      <td>Lógica de programação</td>\n",
       "    </tr>\n",
       "    <tr>\n",
       "      <th>1</th>\n",
       "      <td>Java para Web</td>\n",
       "    </tr>\n",
       "    <tr>\n",
       "      <th>2</th>\n",
       "      <td>C# para Web</td>\n",
       "    </tr>\n",
       "    <tr>\n",
       "      <th>3</th>\n",
       "      <td>Ruby on Rails</td>\n",
       "    </tr>\n",
       "    <tr>\n",
       "      <th>4</th>\n",
       "      <td>Cursos de Python</td>\n",
       "    </tr>\n",
       "  </tbody>\n",
       "</table>\n",
       "</div>"
      ],
      "text/plain": [
       "           Nome do curso\n",
       "0  Lógica de programação\n",
       "1          Java para Web\n",
       "2            C# para Web\n",
       "3          Ruby on Rails\n",
       "4       Cursos de Python"
      ]
     },
     "execution_count": 703,
     "metadata": {},
     "output_type": "execute_result"
    }
   ],
   "source": [
    "cursos.head()"
   ]
  },
  {
   "cell_type": "markdown",
   "id": "1fecbb17-46f8-4561-aada-c3ab4779ce46",
   "metadata": {
    "pycharm": {
     "name": "#%% md\n"
    }
   },
   "source": [
    "## Alterando o index dos cursos"
   ]
  },
  {
   "cell_type": "code",
   "execution_count": 704,
   "id": "39cd3ff3-7de1-4f54-a59e-c567424c8740",
   "metadata": {
    "pycharm": {
     "name": "#%%\n"
    }
   },
   "outputs": [],
   "source": [
    "cursos = cursos.rename(columns={'Nome do curso': 'nome_do_curso'})"
   ]
  },
  {
   "cell_type": "code",
   "execution_count": 705,
   "id": "438f9342-9e3f-4c60-8f6f-acfb8379eb8d",
   "metadata": {
    "pycharm": {
     "name": "#%%\n"
    }
   },
   "outputs": [
    {
     "data": {
      "text/html": [
       "<div>\n",
       "<style scoped>\n",
       "    .dataframe tbody tr th:only-of-type {\n",
       "        vertical-align: middle;\n",
       "    }\n",
       "\n",
       "    .dataframe tbody tr th {\n",
       "        vertical-align: top;\n",
       "    }\n",
       "\n",
       "    .dataframe thead th {\n",
       "        text-align: right;\n",
       "    }\n",
       "</style>\n",
       "<table border=\"1\" class=\"dataframe\">\n",
       "  <thead>\n",
       "    <tr style=\"text-align: right;\">\n",
       "      <th></th>\n",
       "      <th>nome_do_curso</th>\n",
       "    </tr>\n",
       "  </thead>\n",
       "  <tbody>\n",
       "    <tr>\n",
       "      <th>0</th>\n",
       "      <td>Lógica de programação</td>\n",
       "    </tr>\n",
       "    <tr>\n",
       "      <th>1</th>\n",
       "      <td>Java para Web</td>\n",
       "    </tr>\n",
       "  </tbody>\n",
       "</table>\n",
       "</div>"
      ],
      "text/plain": [
       "           nome_do_curso\n",
       "0  Lógica de programação\n",
       "1          Java para Web"
      ]
     },
     "execution_count": 705,
     "metadata": {},
     "output_type": "execute_result"
    }
   ],
   "source": [
    "cursos.head(2)"
   ]
  },
  {
   "cell_type": "code",
   "execution_count": 706,
   "id": "54a54d5a-2ac0-4e4d-9988-ce598957339e",
   "metadata": {
    "pycharm": {
     "name": "#%%\n"
    }
   },
   "outputs": [],
   "source": [
    "cursos['ID'] = cursos.index + 1"
   ]
  },
  {
   "cell_type": "code",
   "execution_count": 707,
   "id": "ac5edd9e-5923-45c4-b079-ba5d868d743b",
   "metadata": {
    "pycharm": {
     "name": "#%%\n"
    }
   },
   "outputs": [
    {
     "data": {
      "text/html": [
       "<div>\n",
       "<style scoped>\n",
       "    .dataframe tbody tr th:only-of-type {\n",
       "        vertical-align: middle;\n",
       "    }\n",
       "\n",
       "    .dataframe tbody tr th {\n",
       "        vertical-align: top;\n",
       "    }\n",
       "\n",
       "    .dataframe thead th {\n",
       "        text-align: right;\n",
       "    }\n",
       "</style>\n",
       "<table border=\"1\" class=\"dataframe\">\n",
       "  <thead>\n",
       "    <tr style=\"text-align: right;\">\n",
       "      <th></th>\n",
       "      <th>nome_do_curso</th>\n",
       "      <th>ID</th>\n",
       "    </tr>\n",
       "  </thead>\n",
       "  <tbody>\n",
       "    <tr>\n",
       "      <th>0</th>\n",
       "      <td>Lógica de programação</td>\n",
       "      <td>1</td>\n",
       "    </tr>\n",
       "    <tr>\n",
       "      <th>1</th>\n",
       "      <td>Java para Web</td>\n",
       "      <td>2</td>\n",
       "    </tr>\n",
       "    <tr>\n",
       "      <th>2</th>\n",
       "      <td>C# para Web</td>\n",
       "      <td>3</td>\n",
       "    </tr>\n",
       "    <tr>\n",
       "      <th>3</th>\n",
       "      <td>Ruby on Rails</td>\n",
       "      <td>4</td>\n",
       "    </tr>\n",
       "    <tr>\n",
       "      <th>4</th>\n",
       "      <td>Cursos de Python</td>\n",
       "      <td>5</td>\n",
       "    </tr>\n",
       "  </tbody>\n",
       "</table>\n",
       "</div>"
      ],
      "text/plain": [
       "           nome_do_curso  ID\n",
       "0  Lógica de programação   1\n",
       "1          Java para Web   2\n",
       "2            C# para Web   3\n",
       "3          Ruby on Rails   4\n",
       "4       Cursos de Python   5"
      ]
     },
     "execution_count": 707,
     "metadata": {},
     "output_type": "execute_result"
    }
   ],
   "source": [
    "cursos.head(5)"
   ]
  },
  {
   "cell_type": "code",
   "execution_count": 708,
   "id": "b7089aaa-b68f-4dbb-9093-e5105c743ea4",
   "metadata": {
    "pycharm": {
     "name": "#%%\n"
    }
   },
   "outputs": [],
   "source": [
    "cursos = cursos.set_index(\"ID\")"
   ]
  },
  {
   "cell_type": "code",
   "execution_count": 709,
   "id": "5757fcda-c8e2-404d-9bb9-eb4cde312826",
   "metadata": {
    "pycharm": {
     "name": "#%%\n"
    }
   },
   "outputs": [
    {
     "data": {
      "text/html": [
       "<div>\n",
       "<style scoped>\n",
       "    .dataframe tbody tr th:only-of-type {\n",
       "        vertical-align: middle;\n",
       "    }\n",
       "\n",
       "    .dataframe tbody tr th {\n",
       "        vertical-align: top;\n",
       "    }\n",
       "\n",
       "    .dataframe thead th {\n",
       "        text-align: right;\n",
       "    }\n",
       "</style>\n",
       "<table border=\"1\" class=\"dataframe\">\n",
       "  <thead>\n",
       "    <tr style=\"text-align: right;\">\n",
       "      <th></th>\n",
       "      <th>nome_do_curso</th>\n",
       "    </tr>\n",
       "    <tr>\n",
       "      <th>ID</th>\n",
       "      <th></th>\n",
       "    </tr>\n",
       "  </thead>\n",
       "  <tbody>\n",
       "    <tr>\n",
       "      <th>1</th>\n",
       "      <td>Lógica de programação</td>\n",
       "    </tr>\n",
       "    <tr>\n",
       "      <th>2</th>\n",
       "      <td>Java para Web</td>\n",
       "    </tr>\n",
       "    <tr>\n",
       "      <th>3</th>\n",
       "      <td>C# para Web</td>\n",
       "    </tr>\n",
       "    <tr>\n",
       "      <th>4</th>\n",
       "      <td>Ruby on Rails</td>\n",
       "    </tr>\n",
       "    <tr>\n",
       "      <th>5</th>\n",
       "      <td>Cursos de Python</td>\n",
       "    </tr>\n",
       "    <tr>\n",
       "      <th>6</th>\n",
       "      <td>PHP com MySql</td>\n",
       "    </tr>\n",
       "    <tr>\n",
       "      <th>7</th>\n",
       "      <td>.NET para web</td>\n",
       "    </tr>\n",
       "    <tr>\n",
       "      <th>8</th>\n",
       "      <td>Novas integrações com Java</td>\n",
       "    </tr>\n",
       "    <tr>\n",
       "      <th>9</th>\n",
       "      <td>TDD com Java</td>\n",
       "    </tr>\n",
       "    <tr>\n",
       "      <th>10</th>\n",
       "      <td>Código limpo com C#</td>\n",
       "    </tr>\n",
       "    <tr>\n",
       "      <th>11</th>\n",
       "      <td>Preparatório para certificação Java</td>\n",
       "    </tr>\n",
       "    <tr>\n",
       "      <th>12</th>\n",
       "      <td>Hardware básico</td>\n",
       "    </tr>\n",
       "    <tr>\n",
       "      <th>13</th>\n",
       "      <td>Persistência com .NET</td>\n",
       "    </tr>\n",
       "    <tr>\n",
       "      <th>14</th>\n",
       "      <td>Desenvolvendo jogos</td>\n",
       "    </tr>\n",
       "    <tr>\n",
       "      <th>15</th>\n",
       "      <td>Análise de dados</td>\n",
       "    </tr>\n",
       "    <tr>\n",
       "      <th>16</th>\n",
       "      <td>Estatística básica</td>\n",
       "    </tr>\n",
       "    <tr>\n",
       "      <th>17</th>\n",
       "      <td>Internet das coisas</td>\n",
       "    </tr>\n",
       "    <tr>\n",
       "      <th>18</th>\n",
       "      <td>Programação funcional</td>\n",
       "    </tr>\n",
       "    <tr>\n",
       "      <th>19</th>\n",
       "      <td>Boas práticas em Java</td>\n",
       "    </tr>\n",
       "    <tr>\n",
       "      <th>20</th>\n",
       "      <td>Orientação objetos com Java</td>\n",
       "    </tr>\n",
       "  </tbody>\n",
       "</table>\n",
       "</div>"
      ],
      "text/plain": [
       "                          nome_do_curso\n",
       "ID                                     \n",
       "1                 Lógica de programação\n",
       "2                         Java para Web\n",
       "3                           C# para Web\n",
       "4                         Ruby on Rails\n",
       "5                      Cursos de Python\n",
       "6                         PHP com MySql\n",
       "7                         .NET para web\n",
       "8            Novas integrações com Java\n",
       "9                          TDD com Java\n",
       "10                  Código limpo com C#\n",
       "11  Preparatório para certificação Java\n",
       "12                      Hardware básico\n",
       "13                Persistência com .NET\n",
       "14                  Desenvolvendo jogos\n",
       "15                     Análise de dados\n",
       "16                   Estatística básica\n",
       "17                  Internet das coisas\n",
       "18                Programação funcional\n",
       "19                Boas práticas em Java\n",
       "20          Orientação objetos com Java"
      ]
     },
     "execution_count": 709,
     "metadata": {},
     "output_type": "execute_result"
    }
   ],
   "source": [
    "cursos"
   ]
  },
  {
   "cell_type": "markdown",
   "id": "d6f97b99-2559-4671-899e-642833c640b0",
   "metadata": {
    "pycharm": {
     "name": "#%% md\n"
    }
   },
   "source": [
    "# Manipulando alunos e alunas"
   ]
  },
  {
   "cell_type": "code",
   "execution_count": 710,
   "id": "45b4e11e-fbd4-4be5-a008-60561fa8f084",
   "metadata": {
    "pycharm": {
     "name": "#%%\n"
    }
   },
   "outputs": [],
   "source": [
    "nomes['matriculas'] = np.ceil(np.random.exponential(size=total_alunos) * 1.5).astype(int)"
   ]
  },
  {
   "cell_type": "code",
   "execution_count": 711,
   "id": "b4d9acb8-0974-4835-9973-24274bb486be",
   "metadata": {
    "pycharm": {
     "name": "#%%\n"
    }
   },
   "outputs": [
    {
     "data": {
      "text/plain": [
       "count    400.000000\n",
       "mean       2.125000\n",
       "std        1.503338\n",
       "min        1.000000\n",
       "25%        1.000000\n",
       "50%        2.000000\n",
       "75%        3.000000\n",
       "max       12.000000\n",
       "Name: matriculas, dtype: float64"
      ]
     },
     "execution_count": 711,
     "metadata": {},
     "output_type": "execute_result"
    }
   ],
   "source": [
    "nomes['matriculas'].describe()"
   ]
  },
  {
   "cell_type": "code",
   "execution_count": 712,
   "id": "e720c604-a553-48aa-8cf3-60ee92735aba",
   "metadata": {
    "pycharm": {
     "name": "#%%\n"
    }
   },
   "outputs": [],
   "source": [
    "import seaborn as sns"
   ]
  },
  {
   "cell_type": "code",
   "execution_count": 713,
   "id": "1ac6d829-6a31-4d95-a737-2b96f4ceb00a",
   "metadata": {
    "pycharm": {
     "name": "#%%\n"
    }
   },
   "outputs": [
    {
     "data": {
      "text/plain": [
       "<seaborn.axisgrid.FacetGrid at 0x204b70cf9a0>"
      ]
     },
     "execution_count": 713,
     "metadata": {},
     "output_type": "execute_result"
    },
    {
     "data": {
      "image/png": "[encoded data removed]",
      "text/plain": [
       "<Figure size 360x360 with 1 Axes>"
      ]
     },
     "metadata": {
      "needs_background": "light"
     },
     "output_type": "display_data"
    }
   ],
   "source": [
    "sns.displot(nomes.matriculas)"
   ]
  },
  {
   "cell_type": "code",
   "execution_count": 714,
   "id": "b57982aa-3559-4da2-be1b-1bccd07d925c",
   "metadata": {
    "pycharm": {
     "name": "#%%\n"
    }
   },
   "outputs": [
    {
     "data": {
      "text/plain": [
       "1     184\n",
       "2      97\n",
       "3      58\n",
       "4      34\n",
       "5      17\n",
       "6       5\n",
       "12      2\n",
       "8       2\n",
       "7       1\n",
       "Name: matriculas, dtype: int64"
      ]
     },
     "execution_count": 714,
     "metadata": {},
     "output_type": "execute_result"
    }
   ],
   "source": [
    "nomes.matriculas.value_counts()"
   ]
  },
  {
   "cell_type": "code",
   "execution_count": 715,
   "id": "f8db1bb9-77aa-42c1-a57d-ef49732595cc",
   "metadata": {
    "pycharm": {
     "name": "#%%\n"
    }
   },
   "outputs": [
    {
     "data": {
      "text/html": [
       "<div>\n",
       "<style scoped>\n",
       "    .dataframe tbody tr th:only-of-type {\n",
       "        vertical-align: middle;\n",
       "    }\n",
       "\n",
       "    .dataframe tbody tr th {\n",
       "        vertical-align: top;\n",
       "    }\n",
       "\n",
       "    .dataframe thead th {\n",
       "        text-align: right;\n",
       "    }\n",
       "</style>\n",
       "<table border=\"1\" class=\"dataframe\">\n",
       "  <thead>\n",
       "    <tr style=\"text-align: right;\">\n",
       "      <th></th>\n",
       "      <th>nome</th>\n",
       "      <th>id_aluno</th>\n",
       "      <th>email</th>\n",
       "      <th>matriculas</th>\n",
       "    </tr>\n",
       "  </thead>\n",
       "  <tbody>\n",
       "    <tr>\n",
       "      <th>23</th>\n",
       "      <td>FERNANDO</td>\n",
       "      <td>134</td>\n",
       "      <td>fernando@servicodoemail.com</td>\n",
       "      <td>1</td>\n",
       "    </tr>\n",
       "    <tr>\n",
       "      <th>169</th>\n",
       "      <td>JOELMA</td>\n",
       "      <td>167</td>\n",
       "      <td>joelma@servicodoemail.com</td>\n",
       "      <td>2</td>\n",
       "    </tr>\n",
       "    <tr>\n",
       "      <th>148</th>\n",
       "      <td>APARECIDO</td>\n",
       "      <td>73</td>\n",
       "      <td>aparecido@servicodoemail.com</td>\n",
       "      <td>1</td>\n",
       "    </tr>\n",
       "    <tr>\n",
       "      <th>24</th>\n",
       "      <td>CLAUDIA</td>\n",
       "      <td>109</td>\n",
       "      <td>claudia@dominiodoemmail.com.br</td>\n",
       "      <td>3</td>\n",
       "    </tr>\n",
       "    <tr>\n",
       "      <th>105</th>\n",
       "      <td>MILENA</td>\n",
       "      <td>245</td>\n",
       "      <td>milena@servicodoemail.com</td>\n",
       "      <td>1</td>\n",
       "    </tr>\n",
       "  </tbody>\n",
       "</table>\n",
       "</div>"
      ],
      "text/plain": [
       "          nome  id_aluno                           email  matriculas\n",
       "23    FERNANDO       134     fernando@servicodoemail.com           1\n",
       "169     JOELMA       167       joelma@servicodoemail.com           2\n",
       "148  APARECIDO        73    aparecido@servicodoemail.com           1\n",
       "24     CLAUDIA       109  claudia@dominiodoemmail.com.br           3\n",
       "105     MILENA       245       milena@servicodoemail.com           1"
      ]
     },
     "execution_count": 715,
     "metadata": {},
     "output_type": "execute_result"
    }
   ],
   "source": [
    "nomes.sample(5)"
   ]
  },
  {
   "cell_type": "markdown",
   "id": "244d54bc-c51e-4ea9-a6b7-96042dc2ab6f",
   "metadata": {
    "pycharm": {
     "name": "#%% md\n"
    }
   },
   "source": [
    "# Selecionando Cursos"
   ]
  },
  {
   "cell_type": "code",
   "execution_count": 716,
   "id": "919fd102-46e9-4bf5-8afc-f5377cfa1081",
   "metadata": {
    "pycharm": {
     "name": "#%%\n"
    }
   },
   "outputs": [
    {
     "data": {
      "text/html": [
       "<div>\n",
       "<style scoped>\n",
       "    .dataframe tbody tr th:only-of-type {\n",
       "        vertical-align: middle;\n",
       "    }\n",
       "\n",
       "    .dataframe tbody tr th {\n",
       "        vertical-align: top;\n",
       "    }\n",
       "\n",
       "    .dataframe thead th {\n",
       "        text-align: right;\n",
       "    }\n",
       "</style>\n",
       "<table border=\"1\" class=\"dataframe\">\n",
       "  <thead>\n",
       "    <tr style=\"text-align: right;\">\n",
       "      <th></th>\n",
       "      <th>nome</th>\n",
       "      <th>id_aluno</th>\n",
       "      <th>email</th>\n",
       "      <th>matriculas</th>\n",
       "    </tr>\n",
       "  </thead>\n",
       "  <tbody>\n",
       "    <tr>\n",
       "      <th>175</th>\n",
       "      <td>RIAN</td>\n",
       "      <td>127</td>\n",
       "      <td>rian@servicodoemail.com</td>\n",
       "      <td>1</td>\n",
       "    </tr>\n",
       "    <tr>\n",
       "      <th>96</th>\n",
       "      <td>TANIA</td>\n",
       "      <td>233</td>\n",
       "      <td>tania@dominiodoemmail.com.br</td>\n",
       "      <td>1</td>\n",
       "    </tr>\n",
       "    <tr>\n",
       "      <th>116</th>\n",
       "      <td>DOMINGOS</td>\n",
       "      <td>291</td>\n",
       "      <td>domingos@dominiodoemmail.com.br</td>\n",
       "      <td>1</td>\n",
       "    </tr>\n",
       "  </tbody>\n",
       "</table>\n",
       "</div>"
      ],
      "text/plain": [
       "         nome  id_aluno                            email  matriculas\n",
       "175      RIAN       127          rian@servicodoemail.com           1\n",
       "96      TANIA       233     tania@dominiodoemmail.com.br           1\n",
       "116  DOMINGOS       291  domingos@dominiodoemmail.com.br           1"
      ]
     },
     "execution_count": 716,
     "metadata": {},
     "output_type": "execute_result"
    }
   ],
   "source": [
    "nomes.sample(3)"
   ]
  },
  {
   "cell_type": "code",
   "execution_count": 717,
   "id": "94c5b747-ba3e-4abd-a02b-326d752e370c",
   "metadata": {
    "pycharm": {
     "name": "#%%\n"
    }
   },
   "outputs": [],
   "source": [
    "todas_matriculas = []\n",
    "x = np.random.rand(20)\n",
    "prob = x / sum(x)"
   ]
  },
  {
   "cell_type": "code",
   "execution_count": 718,
   "id": "61fac571-9334-4959-9ed0-2655804c94bd",
   "metadata": {
    "pycharm": {
     "name": "#%%\n"
    }
   },
   "outputs": [],
   "source": [
    "for index, row in nomes.iterrows():\n",
    "    id = row.id_aluno\n",
    "    matriculas = row.matriculas\n",
    "    for i in range(matriculas):\n",
    "        matricula = [id, np.random.choice(cursos.index, p = prob)]\n",
    "        todas_matriculas.append(matricula)\n",
    "\n",
    "matriculas = pd.DataFrame(todas_matriculas, columns = ['id_aluno','id_curso'])"
   ]
  },
  {
   "cell_type": "code",
   "execution_count": 719,
   "id": "af605a6f-d707-49aa-abf2-488935f4e092",
   "metadata": {
    "pycharm": {
     "name": "#%%\n"
    }
   },
   "outputs": [
    {
     "data": {
      "text/html": [
       "<div>\n",
       "<style scoped>\n",
       "    .dataframe tbody tr th:only-of-type {\n",
       "        vertical-align: middle;\n",
       "    }\n",
       "\n",
       "    .dataframe tbody tr th {\n",
       "        vertical-align: top;\n",
       "    }\n",
       "\n",
       "    .dataframe thead th {\n",
       "        text-align: right;\n",
       "    }\n",
       "</style>\n",
       "<table border=\"1\" class=\"dataframe\">\n",
       "  <thead>\n",
       "    <tr style=\"text-align: right;\">\n",
       "      <th></th>\n",
       "      <th>id_aluno</th>\n",
       "      <th>id_curso</th>\n",
       "    </tr>\n",
       "  </thead>\n",
       "  <tbody>\n",
       "    <tr>\n",
       "      <th>0</th>\n",
       "      <td>189</td>\n",
       "      <td>12</td>\n",
       "    </tr>\n",
       "    <tr>\n",
       "      <th>1</th>\n",
       "      <td>189</td>\n",
       "      <td>14</td>\n",
       "    </tr>\n",
       "    <tr>\n",
       "      <th>2</th>\n",
       "      <td>189</td>\n",
       "      <td>3</td>\n",
       "    </tr>\n",
       "    <tr>\n",
       "      <th>3</th>\n",
       "      <td>58</td>\n",
       "      <td>7</td>\n",
       "    </tr>\n",
       "    <tr>\n",
       "      <th>4</th>\n",
       "      <td>58</td>\n",
       "      <td>3</td>\n",
       "    </tr>\n",
       "  </tbody>\n",
       "</table>\n",
       "</div>"
      ],
      "text/plain": [
       "   id_aluno  id_curso\n",
       "0       189        12\n",
       "1       189        14\n",
       "2       189         3\n",
       "3        58         7\n",
       "4        58         3"
      ]
     },
     "execution_count": 719,
     "metadata": {},
     "output_type": "execute_result"
    }
   ],
   "source": [
    "matriculas.head()"
   ]
  },
  {
   "cell_type": "code",
   "execution_count": 720,
   "id": "9a16bc7c-9ff8-491d-98b5-cbce7db7e07e",
   "metadata": {
    "pycharm": {
     "name": "#%%\n"
    }
   },
   "outputs": [
    {
     "data": {
      "text/html": [
       "<div>\n",
       "<style scoped>\n",
       "    .dataframe tbody tr th:only-of-type {\n",
       "        vertical-align: middle;\n",
       "    }\n",
       "\n",
       "    .dataframe tbody tr th {\n",
       "        vertical-align: top;\n",
       "    }\n",
       "\n",
       "    .dataframe thead th {\n",
       "        text-align: right;\n",
       "    }\n",
       "</style>\n",
       "<table border=\"1\" class=\"dataframe\">\n",
       "  <thead>\n",
       "    <tr style=\"text-align: right;\">\n",
       "      <th></th>\n",
       "      <th>quantidade_de_alunos</th>\n",
       "      <th>nome_do_curso</th>\n",
       "    </tr>\n",
       "    <tr>\n",
       "      <th>id_curso</th>\n",
       "      <th></th>\n",
       "      <th></th>\n",
       "    </tr>\n",
       "  </thead>\n",
       "  <tbody>\n",
       "    <tr>\n",
       "      <th>1</th>\n",
       "      <td>18</td>\n",
       "      <td>Lógica de programação</td>\n",
       "    </tr>\n",
       "    <tr>\n",
       "      <th>2</th>\n",
       "      <td>36</td>\n",
       "      <td>Java para Web</td>\n",
       "    </tr>\n",
       "    <tr>\n",
       "      <th>3</th>\n",
       "      <td>43</td>\n",
       "      <td>C# para Web</td>\n",
       "    </tr>\n",
       "    <tr>\n",
       "      <th>4</th>\n",
       "      <td>18</td>\n",
       "      <td>Ruby on Rails</td>\n",
       "    </tr>\n",
       "    <tr>\n",
       "      <th>5</th>\n",
       "      <td>55</td>\n",
       "      <td>Cursos de Python</td>\n",
       "    </tr>\n",
       "    <tr>\n",
       "      <th>6</th>\n",
       "      <td>64</td>\n",
       "      <td>PHP com MySql</td>\n",
       "    </tr>\n",
       "    <tr>\n",
       "      <th>7</th>\n",
       "      <td>41</td>\n",
       "      <td>.NET para web</td>\n",
       "    </tr>\n",
       "    <tr>\n",
       "      <th>8</th>\n",
       "      <td>53</td>\n",
       "      <td>Novas integrações com Java</td>\n",
       "    </tr>\n",
       "    <tr>\n",
       "      <th>9</th>\n",
       "      <td>11</td>\n",
       "      <td>TDD com Java</td>\n",
       "    </tr>\n",
       "    <tr>\n",
       "      <th>10</th>\n",
       "      <td>1</td>\n",
       "      <td>Código limpo com C#</td>\n",
       "    </tr>\n",
       "    <tr>\n",
       "      <th>11</th>\n",
       "      <td>22</td>\n",
       "      <td>Preparatório para certificação Java</td>\n",
       "    </tr>\n",
       "    <tr>\n",
       "      <th>12</th>\n",
       "      <td>74</td>\n",
       "      <td>Hardware básico</td>\n",
       "    </tr>\n",
       "    <tr>\n",
       "      <th>13</th>\n",
       "      <td>7</td>\n",
       "      <td>Persistência com .NET</td>\n",
       "    </tr>\n",
       "    <tr>\n",
       "      <th>14</th>\n",
       "      <td>67</td>\n",
       "      <td>Desenvolvendo jogos</td>\n",
       "    </tr>\n",
       "    <tr>\n",
       "      <th>15</th>\n",
       "      <td>85</td>\n",
       "      <td>Análise de dados</td>\n",
       "    </tr>\n",
       "    <tr>\n",
       "      <th>16</th>\n",
       "      <td>46</td>\n",
       "      <td>Estatística básica</td>\n",
       "    </tr>\n",
       "    <tr>\n",
       "      <th>17</th>\n",
       "      <td>75</td>\n",
       "      <td>Internet das coisas</td>\n",
       "    </tr>\n",
       "    <tr>\n",
       "      <th>18</th>\n",
       "      <td>18</td>\n",
       "      <td>Programação funcional</td>\n",
       "    </tr>\n",
       "    <tr>\n",
       "      <th>19</th>\n",
       "      <td>60</td>\n",
       "      <td>Boas práticas em Java</td>\n",
       "    </tr>\n",
       "    <tr>\n",
       "      <th>20</th>\n",
       "      <td>56</td>\n",
       "      <td>Orientação objetos com Java</td>\n",
       "    </tr>\n",
       "  </tbody>\n",
       "</table>\n",
       "</div>"
      ],
      "text/plain": [
       "          quantidade_de_alunos                        nome_do_curso\n",
       "id_curso                                                           \n",
       "1                           18                Lógica de programação\n",
       "2                           36                        Java para Web\n",
       "3                           43                          C# para Web\n",
       "4                           18                        Ruby on Rails\n",
       "5                           55                     Cursos de Python\n",
       "6                           64                        PHP com MySql\n",
       "7                           41                        .NET para web\n",
       "8                           53           Novas integrações com Java\n",
       "9                           11                         TDD com Java\n",
       "10                           1                  Código limpo com C#\n",
       "11                          22  Preparatório para certificação Java\n",
       "12                          74                      Hardware básico\n",
       "13                           7                Persistência com .NET\n",
       "14                          67                  Desenvolvendo jogos\n",
       "15                          85                     Análise de dados\n",
       "16                          46                   Estatística básica\n",
       "17                          75                  Internet das coisas\n",
       "18                          18                Programação funcional\n",
       "19                          60                Boas práticas em Java\n",
       "20                          56          Orientação objetos com Java"
      ]
     },
     "execution_count": 720,
     "metadata": {},
     "output_type": "execute_result"
    }
   ],
   "source": [
    "matriculas.groupby('id_curso').count().join(cursos['nome_do_curso']).rename(columns = {'id_aluno': 'quantidade_de_alunos'})"
   ]
  },
  {
   "cell_type": "code",
   "execution_count": 721,
   "id": "9461de19-3205-4c60-8d1c-2a444e47c015",
   "metadata": {
    "pycharm": {
     "name": "#%%\n"
    }
   },
   "outputs": [],
   "source": [
    "matriculas_por_curso = matriculas.groupby('id_curso').count().join(cursos['nome_do_curso']).rename(columns = {'id_aluno': 'quantidade_de_alunos'})"
   ]
  },
  {
   "cell_type": "code",
   "execution_count": 722,
   "id": "d16bfa01-232b-4330-80c6-b38bd07e37a3",
   "metadata": {
    "pycharm": {
     "name": "#%%\n"
    }
   },
   "outputs": [
    {
     "data": {
      "text/html": [
       "<div>\n",
       "<style scoped>\n",
       "    .dataframe tbody tr th:only-of-type {\n",
       "        vertical-align: middle;\n",
       "    }\n",
       "\n",
       "    .dataframe tbody tr th {\n",
       "        vertical-align: top;\n",
       "    }\n",
       "\n",
       "    .dataframe thead th {\n",
       "        text-align: right;\n",
       "    }\n",
       "</style>\n",
       "<table border=\"1\" class=\"dataframe\">\n",
       "  <thead>\n",
       "    <tr style=\"text-align: right;\">\n",
       "      <th></th>\n",
       "      <th>nome</th>\n",
       "      <th>id_aluno</th>\n",
       "      <th>email</th>\n",
       "      <th>matriculas</th>\n",
       "    </tr>\n",
       "  </thead>\n",
       "  <tbody>\n",
       "    <tr>\n",
       "      <th>0</th>\n",
       "      <td>MARIA</td>\n",
       "      <td>189</td>\n",
       "      <td>maria@servicodoemail.com</td>\n",
       "      <td>3</td>\n",
       "    </tr>\n",
       "    <tr>\n",
       "      <th>1</th>\n",
       "      <td>ANA</td>\n",
       "      <td>58</td>\n",
       "      <td>ana@servicodoemail.com</td>\n",
       "      <td>2</td>\n",
       "    </tr>\n",
       "    <tr>\n",
       "      <th>2</th>\n",
       "      <td>FRANCISCA</td>\n",
       "      <td>204</td>\n",
       "      <td>francisca@dominiodoemmail.com.br</td>\n",
       "      <td>1</td>\n",
       "    </tr>\n",
       "    <tr>\n",
       "      <th>3</th>\n",
       "      <td>ANTONIA</td>\n",
       "      <td>383</td>\n",
       "      <td>antonia@dominiodoemmail.com.br</td>\n",
       "      <td>1</td>\n",
       "    </tr>\n",
       "    <tr>\n",
       "      <th>4</th>\n",
       "      <td>ADRIANA</td>\n",
       "      <td>231</td>\n",
       "      <td>adriana@dominiodoemmail.com.br</td>\n",
       "      <td>1</td>\n",
       "    </tr>\n",
       "  </tbody>\n",
       "</table>\n",
       "</div>"
      ],
      "text/plain": [
       "        nome  id_aluno                             email  matriculas\n",
       "0      MARIA       189          maria@servicodoemail.com           3\n",
       "1        ANA        58            ana@servicodoemail.com           2\n",
       "2  FRANCISCA       204  francisca@dominiodoemmail.com.br           1\n",
       "3    ANTONIA       383    antonia@dominiodoemmail.com.br           1\n",
       "4    ADRIANA       231    adriana@dominiodoemmail.com.br           1"
      ]
     },
     "execution_count": 722,
     "metadata": {},
     "output_type": "execute_result"
    }
   ],
   "source": [
    "nomes.head()"
   ]
  },
  {
   "cell_type": "code",
   "execution_count": 723,
   "id": "fd4e5ab5-a56f-4911-88b5-e592ba90cd1f",
   "metadata": {
    "pycharm": {
     "name": "#%%\n"
    }
   },
   "outputs": [
    {
     "data": {
      "text/html": [
       "<div>\n",
       "<style scoped>\n",
       "    .dataframe tbody tr th:only-of-type {\n",
       "        vertical-align: middle;\n",
       "    }\n",
       "\n",
       "    .dataframe tbody tr th {\n",
       "        vertical-align: top;\n",
       "    }\n",
       "\n",
       "    .dataframe thead th {\n",
       "        text-align: right;\n",
       "    }\n",
       "</style>\n",
       "<table border=\"1\" class=\"dataframe\">\n",
       "  <thead>\n",
       "    <tr style=\"text-align: right;\">\n",
       "      <th></th>\n",
       "      <th>nome_do_curso</th>\n",
       "    </tr>\n",
       "    <tr>\n",
       "      <th>ID</th>\n",
       "      <th></th>\n",
       "    </tr>\n",
       "  </thead>\n",
       "  <tbody>\n",
       "    <tr>\n",
       "      <th>1</th>\n",
       "      <td>Lógica de programação</td>\n",
       "    </tr>\n",
       "    <tr>\n",
       "      <th>2</th>\n",
       "      <td>Java para Web</td>\n",
       "    </tr>\n",
       "    <tr>\n",
       "      <th>3</th>\n",
       "      <td>C# para Web</td>\n",
       "    </tr>\n",
       "    <tr>\n",
       "      <th>4</th>\n",
       "      <td>Ruby on Rails</td>\n",
       "    </tr>\n",
       "    <tr>\n",
       "      <th>5</th>\n",
       "      <td>Cursos de Python</td>\n",
       "    </tr>\n",
       "  </tbody>\n",
       "</table>\n",
       "</div>"
      ],
      "text/plain": [
       "            nome_do_curso\n",
       "ID                       \n",
       "1   Lógica de programação\n",
       "2           Java para Web\n",
       "3             C# para Web\n",
       "4           Ruby on Rails\n",
       "5        Cursos de Python"
      ]
     },
     "execution_count": 723,
     "metadata": {},
     "output_type": "execute_result"
    }
   ],
   "source": [
    "cursos.head()"
   ]
  },
  {
   "cell_type": "code",
   "execution_count": 724,
   "id": "619bd47a-5960-4bba-b9e3-5cf53d29927a",
   "metadata": {
    "pycharm": {
     "name": "#%%\n"
    }
   },
   "outputs": [
    {
     "data": {
      "text/html": [
       "<div>\n",
       "<style scoped>\n",
       "    .dataframe tbody tr th:only-of-type {\n",
       "        vertical-align: middle;\n",
       "    }\n",
       "\n",
       "    .dataframe tbody tr th {\n",
       "        vertical-align: top;\n",
       "    }\n",
       "\n",
       "    .dataframe thead th {\n",
       "        text-align: right;\n",
       "    }\n",
       "</style>\n",
       "<table border=\"1\" class=\"dataframe\">\n",
       "  <thead>\n",
       "    <tr style=\"text-align: right;\">\n",
       "      <th></th>\n",
       "      <th>id_aluno</th>\n",
       "      <th>id_curso</th>\n",
       "    </tr>\n",
       "  </thead>\n",
       "  <tbody>\n",
       "    <tr>\n",
       "      <th>0</th>\n",
       "      <td>189</td>\n",
       "      <td>12</td>\n",
       "    </tr>\n",
       "    <tr>\n",
       "      <th>1</th>\n",
       "      <td>189</td>\n",
       "      <td>14</td>\n",
       "    </tr>\n",
       "    <tr>\n",
       "      <th>2</th>\n",
       "      <td>189</td>\n",
       "      <td>3</td>\n",
       "    </tr>\n",
       "    <tr>\n",
       "      <th>3</th>\n",
       "      <td>58</td>\n",
       "      <td>7</td>\n",
       "    </tr>\n",
       "    <tr>\n",
       "      <th>4</th>\n",
       "      <td>58</td>\n",
       "      <td>3</td>\n",
       "    </tr>\n",
       "  </tbody>\n",
       "</table>\n",
       "</div>"
      ],
      "text/plain": [
       "   id_aluno  id_curso\n",
       "0       189        12\n",
       "1       189        14\n",
       "2       189         3\n",
       "3        58         7\n",
       "4        58         3"
      ]
     },
     "execution_count": 724,
     "metadata": {},
     "output_type": "execute_result"
    }
   ],
   "source": [
    "matriculas.head()"
   ]
  },
  {
   "cell_type": "code",
   "execution_count": 725,
   "id": "f0787417-ebb4-45ff-a2ca-c5ae05de1685",
   "metadata": {
    "pycharm": {
     "name": "#%%\n"
    }
   },
   "outputs": [
    {
     "data": {
      "text/html": [
       "<div>\n",
       "<style scoped>\n",
       "    .dataframe tbody tr th:only-of-type {\n",
       "        vertical-align: middle;\n",
       "    }\n",
       "\n",
       "    .dataframe tbody tr th {\n",
       "        vertical-align: top;\n",
       "    }\n",
       "\n",
       "    .dataframe thead th {\n",
       "        text-align: right;\n",
       "    }\n",
       "</style>\n",
       "<table border=\"1\" class=\"dataframe\">\n",
       "  <thead>\n",
       "    <tr style=\"text-align: right;\">\n",
       "      <th></th>\n",
       "      <th>quantidade_de_alunos</th>\n",
       "      <th>nome_do_curso</th>\n",
       "    </tr>\n",
       "    <tr>\n",
       "      <th>id_curso</th>\n",
       "      <th></th>\n",
       "      <th></th>\n",
       "    </tr>\n",
       "  </thead>\n",
       "  <tbody>\n",
       "    <tr>\n",
       "      <th>1</th>\n",
       "      <td>18</td>\n",
       "      <td>Lógica de programação</td>\n",
       "    </tr>\n",
       "    <tr>\n",
       "      <th>2</th>\n",
       "      <td>36</td>\n",
       "      <td>Java para Web</td>\n",
       "    </tr>\n",
       "    <tr>\n",
       "      <th>3</th>\n",
       "      <td>43</td>\n",
       "      <td>C# para Web</td>\n",
       "    </tr>\n",
       "    <tr>\n",
       "      <th>4</th>\n",
       "      <td>18</td>\n",
       "      <td>Ruby on Rails</td>\n",
       "    </tr>\n",
       "    <tr>\n",
       "      <th>5</th>\n",
       "      <td>55</td>\n",
       "      <td>Cursos de Python</td>\n",
       "    </tr>\n",
       "  </tbody>\n",
       "</table>\n",
       "</div>"
      ],
      "text/plain": [
       "          quantidade_de_alunos          nome_do_curso\n",
       "id_curso                                             \n",
       "1                           18  Lógica de programação\n",
       "2                           36          Java para Web\n",
       "3                           43            C# para Web\n",
       "4                           18          Ruby on Rails\n",
       "5                           55       Cursos de Python"
      ]
     },
     "execution_count": 725,
     "metadata": {},
     "output_type": "execute_result"
    }
   ],
   "source": [
    "matriculas_por_curso.head()"
   ]
  },
  {
   "cell_type": "markdown",
   "id": "5601b00d-20bd-47dd-9df4-2ed31ccf746f",
   "metadata": {
    "pycharm": {
     "name": "#%% md\n"
    }
   },
   "source": [
    "# Saida em diferentes formatos"
   ]
  },
  {
   "cell_type": "code",
   "execution_count": 726,
   "id": "82105d08-30e5-4e89-8238-b030444bfa24",
   "metadata": {
    "pycharm": {
     "name": "#%%\n"
    }
   },
   "outputs": [
    {
     "data": {
      "text/html": [
       "<div>\n",
       "<style scoped>\n",
       "    .dataframe tbody tr th:only-of-type {\n",
       "        vertical-align: middle;\n",
       "    }\n",
       "\n",
       "    .dataframe tbody tr th {\n",
       "        vertical-align: top;\n",
       "    }\n",
       "\n",
       "    .dataframe thead th {\n",
       "        text-align: right;\n",
       "    }\n",
       "</style>\n",
       "<table border=\"1\" class=\"dataframe\">\n",
       "  <thead>\n",
       "    <tr style=\"text-align: right;\">\n",
       "      <th></th>\n",
       "      <th>quantidade_de_alunos</th>\n",
       "      <th>nome_do_curso</th>\n",
       "    </tr>\n",
       "    <tr>\n",
       "      <th>id_curso</th>\n",
       "      <th></th>\n",
       "      <th></th>\n",
       "    </tr>\n",
       "  </thead>\n",
       "  <tbody>\n",
       "    <tr>\n",
       "      <th>1</th>\n",
       "      <td>18</td>\n",
       "      <td>Lógica de programação</td>\n",
       "    </tr>\n",
       "    <tr>\n",
       "      <th>2</th>\n",
       "      <td>36</td>\n",
       "      <td>Java para Web</td>\n",
       "    </tr>\n",
       "    <tr>\n",
       "      <th>3</th>\n",
       "      <td>43</td>\n",
       "      <td>C# para Web</td>\n",
       "    </tr>\n",
       "  </tbody>\n",
       "</table>\n",
       "</div>"
      ],
      "text/plain": [
       "          quantidade_de_alunos          nome_do_curso\n",
       "id_curso                                             \n",
       "1                           18  Lógica de programação\n",
       "2                           36          Java para Web\n",
       "3                           43            C# para Web"
      ]
     },
     "execution_count": 726,
     "metadata": {},
     "output_type": "execute_result"
    }
   ],
   "source": [
    "matriculas_por_curso.head(3)"
   ]
  },
  {
   "cell_type": "code",
   "execution_count": 727,
   "id": "9ea8bf8b-1a4a-44f4-8044-60c5068d57a1",
   "metadata": {
    "pycharm": {
     "name": "#%%\n"
    }
   },
   "outputs": [],
   "source": [
    "matriculas_por_curso.to_csv('files/matriculas_por_curso.csv', index=False)"
   ]
  },
  {
   "cell_type": "code",
   "execution_count": 728,
   "id": "049cf6c5-9a62-4f9d-b77f-f2e3c28759ee",
   "metadata": {
    "pycharm": {
     "name": "#%%\n"
    }
   },
   "outputs": [
    {
     "data": {
      "text/html": [
       "<div>\n",
       "<style scoped>\n",
       "    .dataframe tbody tr th:only-of-type {\n",
       "        vertical-align: middle;\n",
       "    }\n",
       "\n",
       "    .dataframe tbody tr th {\n",
       "        vertical-align: top;\n",
       "    }\n",
       "\n",
       "    .dataframe thead th {\n",
       "        text-align: right;\n",
       "    }\n",
       "</style>\n",
       "<table border=\"1\" class=\"dataframe\">\n",
       "  <thead>\n",
       "    <tr style=\"text-align: right;\">\n",
       "      <th></th>\n",
       "      <th>quantidade_de_alunos</th>\n",
       "      <th>nome_do_curso</th>\n",
       "    </tr>\n",
       "  </thead>\n",
       "  <tbody>\n",
       "    <tr>\n",
       "      <th>0</th>\n",
       "      <td>18</td>\n",
       "      <td>Lógica de programação</td>\n",
       "    </tr>\n",
       "    <tr>\n",
       "      <th>1</th>\n",
       "      <td>36</td>\n",
       "      <td>Java para Web</td>\n",
       "    </tr>\n",
       "    <tr>\n",
       "      <th>2</th>\n",
       "      <td>43</td>\n",
       "      <td>C# para Web</td>\n",
       "    </tr>\n",
       "    <tr>\n",
       "      <th>3</th>\n",
       "      <td>18</td>\n",
       "      <td>Ruby on Rails</td>\n",
       "    </tr>\n",
       "    <tr>\n",
       "      <th>4</th>\n",
       "      <td>55</td>\n",
       "      <td>Cursos de Python</td>\n",
       "    </tr>\n",
       "    <tr>\n",
       "      <th>5</th>\n",
       "      <td>64</td>\n",
       "      <td>PHP com MySql</td>\n",
       "    </tr>\n",
       "    <tr>\n",
       "      <th>6</th>\n",
       "      <td>41</td>\n",
       "      <td>.NET para web</td>\n",
       "    </tr>\n",
       "    <tr>\n",
       "      <th>7</th>\n",
       "      <td>53</td>\n",
       "      <td>Novas integrações com Java</td>\n",
       "    </tr>\n",
       "    <tr>\n",
       "      <th>8</th>\n",
       "      <td>11</td>\n",
       "      <td>TDD com Java</td>\n",
       "    </tr>\n",
       "    <tr>\n",
       "      <th>9</th>\n",
       "      <td>1</td>\n",
       "      <td>Código limpo com C#</td>\n",
       "    </tr>\n",
       "    <tr>\n",
       "      <th>10</th>\n",
       "      <td>22</td>\n",
       "      <td>Preparatório para certificação Java</td>\n",
       "    </tr>\n",
       "    <tr>\n",
       "      <th>11</th>\n",
       "      <td>74</td>\n",
       "      <td>Hardware básico</td>\n",
       "    </tr>\n",
       "    <tr>\n",
       "      <th>12</th>\n",
       "      <td>7</td>\n",
       "      <td>Persistência com .NET</td>\n",
       "    </tr>\n",
       "    <tr>\n",
       "      <th>13</th>\n",
       "      <td>67</td>\n",
       "      <td>Desenvolvendo jogos</td>\n",
       "    </tr>\n",
       "    <tr>\n",
       "      <th>14</th>\n",
       "      <td>85</td>\n",
       "      <td>Análise de dados</td>\n",
       "    </tr>\n",
       "    <tr>\n",
       "      <th>15</th>\n",
       "      <td>46</td>\n",
       "      <td>Estatística básica</td>\n",
       "    </tr>\n",
       "    <tr>\n",
       "      <th>16</th>\n",
       "      <td>75</td>\n",
       "      <td>Internet das coisas</td>\n",
       "    </tr>\n",
       "    <tr>\n",
       "      <th>17</th>\n",
       "      <td>18</td>\n",
       "      <td>Programação funcional</td>\n",
       "    </tr>\n",
       "    <tr>\n",
       "      <th>18</th>\n",
       "      <td>60</td>\n",
       "      <td>Boas práticas em Java</td>\n",
       "    </tr>\n",
       "    <tr>\n",
       "      <th>19</th>\n",
       "      <td>56</td>\n",
       "      <td>Orientação objetos com Java</td>\n",
       "    </tr>\n",
       "  </tbody>\n",
       "</table>\n",
       "</div>"
      ],
      "text/plain": [
       "    quantidade_de_alunos                        nome_do_curso\n",
       "0                     18                Lógica de programação\n",
       "1                     36                        Java para Web\n",
       "2                     43                          C# para Web\n",
       "3                     18                        Ruby on Rails\n",
       "4                     55                     Cursos de Python\n",
       "5                     64                        PHP com MySql\n",
       "6                     41                        .NET para web\n",
       "7                     53           Novas integrações com Java\n",
       "8                     11                         TDD com Java\n",
       "9                      1                  Código limpo com C#\n",
       "10                    22  Preparatório para certificação Java\n",
       "11                    74                      Hardware básico\n",
       "12                     7                Persistência com .NET\n",
       "13                    67                  Desenvolvendo jogos\n",
       "14                    85                     Análise de dados\n",
       "15                    46                   Estatística básica\n",
       "16                    75                  Internet das coisas\n",
       "17                    18                Programação funcional\n",
       "18                    60                Boas práticas em Java\n",
       "19                    56          Orientação objetos com Java"
      ]
     },
     "execution_count": 728,
     "metadata": {},
     "output_type": "execute_result"
    }
   ],
   "source": [
    "matriculas_csv = pd.read_csv('files/matriculas_por_curso.csv')\n",
    "matriculas_csv"
   ]
  },
  {
   "cell_type": "code",
   "execution_count": 729,
   "id": "6877bc87-32de-49d0-9687-bcc4e7181638",
   "metadata": {
    "pycharm": {
     "name": "#%%\n"
    }
   },
   "outputs": [
    {
     "data": {
      "text/plain": [
       "'{\"quantidade_de_alunos\":{\"1\":18,\"2\":36,\"3\":43,\"4\":18,\"5\":55,\"6\":64,\"7\":41,\"8\":53,\"9\":11,\"10\":1,\"11\":22,\"12\":74,\"13\":7,\"14\":67,\"15\":85,\"16\":46,\"17\":75,\"18\":18,\"19\":60,\"20\":56},\"nome_do_curso\":{\"1\":\"L\\\\u00f3gica de programa\\\\u00e7\\\\u00e3o\",\"2\":\"Java para Web\",\"3\":\"C# para Web\",\"4\":\"Ruby on Rails\",\"5\":\"Cursos de Python\",\"6\":\"PHP com MySql\",\"7\":\".NET para web\",\"8\":\"Novas integra\\\\u00e7\\\\u00f5es com Java\",\"9\":\"TDD com Java\",\"10\":\"C\\\\u00f3digo limpo com C#\",\"11\":\"Preparat\\\\u00f3rio para certifica\\\\u00e7\\\\u00e3o Java\",\"12\":\"Hardware b\\\\u00e1sico\",\"13\":\"Persist\\\\u00eancia com .NET\",\"14\":\"Desenvolvendo jogos\",\"15\":\"An\\\\u00e1lise de dados\",\"16\":\"Estat\\\\u00edstica b\\\\u00e1sica\",\"17\":\"Internet das coisas\",\"18\":\"Programa\\\\u00e7\\\\u00e3o funcional\",\"19\":\"Boas pr\\\\u00e1ticas em Java\",\"20\":\"Orienta\\\\u00e7\\\\u00e3o objetos com Java\"}}'"
      ]
     },
     "execution_count": 729,
     "metadata": {},
     "output_type": "execute_result"
    }
   ],
   "source": [
    "matriculas_json = matriculas_por_curso.to_json()\n",
    "matriculas_json"
   ]
  },
  {
   "cell_type": "code",
   "execution_count": 730,
   "id": "af7cdbc4-7504-4ecf-8ddb-e79b0dd2fb08",
   "metadata": {
    "pycharm": {
     "name": "#%%\n"
    }
   },
   "outputs": [
    {
     "name": "stdout",
     "output_type": "stream",
     "text": [
      "<table border=\"1\" class=\"dataframe\">\n",
      "  <thead>\n",
      "    <tr style=\"text-align: right;\">\n",
      "      <th></th>\n",
      "      <th>quantidade_de_alunos</th>\n",
      "      <th>nome_do_curso</th>\n",
      "    </tr>\n",
      "    <tr>\n",
      "      <th>id_curso</th>\n",
      "      <th></th>\n",
      "      <th></th>\n",
      "    </tr>\n",
      "  </thead>\n",
      "  <tbody>\n",
      "    <tr>\n",
      "      <th>1</th>\n",
      "      <td>18</td>\n",
      "      <td>Lógica de programação</td>\n",
      "    </tr>\n",
      "    <tr>\n",
      "      <th>2</th>\n",
      "      <td>36</td>\n",
      "      <td>Java para Web</td>\n",
      "    </tr>\n",
      "    <tr>\n",
      "      <th>3</th>\n",
      "      <td>43</td>\n",
      "      <td>C# para Web</td>\n",
      "    </tr>\n",
      "    <tr>\n",
      "      <th>4</th>\n",
      "      <td>18</td>\n",
      "      <td>Ruby on Rails</td>\n",
      "    </tr>\n",
      "    <tr>\n",
      "      <th>5</th>\n",
      "      <td>55</td>\n",
      "      <td>Cursos de Python</td>\n",
      "    </tr>\n",
      "    <tr>\n",
      "      <th>6</th>\n",
      "      <td>64</td>\n",
      "      <td>PHP com MySql</td>\n",
      "    </tr>\n",
      "    <tr>\n",
      "      <th>7</th>\n",
      "      <td>41</td>\n",
      "      <td>.NET para web</td>\n",
      "    </tr>\n",
      "    <tr>\n",
      "      <th>8</th>\n",
      "      <td>53</td>\n",
      "      <td>Novas integrações com Java</td>\n",
      "    </tr>\n",
      "    <tr>\n",
      "      <th>9</th>\n",
      "      <td>11</td>\n",
      "      <td>TDD com Java</td>\n",
      "    </tr>\n",
      "    <tr>\n",
      "      <th>10</th>\n",
      "      <td>1</td>\n",
      "      <td>Código limpo com C#</td>\n",
      "    </tr>\n",
      "    <tr>\n",
      "      <th>11</th>\n",
      "      <td>22</td>\n",
      "      <td>Preparatório para certificação Java</td>\n",
      "    </tr>\n",
      "    <tr>\n",
      "      <th>12</th>\n",
      "      <td>74</td>\n",
      "      <td>Hardware básico</td>\n",
      "    </tr>\n",
      "    <tr>\n",
      "      <th>13</th>\n",
      "      <td>7</td>\n",
      "      <td>Persistência com .NET</td>\n",
      "    </tr>\n",
      "    <tr>\n",
      "      <th>14</th>\n",
      "      <td>67</td>\n",
      "      <td>Desenvolvendo jogos</td>\n",
      "    </tr>\n",
      "    <tr>\n",
      "      <th>15</th>\n",
      "      <td>85</td>\n",
      "      <td>Análise de dados</td>\n",
      "    </tr>\n",
      "    <tr>\n",
      "      <th>16</th>\n",
      "      <td>46</td>\n",
      "      <td>Estatística básica</td>\n",
      "    </tr>\n",
      "    <tr>\n",
      "      <th>17</th>\n",
      "      <td>75</td>\n",
      "      <td>Internet das coisas</td>\n",
      "    </tr>\n",
      "    <tr>\n",
      "      <th>18</th>\n",
      "      <td>18</td>\n",
      "      <td>Programação funcional</td>\n",
      "    </tr>\n",
      "    <tr>\n",
      "      <th>19</th>\n",
      "      <td>60</td>\n",
      "      <td>Boas práticas em Java</td>\n",
      "    </tr>\n",
      "    <tr>\n",
      "      <th>20</th>\n",
      "      <td>56</td>\n",
      "      <td>Orientação objetos com Java</td>\n",
      "    </tr>\n",
      "  </tbody>\n",
      "</table>\n"
     ]
    }
   ],
   "source": [
    "matriculas_html = matriculas_por_curso.to_html()\n",
    "print(matriculas_html)"
   ]
  },
  {
   "cell_type": "markdown",
   "id": "8d30d4be-02cf-4df5-a821-3525176b0af6",
   "metadata": {
    "pycharm": {
     "name": "#%% md\n"
    }
   },
   "source": [
    "# Criando o banco SQL"
   ]
  },
  {
   "cell_type": "code",
   "execution_count": 731,
   "id": "d2b5dab9-8503-4075-94bc-5074708fe964",
   "metadata": {
    "pycharm": {
     "name": "#%%\n"
    }
   },
   "outputs": [
    {
     "name": "stdout",
     "output_type": "stream",
     "text": [
      "Requirement already satisfied: sqlalchemy in c:\\users\\igors\\anaconda3\\lib\\site-packages (1.4.22)\n",
      "Requirement already satisfied: greenlet!=0.4.17 in c:\\users\\igors\\anaconda3\\lib\\site-packages (from sqlalchemy) (1.1.1)\n"
     ]
    }
   ],
   "source": [
    "!pip install sqlalchemy"
   ]
  },
  {
   "cell_type": "code",
   "execution_count": 732,
   "id": "c6521be5-d861-47d0-a4f8-63bca186a32d",
   "metadata": {
    "pycharm": {
     "name": "#%%\n"
    }
   },
   "outputs": [],
   "source": [
    "from sqlalchemy import create_engine, MetaData, Table, inspect # adicionando o método inspect"
   ]
  },
  {
   "cell_type": "code",
   "execution_count": 733,
   "id": "62ae0e3c-2e16-41ad-9012-3376aae4f316",
   "metadata": {
    "pycharm": {
     "name": "#%%\n"
    }
   },
   "outputs": [],
   "source": [
    "engine = create_engine('sqlite:///:memory:')"
   ]
  },
  {
   "cell_type": "code",
   "execution_count": 734,
   "id": "822db044-2492-467f-9d7c-fdc78b8561ec",
   "metadata": {
    "pycharm": {
     "name": "#%%\n"
    }
   },
   "outputs": [
    {
     "data": {
      "text/plain": [
       "Engine(sqlite:///:memory:)"
      ]
     },
     "execution_count": 734,
     "metadata": {},
     "output_type": "execute_result"
    }
   ],
   "source": [
    "engine"
   ]
  },
  {
   "cell_type": "code",
   "execution_count": 735,
   "id": "9fc720f0-2d53-4189-b260-457dabcd12fd",
   "metadata": {
    "pycharm": {
     "name": "#%%\n"
    }
   },
   "outputs": [
    {
     "data": {
      "text/plain": [
       "sqlalchemy.engine.base.Engine"
      ]
     },
     "execution_count": 735,
     "metadata": {},
     "output_type": "execute_result"
    }
   ],
   "source": [
    "type(engine)"
   ]
  },
  {
   "cell_type": "code",
   "execution_count": 736,
   "id": "a9f3e916-8bae-42eb-9939-5e5bfbd1611f",
   "metadata": {
    "pycharm": {
     "name": "#%%\n"
    }
   },
   "outputs": [],
   "source": [
    "matriculas_por_curso.to_sql('matriculas', engine)"
   ]
  },
  {
   "cell_type": "code",
   "execution_count": 737,
   "id": "6db111a1-d82d-4ada-8437-a4a56260de21",
   "metadata": {
    "pycharm": {
     "name": "#%%\n"
    }
   },
   "outputs": [],
   "source": [
    "inspector = inspect(engine) "
   ]
  },
  {
   "cell_type": "code",
   "execution_count": 738,
   "id": "189b331b-3234-4180-9028-3a81efb03d6f",
   "metadata": {
    "pycharm": {
     "name": "#%%\n"
    }
   },
   "outputs": [
    {
     "name": "stdout",
     "output_type": "stream",
     "text": [
      "['matriculas']\n"
     ]
    }
   ],
   "source": [
    "print(inspector.get_table_names())"
   ]
  },
  {
   "cell_type": "markdown",
   "id": "2644201b-f8d2-4326-adab-44b9606d0c7b",
   "metadata": {
    "pycharm": {
     "name": "#%% md\n"
    }
   },
   "source": [
    "# Buscando SQL"
   ]
  },
  {
   "cell_type": "code",
   "execution_count": 739,
   "id": "2beb855f-fe31-4a78-89d7-4528074f222a",
   "metadata": {
    "pycharm": {
     "name": "#%%\n"
    }
   },
   "outputs": [],
   "source": [
    "query = 'select * from matriculas where quantidade_de_alunos < 20'"
   ]
  },
  {
   "cell_type": "code",
   "execution_count": 740,
   "id": "5a44997f-6b6a-4b9a-8b23-347c9d6940f0",
   "metadata": {
    "pycharm": {
     "name": "#%%\n"
    }
   },
   "outputs": [
    {
     "data": {
      "text/html": [
       "<div>\n",
       "<style scoped>\n",
       "    .dataframe tbody tr th:only-of-type {\n",
       "        vertical-align: middle;\n",
       "    }\n",
       "\n",
       "    .dataframe tbody tr th {\n",
       "        vertical-align: top;\n",
       "    }\n",
       "\n",
       "    .dataframe thead th {\n",
       "        text-align: right;\n",
       "    }\n",
       "</style>\n",
       "<table border=\"1\" class=\"dataframe\">\n",
       "  <thead>\n",
       "    <tr style=\"text-align: right;\">\n",
       "      <th></th>\n",
       "      <th>id_curso</th>\n",
       "      <th>quantidade_de_alunos</th>\n",
       "      <th>nome_do_curso</th>\n",
       "    </tr>\n",
       "  </thead>\n",
       "  <tbody>\n",
       "    <tr>\n",
       "      <th>0</th>\n",
       "      <td>1</td>\n",
       "      <td>18</td>\n",
       "      <td>Lógica de programação</td>\n",
       "    </tr>\n",
       "    <tr>\n",
       "      <th>1</th>\n",
       "      <td>4</td>\n",
       "      <td>18</td>\n",
       "      <td>Ruby on Rails</td>\n",
       "    </tr>\n",
       "    <tr>\n",
       "      <th>2</th>\n",
       "      <td>9</td>\n",
       "      <td>11</td>\n",
       "      <td>TDD com Java</td>\n",
       "    </tr>\n",
       "    <tr>\n",
       "      <th>3</th>\n",
       "      <td>10</td>\n",
       "      <td>1</td>\n",
       "      <td>Código limpo com C#</td>\n",
       "    </tr>\n",
       "    <tr>\n",
       "      <th>4</th>\n",
       "      <td>13</td>\n",
       "      <td>7</td>\n",
       "      <td>Persistência com .NET</td>\n",
       "    </tr>\n",
       "    <tr>\n",
       "      <th>5</th>\n",
       "      <td>18</td>\n",
       "      <td>18</td>\n",
       "      <td>Programação funcional</td>\n",
       "    </tr>\n",
       "  </tbody>\n",
       "</table>\n",
       "</div>"
      ],
      "text/plain": [
       "   id_curso  quantidade_de_alunos          nome_do_curso\n",
       "0         1                    18  Lógica de programação\n",
       "1         4                    18          Ruby on Rails\n",
       "2         9                    11           TDD com Java\n",
       "3        10                     1    Código limpo com C#\n",
       "4        13                     7  Persistência com .NET\n",
       "5        18                    18  Programação funcional"
      ]
     },
     "execution_count": 740,
     "metadata": {},
     "output_type": "execute_result"
    }
   ],
   "source": [
    "pd.read_sql(query, engine)"
   ]
  },
  {
   "cell_type": "code",
   "execution_count": 741,
   "id": "5da576d7-262e-474b-9c4e-b87ec0d9da95",
   "metadata": {
    "pycharm": {
     "name": "#%%\n"
    }
   },
   "outputs": [
    {
     "data": {
      "text/html": [
       "<div>\n",
       "<style scoped>\n",
       "    .dataframe tbody tr th:only-of-type {\n",
       "        vertical-align: middle;\n",
       "    }\n",
       "\n",
       "    .dataframe tbody tr th {\n",
       "        vertical-align: top;\n",
       "    }\n",
       "\n",
       "    .dataframe thead th {\n",
       "        text-align: right;\n",
       "    }\n",
       "</style>\n",
       "<table border=\"1\" class=\"dataframe\">\n",
       "  <thead>\n",
       "    <tr style=\"text-align: right;\">\n",
       "      <th></th>\n",
       "      <th>nome_do_curso</th>\n",
       "      <th>quantidade_de_alunos</th>\n",
       "    </tr>\n",
       "  </thead>\n",
       "  <tbody>\n",
       "    <tr>\n",
       "      <th>0</th>\n",
       "      <td>Lógica de programação</td>\n",
       "      <td>18</td>\n",
       "    </tr>\n",
       "    <tr>\n",
       "      <th>1</th>\n",
       "      <td>Java para Web</td>\n",
       "      <td>36</td>\n",
       "    </tr>\n",
       "    <tr>\n",
       "      <th>2</th>\n",
       "      <td>C# para Web</td>\n",
       "      <td>43</td>\n",
       "    </tr>\n",
       "    <tr>\n",
       "      <th>3</th>\n",
       "      <td>Ruby on Rails</td>\n",
       "      <td>18</td>\n",
       "    </tr>\n",
       "    <tr>\n",
       "      <th>4</th>\n",
       "      <td>Cursos de Python</td>\n",
       "      <td>55</td>\n",
       "    </tr>\n",
       "    <tr>\n",
       "      <th>5</th>\n",
       "      <td>PHP com MySql</td>\n",
       "      <td>64</td>\n",
       "    </tr>\n",
       "    <tr>\n",
       "      <th>6</th>\n",
       "      <td>.NET para web</td>\n",
       "      <td>41</td>\n",
       "    </tr>\n",
       "    <tr>\n",
       "      <th>7</th>\n",
       "      <td>Novas integrações com Java</td>\n",
       "      <td>53</td>\n",
       "    </tr>\n",
       "    <tr>\n",
       "      <th>8</th>\n",
       "      <td>TDD com Java</td>\n",
       "      <td>11</td>\n",
       "    </tr>\n",
       "    <tr>\n",
       "      <th>9</th>\n",
       "      <td>Código limpo com C#</td>\n",
       "      <td>1</td>\n",
       "    </tr>\n",
       "    <tr>\n",
       "      <th>10</th>\n",
       "      <td>Preparatório para certificação Java</td>\n",
       "      <td>22</td>\n",
       "    </tr>\n",
       "    <tr>\n",
       "      <th>11</th>\n",
       "      <td>Hardware básico</td>\n",
       "      <td>74</td>\n",
       "    </tr>\n",
       "    <tr>\n",
       "      <th>12</th>\n",
       "      <td>Persistência com .NET</td>\n",
       "      <td>7</td>\n",
       "    </tr>\n",
       "    <tr>\n",
       "      <th>13</th>\n",
       "      <td>Desenvolvendo jogos</td>\n",
       "      <td>67</td>\n",
       "    </tr>\n",
       "    <tr>\n",
       "      <th>14</th>\n",
       "      <td>Análise de dados</td>\n",
       "      <td>85</td>\n",
       "    </tr>\n",
       "    <tr>\n",
       "      <th>15</th>\n",
       "      <td>Estatística básica</td>\n",
       "      <td>46</td>\n",
       "    </tr>\n",
       "    <tr>\n",
       "      <th>16</th>\n",
       "      <td>Internet das coisas</td>\n",
       "      <td>75</td>\n",
       "    </tr>\n",
       "    <tr>\n",
       "      <th>17</th>\n",
       "      <td>Programação funcional</td>\n",
       "      <td>18</td>\n",
       "    </tr>\n",
       "    <tr>\n",
       "      <th>18</th>\n",
       "      <td>Boas práticas em Java</td>\n",
       "      <td>60</td>\n",
       "    </tr>\n",
       "    <tr>\n",
       "      <th>19</th>\n",
       "      <td>Orientação objetos com Java</td>\n",
       "      <td>56</td>\n",
       "    </tr>\n",
       "  </tbody>\n",
       "</table>\n",
       "</div>"
      ],
      "text/plain": [
       "                          nome_do_curso  quantidade_de_alunos\n",
       "0                 Lógica de programação                    18\n",
       "1                         Java para Web                    36\n",
       "2                           C# para Web                    43\n",
       "3                         Ruby on Rails                    18\n",
       "4                      Cursos de Python                    55\n",
       "5                         PHP com MySql                    64\n",
       "6                         .NET para web                    41\n",
       "7            Novas integrações com Java                    53\n",
       "8                          TDD com Java                    11\n",
       "9                   Código limpo com C#                     1\n",
       "10  Preparatório para certificação Java                    22\n",
       "11                      Hardware básico                    74\n",
       "12                Persistência com .NET                     7\n",
       "13                  Desenvolvendo jogos                    67\n",
       "14                     Análise de dados                    85\n",
       "15                   Estatística básica                    46\n",
       "16                  Internet das coisas                    75\n",
       "17                Programação funcional                    18\n",
       "18                Boas práticas em Java                    60\n",
       "19          Orientação objetos com Java                    56"
      ]
     },
     "execution_count": 741,
     "metadata": {},
     "output_type": "execute_result"
    }
   ],
   "source": [
    "pd.read_sql_table('matriculas', engine, columns=['nome_do_curso','quantidade_de_alunos'])"
   ]
  },
  {
   "cell_type": "code",
   "execution_count": 742,
   "id": "9045061b-055a-474f-8e64-2f7a2661886a",
   "metadata": {
    "pycharm": {
     "name": "#%%\n"
    }
   },
   "outputs": [],
   "source": [
    "muitas_matriculas = pd.read_sql_table('matriculas', engine, columns=['nome_do_curso','quantidade_de_alunos'])"
   ]
  },
  {
   "cell_type": "code",
   "execution_count": 743,
   "id": "f2dfce1b-6854-4e7e-848e-3150d1780ba3",
   "metadata": {
    "pycharm": {
     "name": "#%%\n"
    }
   },
   "outputs": [
    {
     "data": {
      "text/html": [
       "<div>\n",
       "<style scoped>\n",
       "    .dataframe tbody tr th:only-of-type {\n",
       "        vertical-align: middle;\n",
       "    }\n",
       "\n",
       "    .dataframe tbody tr th {\n",
       "        vertical-align: top;\n",
       "    }\n",
       "\n",
       "    .dataframe thead th {\n",
       "        text-align: right;\n",
       "    }\n",
       "</style>\n",
       "<table border=\"1\" class=\"dataframe\">\n",
       "  <thead>\n",
       "    <tr style=\"text-align: right;\">\n",
       "      <th></th>\n",
       "      <th>nome_do_curso</th>\n",
       "      <th>quantidade_de_alunos</th>\n",
       "    </tr>\n",
       "  </thead>\n",
       "  <tbody>\n",
       "    <tr>\n",
       "      <th>0</th>\n",
       "      <td>Lógica de programação</td>\n",
       "      <td>18</td>\n",
       "    </tr>\n",
       "    <tr>\n",
       "      <th>1</th>\n",
       "      <td>Java para Web</td>\n",
       "      <td>36</td>\n",
       "    </tr>\n",
       "    <tr>\n",
       "      <th>2</th>\n",
       "      <td>C# para Web</td>\n",
       "      <td>43</td>\n",
       "    </tr>\n",
       "    <tr>\n",
       "      <th>3</th>\n",
       "      <td>Ruby on Rails</td>\n",
       "      <td>18</td>\n",
       "    </tr>\n",
       "    <tr>\n",
       "      <th>4</th>\n",
       "      <td>Cursos de Python</td>\n",
       "      <td>55</td>\n",
       "    </tr>\n",
       "    <tr>\n",
       "      <th>5</th>\n",
       "      <td>PHP com MySql</td>\n",
       "      <td>64</td>\n",
       "    </tr>\n",
       "    <tr>\n",
       "      <th>6</th>\n",
       "      <td>.NET para web</td>\n",
       "      <td>41</td>\n",
       "    </tr>\n",
       "    <tr>\n",
       "      <th>7</th>\n",
       "      <td>Novas integrações com Java</td>\n",
       "      <td>53</td>\n",
       "    </tr>\n",
       "    <tr>\n",
       "      <th>8</th>\n",
       "      <td>TDD com Java</td>\n",
       "      <td>11</td>\n",
       "    </tr>\n",
       "    <tr>\n",
       "      <th>9</th>\n",
       "      <td>Código limpo com C#</td>\n",
       "      <td>1</td>\n",
       "    </tr>\n",
       "    <tr>\n",
       "      <th>10</th>\n",
       "      <td>Preparatório para certificação Java</td>\n",
       "      <td>22</td>\n",
       "    </tr>\n",
       "    <tr>\n",
       "      <th>11</th>\n",
       "      <td>Hardware básico</td>\n",
       "      <td>74</td>\n",
       "    </tr>\n",
       "    <tr>\n",
       "      <th>12</th>\n",
       "      <td>Persistência com .NET</td>\n",
       "      <td>7</td>\n",
       "    </tr>\n",
       "    <tr>\n",
       "      <th>13</th>\n",
       "      <td>Desenvolvendo jogos</td>\n",
       "      <td>67</td>\n",
       "    </tr>\n",
       "    <tr>\n",
       "      <th>14</th>\n",
       "      <td>Análise de dados</td>\n",
       "      <td>85</td>\n",
       "    </tr>\n",
       "    <tr>\n",
       "      <th>15</th>\n",
       "      <td>Estatística básica</td>\n",
       "      <td>46</td>\n",
       "    </tr>\n",
       "    <tr>\n",
       "      <th>16</th>\n",
       "      <td>Internet das coisas</td>\n",
       "      <td>75</td>\n",
       "    </tr>\n",
       "    <tr>\n",
       "      <th>17</th>\n",
       "      <td>Programação funcional</td>\n",
       "      <td>18</td>\n",
       "    </tr>\n",
       "    <tr>\n",
       "      <th>18</th>\n",
       "      <td>Boas práticas em Java</td>\n",
       "      <td>60</td>\n",
       "    </tr>\n",
       "    <tr>\n",
       "      <th>19</th>\n",
       "      <td>Orientação objetos com Java</td>\n",
       "      <td>56</td>\n",
       "    </tr>\n",
       "  </tbody>\n",
       "</table>\n",
       "</div>"
      ],
      "text/plain": [
       "                          nome_do_curso  quantidade_de_alunos\n",
       "0                 Lógica de programação                    18\n",
       "1                         Java para Web                    36\n",
       "2                           C# para Web                    43\n",
       "3                         Ruby on Rails                    18\n",
       "4                      Cursos de Python                    55\n",
       "5                         PHP com MySql                    64\n",
       "6                         .NET para web                    41\n",
       "7            Novas integrações com Java                    53\n",
       "8                          TDD com Java                    11\n",
       "9                   Código limpo com C#                     1\n",
       "10  Preparatório para certificação Java                    22\n",
       "11                      Hardware básico                    74\n",
       "12                Persistência com .NET                     7\n",
       "13                  Desenvolvendo jogos                    67\n",
       "14                     Análise de dados                    85\n",
       "15                   Estatística básica                    46\n",
       "16                  Internet das coisas                    75\n",
       "17                Programação funcional                    18\n",
       "18                Boas práticas em Java                    60\n",
       "19          Orientação objetos com Java                    56"
      ]
     },
     "execution_count": 743,
     "metadata": {},
     "output_type": "execute_result"
    }
   ],
   "source": [
    "muitas_matriculas"
   ]
  },
  {
   "cell_type": "code",
   "execution_count": 744,
   "id": "3e987509-1ee7-496e-8dc1-02cf270d7452",
   "metadata": {
    "pycharm": {
     "name": "#%%\n"
    }
   },
   "outputs": [],
   "source": [
    "muitas_matriculas = muitas_matriculas.query('quantidade_de_alunos > 70')"
   ]
  },
  {
   "cell_type": "code",
   "execution_count": 745,
   "id": "390c6608-d0f9-4b9b-91e3-0832171c7c30",
   "metadata": {
    "pycharm": {
     "name": "#%%\n"
    }
   },
   "outputs": [
    {
     "data": {
      "text/html": [
       "<div>\n",
       "<style scoped>\n",
       "    .dataframe tbody tr th:only-of-type {\n",
       "        vertical-align: middle;\n",
       "    }\n",
       "\n",
       "    .dataframe tbody tr th {\n",
       "        vertical-align: top;\n",
       "    }\n",
       "\n",
       "    .dataframe thead th {\n",
       "        text-align: right;\n",
       "    }\n",
       "</style>\n",
       "<table border=\"1\" class=\"dataframe\">\n",
       "  <thead>\n",
       "    <tr style=\"text-align: right;\">\n",
       "      <th></th>\n",
       "      <th>nome_do_curso</th>\n",
       "      <th>quantidade_de_alunos</th>\n",
       "    </tr>\n",
       "  </thead>\n",
       "  <tbody>\n",
       "    <tr>\n",
       "      <th>11</th>\n",
       "      <td>Hardware básico</td>\n",
       "      <td>74</td>\n",
       "    </tr>\n",
       "    <tr>\n",
       "      <th>14</th>\n",
       "      <td>Análise de dados</td>\n",
       "      <td>85</td>\n",
       "    </tr>\n",
       "    <tr>\n",
       "      <th>16</th>\n",
       "      <td>Internet das coisas</td>\n",
       "      <td>75</td>\n",
       "    </tr>\n",
       "  </tbody>\n",
       "</table>\n",
       "</div>"
      ],
      "text/plain": [
       "          nome_do_curso  quantidade_de_alunos\n",
       "11      Hardware básico                    74\n",
       "14     Análise de dados                    85\n",
       "16  Internet das coisas                    75"
      ]
     },
     "execution_count": 745,
     "metadata": {},
     "output_type": "execute_result"
    }
   ],
   "source": [
    "muitas_matriculas"
   ]
  },
  {
   "cell_type": "markdown",
   "id": "715392a3-142c-4ff9-a772-b52f6515be57",
   "metadata": {
    "pycharm": {
     "name": "#%% md\n"
    }
   },
   "source": [
    "# Escrevendo no banco"
   ]
  },
  {
   "cell_type": "code",
   "execution_count": 746,
   "id": "069f7bee-85b3-4753-bff8-8bef7a3da2be",
   "metadata": {
    "pycharm": {
     "name": "#%%\n"
    }
   },
   "outputs": [],
   "source": [
    "muitas_matriculas.to_sql('muitas_matriculas', con=engine)"
   ]
  },
  {
   "cell_type": "code",
   "execution_count": 747,
   "id": "a63e3b2a-c49b-4283-941f-21aeb9d295f4",
   "metadata": {
    "pycharm": {
     "name": "#%%\n"
    }
   },
   "outputs": [],
   "source": [
    "inspector = inspect(engine) "
   ]
  },
  {
   "cell_type": "code",
   "execution_count": 748,
   "id": "b22817ba-d945-4039-b6ad-ab600eca7aa2",
   "metadata": {
    "pycharm": {
     "name": "#%%\n"
    }
   },
   "outputs": [
    {
     "name": "stdout",
     "output_type": "stream",
     "text": [
      "['matriculas', 'muitas_matriculas']\n"
     ]
    }
   ],
   "source": [
    "print(inspector.get_table_names())"
   ]
  },
  {
   "cell_type": "markdown",
   "id": "480a67a0-7c81-4f2c-b865-17027a7c13ec",
   "metadata": {
    "pycharm": {
     "name": "#%% md\n"
    }
   },
   "source": [
    "# Nomes dos alunos e alunas da próxima turma"
   ]
  },
  {
   "cell_type": "code",
   "execution_count": 749,
   "id": "60af3aef-2f08-4493-96c8-4a40c867ab7e",
   "metadata": {
    "pycharm": {
     "name": "#%%\n"
    }
   },
   "outputs": [
    {
     "data": {
      "text/html": [
       "<div>\n",
       "<style scoped>\n",
       "    .dataframe tbody tr th:only-of-type {\n",
       "        vertical-align: middle;\n",
       "    }\n",
       "\n",
       "    .dataframe tbody tr th {\n",
       "        vertical-align: top;\n",
       "    }\n",
       "\n",
       "    .dataframe thead th {\n",
       "        text-align: right;\n",
       "    }\n",
       "</style>\n",
       "<table border=\"1\" class=\"dataframe\">\n",
       "  <thead>\n",
       "    <tr style=\"text-align: right;\">\n",
       "      <th></th>\n",
       "      <th>quantidade_de_alunos</th>\n",
       "      <th>nome_do_curso</th>\n",
       "    </tr>\n",
       "    <tr>\n",
       "      <th>id_curso</th>\n",
       "      <th></th>\n",
       "      <th></th>\n",
       "    </tr>\n",
       "  </thead>\n",
       "  <tbody>\n",
       "    <tr>\n",
       "      <th>1</th>\n",
       "      <td>18</td>\n",
       "      <td>Lógica de programação</td>\n",
       "    </tr>\n",
       "    <tr>\n",
       "      <th>2</th>\n",
       "      <td>36</td>\n",
       "      <td>Java para Web</td>\n",
       "    </tr>\n",
       "    <tr>\n",
       "      <th>3</th>\n",
       "      <td>43</td>\n",
       "      <td>C# para Web</td>\n",
       "    </tr>\n",
       "    <tr>\n",
       "      <th>4</th>\n",
       "      <td>18</td>\n",
       "      <td>Ruby on Rails</td>\n",
       "    </tr>\n",
       "    <tr>\n",
       "      <th>5</th>\n",
       "      <td>55</td>\n",
       "      <td>Cursos de Python</td>\n",
       "    </tr>\n",
       "    <tr>\n",
       "      <th>6</th>\n",
       "      <td>64</td>\n",
       "      <td>PHP com MySql</td>\n",
       "    </tr>\n",
       "    <tr>\n",
       "      <th>7</th>\n",
       "      <td>41</td>\n",
       "      <td>.NET para web</td>\n",
       "    </tr>\n",
       "    <tr>\n",
       "      <th>8</th>\n",
       "      <td>53</td>\n",
       "      <td>Novas integrações com Java</td>\n",
       "    </tr>\n",
       "    <tr>\n",
       "      <th>9</th>\n",
       "      <td>11</td>\n",
       "      <td>TDD com Java</td>\n",
       "    </tr>\n",
       "    <tr>\n",
       "      <th>10</th>\n",
       "      <td>1</td>\n",
       "      <td>Código limpo com C#</td>\n",
       "    </tr>\n",
       "    <tr>\n",
       "      <th>11</th>\n",
       "      <td>22</td>\n",
       "      <td>Preparatório para certificação Java</td>\n",
       "    </tr>\n",
       "    <tr>\n",
       "      <th>12</th>\n",
       "      <td>74</td>\n",
       "      <td>Hardware básico</td>\n",
       "    </tr>\n",
       "    <tr>\n",
       "      <th>13</th>\n",
       "      <td>7</td>\n",
       "      <td>Persistência com .NET</td>\n",
       "    </tr>\n",
       "    <tr>\n",
       "      <th>14</th>\n",
       "      <td>67</td>\n",
       "      <td>Desenvolvendo jogos</td>\n",
       "    </tr>\n",
       "    <tr>\n",
       "      <th>15</th>\n",
       "      <td>85</td>\n",
       "      <td>Análise de dados</td>\n",
       "    </tr>\n",
       "    <tr>\n",
       "      <th>16</th>\n",
       "      <td>46</td>\n",
       "      <td>Estatística básica</td>\n",
       "    </tr>\n",
       "    <tr>\n",
       "      <th>17</th>\n",
       "      <td>75</td>\n",
       "      <td>Internet das coisas</td>\n",
       "    </tr>\n",
       "    <tr>\n",
       "      <th>18</th>\n",
       "      <td>18</td>\n",
       "      <td>Programação funcional</td>\n",
       "    </tr>\n",
       "    <tr>\n",
       "      <th>19</th>\n",
       "      <td>60</td>\n",
       "      <td>Boas práticas em Java</td>\n",
       "    </tr>\n",
       "    <tr>\n",
       "      <th>20</th>\n",
       "      <td>56</td>\n",
       "      <td>Orientação objetos com Java</td>\n",
       "    </tr>\n",
       "  </tbody>\n",
       "</table>\n",
       "</div>"
      ],
      "text/plain": [
       "          quantidade_de_alunos                        nome_do_curso\n",
       "id_curso                                                           \n",
       "1                           18                Lógica de programação\n",
       "2                           36                        Java para Web\n",
       "3                           43                          C# para Web\n",
       "4                           18                        Ruby on Rails\n",
       "5                           55                     Cursos de Python\n",
       "6                           64                        PHP com MySql\n",
       "7                           41                        .NET para web\n",
       "8                           53           Novas integrações com Java\n",
       "9                           11                         TDD com Java\n",
       "10                           1                  Código limpo com C#\n",
       "11                          22  Preparatório para certificação Java\n",
       "12                          74                      Hardware básico\n",
       "13                           7                Persistência com .NET\n",
       "14                          67                  Desenvolvendo jogos\n",
       "15                          85                     Análise de dados\n",
       "16                          46                   Estatística básica\n",
       "17                          75                  Internet das coisas\n",
       "18                          18                Programação funcional\n",
       "19                          60                Boas práticas em Java\n",
       "20                          56          Orientação objetos com Java"
      ]
     },
     "execution_count": 749,
     "metadata": {},
     "output_type": "execute_result"
    }
   ],
   "source": [
    "matriculas_por_curso.head(20)"
   ]
  },
  {
   "cell_type": "code",
   "execution_count": 750,
   "id": "2021504e-29ba-4dbc-8d81-abfc99db9a54",
   "metadata": {
    "pycharm": {
     "name": "#%%\n"
    }
   },
   "outputs": [
    {
     "data": {
      "text/html": [
       "<div>\n",
       "<style scoped>\n",
       "    .dataframe tbody tr th:only-of-type {\n",
       "        vertical-align: middle;\n",
       "    }\n",
       "\n",
       "    .dataframe tbody tr th {\n",
       "        vertical-align: top;\n",
       "    }\n",
       "\n",
       "    .dataframe thead th {\n",
       "        text-align: right;\n",
       "    }\n",
       "</style>\n",
       "<table border=\"1\" class=\"dataframe\">\n",
       "  <thead>\n",
       "    <tr style=\"text-align: right;\">\n",
       "      <th></th>\n",
       "      <th>id_aluno</th>\n",
       "      <th>id_curso</th>\n",
       "    </tr>\n",
       "  </thead>\n",
       "  <tbody>\n",
       "    <tr>\n",
       "      <th>0</th>\n",
       "      <td>189</td>\n",
       "      <td>12</td>\n",
       "    </tr>\n",
       "    <tr>\n",
       "      <th>1</th>\n",
       "      <td>189</td>\n",
       "      <td>14</td>\n",
       "    </tr>\n",
       "    <tr>\n",
       "      <th>2</th>\n",
       "      <td>189</td>\n",
       "      <td>3</td>\n",
       "    </tr>\n",
       "    <tr>\n",
       "      <th>3</th>\n",
       "      <td>58</td>\n",
       "      <td>7</td>\n",
       "    </tr>\n",
       "    <tr>\n",
       "      <th>4</th>\n",
       "      <td>58</td>\n",
       "      <td>3</td>\n",
       "    </tr>\n",
       "    <tr>\n",
       "      <th>...</th>\n",
       "      <td>...</td>\n",
       "      <td>...</td>\n",
       "    </tr>\n",
       "    <tr>\n",
       "      <th>845</th>\n",
       "      <td>50</td>\n",
       "      <td>7</td>\n",
       "    </tr>\n",
       "    <tr>\n",
       "      <th>846</th>\n",
       "      <td>244</td>\n",
       "      <td>12</td>\n",
       "    </tr>\n",
       "    <tr>\n",
       "      <th>847</th>\n",
       "      <td>244</td>\n",
       "      <td>12</td>\n",
       "    </tr>\n",
       "    <tr>\n",
       "      <th>848</th>\n",
       "      <td>244</td>\n",
       "      <td>2</td>\n",
       "    </tr>\n",
       "    <tr>\n",
       "      <th>849</th>\n",
       "      <td>387</td>\n",
       "      <td>14</td>\n",
       "    </tr>\n",
       "  </tbody>\n",
       "</table>\n",
       "<p>850 rows × 2 columns</p>\n",
       "</div>"
      ],
      "text/plain": [
       "     id_aluno  id_curso\n",
       "0         189        12\n",
       "1         189        14\n",
       "2         189         3\n",
       "3          58         7\n",
       "4          58         3\n",
       "..        ...       ...\n",
       "845        50         7\n",
       "846       244        12\n",
       "847       244        12\n",
       "848       244         2\n",
       "849       387        14\n",
       "\n",
       "[850 rows x 2 columns]"
      ]
     },
     "execution_count": 750,
     "metadata": {},
     "output_type": "execute_result"
    }
   ],
   "source": [
    "matriculas"
   ]
  },
  {
   "cell_type": "code",
   "execution_count": 751,
   "id": "d16dc118-bece-4d71-9cc2-ee9533dc4710",
   "metadata": {
    "pycharm": {
     "name": "#%%\n"
    }
   },
   "outputs": [],
   "source": [
    "id_curso_escolhido = 16"
   ]
  },
  {
   "cell_type": "code",
   "execution_count": 752,
   "id": "4a51cd55-783c-4f13-961c-2748d1a45644",
   "metadata": {
    "pycharm": {
     "name": "#%%\n"
    }
   },
   "outputs": [],
   "source": [
    "proxima_turma = matriculas.query(f\"id_curso == {id_curso_escolhido}\")"
   ]
  },
  {
   "cell_type": "code",
   "execution_count": 753,
   "id": "5c35268f-4340-47e7-b8c0-292e853a9aac",
   "metadata": {
    "pycharm": {
     "name": "#%%\n"
    }
   },
   "outputs": [
    {
     "data": {
      "text/html": [
       "<div>\n",
       "<style scoped>\n",
       "    .dataframe tbody tr th:only-of-type {\n",
       "        vertical-align: middle;\n",
       "    }\n",
       "\n",
       "    .dataframe tbody tr th {\n",
       "        vertical-align: top;\n",
       "    }\n",
       "\n",
       "    .dataframe thead th {\n",
       "        text-align: right;\n",
       "    }\n",
       "</style>\n",
       "<table border=\"1\" class=\"dataframe\">\n",
       "  <thead>\n",
       "    <tr style=\"text-align: right;\">\n",
       "      <th></th>\n",
       "      <th>id_aluno</th>\n",
       "      <th>id_curso</th>\n",
       "    </tr>\n",
       "  </thead>\n",
       "  <tbody>\n",
       "    <tr>\n",
       "      <th>17</th>\n",
       "      <td>237</td>\n",
       "      <td>16</td>\n",
       "    </tr>\n",
       "    <tr>\n",
       "      <th>21</th>\n",
       "      <td>5</td>\n",
       "      <td>16</td>\n",
       "    </tr>\n",
       "    <tr>\n",
       "      <th>34</th>\n",
       "      <td>322</td>\n",
       "      <td>16</td>\n",
       "    </tr>\n",
       "    <tr>\n",
       "      <th>37</th>\n",
       "      <td>90</td>\n",
       "      <td>16</td>\n",
       "    </tr>\n",
       "    <tr>\n",
       "      <th>56</th>\n",
       "      <td>173</td>\n",
       "      <td>16</td>\n",
       "    </tr>\n",
       "  </tbody>\n",
       "</table>\n",
       "</div>"
      ],
      "text/plain": [
       "    id_aluno  id_curso\n",
       "17       237        16\n",
       "21         5        16\n",
       "34       322        16\n",
       "37        90        16\n",
       "56       173        16"
      ]
     },
     "execution_count": 753,
     "metadata": {},
     "output_type": "execute_result"
    }
   ],
   "source": [
    "proxima_turma.head()"
   ]
  },
  {
   "cell_type": "code",
   "execution_count": 754,
   "id": "5b4889fa-fdde-4895-b3da-4db8e5dc4f5e",
   "metadata": {
    "pycharm": {
     "name": "#%%\n"
    }
   },
   "outputs": [
    {
     "data": {
      "text/html": [
       "<div>\n",
       "<style scoped>\n",
       "    .dataframe tbody tr th:only-of-type {\n",
       "        vertical-align: middle;\n",
       "    }\n",
       "\n",
       "    .dataframe tbody tr th {\n",
       "        vertical-align: top;\n",
       "    }\n",
       "\n",
       "    .dataframe thead th {\n",
       "        text-align: right;\n",
       "    }\n",
       "</style>\n",
       "<table border=\"1\" class=\"dataframe\">\n",
       "  <thead>\n",
       "    <tr style=\"text-align: right;\">\n",
       "      <th></th>\n",
       "      <th>nome</th>\n",
       "      <th>id_aluno</th>\n",
       "      <th>email</th>\n",
       "      <th>matriculas</th>\n",
       "    </tr>\n",
       "  </thead>\n",
       "  <tbody>\n",
       "    <tr>\n",
       "      <th>9</th>\n",
       "      <td>ALINE</td>\n",
       "      <td>268</td>\n",
       "      <td>aline@servicodoemail.com</td>\n",
       "      <td>2</td>\n",
       "    </tr>\n",
       "    <tr>\n",
       "      <th>14</th>\n",
       "      <td>MARCELO</td>\n",
       "      <td>271</td>\n",
       "      <td>marcelo@servicodoemail.com</td>\n",
       "      <td>2</td>\n",
       "    </tr>\n",
       "    <tr>\n",
       "      <th>141</th>\n",
       "      <td>ORLANDO</td>\n",
       "      <td>61</td>\n",
       "      <td>orlando@dominiodoemmail.com.br</td>\n",
       "      <td>2</td>\n",
       "    </tr>\n",
       "  </tbody>\n",
       "</table>\n",
       "</div>"
      ],
      "text/plain": [
       "        nome  id_aluno                           email  matriculas\n",
       "9      ALINE       268        aline@servicodoemail.com           2\n",
       "14   MARCELO       271      marcelo@servicodoemail.com           2\n",
       "141  ORLANDO        61  orlando@dominiodoemmail.com.br           2"
      ]
     },
     "execution_count": 754,
     "metadata": {},
     "output_type": "execute_result"
    }
   ],
   "source": [
    "nomes.sample(3)"
   ]
  },
  {
   "cell_type": "code",
   "execution_count": 755,
   "id": "99460ded-b06c-4369-8c6d-14ef3690cb31",
   "metadata": {
    "pycharm": {
     "name": "#%%\n"
    }
   },
   "outputs": [
    {
     "data": {
      "text/html": [
       "<div>\n",
       "<style scoped>\n",
       "    .dataframe tbody tr th:only-of-type {\n",
       "        vertical-align: middle;\n",
       "    }\n",
       "\n",
       "    .dataframe tbody tr th {\n",
       "        vertical-align: top;\n",
       "    }\n",
       "\n",
       "    .dataframe thead th {\n",
       "        text-align: right;\n",
       "    }\n",
       "</style>\n",
       "<table border=\"1\" class=\"dataframe\">\n",
       "  <thead>\n",
       "    <tr style=\"text-align: right;\">\n",
       "      <th></th>\n",
       "      <th>id_curso</th>\n",
       "      <th>nome</th>\n",
       "      <th>email</th>\n",
       "      <th>matriculas</th>\n",
       "    </tr>\n",
       "    <tr>\n",
       "      <th>id_aluno</th>\n",
       "      <th></th>\n",
       "      <th></th>\n",
       "      <th></th>\n",
       "      <th></th>\n",
       "    </tr>\n",
       "  </thead>\n",
       "  <tbody>\n",
       "    <tr>\n",
       "      <th>5</th>\n",
       "      <td>16</td>\n",
       "      <td>PATRICIA</td>\n",
       "      <td>patricia@dominiodoemmail.com.br</td>\n",
       "      <td>5</td>\n",
       "    </tr>\n",
       "    <tr>\n",
       "      <th>7</th>\n",
       "      <td>16</td>\n",
       "      <td>ALBERTO</td>\n",
       "      <td>alberto@servicodoemail.com</td>\n",
       "      <td>2</td>\n",
       "    </tr>\n",
       "    <tr>\n",
       "      <th>18</th>\n",
       "      <td>16</td>\n",
       "      <td>ELIZABETE</td>\n",
       "      <td>elizabete@servicodoemail.com</td>\n",
       "      <td>2</td>\n",
       "    </tr>\n",
       "    <tr>\n",
       "      <th>28</th>\n",
       "      <td>16</td>\n",
       "      <td>ROGERIO</td>\n",
       "      <td>rogerio@servicodoemail.com</td>\n",
       "      <td>2</td>\n",
       "    </tr>\n",
       "    <tr>\n",
       "      <th>36</th>\n",
       "      <td>16</td>\n",
       "      <td>LAURA</td>\n",
       "      <td>laura@dominiodoemmail.com.br</td>\n",
       "      <td>3</td>\n",
       "    </tr>\n",
       "    <tr>\n",
       "      <th>40</th>\n",
       "      <td>16</td>\n",
       "      <td>FRANCIELE</td>\n",
       "      <td>franciele@dominiodoemmail.com.br</td>\n",
       "      <td>1</td>\n",
       "    </tr>\n",
       "    <tr>\n",
       "      <th>53</th>\n",
       "      <td>16</td>\n",
       "      <td>DEBORA</td>\n",
       "      <td>debora@servicodoemail.com</td>\n",
       "      <td>4</td>\n",
       "    </tr>\n",
       "    <tr>\n",
       "      <th>60</th>\n",
       "      <td>16</td>\n",
       "      <td>DANIEL</td>\n",
       "      <td>daniel@servicodoemail.com</td>\n",
       "      <td>2</td>\n",
       "    </tr>\n",
       "    <tr>\n",
       "      <th>62</th>\n",
       "      <td>16</td>\n",
       "      <td>EDER</td>\n",
       "      <td>eder@dominiodoemmail.com.br</td>\n",
       "      <td>4</td>\n",
       "    </tr>\n",
       "    <tr>\n",
       "      <th>86</th>\n",
       "      <td>16</td>\n",
       "      <td>JENIFER</td>\n",
       "      <td>jenifer@dominiodoemmail.com.br</td>\n",
       "      <td>1</td>\n",
       "    </tr>\n",
       "    <tr>\n",
       "      <th>87</th>\n",
       "      <td>16</td>\n",
       "      <td>NAIR</td>\n",
       "      <td>nair@dominiodoemmail.com.br</td>\n",
       "      <td>4</td>\n",
       "    </tr>\n",
       "    <tr>\n",
       "      <th>89</th>\n",
       "      <td>16</td>\n",
       "      <td>CICERA</td>\n",
       "      <td>cicera@dominiodoemmail.com.br</td>\n",
       "      <td>2</td>\n",
       "    </tr>\n",
       "    <tr>\n",
       "      <th>90</th>\n",
       "      <td>16</td>\n",
       "      <td>LETICIA</td>\n",
       "      <td>leticia@servicodoemail.com</td>\n",
       "      <td>5</td>\n",
       "    </tr>\n",
       "    <tr>\n",
       "      <th>91</th>\n",
       "      <td>16</td>\n",
       "      <td>ANDREIA</td>\n",
       "      <td>andreia@servicodoemail.com</td>\n",
       "      <td>3</td>\n",
       "    </tr>\n",
       "    <tr>\n",
       "      <th>112</th>\n",
       "      <td>16</td>\n",
       "      <td>GERSON</td>\n",
       "      <td>gerson@servicodoemail.com</td>\n",
       "      <td>1</td>\n",
       "    </tr>\n",
       "    <tr>\n",
       "      <th>113</th>\n",
       "      <td>16</td>\n",
       "      <td>ZILDA</td>\n",
       "      <td>zilda@dominiodoemmail.com.br</td>\n",
       "      <td>8</td>\n",
       "    </tr>\n",
       "    <tr>\n",
       "      <th>130</th>\n",
       "      <td>16</td>\n",
       "      <td>CLEIDE</td>\n",
       "      <td>cleide@dominiodoemmail.com.br</td>\n",
       "      <td>3</td>\n",
       "    </tr>\n",
       "    <tr>\n",
       "      <th>135</th>\n",
       "      <td>16</td>\n",
       "      <td>TATIANA</td>\n",
       "      <td>tatiana@servicodoemail.com</td>\n",
       "      <td>12</td>\n",
       "    </tr>\n",
       "    <tr>\n",
       "      <th>158</th>\n",
       "      <td>16</td>\n",
       "      <td>LEONARDO</td>\n",
       "      <td>leonardo@dominiodoemmail.com.br</td>\n",
       "      <td>12</td>\n",
       "    </tr>\n",
       "    <tr>\n",
       "      <th>173</th>\n",
       "      <td>16</td>\n",
       "      <td>RITA</td>\n",
       "      <td>rita@dominiodoemmail.com.br</td>\n",
       "      <td>6</td>\n",
       "    </tr>\n",
       "    <tr>\n",
       "      <th>179</th>\n",
       "      <td>16</td>\n",
       "      <td>JOSIANE</td>\n",
       "      <td>josiane@servicodoemail.com</td>\n",
       "      <td>1</td>\n",
       "    </tr>\n",
       "    <tr>\n",
       "      <th>186</th>\n",
       "      <td>16</td>\n",
       "      <td>LUANA</td>\n",
       "      <td>luana@dominiodoemmail.com.br</td>\n",
       "      <td>4</td>\n",
       "    </tr>\n",
       "    <tr>\n",
       "      <th>188</th>\n",
       "      <td>16</td>\n",
       "      <td>ROBSON</td>\n",
       "      <td>robson@servicodoemail.com</td>\n",
       "      <td>2</td>\n",
       "    </tr>\n",
       "    <tr>\n",
       "      <th>194</th>\n",
       "      <td>16</td>\n",
       "      <td>ISABELA</td>\n",
       "      <td>isabela@dominiodoemmail.com.br</td>\n",
       "      <td>4</td>\n",
       "    </tr>\n",
       "    <tr>\n",
       "      <th>207</th>\n",
       "      <td>16</td>\n",
       "      <td>TEREZA</td>\n",
       "      <td>tereza@servicodoemail.com</td>\n",
       "      <td>1</td>\n",
       "    </tr>\n",
       "    <tr>\n",
       "      <th>209</th>\n",
       "      <td>16</td>\n",
       "      <td>JAILSON</td>\n",
       "      <td>jailson@servicodoemail.com</td>\n",
       "      <td>2</td>\n",
       "    </tr>\n",
       "    <tr>\n",
       "      <th>224</th>\n",
       "      <td>16</td>\n",
       "      <td>IVONETE</td>\n",
       "      <td>ivonete@servicodoemail.com</td>\n",
       "      <td>1</td>\n",
       "    </tr>\n",
       "    <tr>\n",
       "      <th>226</th>\n",
       "      <td>16</td>\n",
       "      <td>WILIAN</td>\n",
       "      <td>wilian@servicodoemail.com</td>\n",
       "      <td>5</td>\n",
       "    </tr>\n",
       "    <tr>\n",
       "      <th>234</th>\n",
       "      <td>16</td>\n",
       "      <td>ODAIR</td>\n",
       "      <td>odair@servicodoemail.com</td>\n",
       "      <td>3</td>\n",
       "    </tr>\n",
       "    <tr>\n",
       "      <th>237</th>\n",
       "      <td>16</td>\n",
       "      <td>FERNANDA</td>\n",
       "      <td>fernanda@dominiodoemmail.com.br</td>\n",
       "      <td>3</td>\n",
       "    </tr>\n",
       "    <tr>\n",
       "      <th>246</th>\n",
       "      <td>16</td>\n",
       "      <td>OSVALDO</td>\n",
       "      <td>osvaldo@servicodoemail.com</td>\n",
       "      <td>4</td>\n",
       "    </tr>\n",
       "    <tr>\n",
       "      <th>246</th>\n",
       "      <td>16</td>\n",
       "      <td>OSVALDO</td>\n",
       "      <td>osvaldo@servicodoemail.com</td>\n",
       "      <td>4</td>\n",
       "    </tr>\n",
       "    <tr>\n",
       "      <th>273</th>\n",
       "      <td>16</td>\n",
       "      <td>CINTIA</td>\n",
       "      <td>cintia@dominiodoemmail.com.br</td>\n",
       "      <td>3</td>\n",
       "    </tr>\n",
       "    <tr>\n",
       "      <th>273</th>\n",
       "      <td>16</td>\n",
       "      <td>CINTIA</td>\n",
       "      <td>cintia@dominiodoemmail.com.br</td>\n",
       "      <td>3</td>\n",
       "    </tr>\n",
       "    <tr>\n",
       "      <th>279</th>\n",
       "      <td>16</td>\n",
       "      <td>ALESSANDRO</td>\n",
       "      <td>alessandro@dominiodoemmail.com.br</td>\n",
       "      <td>4</td>\n",
       "    </tr>\n",
       "    <tr>\n",
       "      <th>281</th>\n",
       "      <td>16</td>\n",
       "      <td>REBECA</td>\n",
       "      <td>rebeca@servicodoemail.com</td>\n",
       "      <td>2</td>\n",
       "    </tr>\n",
       "    <tr>\n",
       "      <th>297</th>\n",
       "      <td>16</td>\n",
       "      <td>JAQUELINE</td>\n",
       "      <td>jaqueline@servicodoemail.com</td>\n",
       "      <td>5</td>\n",
       "    </tr>\n",
       "    <tr>\n",
       "      <th>301</th>\n",
       "      <td>16</td>\n",
       "      <td>ELIANA</td>\n",
       "      <td>eliana@servicodoemail.com</td>\n",
       "      <td>1</td>\n",
       "    </tr>\n",
       "    <tr>\n",
       "      <th>315</th>\n",
       "      <td>16</td>\n",
       "      <td>RENATA</td>\n",
       "      <td>renata@dominiodoemmail.com.br</td>\n",
       "      <td>3</td>\n",
       "    </tr>\n",
       "    <tr>\n",
       "      <th>322</th>\n",
       "      <td>16</td>\n",
       "      <td>JESSICA</td>\n",
       "      <td>jessica@servicodoemail.com</td>\n",
       "      <td>2</td>\n",
       "    </tr>\n",
       "    <tr>\n",
       "      <th>331</th>\n",
       "      <td>16</td>\n",
       "      <td>JAIME</td>\n",
       "      <td>jaime@dominiodoemmail.com.br</td>\n",
       "      <td>2</td>\n",
       "    </tr>\n",
       "    <tr>\n",
       "      <th>336</th>\n",
       "      <td>16</td>\n",
       "      <td>LEANDRO</td>\n",
       "      <td>leandro@dominiodoemmail.com.br</td>\n",
       "      <td>4</td>\n",
       "    </tr>\n",
       "    <tr>\n",
       "      <th>346</th>\n",
       "      <td>16</td>\n",
       "      <td>VALERIA</td>\n",
       "      <td>valeria@dominiodoemmail.com.br</td>\n",
       "      <td>5</td>\n",
       "    </tr>\n",
       "    <tr>\n",
       "      <th>351</th>\n",
       "      <td>16</td>\n",
       "      <td>REINALDO</td>\n",
       "      <td>reinaldo@servicodoemail.com</td>\n",
       "      <td>6</td>\n",
       "    </tr>\n",
       "    <tr>\n",
       "      <th>353</th>\n",
       "      <td>16</td>\n",
       "      <td>NILSON</td>\n",
       "      <td>nilson@dominiodoemmail.com.br</td>\n",
       "      <td>1</td>\n",
       "    </tr>\n",
       "    <tr>\n",
       "      <th>397</th>\n",
       "      <td>16</td>\n",
       "      <td>EDIVALDO</td>\n",
       "      <td>edivaldo@dominiodoemmail.com.br</td>\n",
       "      <td>2</td>\n",
       "    </tr>\n",
       "  </tbody>\n",
       "</table>\n",
       "</div>"
      ],
      "text/plain": [
       "          id_curso        nome                              email  matriculas\n",
       "id_aluno                                                                     \n",
       "5               16    PATRICIA    patricia@dominiodoemmail.com.br           5\n",
       "7               16     ALBERTO         alberto@servicodoemail.com           2\n",
       "18              16   ELIZABETE       elizabete@servicodoemail.com           2\n",
       "28              16     ROGERIO         rogerio@servicodoemail.com           2\n",
       "36              16       LAURA       laura@dominiodoemmail.com.br           3\n",
       "40              16   FRANCIELE   franciele@dominiodoemmail.com.br           1\n",
       "53              16      DEBORA          debora@servicodoemail.com           4\n",
       "60              16      DANIEL          daniel@servicodoemail.com           2\n",
       "62              16        EDER        eder@dominiodoemmail.com.br           4\n",
       "86              16     JENIFER     jenifer@dominiodoemmail.com.br           1\n",
       "87              16        NAIR        nair@dominiodoemmail.com.br           4\n",
       "89              16      CICERA      cicera@dominiodoemmail.com.br           2\n",
       "90              16     LETICIA         leticia@servicodoemail.com           5\n",
       "91              16     ANDREIA         andreia@servicodoemail.com           3\n",
       "112             16      GERSON          gerson@servicodoemail.com           1\n",
       "113             16       ZILDA       zilda@dominiodoemmail.com.br           8\n",
       "130             16      CLEIDE      cleide@dominiodoemmail.com.br           3\n",
       "135             16     TATIANA         tatiana@servicodoemail.com          12\n",
       "158             16    LEONARDO    leonardo@dominiodoemmail.com.br          12\n",
       "173             16        RITA        rita@dominiodoemmail.com.br           6\n",
       "179             16     JOSIANE         josiane@servicodoemail.com           1\n",
       "186             16       LUANA       luana@dominiodoemmail.com.br           4\n",
       "188             16      ROBSON          robson@servicodoemail.com           2\n",
       "194             16     ISABELA     isabela@dominiodoemmail.com.br           4\n",
       "207             16      TEREZA          tereza@servicodoemail.com           1\n",
       "209             16     JAILSON         jailson@servicodoemail.com           2\n",
       "224             16     IVONETE         ivonete@servicodoemail.com           1\n",
       "226             16      WILIAN          wilian@servicodoemail.com           5\n",
       "234             16       ODAIR           odair@servicodoemail.com           3\n",
       "237             16    FERNANDA    fernanda@dominiodoemmail.com.br           3\n",
       "246             16     OSVALDO         osvaldo@servicodoemail.com           4\n",
       "246             16     OSVALDO         osvaldo@servicodoemail.com           4\n",
       "273             16      CINTIA      cintia@dominiodoemmail.com.br           3\n",
       "273             16      CINTIA      cintia@dominiodoemmail.com.br           3\n",
       "279             16  ALESSANDRO  alessandro@dominiodoemmail.com.br           4\n",
       "281             16      REBECA          rebeca@servicodoemail.com           2\n",
       "297             16   JAQUELINE       jaqueline@servicodoemail.com           5\n",
       "301             16      ELIANA          eliana@servicodoemail.com           1\n",
       "315             16      RENATA      renata@dominiodoemmail.com.br           3\n",
       "322             16     JESSICA         jessica@servicodoemail.com           2\n",
       "331             16       JAIME       jaime@dominiodoemmail.com.br           2\n",
       "336             16     LEANDRO     leandro@dominiodoemmail.com.br           4\n",
       "346             16     VALERIA     valeria@dominiodoemmail.com.br           5\n",
       "351             16    REINALDO        reinaldo@servicodoemail.com           6\n",
       "353             16      NILSON      nilson@dominiodoemmail.com.br           1\n",
       "397             16    EDIVALDO    edivaldo@dominiodoemmail.com.br           2"
      ]
     },
     "execution_count": 755,
     "metadata": {},
     "output_type": "execute_result"
    }
   ],
   "source": [
    "proxima_turma.set_index('id_aluno').join(nomes.set_index('id_aluno'))"
   ]
  },
  {
   "cell_type": "code",
   "execution_count": 756,
   "id": "f5fe85f0-8320-48db-a248-08f2316036f9",
   "metadata": {
    "pycharm": {
     "name": "#%%\n"
    }
   },
   "outputs": [
    {
     "data": {
      "text/plain": [
       "id_aluno\n",
       "5        PATRICIA\n",
       "7         ALBERTO\n",
       "18      ELIZABETE\n",
       "28        ROGERIO\n",
       "36          LAURA\n",
       "40      FRANCIELE\n",
       "53         DEBORA\n",
       "60         DANIEL\n",
       "62           EDER\n",
       "86        JENIFER\n",
       "87           NAIR\n",
       "89         CICERA\n",
       "90        LETICIA\n",
       "91        ANDREIA\n",
       "112        GERSON\n",
       "113         ZILDA\n",
       "130        CLEIDE\n",
       "135       TATIANA\n",
       "158      LEONARDO\n",
       "173          RITA\n",
       "179       JOSIANE\n",
       "186         LUANA\n",
       "188        ROBSON\n",
       "194       ISABELA\n",
       "207        TEREZA\n",
       "209       JAILSON\n",
       "224       IVONETE\n",
       "226        WILIAN\n",
       "234         ODAIR\n",
       "237      FERNANDA\n",
       "246       OSVALDO\n",
       "246       OSVALDO\n",
       "273        CINTIA\n",
       "273        CINTIA\n",
       "279    ALESSANDRO\n",
       "281        REBECA\n",
       "297     JAQUELINE\n",
       "301        ELIANA\n",
       "315        RENATA\n",
       "322       JESSICA\n",
       "331         JAIME\n",
       "336       LEANDRO\n",
       "346       VALERIA\n",
       "351      REINALDO\n",
       "353        NILSON\n",
       "397      EDIVALDO\n",
       "Name: nome, dtype: object"
      ]
     },
     "execution_count": 756,
     "metadata": {},
     "output_type": "execute_result"
    }
   ],
   "source": [
    "proxima_turma.set_index('id_aluno').join(nomes.set_index('id_aluno'))['nome']"
   ]
  },
  {
   "cell_type": "code",
   "execution_count": 757,
   "id": "1875eb91-62cf-47ed-8fe0-e876c873431d",
   "metadata": {
    "pycharm": {
     "name": "#%%\n"
    }
   },
   "outputs": [
    {
     "data": {
      "text/html": [
       "<div>\n",
       "<style scoped>\n",
       "    .dataframe tbody tr th:only-of-type {\n",
       "        vertical-align: middle;\n",
       "    }\n",
       "\n",
       "    .dataframe tbody tr th {\n",
       "        vertical-align: top;\n",
       "    }\n",
       "\n",
       "    .dataframe thead th {\n",
       "        text-align: right;\n",
       "    }\n",
       "</style>\n",
       "<table border=\"1\" class=\"dataframe\">\n",
       "  <thead>\n",
       "    <tr style=\"text-align: right;\">\n",
       "      <th></th>\n",
       "      <th>nome</th>\n",
       "    </tr>\n",
       "    <tr>\n",
       "      <th>id_aluno</th>\n",
       "      <th></th>\n",
       "    </tr>\n",
       "  </thead>\n",
       "  <tbody>\n",
       "    <tr>\n",
       "      <th>5</th>\n",
       "      <td>PATRICIA</td>\n",
       "    </tr>\n",
       "    <tr>\n",
       "      <th>7</th>\n",
       "      <td>ALBERTO</td>\n",
       "    </tr>\n",
       "    <tr>\n",
       "      <th>18</th>\n",
       "      <td>ELIZABETE</td>\n",
       "    </tr>\n",
       "    <tr>\n",
       "      <th>28</th>\n",
       "      <td>ROGERIO</td>\n",
       "    </tr>\n",
       "    <tr>\n",
       "      <th>36</th>\n",
       "      <td>LAURA</td>\n",
       "    </tr>\n",
       "    <tr>\n",
       "      <th>40</th>\n",
       "      <td>FRANCIELE</td>\n",
       "    </tr>\n",
       "    <tr>\n",
       "      <th>53</th>\n",
       "      <td>DEBORA</td>\n",
       "    </tr>\n",
       "    <tr>\n",
       "      <th>60</th>\n",
       "      <td>DANIEL</td>\n",
       "    </tr>\n",
       "    <tr>\n",
       "      <th>62</th>\n",
       "      <td>EDER</td>\n",
       "    </tr>\n",
       "    <tr>\n",
       "      <th>86</th>\n",
       "      <td>JENIFER</td>\n",
       "    </tr>\n",
       "    <tr>\n",
       "      <th>87</th>\n",
       "      <td>NAIR</td>\n",
       "    </tr>\n",
       "    <tr>\n",
       "      <th>89</th>\n",
       "      <td>CICERA</td>\n",
       "    </tr>\n",
       "    <tr>\n",
       "      <th>90</th>\n",
       "      <td>LETICIA</td>\n",
       "    </tr>\n",
       "    <tr>\n",
       "      <th>91</th>\n",
       "      <td>ANDREIA</td>\n",
       "    </tr>\n",
       "    <tr>\n",
       "      <th>112</th>\n",
       "      <td>GERSON</td>\n",
       "    </tr>\n",
       "    <tr>\n",
       "      <th>113</th>\n",
       "      <td>ZILDA</td>\n",
       "    </tr>\n",
       "    <tr>\n",
       "      <th>130</th>\n",
       "      <td>CLEIDE</td>\n",
       "    </tr>\n",
       "    <tr>\n",
       "      <th>135</th>\n",
       "      <td>TATIANA</td>\n",
       "    </tr>\n",
       "    <tr>\n",
       "      <th>158</th>\n",
       "      <td>LEONARDO</td>\n",
       "    </tr>\n",
       "    <tr>\n",
       "      <th>173</th>\n",
       "      <td>RITA</td>\n",
       "    </tr>\n",
       "    <tr>\n",
       "      <th>179</th>\n",
       "      <td>JOSIANE</td>\n",
       "    </tr>\n",
       "    <tr>\n",
       "      <th>186</th>\n",
       "      <td>LUANA</td>\n",
       "    </tr>\n",
       "    <tr>\n",
       "      <th>188</th>\n",
       "      <td>ROBSON</td>\n",
       "    </tr>\n",
       "    <tr>\n",
       "      <th>194</th>\n",
       "      <td>ISABELA</td>\n",
       "    </tr>\n",
       "    <tr>\n",
       "      <th>207</th>\n",
       "      <td>TEREZA</td>\n",
       "    </tr>\n",
       "    <tr>\n",
       "      <th>209</th>\n",
       "      <td>JAILSON</td>\n",
       "    </tr>\n",
       "    <tr>\n",
       "      <th>224</th>\n",
       "      <td>IVONETE</td>\n",
       "    </tr>\n",
       "    <tr>\n",
       "      <th>226</th>\n",
       "      <td>WILIAN</td>\n",
       "    </tr>\n",
       "    <tr>\n",
       "      <th>234</th>\n",
       "      <td>ODAIR</td>\n",
       "    </tr>\n",
       "    <tr>\n",
       "      <th>237</th>\n",
       "      <td>FERNANDA</td>\n",
       "    </tr>\n",
       "    <tr>\n",
       "      <th>246</th>\n",
       "      <td>OSVALDO</td>\n",
       "    </tr>\n",
       "    <tr>\n",
       "      <th>246</th>\n",
       "      <td>OSVALDO</td>\n",
       "    </tr>\n",
       "    <tr>\n",
       "      <th>273</th>\n",
       "      <td>CINTIA</td>\n",
       "    </tr>\n",
       "    <tr>\n",
       "      <th>273</th>\n",
       "      <td>CINTIA</td>\n",
       "    </tr>\n",
       "    <tr>\n",
       "      <th>279</th>\n",
       "      <td>ALESSANDRO</td>\n",
       "    </tr>\n",
       "    <tr>\n",
       "      <th>281</th>\n",
       "      <td>REBECA</td>\n",
       "    </tr>\n",
       "    <tr>\n",
       "      <th>297</th>\n",
       "      <td>JAQUELINE</td>\n",
       "    </tr>\n",
       "    <tr>\n",
       "      <th>301</th>\n",
       "      <td>ELIANA</td>\n",
       "    </tr>\n",
       "    <tr>\n",
       "      <th>315</th>\n",
       "      <td>RENATA</td>\n",
       "    </tr>\n",
       "    <tr>\n",
       "      <th>322</th>\n",
       "      <td>JESSICA</td>\n",
       "    </tr>\n",
       "    <tr>\n",
       "      <th>331</th>\n",
       "      <td>JAIME</td>\n",
       "    </tr>\n",
       "    <tr>\n",
       "      <th>336</th>\n",
       "      <td>LEANDRO</td>\n",
       "    </tr>\n",
       "    <tr>\n",
       "      <th>346</th>\n",
       "      <td>VALERIA</td>\n",
       "    </tr>\n",
       "    <tr>\n",
       "      <th>351</th>\n",
       "      <td>REINALDO</td>\n",
       "    </tr>\n",
       "    <tr>\n",
       "      <th>353</th>\n",
       "      <td>NILSON</td>\n",
       "    </tr>\n",
       "    <tr>\n",
       "      <th>397</th>\n",
       "      <td>EDIVALDO</td>\n",
       "    </tr>\n",
       "  </tbody>\n",
       "</table>\n",
       "</div>"
      ],
      "text/plain": [
       "                nome\n",
       "id_aluno            \n",
       "5           PATRICIA\n",
       "7            ALBERTO\n",
       "18         ELIZABETE\n",
       "28           ROGERIO\n",
       "36             LAURA\n",
       "40         FRANCIELE\n",
       "53            DEBORA\n",
       "60            DANIEL\n",
       "62              EDER\n",
       "86           JENIFER\n",
       "87              NAIR\n",
       "89            CICERA\n",
       "90           LETICIA\n",
       "91           ANDREIA\n",
       "112           GERSON\n",
       "113            ZILDA\n",
       "130           CLEIDE\n",
       "135          TATIANA\n",
       "158         LEONARDO\n",
       "173             RITA\n",
       "179          JOSIANE\n",
       "186            LUANA\n",
       "188           ROBSON\n",
       "194          ISABELA\n",
       "207           TEREZA\n",
       "209          JAILSON\n",
       "224          IVONETE\n",
       "226           WILIAN\n",
       "234            ODAIR\n",
       "237         FERNANDA\n",
       "246          OSVALDO\n",
       "246          OSVALDO\n",
       "273           CINTIA\n",
       "273           CINTIA\n",
       "279       ALESSANDRO\n",
       "281           REBECA\n",
       "297        JAQUELINE\n",
       "301           ELIANA\n",
       "315           RENATA\n",
       "322          JESSICA\n",
       "331            JAIME\n",
       "336          LEANDRO\n",
       "346          VALERIA\n",
       "351         REINALDO\n",
       "353           NILSON\n",
       "397         EDIVALDO"
      ]
     },
     "execution_count": 757,
     "metadata": {},
     "output_type": "execute_result"
    }
   ],
   "source": [
    "proxima_turma.set_index('id_aluno').join(nomes.set_index('id_aluno'))['nome'].to_frame()"
   ]
  },
  {
   "cell_type": "code",
   "execution_count": 758,
   "id": "88f57c87-3db9-4a14-9dad-058085dd1717",
   "metadata": {
    "pycharm": {
     "name": "#%%\n"
    }
   },
   "outputs": [
    {
     "data": {
      "text/plain": [
       "nome_do_curso    Estatística básica\n",
       "Name: 16, dtype: object"
      ]
     },
     "execution_count": 758,
     "metadata": {},
     "output_type": "execute_result"
    }
   ],
   "source": [
    "nome_curso = cursos.loc[id_curso_escolhido]\n",
    "nome_curso"
   ]
  },
  {
   "cell_type": "code",
   "execution_count": 759,
   "id": "73622054-4de7-4cc3-89c9-7c6ec2431d0a",
   "metadata": {
    "pycharm": {
     "name": "#%%\n"
    }
   },
   "outputs": [],
   "source": [
    "nome_curso = nome_curso.nome_do_curso"
   ]
  },
  {
   "cell_type": "code",
   "execution_count": 760,
   "id": "81844970-4245-461e-8ebf-ba76c2c04ee0",
   "metadata": {
    "pycharm": {
     "name": "#%%\n"
    }
   },
   "outputs": [
    {
     "data": {
      "text/plain": [
       "'Estatística básica'"
      ]
     },
     "execution_count": 760,
     "metadata": {},
     "output_type": "execute_result"
    }
   ],
   "source": [
    "nome_curso"
   ]
  },
  {
   "cell_type": "code",
   "execution_count": 761,
   "id": "8ddf4ab0-1d4f-4a74-bc1f-eecfb8b3b1d9",
   "metadata": {
    "pycharm": {
     "name": "#%%\n"
    }
   },
   "outputs": [],
   "source": [
    "proxima_turma = proxima_turma.set_index('id_aluno').join(nomes.set_index('id_aluno'))['nome'].to_frame()"
   ]
  },
  {
   "cell_type": "code",
   "execution_count": 766,
   "id": "10a2776b-9d67-4e32-9678-07a2e4380374",
   "metadata": {
    "pycharm": {
     "name": "#%%\n"
    }
   },
   "outputs": [],
   "source": [
    "proxima_turma = proxima_turma.rename(columns={'nome': f'Alunos do curso de {nome_curso}'})"
   ]
  },
  {
   "cell_type": "code",
   "execution_count": 767,
   "id": "e20948af-ba83-406d-a83d-d2cafb0da599",
   "metadata": {
    "pycharm": {
     "name": "#%%\n"
    }
   },
   "outputs": [
    {
     "data": {
      "text/html": [
       "<div>\n",
       "<style scoped>\n",
       "    .dataframe tbody tr th:only-of-type {\n",
       "        vertical-align: middle;\n",
       "    }\n",
       "\n",
       "    .dataframe tbody tr th {\n",
       "        vertical-align: top;\n",
       "    }\n",
       "\n",
       "    .dataframe thead th {\n",
       "        text-align: right;\n",
       "    }\n",
       "</style>\n",
       "<table border=\"1\" class=\"dataframe\">\n",
       "  <thead>\n",
       "    <tr style=\"text-align: right;\">\n",
       "      <th></th>\n",
       "      <th>Alunos do curso de Estatística básica</th>\n",
       "    </tr>\n",
       "    <tr>\n",
       "      <th>id_aluno</th>\n",
       "      <th></th>\n",
       "    </tr>\n",
       "  </thead>\n",
       "  <tbody>\n",
       "    <tr>\n",
       "      <th>18</th>\n",
       "      <td>ELIZABETE</td>\n",
       "    </tr>\n",
       "    <tr>\n",
       "      <th>90</th>\n",
       "      <td>LETICIA</td>\n",
       "    </tr>\n",
       "    <tr>\n",
       "      <th>331</th>\n",
       "      <td>JAIME</td>\n",
       "    </tr>\n",
       "    <tr>\n",
       "      <th>273</th>\n",
       "      <td>CINTIA</td>\n",
       "    </tr>\n",
       "    <tr>\n",
       "      <th>351</th>\n",
       "      <td>REINALDO</td>\n",
       "    </tr>\n",
       "  </tbody>\n",
       "</table>\n",
       "</div>"
      ],
      "text/plain": [
       "         Alunos do curso de Estatística básica\n",
       "id_aluno                                      \n",
       "18                                   ELIZABETE\n",
       "90                                     LETICIA\n",
       "331                                      JAIME\n",
       "273                                     CINTIA\n",
       "351                                   REINALDO"
      ]
     },
     "execution_count": 767,
     "metadata": {},
     "output_type": "execute_result"
    }
   ],
   "source": [
    "proxima_turma.sample(5)"
   ]
  },
  {
   "cell_type": "markdown",
   "id": "67452efc-fb28-4c75-b673-1764fbdfbdaf",
   "metadata": {
    "pycharm": {
     "name": "#%% md\n"
    }
   },
   "source": [
    "# Excel"
   ]
  },
  {
   "cell_type": "code",
   "execution_count": 768,
   "id": "8935a8bd-8ded-4455-9330-a3c05fcac6b8",
   "metadata": {
    "pycharm": {
     "name": "#%%\n"
    }
   },
   "outputs": [],
   "source": [
    "proxima_turma.to_excel('files/proxima_turma.xlsx', index=False)"
   ]
  },
  {
   "cell_type": "code",
   "execution_count": 771,
   "id": "be9b953d-dad4-4da7-82b6-815798de0f1f",
   "metadata": {
    "pycharm": {
     "name": "#%%\n"
    }
   },
   "outputs": [
    {
     "data": {
      "text/html": [
       "<div>\n",
       "<style scoped>\n",
       "    .dataframe tbody tr th:only-of-type {\n",
       "        vertical-align: middle;\n",
       "    }\n",
       "\n",
       "    .dataframe tbody tr th {\n",
       "        vertical-align: top;\n",
       "    }\n",
       "\n",
       "    .dataframe thead th {\n",
       "        text-align: right;\n",
       "    }\n",
       "</style>\n",
       "<table border=\"1\" class=\"dataframe\">\n",
       "  <thead>\n",
       "    <tr style=\"text-align: right;\">\n",
       "      <th></th>\n",
       "      <th>Alunos do curso de Estatística básica</th>\n",
       "    </tr>\n",
       "  </thead>\n",
       "  <tbody>\n",
       "    <tr>\n",
       "      <th>0</th>\n",
       "      <td>PATRICIA</td>\n",
       "    </tr>\n",
       "    <tr>\n",
       "      <th>1</th>\n",
       "      <td>ALBERTO</td>\n",
       "    </tr>\n",
       "    <tr>\n",
       "      <th>2</th>\n",
       "      <td>ELIZABETE</td>\n",
       "    </tr>\n",
       "    <tr>\n",
       "      <th>3</th>\n",
       "      <td>ROGERIO</td>\n",
       "    </tr>\n",
       "    <tr>\n",
       "      <th>4</th>\n",
       "      <td>LAURA</td>\n",
       "    </tr>\n",
       "    <tr>\n",
       "      <th>5</th>\n",
       "      <td>FRANCIELE</td>\n",
       "    </tr>\n",
       "    <tr>\n",
       "      <th>6</th>\n",
       "      <td>DEBORA</td>\n",
       "    </tr>\n",
       "    <tr>\n",
       "      <th>7</th>\n",
       "      <td>DANIEL</td>\n",
       "    </tr>\n",
       "    <tr>\n",
       "      <th>8</th>\n",
       "      <td>EDER</td>\n",
       "    </tr>\n",
       "    <tr>\n",
       "      <th>9</th>\n",
       "      <td>JENIFER</td>\n",
       "    </tr>\n",
       "    <tr>\n",
       "      <th>10</th>\n",
       "      <td>NAIR</td>\n",
       "    </tr>\n",
       "    <tr>\n",
       "      <th>11</th>\n",
       "      <td>CICERA</td>\n",
       "    </tr>\n",
       "    <tr>\n",
       "      <th>12</th>\n",
       "      <td>LETICIA</td>\n",
       "    </tr>\n",
       "    <tr>\n",
       "      <th>13</th>\n",
       "      <td>ANDREIA</td>\n",
       "    </tr>\n",
       "    <tr>\n",
       "      <th>14</th>\n",
       "      <td>GERSON</td>\n",
       "    </tr>\n",
       "    <tr>\n",
       "      <th>15</th>\n",
       "      <td>ZILDA</td>\n",
       "    </tr>\n",
       "    <tr>\n",
       "      <th>16</th>\n",
       "      <td>CLEIDE</td>\n",
       "    </tr>\n",
       "    <tr>\n",
       "      <th>17</th>\n",
       "      <td>TATIANA</td>\n",
       "    </tr>\n",
       "    <tr>\n",
       "      <th>18</th>\n",
       "      <td>LEONARDO</td>\n",
       "    </tr>\n",
       "    <tr>\n",
       "      <th>19</th>\n",
       "      <td>RITA</td>\n",
       "    </tr>\n",
       "    <tr>\n",
       "      <th>20</th>\n",
       "      <td>JOSIANE</td>\n",
       "    </tr>\n",
       "    <tr>\n",
       "      <th>21</th>\n",
       "      <td>LUANA</td>\n",
       "    </tr>\n",
       "    <tr>\n",
       "      <th>22</th>\n",
       "      <td>ROBSON</td>\n",
       "    </tr>\n",
       "    <tr>\n",
       "      <th>23</th>\n",
       "      <td>ISABELA</td>\n",
       "    </tr>\n",
       "    <tr>\n",
       "      <th>24</th>\n",
       "      <td>TEREZA</td>\n",
       "    </tr>\n",
       "    <tr>\n",
       "      <th>25</th>\n",
       "      <td>JAILSON</td>\n",
       "    </tr>\n",
       "    <tr>\n",
       "      <th>26</th>\n",
       "      <td>IVONETE</td>\n",
       "    </tr>\n",
       "    <tr>\n",
       "      <th>27</th>\n",
       "      <td>WILIAN</td>\n",
       "    </tr>\n",
       "    <tr>\n",
       "      <th>28</th>\n",
       "      <td>ODAIR</td>\n",
       "    </tr>\n",
       "    <tr>\n",
       "      <th>29</th>\n",
       "      <td>FERNANDA</td>\n",
       "    </tr>\n",
       "    <tr>\n",
       "      <th>30</th>\n",
       "      <td>OSVALDO</td>\n",
       "    </tr>\n",
       "    <tr>\n",
       "      <th>31</th>\n",
       "      <td>OSVALDO</td>\n",
       "    </tr>\n",
       "    <tr>\n",
       "      <th>32</th>\n",
       "      <td>CINTIA</td>\n",
       "    </tr>\n",
       "    <tr>\n",
       "      <th>33</th>\n",
       "      <td>CINTIA</td>\n",
       "    </tr>\n",
       "    <tr>\n",
       "      <th>34</th>\n",
       "      <td>ALESSANDRO</td>\n",
       "    </tr>\n",
       "    <tr>\n",
       "      <th>35</th>\n",
       "      <td>REBECA</td>\n",
       "    </tr>\n",
       "    <tr>\n",
       "      <th>36</th>\n",
       "      <td>JAQUELINE</td>\n",
       "    </tr>\n",
       "    <tr>\n",
       "      <th>37</th>\n",
       "      <td>ELIANA</td>\n",
       "    </tr>\n",
       "    <tr>\n",
       "      <th>38</th>\n",
       "      <td>RENATA</td>\n",
       "    </tr>\n",
       "    <tr>\n",
       "      <th>39</th>\n",
       "      <td>JESSICA</td>\n",
       "    </tr>\n",
       "    <tr>\n",
       "      <th>40</th>\n",
       "      <td>JAIME</td>\n",
       "    </tr>\n",
       "    <tr>\n",
       "      <th>41</th>\n",
       "      <td>LEANDRO</td>\n",
       "    </tr>\n",
       "    <tr>\n",
       "      <th>42</th>\n",
       "      <td>VALERIA</td>\n",
       "    </tr>\n",
       "    <tr>\n",
       "      <th>43</th>\n",
       "      <td>REINALDO</td>\n",
       "    </tr>\n",
       "    <tr>\n",
       "      <th>44</th>\n",
       "      <td>NILSON</td>\n",
       "    </tr>\n",
       "    <tr>\n",
       "      <th>45</th>\n",
       "      <td>EDIVALDO</td>\n",
       "    </tr>\n",
       "  </tbody>\n",
       "</table>\n",
       "</div>"
      ],
      "text/plain": [
       "   Alunos do curso de Estatística básica\n",
       "0                               PATRICIA\n",
       "1                                ALBERTO\n",
       "2                              ELIZABETE\n",
       "3                                ROGERIO\n",
       "4                                  LAURA\n",
       "5                              FRANCIELE\n",
       "6                                 DEBORA\n",
       "7                                 DANIEL\n",
       "8                                   EDER\n",
       "9                                JENIFER\n",
       "10                                  NAIR\n",
       "11                                CICERA\n",
       "12                               LETICIA\n",
       "13                               ANDREIA\n",
       "14                                GERSON\n",
       "15                                 ZILDA\n",
       "16                                CLEIDE\n",
       "17                               TATIANA\n",
       "18                              LEONARDO\n",
       "19                                  RITA\n",
       "20                               JOSIANE\n",
       "21                                 LUANA\n",
       "22                                ROBSON\n",
       "23                               ISABELA\n",
       "24                                TEREZA\n",
       "25                               JAILSON\n",
       "26                               IVONETE\n",
       "27                                WILIAN\n",
       "28                                 ODAIR\n",
       "29                              FERNANDA\n",
       "30                               OSVALDO\n",
       "31                               OSVALDO\n",
       "32                                CINTIA\n",
       "33                                CINTIA\n",
       "34                            ALESSANDRO\n",
       "35                                REBECA\n",
       "36                             JAQUELINE\n",
       "37                                ELIANA\n",
       "38                                RENATA\n",
       "39                               JESSICA\n",
       "40                                 JAIME\n",
       "41                               LEANDRO\n",
       "42                               VALERIA\n",
       "43                              REINALDO\n",
       "44                                NILSON\n",
       "45                              EDIVALDO"
      ]
     },
     "execution_count": 771,
     "metadata": {},
     "output_type": "execute_result"
    }
   ],
   "source": [
    "pd.read_excel('files/proxima_turma.xlsx')"
   ]
  },
  {
   "cell_type": "code",
   "execution_count": null,
   "id": "e27cde34-8887-4a3d-a483-7730c2552b2c",
   "metadata": {
    "pycharm": {
     "name": "#%%\n"
    }
   },
   "outputs": [],
   "source": []
  }
 ],
 "metadata": {
  "kernelspec": {
   "display_name": "Python 3 (ipykernel)",
   "language": "python",
   "name": "python3"
  },
  "language_info": {
   "codemirror_mode": {
    "name": "ipython",
    "version": 3
   },
   "file_extension": ".py",
   "mimetype": "text/x-python",
   "name": "python",
   "nbconvert_exporter": "python",
   "pygments_lexer": "ipython3",
   "version": "3.9.7"
  }
 },
 "nbformat": 4,
 "nbformat_minor": 5
}