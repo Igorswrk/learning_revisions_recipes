{
 "cells": [
  {
   "cell_type": "code",
   "execution_count": 1,
   "id": "01bf5a72-f611-4e8b-bca1-a1241665a5d8",
   "metadata": {},
   "outputs": [],
   "source": [
    "import pandas as pd"
   ]
  },
  {
   "cell_type": "code",
   "execution_count": 4,
   "id": "d3a3bcb0-d5c8-4027-a69d-2f969312c5c6",
   "metadata": {},
   "outputs": [
    {
     "data": {
      "text/plain": [
       "0     s\n",
       "1     d\n",
       "2     a\n",
       "3     w\n",
       "4     s\n",
       "5     a\n",
       "6     w\n",
       "7     d\n",
       "8     s\n",
       "9     d\n",
       "10    a\n",
       "11    w\n",
       "12    d\n",
       "13    a\n",
       "14    w\n",
       "15    d\n",
       "16    s\n",
       "17    d\n",
       "18    a\n",
       "19    w\n",
       "20    d\n",
       "21    a\n",
       "22    d\n",
       "23    a\n",
       "24    w\n",
       "dtype: object"
      ]
     },
     "execution_count": 4,
     "metadata": {},
     "output_type": "execute_result"
    }
   ],
   "source": [
    "s = pd.Series(list('sdawsawdsdawdawdsdawdadaw'))\n",
    "s"
   ]
  },
  {
   "cell_type": "code",
   "execution_count": 5,
   "id": "fe548991-0603-47cb-a765-007917a707cd",
   "metadata": {},
   "outputs": [
    {
     "data": {
      "text/plain": [
       "array(['s', 'd', 'a', 'w'], dtype=object)"
      ]
     },
     "execution_count": 5,
     "metadata": {},
     "output_type": "execute_result"
    }
   ],
   "source": [
    "s.unique()"
   ]
  },
  {
   "cell_type": "code",
   "execution_count": 6,
   "id": "e5b14a7d-f835-4e5d-82dd-c70a717dc125",
   "metadata": {},
   "outputs": [
    {
     "data": {
      "text/plain": [
       "d    8\n",
       "a    7\n",
       "w    6\n",
       "s    4\n",
       "dtype: int64"
      ]
     },
     "execution_count": 6,
     "metadata": {},
     "output_type": "execute_result"
    }
   ],
   "source": [
    "s.value_counts()"
   ]
  },
  {
   "cell_type": "code",
   "execution_count": 7,
   "id": "71fe6a55-c6c1-426e-a4c3-ff9fc0934e1b",
   "metadata": {},
   "outputs": [],
   "source": [
    "dados = pd.read_csv('data/aluguel.csv',sep = ';')"
   ]
  },
  {
   "cell_type": "code",
   "execution_count": 8,
   "id": "be18c1d0-bf82-4c4e-8d70-3332640231ed",
   "metadata": {},
   "outputs": [
    {
     "data": {
      "text/plain": [
       "array(['Apartamento', 'Casa', 'Casa de Condomínio', 'Casa de Vila',\n",
       "       'Quitinete'], dtype=object)"
      ]
     },
     "execution_count": 8,
     "metadata": {},
     "output_type": "execute_result"
    }
   ],
   "source": [
    "dados.Tipo.unique()"
   ]
  },
  {
   "cell_type": "code",
   "execution_count": 9,
   "id": "c9b39245-feec-459f-b5cd-2142b9edf847",
   "metadata": {},
   "outputs": [
    {
     "data": {
      "text/plain": [
       "Apartamento           16923\n",
       "Casa de Condomínio      964\n",
       "Casa                    898\n",
       "Quitinete               813\n",
       "Casa de Vila            233\n",
       "Name: Tipo, dtype: int64"
      ]
     },
     "execution_count": 9,
     "metadata": {},
     "output_type": "execute_result"
    }
   ],
   "source": [
    "dados.Tipo.value_counts()"
   ]
  },
  {
   "cell_type": "code",
   "execution_count": null,
   "id": "69802f57-72ee-40da-9196-a55bb43f865c",
   "metadata": {},
   "outputs": [],
   "source": []
  }
 ],
 "metadata": {
  "kernelspec": {
   "display_name": "Python 3 (ipykernel)",
   "language": "python",
   "name": "python3"
  },
  "language_info": {
   "codemirror_mode": {
    "name": "ipython",
    "version": 3
   },
   "file_extension": ".py",
   "mimetype": "text/x-python",
   "name": "python",
   "nbconvert_exporter": "python",
   "pygments_lexer": "ipython3",
   "version": "3.9.7"
  }
 },
 "nbformat": 4,
 "nbformat_minor": 5
}
