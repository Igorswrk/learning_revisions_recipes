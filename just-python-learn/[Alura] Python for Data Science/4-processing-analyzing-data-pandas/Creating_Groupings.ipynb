{
 "cells": [
  {
   "cell_type": "markdown",
   "id": "ef781a28-82d3-42a7-8989-4e5d515f8703",
   "metadata": {
    "pycharm": {
     "name": "#%% md\n"
    }
   },
   "source": [
    "# Relatório de Analise VII"
   ]
  },
  {
   "cell_type": "markdown",
   "id": "95ea7bf3-3f5c-42e1-acef-349b9c0d75d5",
   "metadata": {
    "pycharm": {
     "name": "#%% md\n"
    }
   },
   "source": [
    "## Criando Argumentos"
   ]
  },
  {
   "cell_type": "code",
   "execution_count": 54,
   "id": "4d51ca17-78e0-4fd9-b841-19d7317bc90a",
   "metadata": {
    "pycharm": {
     "name": "#%%\n"
    }
   },
   "outputs": [],
   "source": [
    "import pandas as pd"
   ]
  },
  {
   "cell_type": "code",
   "execution_count": 55,
   "id": "55639401-41cf-44de-a358-f499b98f3140",
   "metadata": {
    "pycharm": {
     "name": "#%%\n"
    }
   },
   "outputs": [],
   "source": [
    "dados = pd.read_csv('data/aluguel_residencial.csv',sep = ';')"
   ]
  },
  {
   "cell_type": "code",
   "execution_count": 56,
   "id": "4b5f8110-126d-4f3a-ac61-73025c264d16",
   "metadata": {
    "pycharm": {
     "name": "#%%\n"
    }
   },
   "outputs": [
    {
     "data": {
      "text/html": [
       "<div>\n",
       "<style scoped>\n",
       "    .dataframe tbody tr th:only-of-type {\n",
       "        vertical-align: middle;\n",
       "    }\n",
       "\n",
       "    .dataframe tbody tr th {\n",
       "        vertical-align: top;\n",
       "    }\n",
       "\n",
       "    .dataframe thead th {\n",
       "        text-align: right;\n",
       "    }\n",
       "</style>\n",
       "<table border=\"1\" class=\"dataframe\">\n",
       "  <thead>\n",
       "    <tr style=\"text-align: right;\">\n",
       "      <th></th>\n",
       "      <th>Tipo</th>\n",
       "      <th>Bairro</th>\n",
       "      <th>Quartos</th>\n",
       "      <th>Vagas</th>\n",
       "      <th>Suites</th>\n",
       "      <th>Area</th>\n",
       "      <th>Valor</th>\n",
       "      <th>Condominio</th>\n",
       "      <th>IPTU</th>\n",
       "      <th>Valor m²</th>\n",
       "      <th>Tipo Agregado</th>\n",
       "    </tr>\n",
       "  </thead>\n",
       "  <tbody>\n",
       "    <tr>\n",
       "      <th>0</th>\n",
       "      <td>Quitinete</td>\n",
       "      <td>Copacabana</td>\n",
       "      <td>1</td>\n",
       "      <td>0</td>\n",
       "      <td>0</td>\n",
       "      <td>40</td>\n",
       "      <td>1700.0</td>\n",
       "      <td>500.0</td>\n",
       "      <td>60.0</td>\n",
       "      <td>42.50</td>\n",
       "      <td>Apartamento</td>\n",
       "    </tr>\n",
       "    <tr>\n",
       "      <th>1</th>\n",
       "      <td>Casa</td>\n",
       "      <td>Jardim Botânico</td>\n",
       "      <td>2</td>\n",
       "      <td>0</td>\n",
       "      <td>1</td>\n",
       "      <td>100</td>\n",
       "      <td>7000.0</td>\n",
       "      <td>0.0</td>\n",
       "      <td>0.0</td>\n",
       "      <td>70.00</td>\n",
       "      <td>Casa</td>\n",
       "    </tr>\n",
       "    <tr>\n",
       "      <th>2</th>\n",
       "      <td>Apartamento</td>\n",
       "      <td>Centro</td>\n",
       "      <td>1</td>\n",
       "      <td>0</td>\n",
       "      <td>0</td>\n",
       "      <td>15</td>\n",
       "      <td>800.0</td>\n",
       "      <td>390.0</td>\n",
       "      <td>20.0</td>\n",
       "      <td>53.33</td>\n",
       "      <td>Apartamento</td>\n",
       "    </tr>\n",
       "    <tr>\n",
       "      <th>3</th>\n",
       "      <td>Apartamento</td>\n",
       "      <td>Higienópolis</td>\n",
       "      <td>1</td>\n",
       "      <td>0</td>\n",
       "      <td>0</td>\n",
       "      <td>48</td>\n",
       "      <td>800.0</td>\n",
       "      <td>230.0</td>\n",
       "      <td>0.0</td>\n",
       "      <td>16.67</td>\n",
       "      <td>Apartamento</td>\n",
       "    </tr>\n",
       "    <tr>\n",
       "      <th>4</th>\n",
       "      <td>Apartamento</td>\n",
       "      <td>Cachambi</td>\n",
       "      <td>2</td>\n",
       "      <td>0</td>\n",
       "      <td>0</td>\n",
       "      <td>50</td>\n",
       "      <td>1300.0</td>\n",
       "      <td>301.0</td>\n",
       "      <td>17.0</td>\n",
       "      <td>26.00</td>\n",
       "      <td>Apartamento</td>\n",
       "    </tr>\n",
       "    <tr>\n",
       "      <th>5</th>\n",
       "      <td>Casa de Condomínio</td>\n",
       "      <td>Barra da Tijuca</td>\n",
       "      <td>5</td>\n",
       "      <td>4</td>\n",
       "      <td>5</td>\n",
       "      <td>750</td>\n",
       "      <td>22000.0</td>\n",
       "      <td>0.0</td>\n",
       "      <td>0.0</td>\n",
       "      <td>29.33</td>\n",
       "      <td>Apartamento</td>\n",
       "    </tr>\n",
       "    <tr>\n",
       "      <th>6</th>\n",
       "      <td>Casa de Condomínio</td>\n",
       "      <td>Ramos</td>\n",
       "      <td>2</td>\n",
       "      <td>2</td>\n",
       "      <td>0</td>\n",
       "      <td>65</td>\n",
       "      <td>1000.0</td>\n",
       "      <td>0.0</td>\n",
       "      <td>0.0</td>\n",
       "      <td>15.38</td>\n",
       "      <td>Apartamento</td>\n",
       "    </tr>\n",
       "    <tr>\n",
       "      <th>7</th>\n",
       "      <td>Apartamento</td>\n",
       "      <td>Grajaú</td>\n",
       "      <td>2</td>\n",
       "      <td>1</td>\n",
       "      <td>0</td>\n",
       "      <td>70</td>\n",
       "      <td>1500.0</td>\n",
       "      <td>642.0</td>\n",
       "      <td>74.0</td>\n",
       "      <td>21.43</td>\n",
       "      <td>Apartamento</td>\n",
       "    </tr>\n",
       "    <tr>\n",
       "      <th>8</th>\n",
       "      <td>Apartamento</td>\n",
       "      <td>Lins de Vasconcelos</td>\n",
       "      <td>3</td>\n",
       "      <td>1</td>\n",
       "      <td>1</td>\n",
       "      <td>90</td>\n",
       "      <td>1500.0</td>\n",
       "      <td>455.0</td>\n",
       "      <td>14.0</td>\n",
       "      <td>16.67</td>\n",
       "      <td>Apartamento</td>\n",
       "    </tr>\n",
       "    <tr>\n",
       "      <th>9</th>\n",
       "      <td>Apartamento</td>\n",
       "      <td>Copacabana</td>\n",
       "      <td>1</td>\n",
       "      <td>0</td>\n",
       "      <td>1</td>\n",
       "      <td>40</td>\n",
       "      <td>2000.0</td>\n",
       "      <td>561.0</td>\n",
       "      <td>50.0</td>\n",
       "      <td>50.00</td>\n",
       "      <td>Apartamento</td>\n",
       "    </tr>\n",
       "  </tbody>\n",
       "</table>\n",
       "</div>"
      ],
      "text/plain": [
       "                 Tipo               Bairro  Quartos  Vagas  Suites  Area  \\\n",
       "0           Quitinete           Copacabana        1      0       0    40   \n",
       "1                Casa      Jardim Botânico        2      0       1   100   \n",
       "2         Apartamento               Centro        1      0       0    15   \n",
       "3         Apartamento         Higienópolis        1      0       0    48   \n",
       "4         Apartamento             Cachambi        2      0       0    50   \n",
       "5  Casa de Condomínio      Barra da Tijuca        5      4       5   750   \n",
       "6  Casa de Condomínio                Ramos        2      2       0    65   \n",
       "7         Apartamento               Grajaú        2      1       0    70   \n",
       "8         Apartamento  Lins de Vasconcelos        3      1       1    90   \n",
       "9         Apartamento           Copacabana        1      0       1    40   \n",
       "\n",
       "     Valor  Condominio  IPTU  Valor m² Tipo Agregado  \n",
       "0   1700.0       500.0  60.0     42.50   Apartamento  \n",
       "1   7000.0         0.0   0.0     70.00          Casa  \n",
       "2    800.0       390.0  20.0     53.33   Apartamento  \n",
       "3    800.0       230.0   0.0     16.67   Apartamento  \n",
       "4   1300.0       301.0  17.0     26.00   Apartamento  \n",
       "5  22000.0         0.0   0.0     29.33   Apartamento  \n",
       "6   1000.0         0.0   0.0     15.38   Apartamento  \n",
       "7   1500.0       642.0  74.0     21.43   Apartamento  \n",
       "8   1500.0       455.0  14.0     16.67   Apartamento  \n",
       "9   2000.0       561.0  50.0     50.00   Apartamento  "
      ]
     },
     "execution_count": 56,
     "metadata": {},
     "output_type": "execute_result"
    }
   ],
   "source": [
    "dados.head(10)"
   ]
  },
  {
   "cell_type": "markdown",
   "id": "774a55f4-234d-4e01-9fe1-5692f9a38794",
   "metadata": {
    "pycharm": {
     "name": "#%% md\n"
    }
   },
   "source": [
    "### Estatisticas descritivas "
   ]
  },
  {
   "cell_type": "markdown",
   "id": "ab6b131a-7d46-414b-922f-1f3f83fd026c",
   "metadata": {
    "pycharm": {
     "name": "#%% md\n"
    }
   },
   "source": [
    "### https://pandas.pydata.org/pandas-docs/stable/reference/frame.html?highlight=stats"
   ]
  },
  {
   "cell_type": "code",
   "execution_count": 57,
   "id": "01bfec58-73f8-45ca-bb7b-52a2da901e79",
   "metadata": {
    "pycharm": {
     "name": "#%%\n"
    }
   },
   "outputs": [
    {
     "data": {
      "text/plain": [
       "5046.172821405663"
      ]
     },
     "execution_count": 57,
     "metadata": {},
     "output_type": "execute_result"
    }
   ],
   "source": [
    "dados['Valor'].mean()"
   ]
  },
  {
   "cell_type": "code",
   "execution_count": 58,
   "id": "2d02f475-4e2e-4b9b-8508-7b9962c47a77",
   "metadata": {
    "pycharm": {
     "name": "#%%\n"
    }
   },
   "outputs": [
    {
     "data": {
      "text/plain": [
       "array(['Copacabana', 'Jardim Botânico', 'Centro', 'Higienópolis',\n",
       "       'Cachambi', 'Barra da Tijuca', 'Ramos', 'Grajaú',\n",
       "       'Lins de Vasconcelos', 'Taquara', 'Freguesia (Jacarepaguá)',\n",
       "       'Tijuca', 'Olaria', 'Ipanema', 'Campo Grande', 'Botafogo',\n",
       "       'Recreio dos Bandeirantes', 'Leblon', 'Jardim Oceânico', 'Humaitá',\n",
       "       'Península', 'Méier', 'Vargem Pequena', 'Maracanã', 'Jacarepaguá',\n",
       "       'São Conrado', 'Vila Valqueire', 'Gávea', 'Cosme Velho',\n",
       "       'Bonsucesso', 'Todos os Santos', 'Laranjeiras', 'Itanhangá',\n",
       "       'Flamengo', 'Piedade', 'Lagoa', 'Catete', 'Jardim Carioca',\n",
       "       'Benfica', 'Glória', 'Praça Seca', 'Vila Isabel', 'Engenho Novo',\n",
       "       'Engenho de Dentro', 'Pilares', 'Água Santa', 'São Cristóvão',\n",
       "       'Ilha do Governador', 'Jardim Sulacap', 'Oswaldo Cruz',\n",
       "       'Vila da Penha', 'Anil', 'Vargem Grande', 'Tanque', 'Vaz Lobo',\n",
       "       'Madureira', 'São Francisco Xavier', 'Pechincha', 'Leme', 'Irajá',\n",
       "       'Quintino Bocaiúva', 'Urca', 'Penha', 'Gardênia Azul',\n",
       "       'Rio Comprido', 'Andaraí', 'Santa Teresa', 'Inhaúma',\n",
       "       'Marechal Hermes', 'Curicica', 'Santíssimo', 'Moneró', 'Camorim',\n",
       "       'Cascadura', 'Praia da Bandeira', 'Saúde', 'Joá', 'Realengo',\n",
       "       'Fátima', 'Inhoaíba', 'Rocha', 'Jardim Guanabara', 'Jabour',\n",
       "       'Braz de Pina', 'Praça da Bandeira', 'Vila Kosmos', 'Vista Alegre',\n",
       "       'Encantado', 'Campinho', 'Guaratiba', 'Riachuelo', 'Bangu', 'Lapa',\n",
       "       'Catumbi', 'Penha Circular', 'Abolição', 'Tomás Coelho', 'Colégio',\n",
       "       'Pavuna', 'Santa Cruz', 'Alto da Boa Vista', 'Cidade Nova',\n",
       "       'Bento Ribeiro', 'Estácio', 'Jardim América', 'Cordovil', 'Caju',\n",
       "       'Pedra de Guaratiba', 'Padre Miguel', 'Paciência', 'Del Castilho',\n",
       "       'Arpoador', 'Sampaio', 'Anchieta', 'Icaraí', 'Senador Vasconcelos',\n",
       "       'Rocha Miranda', 'Gamboa', 'Maria da Graça', 'Barra de Guaratiba',\n",
       "       'Vicente de Carvalho', 'Paquetá', 'Largo do Machado',\n",
       "       'Parada de Lucas', 'Freguesia (Ilha do Governador)', 'Portuguesa',\n",
       "       'Guadalupe', 'Parque Anchieta', 'Turiaçu', 'Pitangueiras',\n",
       "       'Vila Militar', 'Vidigal', 'Senador Camará', 'Usina',\n",
       "       'Vigário Geral', 'Cosmos', 'Jacaré', 'Cocotá', 'Honório Gurgel',\n",
       "       'Engenho da Rainha', 'Cachamorra', 'Zumbi', 'Tauá', 'Santo Cristo',\n",
       "       'Ribeira', 'Magalhães Bastos', 'Cacuia', 'Bancários', 'Cavalcanti',\n",
       "       'Rio da Prata', 'Cidade Jardim', 'Coelho Neto'], dtype=object)"
      ]
     },
     "execution_count": 58,
     "metadata": {},
     "output_type": "execute_result"
    }
   ],
   "source": [
    "dados.Bairro.unique()"
   ]
  },
  {
   "cell_type": "code",
   "execution_count": 59,
   "id": "0502a49b-5e4d-4854-b348-3368c2ea9b83",
   "metadata": {
    "pycharm": {
     "name": "#%%\n"
    }
   },
   "outputs": [],
   "source": [
    "bairros = ['Copacabana', 'Jardim Botânico', 'Centro', 'Higienópolis',\n",
    "       'Cachambi', 'Barra da Tijuca', 'Ramos', 'Grajaú',\n",
    "       'Lins de Vasconcelos', 'Taquara', 'Freguesia (Jacarepaguá)',\n",
    "       'Tijuca', 'Olaria', 'Ipanema', 'Campo Grande', 'Botafogo',\n",
    "       'Recreio dos Bandeirantes', 'Leblon', 'Jardim Oceânico', 'Humaitá',\n",
    "       'Península', 'Méier', 'Vargem Pequena', 'Maracanã', 'Jacarepaguá',\n",
    "       'São Conrado', 'Vila Valqueire', 'Gávea', 'Cosme Velho',\n",
    "       'Bonsucesso', 'Todos os Santos', 'Laranjeiras', 'Itanhangá',\n",
    "       'Flamengo', 'Piedade', 'Lagoa', 'Catete', 'Jardim Carioca',\n",
    "       'Benfica', 'Glória', 'Praça Seca', 'Vila Isabel', 'Engenho Novo',\n",
    "       'Engenho de Dentro', 'Pilares', 'Água Santa', 'São Cristóvão',\n",
    "       'Ilha do Governador', 'Jardim Sulacap', 'Oswaldo Cruz',\n",
    "       'Vila da Penha', 'Anil', 'Vargem Grande', 'Tanque', 'Vaz Lobo',\n",
    "       'Madureira', 'São Francisco Xavier', 'Pechincha', 'Leme', 'Irajá',\n",
    "       'Quintino Bocaiúva', 'Urca', 'Penha', 'Gardênia Azul',\n",
    "       'Rio Comprido', 'Andaraí', 'Santa Teresa', 'Inhaúma',\n",
    "       'Marechal Hermes', 'Curicica', 'Santíssimo', 'Moneró', 'Camorim',\n",
    "       'Cascadura', 'Praia da Bandeira', 'Saúde', 'Joá', 'Realengo',\n",
    "       'Fátima', 'Inhoaíba', 'Rocha', 'Jardim Guanabara', 'Jabour',\n",
    "       'Braz de Pina', 'Praça da Bandeira', 'Vila Kosmos', 'Vista Alegre',\n",
    "       'Encantado', 'Campinho', 'Guaratiba', 'Riachuelo', 'Bangu', 'Lapa',\n",
    "       'Catumbi', 'Penha Circular', 'Abolição', 'Tomás Coelho', 'Colégio',\n",
    "       'Pavuna', 'Santa Cruz', 'Alto da Boa Vista', 'Cidade Nova',\n",
    "       'Bento Ribeiro', 'Estácio', 'Jardim América', 'Cordovil', 'Caju',\n",
    "       'Pedra de Guaratiba', 'Padre Miguel', 'Paciência', 'Del Castilho',\n",
    "       'Arpoador', 'Sampaio', 'Anchieta', 'Icaraí', 'Senador Vasconcelos',\n",
    "       'Rocha Miranda', 'Gamboa', 'Maria da Graça', 'Barra de Guaratiba',\n",
    "       'Vicente de Carvalho', 'Paquetá', 'Largo do Machado',\n",
    "       'Parada de Lucas', 'Freguesia (Ilha do Governador)', 'Portuguesa',\n",
    "       'Guadalupe', 'Parque Anchieta', 'Turiaçu', 'Pitangueiras',\n",
    "       'Vila Militar', 'Vidigal', 'Senador Camará', 'Usina',\n",
    "       'Vigário Geral', 'Cosmos', 'Jacaré', 'Cocotá', 'Honório Gurgel',\n",
    "       'Engenho da Rainha', 'Cachamorra', 'Zumbi', 'Tauá', 'Santo Cristo',\n",
    "       'Ribeira', 'Magalhães Bastos', 'Cacuia', 'Bancários', 'Cavalcanti',\n",
    "       'Rio da Prata', 'Cidade Jardim', 'Coelho Neto']"
   ]
  },
  {
   "cell_type": "code",
   "execution_count": 60,
   "id": "828eba97-ea44-4423-947a-fdcb2963ac8b",
   "metadata": {
    "pycharm": {
     "name": "#%%\n"
    }
   },
   "outputs": [],
   "source": [
    "selecao = dados['Bairro'].isin(bairros)\n",
    "dados = dados[selecao]"
   ]
  },
  {
   "cell_type": "code",
   "execution_count": 61,
   "id": "6cb2714a-d803-42e5-b3e2-cd3b326c0245",
   "metadata": {
    "pycharm": {
     "name": "#%%\n"
    }
   },
   "outputs": [
    {
     "data": {
      "text/plain": [
       "0             Copacabana\n",
       "1        Jardim Botânico\n",
       "2                 Centro\n",
       "3           Higienópolis\n",
       "4               Cachambi\n",
       "              ...       \n",
       "13855          Bancários\n",
       "15277         Cavalcanti\n",
       "15280       Rio da Prata\n",
       "15412      Cidade Jardim\n",
       "16428        Coelho Neto\n",
       "Name: Bairro, Length: 152, dtype: object"
      ]
     },
     "execution_count": 61,
     "metadata": {},
     "output_type": "execute_result"
    }
   ],
   "source": [
    "dados['Bairro'].drop_duplicates()"
   ]
  },
  {
   "cell_type": "code",
   "execution_count": 62,
   "id": "b7b3891e-b390-46a3-baac-f8c65a7dd992",
   "metadata": {
    "pycharm": {
     "name": "#%%\n"
    }
   },
   "outputs": [],
   "source": [
    "grupo_bairro = dados.groupby('Bairro')"
   ]
  },
  {
   "cell_type": "code",
   "execution_count": 63,
   "id": "0dc93684-0da0-4086-9fb5-c2a5f918e3b3",
   "metadata": {
    "pycharm": {
     "name": "#%%\n"
    }
   },
   "outputs": [
    {
     "data": {
      "text/plain": [
       "pandas.core.groupby.generic.DataFrameGroupBy"
      ]
     },
     "execution_count": 63,
     "metadata": {},
     "output_type": "execute_result"
    }
   ],
   "source": [
    "type(grupo_bairro)"
   ]
  },
  {
   "cell_type": "code",
   "execution_count": 64,
   "id": "0e940dc9-3fa8-4308-81bd-ba1630504ea0",
   "metadata": {
    "pycharm": {
     "name": "#%%\n"
    }
   },
   "outputs": [
    {
     "name": "stdout",
     "output_type": "stream",
     "text": [
      "Abolição\n",
      "Alto da Boa Vista\n",
      "Anchieta\n",
      "Andaraí\n",
      "Anil\n",
      "Arpoador\n",
      "Bancários\n",
      "Bangu\n",
      "Barra da Tijuca\n",
      "Barra de Guaratiba\n",
      "Benfica\n",
      "Bento Ribeiro\n",
      "Bonsucesso\n",
      "Botafogo\n",
      "Braz de Pina\n",
      "Cachambi\n",
      "Cachamorra\n",
      "Cacuia\n",
      "Caju\n",
      "Camorim\n",
      "Campinho\n",
      "Campo Grande\n",
      "Cascadura\n",
      "Catete\n",
      "Catumbi\n",
      "Cavalcanti\n",
      "Centro\n",
      "Cidade Jardim\n",
      "Cidade Nova\n",
      "Cocotá\n",
      "Coelho Neto\n",
      "Colégio\n",
      "Copacabana\n",
      "Cordovil\n",
      "Cosme Velho\n",
      "Cosmos\n",
      "Curicica\n",
      "Del Castilho\n",
      "Encantado\n",
      "Engenho Novo\n",
      "Engenho da Rainha\n",
      "Engenho de Dentro\n",
      "Estácio\n",
      "Flamengo\n",
      "Freguesia (Ilha do Governador)\n",
      "Freguesia (Jacarepaguá)\n",
      "Fátima\n",
      "Gamboa\n",
      "Gardênia Azul\n",
      "Glória\n",
      "Grajaú\n",
      "Guadalupe\n",
      "Guaratiba\n",
      "Gávea\n",
      "Higienópolis\n",
      "Honório Gurgel\n",
      "Humaitá\n",
      "Icaraí\n",
      "Ilha do Governador\n",
      "Inhaúma\n",
      "Inhoaíba\n",
      "Ipanema\n",
      "Irajá\n",
      "Itanhangá\n",
      "Jabour\n",
      "Jacarepaguá\n",
      "Jacaré\n",
      "Jardim América\n",
      "Jardim Botânico\n",
      "Jardim Carioca\n",
      "Jardim Guanabara\n",
      "Jardim Oceânico\n",
      "Jardim Sulacap\n",
      "Joá\n",
      "Lagoa\n",
      "Lapa\n",
      "Laranjeiras\n",
      "Largo do Machado\n",
      "Leblon\n",
      "Leme\n",
      "Lins de Vasconcelos\n",
      "Madureira\n",
      "Magalhães Bastos\n",
      "Maracanã\n",
      "Marechal Hermes\n",
      "Maria da Graça\n",
      "Moneró\n",
      "Méier\n",
      "Olaria\n",
      "Oswaldo Cruz\n",
      "Paciência\n",
      "Padre Miguel\n",
      "Paquetá\n",
      "Parada de Lucas\n",
      "Parque Anchieta\n",
      "Pavuna\n",
      "Pechincha\n",
      "Pedra de Guaratiba\n",
      "Penha\n",
      "Penha Circular\n",
      "Península\n",
      "Piedade\n",
      "Pilares\n",
      "Pitangueiras\n",
      "Portuguesa\n",
      "Praia da Bandeira\n",
      "Praça Seca\n",
      "Praça da Bandeira\n",
      "Quintino Bocaiúva\n",
      "Ramos\n",
      "Realengo\n",
      "Recreio dos Bandeirantes\n",
      "Riachuelo\n",
      "Ribeira\n",
      "Rio Comprido\n",
      "Rio da Prata\n",
      "Rocha\n",
      "Rocha Miranda\n",
      "Sampaio\n",
      "Santa Cruz\n",
      "Santa Teresa\n",
      "Santo Cristo\n",
      "Santíssimo\n",
      "Saúde\n",
      "Senador Camará\n",
      "Senador Vasconcelos\n",
      "São Conrado\n",
      "São Cristóvão\n",
      "São Francisco Xavier\n",
      "Tanque\n",
      "Taquara\n",
      "Tauá\n",
      "Tijuca\n",
      "Todos os Santos\n",
      "Tomás Coelho\n",
      "Turiaçu\n",
      "Urca\n",
      "Usina\n",
      "Vargem Grande\n",
      "Vargem Pequena\n",
      "Vaz Lobo\n",
      "Vicente de Carvalho\n",
      "Vidigal\n",
      "Vigário Geral\n",
      "Vila Isabel\n",
      "Vila Kosmos\n",
      "Vila Militar\n",
      "Vila Valqueire\n",
      "Vila da Penha\n",
      "Vista Alegre\n",
      "Zumbi\n",
      "Água Santa\n"
     ]
    }
   ],
   "source": [
    "for bairro, data in grupo_bairro:\n",
    "    print(bairro)"
   ]
  },
  {
   "cell_type": "code",
   "execution_count": 65,
   "id": "8df078fc-9704-4601-a3ac-f74e6dc03279",
   "metadata": {
    "pycharm": {
     "name": "#%%\n"
    }
   },
   "outputs": [
    {
     "name": "stdout",
     "output_type": "stream",
     "text": [
      "Abolição -> 1195.3333333333333\n",
      "Alto da Boa Vista -> 3966.6666666666665\n",
      "Anchieta -> 875.0\n",
      "Andaraí -> 1464.7113402061855\n",
      "Anil -> 2048.8732394366198\n",
      "Arpoador -> 12923.916666666666\n",
      "Bancários -> 1825.0\n",
      "Bangu -> 1016.0\n",
      "Barra da Tijuca -> 7069.552938130986\n",
      "Barra de Guaratiba -> 5550.0\n",
      "Benfica -> 996.0\n",
      "Bento Ribeiro -> 1030.8695652173913\n",
      "Bonsucesso -> 1225.9322033898304\n",
      "Botafogo -> 8791.828178694159\n",
      "Braz de Pina -> 1115.0\n",
      "Cachambi -> 1157.1742424242425\n",
      "Cachamorra -> 3000.0\n",
      "Cacuia -> 916.6666666666666\n",
      "Caju -> 850.0\n",
      "Camorim -> 1735.2272727272727\n",
      "Campinho -> 1037.3333333333333\n",
      "Campo Grande -> 1267.71714922049\n",
      "Cascadura -> 948.7096774193549\n",
      "Catete -> 2267.0625\n",
      "Catumbi -> 1112.5\n",
      "Cavalcanti -> 595.0\n",
      "Centro -> 1254.7521865889212\n",
      "Cidade Jardim -> 12000.0\n",
      "Cidade Nova -> 1471.4285714285713\n",
      "Cocotá -> 1883.3333333333333\n",
      "Coelho Neto -> 700.0\n",
      "Colégio -> 885.0\n",
      "Copacabana -> 4126.677004538578\n",
      "Cordovil -> 905.5555555555555\n",
      "Cosme Velho -> 5343.548387096775\n",
      "Cosmos -> 658.3333333333334\n",
      "Curicica -> 1514.5657894736842\n",
      "Del Castilho -> 1261.304347826087\n",
      "Encantado -> 1050.0\n",
      "Engenho Novo -> 1035.8252427184466\n",
      "Engenho da Rainha -> 883.5714285714286\n",
      "Engenho de Dentro -> 1166.3513513513512\n",
      "Estácio -> 1233.9130434782608\n",
      "Flamengo -> 4113.526610644258\n",
      "Freguesia (Ilha do Governador) -> 1720.0\n",
      "Freguesia (Jacarepaguá) -> 4966.666666666667\n",
      "Fátima -> 956.6666666666666\n",
      "Gamboa -> 1116.6666666666667\n",
      "Gardênia Azul -> 761.1111111111111\n",
      "Glória -> 2467.2897196261683\n",
      "Grajaú -> 2038.6206896551723\n",
      "Guadalupe -> 700.0\n",
      "Guaratiba -> 1232.258064516129\n",
      "Gávea -> 6563.688372093024\n",
      "Higienópolis -> 1006.25\n",
      "Honório Gurgel -> 628.5714285714286\n",
      "Humaitá -> 3802.3101265822784\n",
      "Icaraí -> 2393.75\n",
      "Ilha do Governador -> 1728.0\n",
      "Inhaúma -> 821.4285714285714\n",
      "Inhoaíba -> 725.0\n",
      "Ipanema -> 9352.001133786847\n",
      "Irajá -> 1096.012658227848\n",
      "Itanhangá -> 9341.269841269841\n",
      "Jabour -> 723.3333333333334\n",
      "Jacarepaguá -> 2046.9877551020409\n",
      "Jacaré -> 1200.0\n",
      "Jardim América -> 714.2857142857143\n",
      "Jardim Botânico -> 8722.357414448668\n",
      "Jardim Carioca -> 2211.1111111111113\n",
      "Jardim Guanabara -> 2124.6875\n",
      "Jardim Oceânico -> 7626.086956521739\n",
      "Jardim Sulacap -> 1176.6666666666667\n",
      "Joá -> 16773.478260869564\n",
      "Lagoa -> 8147.075819672131\n",
      "Lapa -> 1488.7777777777778\n",
      "Laranjeiras -> 3555.2776470588237\n",
      "Largo do Machado -> 1880.0\n",
      "Leblon -> 8746.344992050874\n",
      "Leme -> 3944.759825327511\n",
      "Lins de Vasconcelos -> 1086.1702127659576\n",
      "Madureira -> 1017.6595744680851\n",
      "Magalhães Bastos -> 640.0\n",
      "Maracanã -> 1945.4961240310076\n",
      "Marechal Hermes -> 844.4444444444445\n",
      "Maria da Graça -> 1073.3333333333333\n",
      "Moneró -> 1900.0\n",
      "Méier -> 1355.8745098039215\n",
      "Olaria -> 1016.5625\n",
      "Oswaldo Cruz -> 823.8888888888889\n",
      "Paciência -> 580.0\n",
      "Padre Miguel -> 786.25\n",
      "Paquetá -> 10550.0\n",
      "Parada de Lucas -> 1062.5\n",
      "Parque Anchieta -> 1287.5\n",
      "Pavuna -> 648.9473684210526\n",
      "Pechincha -> 1357.4257425742574\n",
      "Pedra de Guaratiba -> 1082.1052631578948\n",
      "Penha -> 1023.3333333333334\n",
      "Penha Circular -> 1160.0\n",
      "Península -> 7061.538461538462\n",
      "Piedade -> 956.5384615384615\n",
      "Pilares -> 1077.5\n",
      "Pitangueiras -> 2725.0\n",
      "Portuguesa -> 1272.7272727272727\n",
      "Praia da Bandeira -> 1300.0\n",
      "Praça Seca -> 998.4146341463414\n",
      "Praça da Bandeira -> 1358.723404255319\n",
      "Quintino Bocaiúva -> 924.6666666666666\n",
      "Ramos -> 958.0\n",
      "Realengo -> 908.3333333333334\n",
      "Recreio dos Bandeirantes -> 3736.6130988477867\n",
      "Riachuelo -> 1143.9024390243903\n",
      "Ribeira -> 1420.0\n",
      "Rio Comprido -> 1610.240506329114\n",
      "Rio da Prata -> 1300.0\n",
      "Rocha -> 1086.842105263158\n",
      "Rocha Miranda -> 877.0\n",
      "Sampaio -> 937.5\n",
      "Santa Cruz -> 734.2857142857143\n",
      "Santa Teresa -> 2713.3333333333335\n",
      "Santo Cristo -> 1225.0\n",
      "Santíssimo -> 756.25\n",
      "Saúde -> 950.0\n",
      "Senador Camará -> 600.0\n",
      "Senador Vasconcelos -> 867.3529411764706\n",
      "São Conrado -> 8780.88803088803\n",
      "São Cristóvão -> 1391.71875\n",
      "São Francisco Xavier -> 1237.2413793103449\n",
      "Tanque -> 1335.7142857142858\n",
      "Taquara -> 1642.140350877193\n",
      "Tauá -> 1340.0\n",
      "Tijuca -> 2043.52\n",
      "Todos os Santos -> 1243.076923076923\n",
      "Tomás Coelho -> 737.0\n",
      "Turiaçu -> 700.0\n",
      "Urca -> 7925.958904109589\n",
      "Usina -> 1520.0\n",
      "Vargem Grande -> 3358.1666666666665\n",
      "Vargem Pequena -> 2703.480769230769\n",
      "Vaz Lobo -> 845.0\n",
      "Vicente de Carvalho -> 1075.7142857142858\n",
      "Vidigal -> 2600.0\n",
      "Vigário Geral -> 970.0\n",
      "Vila Isabel -> 1560.8333333333333\n",
      "Vila Kosmos -> 1311.8181818181818\n",
      "Vila Militar -> 500.0\n",
      "Vila Valqueire -> 1769.5833333333333\n",
      "Vila da Penha -> 1260.576923076923\n",
      "Vista Alegre -> 1114.375\n",
      "Zumbi -> 2150.0\n",
      "Água Santa -> 861.1111111111111\n"
     ]
    }
   ],
   "source": [
    "for bairro, data in grupo_bairro:\n",
    "    print(f'{bairro} -> {data.Valor.mean()}')"
   ]
  },
  {
   "cell_type": "code",
   "execution_count": 66,
   "id": "c0e373da-afbb-47de-badf-25513af87e3b",
   "metadata": {
    "pycharm": {
     "name": "#%%\n"
    }
   },
   "outputs": [
    {
     "data": {
      "text/html": [
       "<div>\n",
       "<style scoped>\n",
       "    .dataframe tbody tr th:only-of-type {\n",
       "        vertical-align: middle;\n",
       "    }\n",
       "\n",
       "    .dataframe tbody tr th {\n",
       "        vertical-align: top;\n",
       "    }\n",
       "\n",
       "    .dataframe thead th {\n",
       "        text-align: right;\n",
       "    }\n",
       "</style>\n",
       "<table border=\"1\" class=\"dataframe\">\n",
       "  <thead>\n",
       "    <tr style=\"text-align: right;\">\n",
       "      <th></th>\n",
       "      <th>Valor</th>\n",
       "      <th>Condominio</th>\n",
       "    </tr>\n",
       "    <tr>\n",
       "      <th>Bairro</th>\n",
       "      <th></th>\n",
       "      <th></th>\n",
       "    </tr>\n",
       "  </thead>\n",
       "  <tbody>\n",
       "    <tr>\n",
       "      <th>Abolição</th>\n",
       "      <td>1195.33</td>\n",
       "      <td>191.40</td>\n",
       "    </tr>\n",
       "    <tr>\n",
       "      <th>Alto da Boa Vista</th>\n",
       "      <td>3966.67</td>\n",
       "      <td>885.00</td>\n",
       "    </tr>\n",
       "    <tr>\n",
       "      <th>Anchieta</th>\n",
       "      <td>875.00</td>\n",
       "      <td>19.75</td>\n",
       "    </tr>\n",
       "    <tr>\n",
       "      <th>Andaraí</th>\n",
       "      <td>1464.71</td>\n",
       "      <td>497.71</td>\n",
       "    </tr>\n",
       "    <tr>\n",
       "      <th>Anil</th>\n",
       "      <td>2048.87</td>\n",
       "      <td>455.85</td>\n",
       "    </tr>\n",
       "    <tr>\n",
       "      <th>...</th>\n",
       "      <td>...</td>\n",
       "      <td>...</td>\n",
       "    </tr>\n",
       "    <tr>\n",
       "      <th>Vila Valqueire</th>\n",
       "      <td>1769.58</td>\n",
       "      <td>276.88</td>\n",
       "    </tr>\n",
       "    <tr>\n",
       "      <th>Vila da Penha</th>\n",
       "      <td>1260.58</td>\n",
       "      <td>232.68</td>\n",
       "    </tr>\n",
       "    <tr>\n",
       "      <th>Vista Alegre</th>\n",
       "      <td>1114.38</td>\n",
       "      <td>210.06</td>\n",
       "    </tr>\n",
       "    <tr>\n",
       "      <th>Zumbi</th>\n",
       "      <td>2150.00</td>\n",
       "      <td>1050.00</td>\n",
       "    </tr>\n",
       "    <tr>\n",
       "      <th>Água Santa</th>\n",
       "      <td>861.11</td>\n",
       "      <td>269.44</td>\n",
       "    </tr>\n",
       "  </tbody>\n",
       "</table>\n",
       "<p>152 rows × 2 columns</p>\n",
       "</div>"
      ],
      "text/plain": [
       "                     Valor  Condominio\n",
       "Bairro                                \n",
       "Abolição           1195.33      191.40\n",
       "Alto da Boa Vista  3966.67      885.00\n",
       "Anchieta            875.00       19.75\n",
       "Andaraí            1464.71      497.71\n",
       "Anil               2048.87      455.85\n",
       "...                    ...         ...\n",
       "Vila Valqueire     1769.58      276.88\n",
       "Vila da Penha      1260.58      232.68\n",
       "Vista Alegre       1114.38      210.06\n",
       "Zumbi              2150.00     1050.00\n",
       "Água Santa          861.11      269.44\n",
       "\n",
       "[152 rows x 2 columns]"
      ]
     },
     "execution_count": 66,
     "metadata": {},
     "output_type": "execute_result"
    }
   ],
   "source": [
    "grupo_bairro[['Valor','Condominio']].mean().round(2)"
   ]
  },
  {
   "cell_type": "markdown",
   "id": "cd738697-6c7b-41c8-bedd-2916a46f33c3",
   "metadata": {
    "pycharm": {
     "name": "#%% md\n"
    }
   },
   "source": [
    "## Estatísticas Descritivas"
   ]
  },
  {
   "cell_type": "code",
   "execution_count": 67,
   "id": "fbb16769-dda1-49b7-9dc9-e399d33ddf42",
   "metadata": {
    "pycharm": {
     "name": "#%%\n"
    }
   },
   "outputs": [
    {
     "data": {
      "text/html": [
       "<div>\n",
       "<style scoped>\n",
       "    .dataframe tbody tr th:only-of-type {\n",
       "        vertical-align: middle;\n",
       "    }\n",
       "\n",
       "    .dataframe tbody tr th {\n",
       "        vertical-align: top;\n",
       "    }\n",
       "\n",
       "    .dataframe thead th {\n",
       "        text-align: right;\n",
       "    }\n",
       "</style>\n",
       "<table border=\"1\" class=\"dataframe\">\n",
       "  <thead>\n",
       "    <tr style=\"text-align: right;\">\n",
       "      <th></th>\n",
       "      <th>count</th>\n",
       "      <th>mean</th>\n",
       "      <th>std</th>\n",
       "      <th>min</th>\n",
       "      <th>25%</th>\n",
       "      <th>50%</th>\n",
       "      <th>75%</th>\n",
       "      <th>max</th>\n",
       "    </tr>\n",
       "    <tr>\n",
       "      <th>Bairro</th>\n",
       "      <th></th>\n",
       "      <th></th>\n",
       "      <th></th>\n",
       "      <th></th>\n",
       "      <th></th>\n",
       "      <th></th>\n",
       "      <th></th>\n",
       "      <th></th>\n",
       "    </tr>\n",
       "  </thead>\n",
       "  <tbody>\n",
       "    <tr>\n",
       "      <th>Abolição</th>\n",
       "      <td>15.0</td>\n",
       "      <td>1195.33</td>\n",
       "      <td>425.32</td>\n",
       "      <td>800.0</td>\n",
       "      <td>900.0</td>\n",
       "      <td>1180.0</td>\n",
       "      <td>1200.0</td>\n",
       "      <td>2300.0</td>\n",
       "    </tr>\n",
       "    <tr>\n",
       "      <th>Alto da Boa Vista</th>\n",
       "      <td>6.0</td>\n",
       "      <td>3966.67</td>\n",
       "      <td>5513.59</td>\n",
       "      <td>600.0</td>\n",
       "      <td>1150.0</td>\n",
       "      <td>1725.0</td>\n",
       "      <td>3275.0</td>\n",
       "      <td>15000.0</td>\n",
       "    </tr>\n",
       "    <tr>\n",
       "      <th>Anchieta</th>\n",
       "      <td>4.0</td>\n",
       "      <td>875.00</td>\n",
       "      <td>132.29</td>\n",
       "      <td>700.0</td>\n",
       "      <td>812.5</td>\n",
       "      <td>900.0</td>\n",
       "      <td>962.5</td>\n",
       "      <td>1000.0</td>\n",
       "    </tr>\n",
       "    <tr>\n",
       "      <th>Andaraí</th>\n",
       "      <td>97.0</td>\n",
       "      <td>1464.71</td>\n",
       "      <td>408.11</td>\n",
       "      <td>700.0</td>\n",
       "      <td>1200.0</td>\n",
       "      <td>1400.0</td>\n",
       "      <td>1650.0</td>\n",
       "      <td>2950.0</td>\n",
       "    </tr>\n",
       "    <tr>\n",
       "      <th>Anil</th>\n",
       "      <td>71.0</td>\n",
       "      <td>2048.87</td>\n",
       "      <td>1523.97</td>\n",
       "      <td>300.0</td>\n",
       "      <td>1100.0</td>\n",
       "      <td>1500.0</td>\n",
       "      <td>2675.0</td>\n",
       "      <td>7000.0</td>\n",
       "    </tr>\n",
       "    <tr>\n",
       "      <th>...</th>\n",
       "      <td>...</td>\n",
       "      <td>...</td>\n",
       "      <td>...</td>\n",
       "      <td>...</td>\n",
       "      <td>...</td>\n",
       "      <td>...</td>\n",
       "      <td>...</td>\n",
       "      <td>...</td>\n",
       "    </tr>\n",
       "    <tr>\n",
       "      <th>Vila Valqueire</th>\n",
       "      <td>48.0</td>\n",
       "      <td>1769.58</td>\n",
       "      <td>2203.01</td>\n",
       "      <td>800.0</td>\n",
       "      <td>1000.0</td>\n",
       "      <td>1250.0</td>\n",
       "      <td>1700.0</td>\n",
       "      <td>16000.0</td>\n",
       "    </tr>\n",
       "    <tr>\n",
       "      <th>Vila da Penha</th>\n",
       "      <td>104.0</td>\n",
       "      <td>1260.58</td>\n",
       "      <td>644.66</td>\n",
       "      <td>450.0</td>\n",
       "      <td>900.0</td>\n",
       "      <td>1100.0</td>\n",
       "      <td>1302.5</td>\n",
       "      <td>4500.0</td>\n",
       "    </tr>\n",
       "    <tr>\n",
       "      <th>Vista Alegre</th>\n",
       "      <td>16.0</td>\n",
       "      <td>1114.38</td>\n",
       "      <td>199.60</td>\n",
       "      <td>700.0</td>\n",
       "      <td>1012.5</td>\n",
       "      <td>1200.0</td>\n",
       "      <td>1225.0</td>\n",
       "      <td>1400.0</td>\n",
       "    </tr>\n",
       "    <tr>\n",
       "      <th>Zumbi</th>\n",
       "      <td>2.0</td>\n",
       "      <td>2150.00</td>\n",
       "      <td>777.82</td>\n",
       "      <td>1600.0</td>\n",
       "      <td>1875.0</td>\n",
       "      <td>2150.0</td>\n",
       "      <td>2425.0</td>\n",
       "      <td>2700.0</td>\n",
       "    </tr>\n",
       "    <tr>\n",
       "      <th>Água Santa</th>\n",
       "      <td>9.0</td>\n",
       "      <td>861.11</td>\n",
       "      <td>174.60</td>\n",
       "      <td>600.0</td>\n",
       "      <td>800.0</td>\n",
       "      <td>850.0</td>\n",
       "      <td>950.0</td>\n",
       "      <td>1200.0</td>\n",
       "    </tr>\n",
       "  </tbody>\n",
       "</table>\n",
       "<p>152 rows × 8 columns</p>\n",
       "</div>"
      ],
      "text/plain": [
       "                   count     mean      std     min     25%     50%     75%  \\\n",
       "Bairro                                                                       \n",
       "Abolição            15.0  1195.33   425.32   800.0   900.0  1180.0  1200.0   \n",
       "Alto da Boa Vista    6.0  3966.67  5513.59   600.0  1150.0  1725.0  3275.0   \n",
       "Anchieta             4.0   875.00   132.29   700.0   812.5   900.0   962.5   \n",
       "Andaraí             97.0  1464.71   408.11   700.0  1200.0  1400.0  1650.0   \n",
       "Anil                71.0  2048.87  1523.97   300.0  1100.0  1500.0  2675.0   \n",
       "...                  ...      ...      ...     ...     ...     ...     ...   \n",
       "Vila Valqueire      48.0  1769.58  2203.01   800.0  1000.0  1250.0  1700.0   \n",
       "Vila da Penha      104.0  1260.58   644.66   450.0   900.0  1100.0  1302.5   \n",
       "Vista Alegre        16.0  1114.38   199.60   700.0  1012.5  1200.0  1225.0   \n",
       "Zumbi                2.0  2150.00   777.82  1600.0  1875.0  2150.0  2425.0   \n",
       "Água Santa           9.0   861.11   174.60   600.0   800.0   850.0   950.0   \n",
       "\n",
       "                       max  \n",
       "Bairro                      \n",
       "Abolição            2300.0  \n",
       "Alto da Boa Vista  15000.0  \n",
       "Anchieta            1000.0  \n",
       "Andaraí             2950.0  \n",
       "Anil                7000.0  \n",
       "...                    ...  \n",
       "Vila Valqueire     16000.0  \n",
       "Vila da Penha       4500.0  \n",
       "Vista Alegre        1400.0  \n",
       "Zumbi               2700.0  \n",
       "Água Santa          1200.0  \n",
       "\n",
       "[152 rows x 8 columns]"
      ]
     },
     "execution_count": 67,
     "metadata": {},
     "output_type": "execute_result"
    }
   ],
   "source": [
    "grupo_bairro['Valor'].describe().round(2)"
   ]
  },
  {
   "cell_type": "code",
   "execution_count": 69,
   "id": "4e0e9554-3343-4901-93fe-aebff4a83b6c",
   "metadata": {
    "pycharm": {
     "name": "#%%\n"
    }
   },
   "outputs": [
    {
     "data": {
      "text/html": [
       "<div>\n",
       "<style scoped>\n",
       "    .dataframe tbody tr th:only-of-type {\n",
       "        vertical-align: middle;\n",
       "    }\n",
       "\n",
       "    .dataframe tbody tr th {\n",
       "        vertical-align: top;\n",
       "    }\n",
       "\n",
       "    .dataframe thead th {\n",
       "        text-align: right;\n",
       "    }\n",
       "</style>\n",
       "<table border=\"1\" class=\"dataframe\">\n",
       "  <thead>\n",
       "    <tr style=\"text-align: right;\">\n",
       "      <th></th>\n",
       "      <th>Mínimo</th>\n",
       "      <th>Máximo</th>\n",
       "      <th>sum</th>\n",
       "    </tr>\n",
       "    <tr>\n",
       "      <th>Bairro</th>\n",
       "      <th></th>\n",
       "      <th></th>\n",
       "      <th></th>\n",
       "    </tr>\n",
       "  </thead>\n",
       "  <tbody>\n",
       "    <tr>\n",
       "      <th>Abolição</th>\n",
       "      <td>800.0</td>\n",
       "      <td>2300.0</td>\n",
       "      <td>17930.0</td>\n",
       "    </tr>\n",
       "    <tr>\n",
       "      <th>Alto da Boa Vista</th>\n",
       "      <td>600.0</td>\n",
       "      <td>15000.0</td>\n",
       "      <td>23800.0</td>\n",
       "    </tr>\n",
       "    <tr>\n",
       "      <th>Anchieta</th>\n",
       "      <td>700.0</td>\n",
       "      <td>1000.0</td>\n",
       "      <td>3500.0</td>\n",
       "    </tr>\n",
       "    <tr>\n",
       "      <th>Andaraí</th>\n",
       "      <td>700.0</td>\n",
       "      <td>2950.0</td>\n",
       "      <td>142077.0</td>\n",
       "    </tr>\n",
       "    <tr>\n",
       "      <th>Anil</th>\n",
       "      <td>300.0</td>\n",
       "      <td>7000.0</td>\n",
       "      <td>145470.0</td>\n",
       "    </tr>\n",
       "    <tr>\n",
       "      <th>...</th>\n",
       "      <td>...</td>\n",
       "      <td>...</td>\n",
       "      <td>...</td>\n",
       "    </tr>\n",
       "    <tr>\n",
       "      <th>Vila Valqueire</th>\n",
       "      <td>800.0</td>\n",
       "      <td>16000.0</td>\n",
       "      <td>84940.0</td>\n",
       "    </tr>\n",
       "    <tr>\n",
       "      <th>Vila da Penha</th>\n",
       "      <td>450.0</td>\n",
       "      <td>4500.0</td>\n",
       "      <td>131100.0</td>\n",
       "    </tr>\n",
       "    <tr>\n",
       "      <th>Vista Alegre</th>\n",
       "      <td>700.0</td>\n",
       "      <td>1400.0</td>\n",
       "      <td>17830.0</td>\n",
       "    </tr>\n",
       "    <tr>\n",
       "      <th>Zumbi</th>\n",
       "      <td>1600.0</td>\n",
       "      <td>2700.0</td>\n",
       "      <td>4300.0</td>\n",
       "    </tr>\n",
       "    <tr>\n",
       "      <th>Água Santa</th>\n",
       "      <td>600.0</td>\n",
       "      <td>1200.0</td>\n",
       "      <td>7750.0</td>\n",
       "    </tr>\n",
       "  </tbody>\n",
       "</table>\n",
       "<p>152 rows × 3 columns</p>\n",
       "</div>"
      ],
      "text/plain": [
       "                   Mínimo   Máximo       sum\n",
       "Bairro                                      \n",
       "Abolição            800.0   2300.0   17930.0\n",
       "Alto da Boa Vista   600.0  15000.0   23800.0\n",
       "Anchieta            700.0   1000.0    3500.0\n",
       "Andaraí             700.0   2950.0  142077.0\n",
       "Anil                300.0   7000.0  145470.0\n",
       "...                   ...      ...       ...\n",
       "Vila Valqueire      800.0  16000.0   84940.0\n",
       "Vila da Penha       450.0   4500.0  131100.0\n",
       "Vista Alegre        700.0   1400.0   17830.0\n",
       "Zumbi              1600.0   2700.0    4300.0\n",
       "Água Santa          600.0   1200.0    7750.0\n",
       "\n",
       "[152 rows x 3 columns]"
      ]
     },
     "execution_count": 69,
     "metadata": {},
     "output_type": "execute_result"
    }
   ],
   "source": [
    "grupo_bairro['Valor'].aggregate(['min','max','sum']).rename(columns = {'min':'Mínimo', 'max':'Máximo'})"
   ]
  },
  {
   "cell_type": "code",
   "execution_count": 74,
   "id": "8a570e36-5ef5-435f-92c7-0cf9f1ed4cca",
   "metadata": {
    "pycharm": {
     "name": "#%%\n"
    }
   },
   "outputs": [],
   "source": [
    "%matplotlib inline\n",
    "import matplotlib.pyplot as plt\n",
    "plt.rc('figure', figsize=(20, 10))"
   ]
  },
  {
   "cell_type": "code",
   "execution_count": 77,
   "id": "c36d6f79-90b2-4433-9d5f-87a2fe816424",
   "metadata": {
    "pycharm": {
     "name": "#%%\n"
    }
   },
   "outputs": [
    {
     "data": {
      "text/plain": [
       "Text(0.5, 1.0, 'Valor Médio do Alguel por Bairro')"
      ]
     },
     "execution_count": 77,
     "metadata": {},
     "output_type": "execute_result"
    },
    {
     "data": {
      "image/png": "[encoded data removed]",
      "text/plain": [
       "<Figure size 1440x720 with 1 Axes>"
      ]
     },
     "metadata": {
      "needs_background": "light"
     },
     "output_type": "display_data"
    }
   ],
   "source": [
    "fig = grupo_bairro['Valor'].mean().plot.bar(color = 'blue')\n",
    "fig.set_ylabel('Valor Aluguel')\n",
    "fig.set_title('Valor Médio do Alguel por Bairro', {'fontsize': 22})"
   ]
  },
  {
   "cell_type": "code",
   "execution_count": 78,
   "id": "8653b14f-8178-48a1-af83-7fb6c3d0fc1f",
   "metadata": {
    "pycharm": {
     "name": "#%%\n"
    }
   },
   "outputs": [
    {
     "data": {
      "text/plain": [
       "Text(0.5, 1.0, 'Valor Médio do Alguel por Bairro')"
      ]
     },
     "execution_count": 78,
     "metadata": {},
     "output_type": "execute_result"
    },
    {
     "data": {
      "image/png": "[encoded data removed]",
      "text/plain": [
       "<Figure size 1440x720 with 1 Axes>"
      ]
     },
     "metadata": {
      "needs_background": "light"
     },
     "output_type": "display_data"
    }
   ],
   "source": [
    "fig = grupo_bairro['Valor'].max().plot.bar(color = 'blue')\n",
    "fig.set_ylabel('Valor Aluguel')\n",
    "fig.set_title('Valor Médio do Alguel por Bairro', {'fontsize': 22})"
   ]
  },
  {
   "cell_type": "code",
   "execution_count": null,
   "id": "ca889d83-f24e-4360-9354-153c8cce042f",
   "metadata": {
    "pycharm": {
     "name": "#%%\n"
    }
   },
   "outputs": [],
   "source": []
  }
 ],
 "metadata": {
  "kernelspec": {
   "display_name": "Python 3 (ipykernel)",
   "language": "python",
   "name": "python3"
  },
  "language_info": {
   "codemirror_mode": {
    "name": "ipython",
    "version": 3
   },
   "file_extension": ".py",
   "mimetype": "text/x-python",
   "name": "python",
   "nbconvert_exporter": "python",
   "pygments_lexer": "ipython3",
   "version": "3.9.7"
  }
 },
 "nbformat": 4,
 "nbformat_minor": 5
}