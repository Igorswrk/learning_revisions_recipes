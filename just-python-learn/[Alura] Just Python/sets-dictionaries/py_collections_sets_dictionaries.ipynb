{
  "nbformat": 4,
  "nbformat_minor": 0,
  "metadata": {
    "colab": {
      "name": "py_collections_sets_dictionaries.ipynb",
      "provenance": [],
      "collapsed_sections": []
    },
    "kernelspec": {
      "name": "python3",
      "display_name": "Python 3"
    },
    "language_info": {
      "name": "python"
    }
  },
  "cells": [
    {
      "cell_type": "markdown",
      "metadata": {
        "id": "RkoYs4V6T7Ba"
      },
      "source": [
        "# Conjuntos (sets)"
      ]
    },
    {
      "cell_type": "code",
      "metadata": {
        "id": "ONJTP08RRhFf"
      },
      "source": [
        "machine_learning_users = {15, 23, 43, 56}\n",
        "data_science_users = {13, 23, 25, 43}"
      ],
      "execution_count": 27,
      "outputs": []
    },
    {
      "cell_type": "code",
      "metadata": {
        "colab": {
          "base_uri": "https://localhost:8080/"
        },
        "id": "8zibpsbUR3nF",
        "outputId": "40f74f8c-5628-4739-cefd-a44a6bd980fb"
      },
      "source": [
        "type(machine_learning_users)"
      ],
      "execution_count": 18,
      "outputs": [
        {
          "output_type": "execute_result",
          "data": {
            "text/plain": [
              "set"
            ]
          },
          "metadata": {},
          "execution_count": 18
        }
      ]
    },
    {
      "cell_type": "code",
      "metadata": {
        "colab": {
          "base_uri": "https://localhost:8080/",
          "height": 163
        },
        "id": "agpgLvszSjMJ",
        "outputId": "1f83be77-64cc-4926-b235-acc1dd1f2ac2"
      },
      "source": [
        "machine_learning_users[3] # not indexable"
      ],
      "execution_count": 8,
      "outputs": [
        {
          "output_type": "error",
          "ename": "TypeError",
          "evalue": "ignored",
          "traceback": [
            "\u001b[0;31m---------------------------------------------------------------------------\u001b[0m",
            "\u001b[0;31mTypeError\u001b[0m                                 Traceback (most recent call last)",
            "\u001b[0;32m<ipython-input-8-6567e1e52620>\u001b[0m in \u001b[0;36m<module>\u001b[0;34m()\u001b[0m\n\u001b[0;32m----> 1\u001b[0;31m \u001b[0mmachine_learning_users\u001b[0m\u001b[0;34m[\u001b[0m\u001b[0;36m3\u001b[0m\u001b[0;34m]\u001b[0m \u001b[0;31m# not indexable\u001b[0m\u001b[0;34m\u001b[0m\u001b[0;34m\u001b[0m\u001b[0m\n\u001b[0m",
            "\u001b[0;31mTypeError\u001b[0m: 'set' object is not subscriptable"
          ]
        }
      ]
    },
    {
      "cell_type": "code",
      "metadata": {
        "colab": {
          "base_uri": "https://localhost:8080/"
        },
        "id": "AUo5bjuSS0jN",
        "outputId": "72479aac-33ce-413e-87b4-016b32a693f1"
      },
      "source": [
        "for user in machine_learning_users:\n",
        "    print(user)"
      ],
      "execution_count": 19,
      "outputs": [
        {
          "output_type": "stream",
          "text": [
            "56\n",
            "43\n",
            "23\n",
            "15\n"
          ],
          "name": "stdout"
        }
      ]
    },
    {
      "cell_type": "code",
      "metadata": {
        "colab": {
          "base_uri": "https://localhost:8080/"
        },
        "id": "f85QklywTyAs",
        "outputId": "572ba259-132b-4978-e64c-26f8702c3e8e"
      },
      "source": [
        "machine_learning_users | data_science_users # Union"
      ],
      "execution_count": 28,
      "outputs": [
        {
          "output_type": "execute_result",
          "data": {
            "text/plain": [
              "{13, 15, 23, 25, 43, 56}"
            ]
          },
          "metadata": {},
          "execution_count": 28
        }
      ]
    },
    {
      "cell_type": "code",
      "metadata": {
        "colab": {
          "base_uri": "https://localhost:8080/"
        },
        "id": "2sRAaDP-UHyA",
        "outputId": "d7cefa7b-f32a-4556-b25d-428494c22c96"
      },
      "source": [
        "machine_learning_users & data_science_users # Intersection"
      ],
      "execution_count": 32,
      "outputs": [
        {
          "output_type": "execute_result",
          "data": {
            "text/plain": [
              "{23, 43}"
            ]
          },
          "metadata": {},
          "execution_count": 32
        }
      ]
    },
    {
      "cell_type": "code",
      "metadata": {
        "colab": {
          "base_uri": "https://localhost:8080/"
        },
        "id": "KcfIcjVJVE8N",
        "outputId": "80e1e4f5-c945-4bb3-ad59-1ecaf75cc7da"
      },
      "source": [
        "machine_learning_users - data_science_users"
      ],
      "execution_count": 33,
      "outputs": [
        {
          "output_type": "execute_result",
          "data": {
            "text/plain": [
              "{15, 56}"
            ]
          },
          "metadata": {},
          "execution_count": 33
        }
      ]
    },
    {
      "cell_type": "code",
      "metadata": {
        "colab": {
          "base_uri": "https://localhost:8080/"
        },
        "id": "NsSnG8EfVYHn",
        "outputId": "53b2e930-24d5-4540-91f7-1a2e2e3567e5"
      },
      "source": [
        "15 in machine_learning_users"
      ],
      "execution_count": 34,
      "outputs": [
        {
          "output_type": "execute_result",
          "data": {
            "text/plain": [
              "True"
            ]
          },
          "metadata": {},
          "execution_count": 34
        }
      ]
    },
    {
      "cell_type": "code",
      "metadata": {
        "colab": {
          "base_uri": "https://localhost:8080/"
        },
        "id": "PloNDpmMVnqX",
        "outputId": "61696c83-0ef3-4558-e169-fd4fbb21f83c"
      },
      "source": [
        "machine_learning_users ^ data_science_users"
      ],
      "execution_count": 35,
      "outputs": [
        {
          "output_type": "execute_result",
          "data": {
            "text/plain": [
              "{13, 15, 25, 56}"
            ]
          },
          "metadata": {},
          "execution_count": 35
        }
      ]
    },
    {
      "cell_type": "markdown",
      "metadata": {
        "id": "TechpyrLWwKC"
      },
      "source": [
        "# Operações"
      ]
    },
    {
      "cell_type": "code",
      "metadata": {
        "id": "taprXVSUWAa1"
      },
      "source": [
        "users = {1, 5, 76, 34, 52, 13, 17} # Conjuntos são mutáveis"
      ],
      "execution_count": 37,
      "outputs": []
    },
    {
      "cell_type": "code",
      "metadata": {
        "colab": {
          "base_uri": "https://localhost:8080/"
        },
        "id": "z086DUGwW0S0",
        "outputId": "d3e6c381-fdd5-43bb-e9f7-f4afbddfb08c"
      },
      "source": [
        "len(users)"
      ],
      "execution_count": 38,
      "outputs": [
        {
          "output_type": "execute_result",
          "data": {
            "text/plain": [
              "7"
            ]
          },
          "metadata": {},
          "execution_count": 38
        }
      ]
    },
    {
      "cell_type": "code",
      "metadata": {
        "colab": {
          "base_uri": "https://localhost:8080/",
          "height": 163
        },
        "id": "ichm5qrDW_a2",
        "outputId": "808d158f-52a7-414c-b78f-dbd84566957f"
      },
      "source": [
        "users.append(13) # Nao existe posicao para inserir um item no final do conjunto dessa forma usamos add."
      ],
      "execution_count": 39,
      "outputs": [
        {
          "output_type": "error",
          "ename": "AttributeError",
          "evalue": "ignored",
          "traceback": [
            "\u001b[0;31m---------------------------------------------------------------------------\u001b[0m",
            "\u001b[0;31mAttributeError\u001b[0m                            Traceback (most recent call last)",
            "\u001b[0;32m<ipython-input-39-cc8275b8fd64>\u001b[0m in \u001b[0;36m<module>\u001b[0;34m()\u001b[0m\n\u001b[0;32m----> 1\u001b[0;31m \u001b[0musers\u001b[0m\u001b[0;34m.\u001b[0m\u001b[0mappend\u001b[0m\u001b[0;34m(\u001b[0m\u001b[0;36m13\u001b[0m\u001b[0;34m)\u001b[0m\u001b[0;34m\u001b[0m\u001b[0;34m\u001b[0m\u001b[0m\n\u001b[0m",
            "\u001b[0;31mAttributeError\u001b[0m: 'set' object has no attribute 'append'"
          ]
        }
      ]
    },
    {
      "cell_type": "code",
      "metadata": {
        "colab": {
          "base_uri": "https://localhost:8080/"
        },
        "id": "cWDDmyO-XBzK",
        "outputId": "9ce6e672-c618-4c47-b74a-b15b7b3e973f"
      },
      "source": [
        "users.add(765) # Não e possível inserir números repetidos\n",
        "len(users)"
      ],
      "execution_count": 43,
      "outputs": [
        {
          "output_type": "execute_result",
          "data": {
            "text/plain": [
              "8"
            ]
          },
          "metadata": {},
          "execution_count": 43
        }
      ]
    },
    {
      "cell_type": "code",
      "metadata": {
        "colab": {
          "base_uri": "https://localhost:8080/"
        },
        "id": "udXcA17lXLq2",
        "outputId": "15a7247e-c98b-4f73-f7dc-ce13558b9fb6"
      },
      "source": [
        "users"
      ],
      "execution_count": 44,
      "outputs": [
        {
          "output_type": "execute_result",
          "data": {
            "text/plain": [
              "{1, 5, 13, 17, 34, 52, 76, 765}"
            ]
          },
          "metadata": {},
          "execution_count": 44
        }
      ]
    },
    {
      "cell_type": "code",
      "metadata": {
        "colab": {
          "base_uri": "https://localhost:8080/"
        },
        "id": "b-HkMJ3VXaXd",
        "outputId": "d2089310-4cee-4d9a-9d42-cf1d4c0476aa"
      },
      "source": [
        "users_02 = frozenset(users) # frozenset transforma o conjunto em um objetio imutável.\n",
        "users_02"
      ],
      "execution_count": 45,
      "outputs": [
        {
          "output_type": "execute_result",
          "data": {
            "text/plain": [
              "frozenset({1, 5, 13, 17, 34, 52, 76, 765})"
            ]
          },
          "metadata": {},
          "execution_count": 45
        }
      ]
    },
    {
      "cell_type": "code",
      "metadata": {
        "colab": {
          "base_uri": "https://localhost:8080/"
        },
        "id": "N_MbNs3zX99U",
        "outputId": "2517d4cf-34ce-4cf9-912d-e18aae6c8c75"
      },
      "source": [
        "type(users_02)"
      ],
      "execution_count": 46,
      "outputs": [
        {
          "output_type": "execute_result",
          "data": {
            "text/plain": [
              "frozenset"
            ]
          },
          "metadata": {},
          "execution_count": 46
        }
      ]
    },
    {
      "cell_type": "code",
      "metadata": {
        "colab": {
          "base_uri": "https://localhost:8080/",
          "height": 163
        },
        "id": "whwk67QDYBd0",
        "outputId": "49abc024-921a-4aff-b890-0879718dff41"
      },
      "source": [
        "users_02.add(125)"
      ],
      "execution_count": 47,
      "outputs": [
        {
          "output_type": "error",
          "ename": "AttributeError",
          "evalue": "ignored",
          "traceback": [
            "\u001b[0;31m---------------------------------------------------------------------------\u001b[0m",
            "\u001b[0;31mAttributeError\u001b[0m                            Traceback (most recent call last)",
            "\u001b[0;32m<ipython-input-47-1baba5b37afc>\u001b[0m in \u001b[0;36m<module>\u001b[0;34m()\u001b[0m\n\u001b[0;32m----> 1\u001b[0;31m \u001b[0musers_02\u001b[0m\u001b[0;34m.\u001b[0m\u001b[0madd\u001b[0m\u001b[0;34m(\u001b[0m\u001b[0;36m125\u001b[0m\u001b[0;34m)\u001b[0m\u001b[0;34m\u001b[0m\u001b[0;34m\u001b[0m\u001b[0m\n\u001b[0m",
            "\u001b[0;31mAttributeError\u001b[0m: 'frozenset' object has no attribute 'add'"
          ]
        }
      ]
    },
    {
      "cell_type": "code",
      "metadata": {
        "colab": {
          "base_uri": "https://localhost:8080/"
        },
        "id": "_K2Gf6iYYEKF",
        "outputId": "57973070-6eb9-4a83-eb31-03da5d7c4e39"
      },
      "source": [
        "my_text = \"Welcome, my name is Igor i very like names and i have the my dog and very like dogs\"\n",
        "my_text.split()"
      ],
      "execution_count": 48,
      "outputs": [
        {
          "output_type": "execute_result",
          "data": {
            "text/plain": [
              "['Welcome,',\n",
              " 'my',\n",
              " 'name',\n",
              " 'is',\n",
              " 'Igor',\n",
              " 'i',\n",
              " 'very',\n",
              " 'like',\n",
              " 'names',\n",
              " 'and',\n",
              " 'i',\n",
              " 'have',\n",
              " 'the',\n",
              " 'my',\n",
              " 'dog',\n",
              " 'and',\n",
              " 'very',\n",
              " 'like',\n",
              " 'dogs']"
            ]
          },
          "metadata": {},
          "execution_count": 48
        }
      ]
    },
    {
      "cell_type": "code",
      "metadata": {
        "colab": {
          "base_uri": "https://localhost:8080/"
        },
        "id": "2PaQokAVZJzK",
        "outputId": "d34e2e51-5a4f-4070-dacc-06f5958c98bb"
      },
      "source": [
        "set(my_text.split()) # Conjunto de string"
      ],
      "execution_count": 49,
      "outputs": [
        {
          "output_type": "execute_result",
          "data": {
            "text/plain": [
              "{'Igor',\n",
              " 'Welcome,',\n",
              " 'and',\n",
              " 'dog',\n",
              " 'dogs',\n",
              " 'have',\n",
              " 'i',\n",
              " 'is',\n",
              " 'like',\n",
              " 'my',\n",
              " 'name',\n",
              " 'names',\n",
              " 'the',\n",
              " 'very'}"
            ]
          },
          "metadata": {},
          "execution_count": 49
        }
      ]
    },
    {
      "cell_type": "markdown",
      "metadata": {
        "id": "OehC3PGVZ9uz"
      },
      "source": [
        "# Dicionários "
      ]
    },
    {
      "cell_type": "code",
      "metadata": {
        "id": "Ev_yEXiWZNzz"
      },
      "source": [
        "# Map"
      ],
      "execution_count": 50,
      "outputs": []
    },
    {
      "cell_type": "code",
      "metadata": {
        "id": "gz7AgXXoaTcw"
      },
      "source": [
        "marvel_characters = {\n",
        "  \"Iron Man\" : 1,\n",
        "  \"Spider Man\" : 3,\n",
        "  \"Thor\" : 1,\n",
        "  \"Thanos\": 2,\n",
        "  \"Kang\" : 15\n",
        "} "
      ],
      "execution_count": 66,
      "outputs": []
    },
    {
      "cell_type": "code",
      "metadata": {
        "colab": {
          "base_uri": "https://localhost:8080/"
        },
        "id": "4lPTbWOAbSiP",
        "outputId": "663081d0-b1b8-4fb8-abc0-7b670d27dc87"
      },
      "source": [
        "type(marvel_characters)"
      ],
      "execution_count": 52,
      "outputs": [
        {
          "output_type": "execute_result",
          "data": {
            "text/plain": [
              "dict"
            ]
          },
          "metadata": {},
          "execution_count": 52
        }
      ]
    },
    {
      "cell_type": "code",
      "metadata": {
        "colab": {
          "base_uri": "https://localhost:8080/"
        },
        "id": "4-T5d7Z3bU60",
        "outputId": "39bd1e4f-aaa2-4db6-8fc0-86e67bc3d553"
      },
      "source": [
        "marvel_characters[\"Iron Man\"]"
      ],
      "execution_count": 54,
      "outputs": [
        {
          "output_type": "execute_result",
          "data": {
            "text/plain": [
              "1"
            ]
          },
          "metadata": {},
          "execution_count": 54
        }
      ]
    },
    {
      "cell_type": "code",
      "metadata": {
        "colab": {
          "base_uri": "https://localhost:8080/"
        },
        "id": "GyrMV5FybbYi",
        "outputId": "da62a892-9c56-4a07-f482-57f11780e1d3"
      },
      "source": [
        "marvel_characters[\"Spider Man\"]"
      ],
      "execution_count": 56,
      "outputs": [
        {
          "output_type": "execute_result",
          "data": {
            "text/plain": [
              "3"
            ]
          },
          "metadata": {},
          "execution_count": 56
        }
      ]
    },
    {
      "cell_type": "code",
      "metadata": {
        "colab": {
          "base_uri": "https://localhost:8080/",
          "height": 163
        },
        "id": "t-4uqNq8bc9O",
        "outputId": "ed3729bb-14de-4c19-cc97-2ca76d8a11ba"
      },
      "source": [
        "marvel_characters[\"Nick Fury\"]"
      ],
      "execution_count": 60,
      "outputs": [
        {
          "output_type": "error",
          "ename": "KeyError",
          "evalue": "ignored",
          "traceback": [
            "\u001b[0;31m---------------------------------------------------------------------------\u001b[0m",
            "\u001b[0;31mKeyError\u001b[0m                                  Traceback (most recent call last)",
            "\u001b[0;32m<ipython-input-60-d89e30ab5f28>\u001b[0m in \u001b[0;36m<module>\u001b[0;34m()\u001b[0m\n\u001b[0;32m----> 1\u001b[0;31m \u001b[0mmarvel_characters\u001b[0m\u001b[0;34m[\u001b[0m\u001b[0;34m\"Nick Fury\"\u001b[0m\u001b[0;34m]\u001b[0m\u001b[0;34m\u001b[0m\u001b[0;34m\u001b[0m\u001b[0m\n\u001b[0m",
            "\u001b[0;31mKeyError\u001b[0m: 'Nick Fury'"
          ]
        }
      ]
    },
    {
      "cell_type": "code",
      "metadata": {
        "id": "bbUCIdP9boy_"
      },
      "source": [
        "marvel_characters_02 = dict(IronMan = 1, SpiderMan = 3, Thor = 1) # Forma alternativa de criar dicionários, pouco ultilizada"
      ],
      "execution_count": 64,
      "outputs": []
    },
    {
      "cell_type": "code",
      "metadata": {
        "id": "QvgnGkwdcDhF"
      },
      "source": [
        "marvel_characters = {\n",
        "  \"Iron Man\" : 1,\n",
        "  \"Spider Man\" : 3,\n",
        "  \"Thor\" : 1,\n",
        "  \"Thanos\": 2,\n",
        "  \"Kang\" : 15\n",
        "} "
      ],
      "execution_count": 67,
      "outputs": []
    },
    {
      "cell_type": "code",
      "metadata": {
        "id": "2lS0Ud5Bcs0N"
      },
      "source": [
        "marvel_characters[\"Black Widow\"] = 55"
      ],
      "execution_count": 68,
      "outputs": []
    },
    {
      "cell_type": "code",
      "metadata": {
        "colab": {
          "base_uri": "https://localhost:8080/"
        },
        "id": "OiuIDxpYc0mQ",
        "outputId": "907be06e-31bd-4d74-ab9f-9bc8f433d5f7"
      },
      "source": [
        "marvel_characters"
      ],
      "execution_count": 69,
      "outputs": [
        {
          "output_type": "execute_result",
          "data": {
            "text/plain": [
              "{'Black Widow': 55,\n",
              " 'Iron Man': 1,\n",
              " 'Kang': 15,\n",
              " 'Spider Man': 3,\n",
              " 'Thanos': 2,\n",
              " 'Thor': 1}"
            ]
          },
          "metadata": {},
          "execution_count": 69
        }
      ]
    },
    {
      "cell_type": "code",
      "metadata": {
        "id": "L6rIIqvyc2p2"
      },
      "source": [
        "marvel_characters[\"Black Widow\"] = 20"
      ],
      "execution_count": 70,
      "outputs": []
    },
    {
      "cell_type": "code",
      "metadata": {
        "colab": {
          "base_uri": "https://localhost:8080/"
        },
        "id": "b8ANZOgcc6q_",
        "outputId": "d941ab8c-b11c-480d-cc23-3a0fdbdc7bfd"
      },
      "source": [
        "marvel_characters"
      ],
      "execution_count": 71,
      "outputs": [
        {
          "output_type": "execute_result",
          "data": {
            "text/plain": [
              "{'Black Widow': 20,\n",
              " 'Iron Man': 1,\n",
              " 'Kang': 15,\n",
              " 'Spider Man': 3,\n",
              " 'Thanos': 2,\n",
              " 'Thor': 1}"
            ]
          },
          "metadata": {},
          "execution_count": 71
        }
      ]
    },
    {
      "cell_type": "code",
      "metadata": {
        "id": "wCzHt2-qc8C1"
      },
      "source": [
        "del marvel_characters[\"Thor\"]"
      ],
      "execution_count": 72,
      "outputs": []
    },
    {
      "cell_type": "code",
      "metadata": {
        "colab": {
          "base_uri": "https://localhost:8080/"
        },
        "id": "JX4ompYUdFKO",
        "outputId": "65852341-9c61-49b1-96f8-fd82a9a72998"
      },
      "source": [
        "marvel_characters"
      ],
      "execution_count": 73,
      "outputs": [
        {
          "output_type": "execute_result",
          "data": {
            "text/plain": [
              "{'Black Widow': 20, 'Iron Man': 1, 'Kang': 15, 'Spider Man': 3, 'Thanos': 2}"
            ]
          },
          "metadata": {},
          "execution_count": 73
        }
      ]
    },
    {
      "cell_type": "code",
      "metadata": {
        "colab": {
          "base_uri": "https://localhost:8080/"
        },
        "id": "2qUjo1T1dGC4",
        "outputId": "7706c998-2b82-48ad-bfd2-b58dacd48718"
      },
      "source": [
        "\"Kang\" in marvel_characters"
      ],
      "execution_count": 75,
      "outputs": [
        {
          "output_type": "execute_result",
          "data": {
            "text/plain": [
              "True"
            ]
          },
          "metadata": {},
          "execution_count": 75
        }
      ]
    },
    {
      "cell_type": "code",
      "metadata": {
        "colab": {
          "base_uri": "https://localhost:8080/"
        },
        "id": "4N0Bw5kUdUfN",
        "outputId": "9b8f6acd-5f9f-4476-d04b-5cb6b87e154a"
      },
      "source": [
        "for character in marvel_characters:\n",
        "    print(character)"
      ],
      "execution_count": 77,
      "outputs": [
        {
          "output_type": "stream",
          "text": [
            "Iron Man\n",
            "Spider Man\n",
            "Thanos\n",
            "Kang\n",
            "Black Widow\n"
          ],
          "name": "stdout"
        }
      ]
    },
    {
      "cell_type": "code",
      "metadata": {
        "colab": {
          "base_uri": "https://localhost:8080/"
        },
        "id": "6-ndyGErddzt",
        "outputId": "ee154cdc-c496-4fd3-ba2b-420d2a430d27"
      },
      "source": [
        "for character in marvel_characters.keys():\n",
        "    print(character)"
      ],
      "execution_count": 79,
      "outputs": [
        {
          "output_type": "stream",
          "text": [
            "Iron Man\n",
            "Spider Man\n",
            "Thanos\n",
            "Kang\n",
            "Black Widow\n"
          ],
          "name": "stdout"
        }
      ]
    },
    {
      "cell_type": "code",
      "metadata": {
        "colab": {
          "base_uri": "https://localhost:8080/"
        },
        "id": "2rexWxF-dqhO",
        "outputId": "4c9e55df-fdd9-4621-c1ba-91d998f53aa9"
      },
      "source": [
        "for character in marvel_characters.values():\n",
        "    print(character)"
      ],
      "execution_count": 82,
      "outputs": [
        {
          "output_type": "stream",
          "text": [
            "1\n",
            "3\n",
            "2\n",
            "15\n",
            "20\n"
          ],
          "name": "stdout"
        }
      ]
    },
    {
      "cell_type": "code",
      "metadata": {
        "colab": {
          "base_uri": "https://localhost:8080/"
        },
        "id": "vETzwLVydu1i",
        "outputId": "b30629af-e56a-4d7e-c4ab-84e1ca3e90aa"
      },
      "source": [
        "for character in marvel_characters:\n",
        "    value = marvel_characters[character]\n",
        "    print(character, value)"
      ],
      "execution_count": 83,
      "outputs": [
        {
          "output_type": "stream",
          "text": [
            "Iron Man 1\n",
            "Spider Man 3\n",
            "Thanos 2\n",
            "Kang 15\n",
            "Black Widow 20\n"
          ],
          "name": "stdout"
        }
      ]
    },
    {
      "cell_type": "code",
      "metadata": {
        "colab": {
          "base_uri": "https://localhost:8080/"
        },
        "id": "KAQiaOxzeBBK",
        "outputId": "8a6c1194-99d1-459b-f32e-01c2d82b76ca"
      },
      "source": [
        "for character in marvel_characters.items():\n",
        "    print(character)"
      ],
      "execution_count": 84,
      "outputs": [
        {
          "output_type": "stream",
          "text": [
            "('Iron Man', 1)\n",
            "('Spider Man', 3)\n",
            "('Thanos', 2)\n",
            "('Kang', 15)\n",
            "('Black Widow', 20)\n"
          ],
          "name": "stdout"
        }
      ]
    },
    {
      "cell_type": "code",
      "metadata": {
        "colab": {
          "base_uri": "https://localhost:8080/"
        },
        "id": "tQfC8KrBeJLc",
        "outputId": "029bf7d1-8d6f-4483-c97e-44fe71c7f6e3"
      },
      "source": [
        "for key, value in marvel_characters.items():\n",
        "    print(key, \"=\" , value)"
      ],
      "execution_count": 88,
      "outputs": [
        {
          "output_type": "stream",
          "text": [
            "Iron Man = 1\n",
            "Spider Man = 3\n",
            "Thanos = 2\n",
            "Kang = 15\n",
            "Black Widow = 20\n"
          ],
          "name": "stdout"
        }
      ]
    },
    {
      "cell_type": "markdown",
      "metadata": {
        "id": "6hVAZ2n9lzfW"
      },
      "source": [
        "# Variações de dicionários"
      ]
    },
    {
      "cell_type": "code",
      "metadata": {
        "colab": {
          "base_uri": "https://localhost:8080/"
        },
        "id": "LbDb2EFxlpRH",
        "outputId": "8a1b363f-5a05-47ea-9e42-36543981df30"
      },
      "source": [
        "int()"
      ],
      "execution_count": 97,
      "outputs": [
        {
          "output_type": "execute_result",
          "data": {
            "text/plain": [
              "0"
            ]
          },
          "metadata": {},
          "execution_count": 97
        }
      ]
    },
    {
      "cell_type": "code",
      "metadata": {
        "colab": {
          "base_uri": "https://localhost:8080/"
        },
        "id": "yCXmkPKnebMl",
        "outputId": "8e602a2e-dea9-4d49-94bd-62347aeca7a7"
      },
      "source": [
        "from collections import defaultdict\n",
        "\n",
        "my_text = \"Welcome, my name is Igor i very like names and i have the my dog and very like dogs\"\n",
        "my_text = my_text.lower()\n",
        "\n",
        "apparitions = defaultdict(int) # Inicializando dicionario com 0\n",
        "\n",
        "for word in my_text.split():\n",
        "    apparitions[word] += 1\n",
        "\n",
        "apparitions"
      ],
      "execution_count": 99,
      "outputs": [
        {
          "output_type": "execute_result",
          "data": {
            "text/plain": [
              "defaultdict(int,\n",
              "            {'and': 2,\n",
              "             'dog': 1,\n",
              "             'dogs': 1,\n",
              "             'have': 1,\n",
              "             'i': 2,\n",
              "             'igor': 1,\n",
              "             'is': 1,\n",
              "             'like': 2,\n",
              "             'my': 2,\n",
              "             'name': 1,\n",
              "             'names': 1,\n",
              "             'the': 1,\n",
              "             'very': 2,\n",
              "             'welcome,': 1})"
            ]
          },
          "metadata": {},
          "execution_count": 99
        }
      ]
    },
    {
      "cell_type": "code",
      "metadata": {
        "colab": {
          "base_uri": "https://localhost:8080/"
        },
        "id": "TZRXihz7lgVL",
        "outputId": "7cac6e45-1a1f-42b4-b57c-90ba88dea48d"
      },
      "source": [
        "from collections import Counter # Contador de valores\n",
        "\n",
        "my_text = \"Welcome, my name is Igor i very like names and i have the my dog and very like dogs\"\n",
        "my_text = my_text.lower()\n",
        "\n",
        "apparitions = Counter(my_text.split())\n",
        "apparitions"
      ],
      "execution_count": 100,
      "outputs": [
        {
          "output_type": "execute_result",
          "data": {
            "text/plain": [
              "Counter({'and': 2,\n",
              "         'dog': 1,\n",
              "         'dogs': 1,\n",
              "         'have': 1,\n",
              "         'i': 2,\n",
              "         'igor': 1,\n",
              "         'is': 1,\n",
              "         'like': 2,\n",
              "         'my': 2,\n",
              "         'name': 1,\n",
              "         'names': 1,\n",
              "         'the': 1,\n",
              "         'very': 2,\n",
              "         'welcome,': 1})"
            ]
          },
          "metadata": {},
          "execution_count": 100
        }
      ]
    },
    {
      "cell_type": "markdown",
      "metadata": {
        "id": "uG1NUiQvnfLm"
      },
      "source": [
        "# Praticando"
      ]
    },
    {
      "cell_type": "code",
      "metadata": {
        "id": "P-sI_HmOodqs"
      },
      "source": [
        "text_01 = \"\"\" A trama de Vingadores: Ultimato se passa poucos dias depois do fim de Guerra Infinita: Thanos conseguiu o que queria, matou metade da população do universo e boa parte dos heróis que tentou impedi-lo, em vão. \n",
        "No entanto, surge uma possibilidade de reverter o que aconteceu, graças a dois fatores ausentes no conflito anterior: a Capitã Marvel (Brie Larson) e o Homem-Formiga (Paul Rudd).\n",
        "\n",
        "Discutir muito mais coisas além disso significaria entregar elementos do enredo importantíssimos, e acredito que a surpresa ao chegar na sala de cinema faz parte da experiência. \n",
        "O que pode ser dito é: TODAS as teorias ventiladas na internet estão erradas. Todas, sem exceção.+\n",
        "\n",
        "O que dá para discutir, e isso já foi mostrado nos trailers, é o sentimento de derrota que abateu não só os Vingadores, mas todo o mundo: as pessoas desistiram de tudo ao perderem seus entes queridos, \n",
        "e não conseguem seguir em frente. A humanidade... estagnou.\n",
        "\n",
        "Mas como este é um filme de ação, baseado em heróis de quadrinhos, espere por muitas reviravoltas, piadinhas, um pouco de drama e batalhas épicas, que colocam as de Guerra Infinita no chinelo, \n",
        "e ficam no mesmo nível de grandiosidade do confronto final de Aquaman, curiosamente, o filme mais \"ao estilo Marvel\" que a DC já lançou.\n",
        "\"\"\""
      ],
      "execution_count": 142,
      "outputs": []
    },
    {
      "cell_type": "code",
      "metadata": {
        "id": "-XvZ420BodiC"
      },
      "source": [
        "text_02 = \"\"\"\n",
        "Olá pessoal! Nesse post, vamos entender o funcionamento do incrível virtualenv, uma ferramenta simples e poderosa que permite criar ambientes isolados de desenvolvimento Python\n",
        "Dessa forma é possível a utilização de diversas bibliotecas em um mesmo ambiente sem que haja conflitos entre elas.\n",
        "O uso do virtualenv traz muitas vantagens e facilidades quando desenvolvemos em Python, principalmente na separação de ambientes de desenvolvimento.\n",
        "\n",
        "Também nos ajuda muito na solução de conflitos entre versões de uma biblioteca e é essencial para o desenvolvimento de aplicações utilizando diferentes versões do Python em uma mesma máquina \n",
        "(sem ter que recorrer à máquinas virtuais, por exemplo) Caso você ainda não o utilize, eu aconselho a baixar o mais rápido possível e aproveitar ao máximo essa ferramenta poderosa e extremamente \n",
        "simples que eu acabei de apresentar a vocês.\n",
        "\n",
        "Bom… Espero que tenham gostado! E se você achou interessante este post, e acha que ele facilitou a sua vida organizando seu ambiente Python, não se esqueça de deixar aqui seu comentário ou sugestão!\n",
        "\"\"\""
      ],
      "execution_count": 102,
      "outputs": []
    },
    {
      "cell_type": "code",
      "metadata": {
        "id": "D49UOaMnpbkp"
      },
      "source": [
        "def analyze_letters_frequency(text):\n",
        "  apparitions_01 = Counter(text.lower())\n",
        "  total_characters = sum(apparitions_01.values())\n",
        "\n",
        "  proportions = [(letter, frequency / total_characters) for letter, frequency in apparitions_01.items()]\n",
        "  proportions = Counter(dict(proportions))\n",
        "  common = proportions.most_common(10)\n",
        "\n",
        "  for character, proportion in common:\n",
        "      print(f'{character} => {proportion * 100:.2f}%')\n"
      ],
      "execution_count": 151,
      "outputs": []
    },
    {
      "cell_type": "code",
      "metadata": {
        "colab": {
          "base_uri": "https://localhost:8080/"
        },
        "id": "WdodamMepqJg",
        "outputId": "31a976d9-9f0e-4ea9-9b17-425042323542"
      },
      "source": [
        "analyze_letters_frequency(text_01)"
      ],
      "execution_count": 153,
      "outputs": [
        {
          "output_type": "stream",
          "text": [
            "  => 16.46%\n",
            "e => 9.89%\n",
            "a => 8.94%\n",
            "o => 7.91%\n",
            "s => 6.72%\n",
            "i => 5.93%\n",
            "r => 5.14%\n",
            "d => 4.75%\n",
            "t => 4.43%\n",
            "n => 4.35%\n"
          ],
          "name": "stdout"
        }
      ]
    },
    {
      "cell_type": "code",
      "metadata": {
        "colab": {
          "base_uri": "https://localhost:8080/"
        },
        "id": "RasawA8ms7JD",
        "outputId": "38fcb961-d81a-4982-9c14-d4afac725c9d"
      },
      "source": [
        "analyze_letters_frequency(text_02)"
      ],
      "execution_count": 154,
      "outputs": [
        {
          "output_type": "stream",
          "text": [
            "  => 15.04%\n",
            "e => 12.26%\n",
            "a => 8.17%\n",
            "o => 7.34%\n",
            "s => 6.96%\n",
            "i => 5.29%\n",
            "n => 5.11%\n",
            "t => 4.64%\n",
            "m => 4.18%\n",
            "r => 3.99%\n"
          ],
          "name": "stdout"
        }
      ]
    },
    {
      "cell_type": "code",
      "metadata": {
        "id": "u9zYK70ywggC"
      },
      "source": [
        ""
      ],
      "execution_count": null,
      "outputs": []
    }
  ]
}